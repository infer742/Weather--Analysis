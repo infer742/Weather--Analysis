{
 "cells": [
  {
   "cell_type": "markdown",
   "source": "# Weather Analysis of some Major German Cities\n\nAs someone who is constantly cold and just *hates* bad weather, I started looking for climate diagrams that depict exactly that. But it turned out: The kind of data I was interested in was surprisingly hard to come by and usually not up-to-date or configurable. So, I decided to make my only little analysis which, well, is still a work-in-progress. But I hope it will be useful to some of my fellow 'chilly-mortals'. Those of you who always carry a thick sweater or woolen cap, even in summer, know what I mean :)\n",
   "metadata": {
    "cell_id": "f5198101-cc98-4db2-86f8-5ace55f15c97",
    "deepnote_app_coordinates": {
     "x": 0,
     "y": 0,
     "w": 20,
     "h": 10
    },
    "deepnote_cell_type": "markdown"
   }
  },
  {
   "cell_type": "markdown",
   "source": "**Data source**: The data I used is part of the 'opendata' section of the German Metereological Servcie (DWD) and can be found here: https://opendata.dwd.de/climate_environment/CDC/observations_germany/climate/daily/kl/historical/\n\nI pulled the data on the first of February 2022. \n",
   "metadata": {
    "cell_id": "0aad4a69-87d2-483d-9f2c-325ed237b52c",
    "tags": [],
    "deepnote_cell_type": "markdown"
   }
  },
  {
   "cell_type": "markdown",
   "source": "In the following, I will provide a descriptions of the columns as well:\n\n| Column | Description | Unit |\n| ------ | ----------- | ----- |\n| STATIONS_ID | station id | |\n| MESS_DATUM | begin of interval | yyyymmdd |\n| QN_4 | quality level of next columns | coding see paragraph \"Quality information\" |\n|FX| daily maximum of wind gust| m/s|\n|FM| daily mean of wind speed| m/s|\n|RSK| daily precipitation height| mm|\n|RSKF| precipitation form| coding see paragrahp \"Precipitation form\"|\n|SDK |daily sunshine duration| h|\n|SHK_TAG| daily snow depth |cm|\n|NM| daily mean of cloud cover| 1/8|\n|VPM| daily mean of vapor pressure| hPa|\n|PM| daily mean of pressure| hPa|\n|TMK| daily mean of temperature |°C|\n|UPM| daily mean of relative humidity| %|\n|TXK| daily maximum of temperature at 2m height|°C|\n| ------ | ----------- | ----- |\n\n\n**Quality Information** \nThe quality levels \"Qualitätsniveau\" (QN) given here apply for the respective following columns. The values\nare the minima of the QN of the respective daily values. QN denotes the method of quality control, with which\nerroneous values are identified and apply for the whole set of parameters at a certain time. For the individual\nparameters there exist quality bytes in the internal DWD data base, which are not published here. Values\nidentifed as wrong are not published. Various methods of quality control (at different levels) are employed to\ndecide which value is identified as wrong. In the past, different procedures have been employed. The quality\nprocedures are coded as following:\nquality level (column header: QN_)\n1- only formal control during decoding and import\n2- controlled with individually defined criteria\n3- ROUTINE control with QUALIMET and QCSY\n5- historic, subjective procedures\n7- ROUTINE control, not yet corrected\n8- quality control outside ROUTINE\n9- ROUTINE control, not all parameters corrected\n10- ROUTINE control finished, respective corrections\nfinished \n\n**Precipitation Information**\n0- no precipitation (conventional or automatic measurement), relates to WMO code 10\n1- only rain (before 1979)\n4- unknown form of recorded precipitation\n6- only rain; only liquid precipitation at automatic stations, relates to WMO code 11\n7- only snow; only solid precipitation at automatic stations, relates to WMO code 12\n8- rain and snow (and/or\"Schneeregen\"); liquid and solid precipitation at automatic stations, relates to WMO code 13\n9- error or missing value or no automatic determination of precipitation form, relates to WMO code 15",
   "metadata": {
    "cell_id": "00001-7c4ce941-7043-4481-b39f-88a4ce81f054",
    "deepnote_cell_type": "markdown"
   }
  },
  {
   "cell_type": "markdown",
   "source": "## Preprocessing",
   "metadata": {
    "cell_id": "00002-eff91c1f-81b5-4d5b-85ee-f7c80ab91399",
    "deepnote_cell_type": "markdown"
   }
  },
  {
   "cell_type": "code",
   "metadata": {
    "cell_id": "00003-9c9b7933-a02f-4e61-ac43-b8d7df82b9b7",
    "deepnote_to_be_reexecuted": false,
    "source_hash": "24b26b86",
    "execution_start": 1644143275116,
    "execution_millis": 3201,
    "deepnote_cell_type": "code"
   },
   "source": "import pandas as pd\nimport numpy as np\nimport matplotlib.pyplot as plt\nimport seaborn as sns",
   "execution_count": null,
   "outputs": []
  },
  {
   "cell_type": "code",
   "metadata": {
    "cell_id": "00004-72f4c913-2b0e-4ddc-9b75-cc9007fb2998",
    "deepnote_to_be_reexecuted": false,
    "source_hash": "15184cce",
    "execution_start": 1644143278326,
    "execution_millis": 1237,
    "deepnote_cell_type": "code"
   },
   "source": "#load datasets\ndf_full = pd.read_csv(\"/datasets/fullclimate/full_climate_daily.txt\",header=0,sep=\";\")\n#add names of weather station\ndic = {2667: \"Köln\" , 1078: \"Düsseldorf\" , 1262: \"München\" , 1420: \"Frankfurt\", 2014: \"Hannover\", 2932: \"Leipzig\"}\ndf_full[\"STATIONS_NAME\"] = df_full[\"STATIONS_ID\"].replace(dic)\ndf_full.replace({-999: 0},inplace=True)",
   "execution_count": null,
   "outputs": []
  },
  {
   "cell_type": "code",
   "metadata": {
    "cell_id": "00005-83df61c7-b5d3-43e7-a997-49882b1089e5",
    "deepnote_to_be_reexecuted": false,
    "source_hash": "5eed77dc",
    "execution_start": 1644143279572,
    "execution_millis": 107,
    "deepnote_output_heights": [
     null,
     1,
     1
    ],
    "deepnote_cell_type": "code"
   },
   "source": "display(df_full.info())\ndisplay(df_full.columns)\n",
   "execution_count": null,
   "outputs": [
    {
     "name": "stdout",
     "text": "<class 'pandas.core.frame.DataFrame'>\nRangeIndex: 138639 entries, 0 to 138638\nData columns (total 20 columns):\n #   Column         Non-Null Count   Dtype  \n---  ------         --------------   -----  \n 0   STATIONS_ID    138639 non-null  int64  \n 1   MESS_DATUM     138639 non-null  int64  \n 2   QN_3           138639 non-null  int64  \n 3     FX           138639 non-null  float64\n 4     FM           138639 non-null  float64\n 5   QN_4           138639 non-null  int64  \n 6    RSK           138639 non-null  float64\n 7   RSKF           138639 non-null  int64  \n 8    SDK           138639 non-null  float64\n 9   SHK_TAG        138639 non-null  int64  \n 10    NM           138639 non-null  float64\n 11   VPM           138639 non-null  float64\n 12    PM           138639 non-null  float64\n 13   TMK           138639 non-null  float64\n 14   UPM           138639 non-null  float64\n 15   TXK           138639 non-null  float64\n 16   TNK           138639 non-null  float64\n 17   TGK           138639 non-null  float64\n 18  eor            138639 non-null  object \n 19  STATIONS_NAME  138639 non-null  object \ndtypes: float64(12), int64(6), object(2)\nmemory usage: 21.2+ MB\n",
     "output_type": "stream"
    },
    {
     "data": {
      "text/plain": "None"
     },
     "metadata": {},
     "output_type": "display_data"
    },
    {
     "data": {
      "text/plain": "Index(['STATIONS_ID', 'MESS_DATUM', 'QN_3', '  FX', '  FM', 'QN_4', ' RSK',\n       'RSKF', ' SDK', 'SHK_TAG', '  NM', ' VPM', '  PM', ' TMK', ' UPM',\n       ' TXK', ' TNK', ' TGK', 'eor', 'STATIONS_NAME'],\n      dtype='object')"
     },
     "metadata": {},
     "output_type": "display_data"
    }
   ]
  },
  {
   "cell_type": "code",
   "metadata": {
    "cell_id": "00007-d858b3c4-03ea-46b9-a012-9d17ee87580b",
    "deepnote_to_be_reexecuted": false,
    "source_hash": "10f9df8d",
    "execution_start": 1644143279690,
    "execution_millis": 319,
    "deepnote_cell_type": "code"
   },
   "source": "#transform columns to datetime\n\ndf_full[\"MESS_DATUM\"] = pd.to_datetime(df_full[\"MESS_DATUM\"],format=\"%Y%m%d\")\nmonth_dict = {\n    1: \"January\",\n    2: \"February\",\n    3: \"March\",\n    4: \"April\",\n    5: \"May\",\n    6: \"June\",\n    7: \"July\",\n    8: \"August\",\n    9: \"September\",\n    10: \"October\",\n    11: \"November\",\n    12: \"December\"\n}\ndf_full[\"MONTH\"] = df_full[\"MESS_DATUM\"].dt.month\ndf_full[\"MONTH\"] = df_full[\"MONTH\"].replace(month_dict)\ndf_full[\"YEAR\"] = df_full[\"MESS_DATUM\"].dt.year\n",
   "execution_count": null,
   "outputs": []
  },
  {
   "cell_type": "code",
   "metadata": {
    "cell_id": "00008-0a314f10-3fab-48e1-9af9-eacb7a7fda80",
    "deepnote_to_be_reexecuted": false,
    "source_hash": "a0c64de1",
    "execution_start": 1644143280016,
    "execution_millis": 78,
    "deepnote_cell_type": "code"
   },
   "source": "#am only interested in recent years\ndf = df_full[df_full[\"MESS_DATUM\"].dt.year >= 2012]",
   "execution_count": null,
   "outputs": []
  },
  {
   "cell_type": "code",
   "metadata": {
    "cell_id": "e95ddc35-537e-40e5-8179-bda7022983d8",
    "tags": [],
    "deepnote_to_be_reexecuted": false,
    "source_hash": "d6f4dd73",
    "execution_start": 1644143280098,
    "execution_millis": 15,
    "deepnote_cell_type": "code"
   },
   "source": "#add wind-chill factor\ndf[\"  FM\"] = df[\"  FM\"]*3.6 #transform wind speed to km/h\ndf[\"WIND_CHILL\"] = 13.12 + 0.6215*df[\" TMK\"] - 11.37*(df['  FM'])**0.16 + 0.3965*df[\" TMK\"]*(df['  FM'])**0.16",
   "execution_count": null,
   "outputs": [
    {
     "name": "stderr",
     "text": "/shared-libs/python3.7/py-core/lib/python3.7/site-packages/ipykernel_launcher.py:2: SettingWithCopyWarning: \nA value is trying to be set on a copy of a slice from a DataFrame.\nTry using .loc[row_indexer,col_indexer] = value instead\n\nSee the caveats in the documentation: https://pandas.pydata.org/pandas-docs/stable/user_guide/indexing.html#returning-a-view-versus-a-copy\n  \n/shared-libs/python3.7/py-core/lib/python3.7/site-packages/ipykernel_launcher.py:3: SettingWithCopyWarning: \nA value is trying to be set on a copy of a slice from a DataFrame.\nTry using .loc[row_indexer,col_indexer] = value instead\n\nSee the caveats in the documentation: https://pandas.pydata.org/pandas-docs/stable/user_guide/indexing.html#returning-a-view-versus-a-copy\n  This is separate from the ipykernel package so we can avoid doing imports until\n",
     "output_type": "stream"
    }
   ]
  },
  {
   "cell_type": "code",
   "metadata": {
    "cell_id": "b1745e2a-bfbc-4278-a766-1f76d8407f4c",
    "tags": [],
    "deepnote_to_be_reexecuted": false,
    "source_hash": "164440e0",
    "execution_start": 1644143280162,
    "execution_millis": 267,
    "deepnote_output_heights": [
     21.1875
    ],
    "deepnote_cell_type": "code"
   },
   "source": "#get glimps of data\ndisplay(df.head(n=5))",
   "execution_count": null,
   "outputs": [
    {
     "data": {
      "application/vnd.deepnote.dataframe.v3+json": {
       "column_count": 23,
       "row_count": 5,
       "columns": [
        {
         "name": "STATIONS_ID",
         "dtype": "int64",
         "stats": {
          "unique_count": 1,
          "nan_count": 0,
          "min": "1262",
          "max": "1262",
          "histogram": [
           {
            "bin_start": 1261.5,
            "bin_end": 1261.6,
            "count": 0
           },
           {
            "bin_start": 1261.6,
            "bin_end": 1261.7,
            "count": 0
           },
           {
            "bin_start": 1261.7,
            "bin_end": 1261.8,
            "count": 0
           },
           {
            "bin_start": 1261.8,
            "bin_end": 1261.9,
            "count": 0
           },
           {
            "bin_start": 1261.9,
            "bin_end": 1262,
            "count": 0
           },
           {
            "bin_start": 1262,
            "bin_end": 1262.1,
            "count": 5
           },
           {
            "bin_start": 1262.1,
            "bin_end": 1262.2,
            "count": 0
           },
           {
            "bin_start": 1262.2,
            "bin_end": 1262.3,
            "count": 0
           },
           {
            "bin_start": 1262.3,
            "bin_end": 1262.4,
            "count": 0
           },
           {
            "bin_start": 1262.4,
            "bin_end": 1262.5,
            "count": 0
           }
          ]
         }
        },
        {
         "name": "MESS_DATUM",
         "dtype": "datetime64[ns]",
         "stats": {
          "unique_count": 5,
          "nan_count": 0,
          "min": "2012-01-01 00:00:00",
          "max": "2012-01-05 00:00:00",
          "histogram": [
           {
            "bin_start": 1325376000000000000,
            "bin_end": 1325410560000000000,
            "count": 1
           },
           {
            "bin_start": 1325410560000000000,
            "bin_end": 1325445120000000000,
            "count": 0
           },
           {
            "bin_start": 1325445120000000000,
            "bin_end": 1325479680000000000,
            "count": 1
           },
           {
            "bin_start": 1325479680000000000,
            "bin_end": 1325514240000000000,
            "count": 0
           },
           {
            "bin_start": 1325514240000000000,
            "bin_end": 1325548800000000000,
            "count": 0
           },
           {
            "bin_start": 1325548800000000000,
            "bin_end": 1325583360000000000,
            "count": 1
           },
           {
            "bin_start": 1325583360000000000,
            "bin_end": 1325617920000000000,
            "count": 0
           },
           {
            "bin_start": 1325617920000000000,
            "bin_end": 1325652480000000000,
            "count": 1
           },
           {
            "bin_start": 1325652480000000000,
            "bin_end": 1325687040000000000,
            "count": 0
           },
           {
            "bin_start": 1325687040000000000,
            "bin_end": 1325721600000000000,
            "count": 1
           }
          ]
         }
        },
        {
         "name": "QN_3",
         "dtype": "int64",
         "stats": {
          "unique_count": 1,
          "nan_count": 0,
          "min": "10",
          "max": "10",
          "histogram": [
           {
            "bin_start": 9.5,
            "bin_end": 9.6,
            "count": 0
           },
           {
            "bin_start": 9.6,
            "bin_end": 9.7,
            "count": 0
           },
           {
            "bin_start": 9.7,
            "bin_end": 9.8,
            "count": 0
           },
           {
            "bin_start": 9.8,
            "bin_end": 9.9,
            "count": 0
           },
           {
            "bin_start": 9.9,
            "bin_end": 10,
            "count": 0
           },
           {
            "bin_start": 10,
            "bin_end": 10.1,
            "count": 5
           },
           {
            "bin_start": 10.1,
            "bin_end": 10.2,
            "count": 0
           },
           {
            "bin_start": 10.2,
            "bin_end": 10.3,
            "count": 0
           },
           {
            "bin_start": 10.3,
            "bin_end": 10.4,
            "count": 0
           },
           {
            "bin_start": 10.4,
            "bin_end": 10.5,
            "count": 0
           }
          ]
         }
        },
        {
         "name": "  FX",
         "dtype": "float64",
         "stats": {
          "unique_count": 5,
          "nan_count": 0,
          "min": "11.9",
          "max": "27.8",
          "histogram": [
           {
            "bin_start": 11.9,
            "bin_end": 13.49,
            "count": 3
           },
           {
            "bin_start": 13.49,
            "bin_end": 15.08,
            "count": 0
           },
           {
            "bin_start": 15.08,
            "bin_end": 16.67,
            "count": 0
           },
           {
            "bin_start": 16.67,
            "bin_end": 18.26,
            "count": 1
           },
           {
            "bin_start": 18.26,
            "bin_end": 19.85,
            "count": 0
           },
           {
            "bin_start": 19.85,
            "bin_end": 21.44,
            "count": 0
           },
           {
            "bin_start": 21.44,
            "bin_end": 23.03,
            "count": 0
           },
           {
            "bin_start": 23.03,
            "bin_end": 24.62,
            "count": 0
           },
           {
            "bin_start": 24.62,
            "bin_end": 26.21,
            "count": 0
           },
           {
            "bin_start": 26.21,
            "bin_end": 27.8,
            "count": 1
           }
          ]
         }
        },
        {
         "name": "  FM",
         "dtype": "float64",
         "stats": {
          "unique_count": 5,
          "nan_count": 0,
          "min": "12.96",
          "max": "47.519999999999996",
          "histogram": [
           {
            "bin_start": 12.96,
            "bin_end": 16.416,
            "count": 1
           },
           {
            "bin_start": 16.416,
            "bin_end": 19.872,
            "count": 2
           },
           {
            "bin_start": 19.872,
            "bin_end": 23.328,
            "count": 0
           },
           {
            "bin_start": 23.328,
            "bin_end": 26.784,
            "count": 0
           },
           {
            "bin_start": 26.784,
            "bin_end": 30.24,
            "count": 0
           },
           {
            "bin_start": 30.24,
            "bin_end": 33.696,
            "count": 1
           },
           {
            "bin_start": 33.696,
            "bin_end": 37.152,
            "count": 0
           },
           {
            "bin_start": 37.152,
            "bin_end": 40.608,
            "count": 0
           },
           {
            "bin_start": 40.608,
            "bin_end": 44.06399999999999,
            "count": 0
           },
           {
            "bin_start": 44.06399999999999,
            "bin_end": 47.519999999999996,
            "count": 1
           }
          ]
         }
        },
        {
         "name": "QN_4",
         "dtype": "int64",
         "stats": {
          "unique_count": 1,
          "nan_count": 0,
          "min": "10",
          "max": "10",
          "histogram": [
           {
            "bin_start": 9.5,
            "bin_end": 9.6,
            "count": 0
           },
           {
            "bin_start": 9.6,
            "bin_end": 9.7,
            "count": 0
           },
           {
            "bin_start": 9.7,
            "bin_end": 9.8,
            "count": 0
           },
           {
            "bin_start": 9.8,
            "bin_end": 9.9,
            "count": 0
           },
           {
            "bin_start": 9.9,
            "bin_end": 10,
            "count": 0
           },
           {
            "bin_start": 10,
            "bin_end": 10.1,
            "count": 5
           },
           {
            "bin_start": 10.1,
            "bin_end": 10.2,
            "count": 0
           },
           {
            "bin_start": 10.2,
            "bin_end": 10.3,
            "count": 0
           },
           {
            "bin_start": 10.3,
            "bin_end": 10.4,
            "count": 0
           },
           {
            "bin_start": 10.4,
            "bin_end": 10.5,
            "count": 0
           }
          ]
         }
        },
        {
         "name": " RSK",
         "dtype": "float64",
         "stats": {
          "unique_count": 5,
          "nan_count": 0,
          "min": "0.0",
          "max": "7.4",
          "histogram": [
           {
            "bin_start": 0,
            "bin_end": 0.74,
            "count": 2
           },
           {
            "bin_start": 0.74,
            "bin_end": 1.48,
            "count": 0
           },
           {
            "bin_start": 1.48,
            "bin_end": 2.2199999999999998,
            "count": 2
           },
           {
            "bin_start": 2.2199999999999998,
            "bin_end": 2.96,
            "count": 0
           },
           {
            "bin_start": 2.96,
            "bin_end": 3.7,
            "count": 0
           },
           {
            "bin_start": 3.7,
            "bin_end": 4.4399999999999995,
            "count": 0
           },
           {
            "bin_start": 4.4399999999999995,
            "bin_end": 5.18,
            "count": 0
           },
           {
            "bin_start": 5.18,
            "bin_end": 5.92,
            "count": 0
           },
           {
            "bin_start": 5.92,
            "bin_end": 6.66,
            "count": 0
           },
           {
            "bin_start": 6.66,
            "bin_end": 7.4,
            "count": 1
           }
          ]
         }
        },
        {
         "name": "RSKF",
         "dtype": "int64",
         "stats": {
          "unique_count": 2,
          "nan_count": 0,
          "min": "6",
          "max": "8",
          "histogram": [
           {
            "bin_start": 6,
            "bin_end": 6.2,
            "count": 4
           },
           {
            "bin_start": 6.2,
            "bin_end": 6.4,
            "count": 0
           },
           {
            "bin_start": 6.4,
            "bin_end": 6.6,
            "count": 0
           },
           {
            "bin_start": 6.6,
            "bin_end": 6.8,
            "count": 0
           },
           {
            "bin_start": 6.8,
            "bin_end": 7,
            "count": 0
           },
           {
            "bin_start": 7,
            "bin_end": 7.2,
            "count": 0
           },
           {
            "bin_start": 7.2,
            "bin_end": 7.4,
            "count": 0
           },
           {
            "bin_start": 7.4,
            "bin_end": 7.6,
            "count": 0
           },
           {
            "bin_start": 7.6,
            "bin_end": 7.8,
            "count": 0
           },
           {
            "bin_start": 7.8,
            "bin_end": 8,
            "count": 1
           }
          ]
         }
        },
        {
         "name": " SDK",
         "dtype": "float64",
         "stats": {
          "unique_count": 4,
          "nan_count": 0,
          "min": "0.0",
          "max": "7.6",
          "histogram": [
           {
            "bin_start": 0,
            "bin_end": 0.76,
            "count": 2
           },
           {
            "bin_start": 0.76,
            "bin_end": 1.52,
            "count": 2
           },
           {
            "bin_start": 1.52,
            "bin_end": 2.2800000000000002,
            "count": 0
           },
           {
            "bin_start": 2.2800000000000002,
            "bin_end": 3.04,
            "count": 0
           },
           {
            "bin_start": 3.04,
            "bin_end": 3.8,
            "count": 0
           },
           {
            "bin_start": 3.8,
            "bin_end": 4.5600000000000005,
            "count": 0
           },
           {
            "bin_start": 4.5600000000000005,
            "bin_end": 5.32,
            "count": 0
           },
           {
            "bin_start": 5.32,
            "bin_end": 6.08,
            "count": 0
           },
           {
            "bin_start": 6.08,
            "bin_end": 6.84,
            "count": 0
           },
           {
            "bin_start": 6.84,
            "bin_end": 7.6,
            "count": 1
           }
          ]
         }
        },
        {
         "name": "SHK_TAG",
         "dtype": "int64",
         "stats": {
          "unique_count": 1,
          "nan_count": 0,
          "min": "0",
          "max": "0",
          "histogram": [
           {
            "bin_start": -0.5,
            "bin_end": -0.4,
            "count": 0
           },
           {
            "bin_start": -0.4,
            "bin_end": -0.3,
            "count": 0
           },
           {
            "bin_start": -0.3,
            "bin_end": -0.19999999999999996,
            "count": 0
           },
           {
            "bin_start": -0.19999999999999996,
            "bin_end": -0.09999999999999998,
            "count": 0
           },
           {
            "bin_start": -0.09999999999999998,
            "bin_end": 0,
            "count": 0
           },
           {
            "bin_start": 0,
            "bin_end": 0.10000000000000009,
            "count": 5
           },
           {
            "bin_start": 0.10000000000000009,
            "bin_end": 0.20000000000000007,
            "count": 0
           },
           {
            "bin_start": 0.20000000000000007,
            "bin_end": 0.30000000000000004,
            "count": 0
           },
           {
            "bin_start": 0.30000000000000004,
            "bin_end": 0.4,
            "count": 0
           },
           {
            "bin_start": 0.4,
            "bin_end": 0.5,
            "count": 0
           }
          ]
         }
        },
        {
         "name": "  NM",
         "dtype": "float64",
         "stats": {
          "unique_count": 5,
          "nan_count": 0,
          "min": "5.8",
          "max": "7.6",
          "histogram": [
           {
            "bin_start": 5.8,
            "bin_end": 5.9799999999999995,
            "count": 1
           },
           {
            "bin_start": 5.9799999999999995,
            "bin_end": 6.16,
            "count": 0
           },
           {
            "bin_start": 6.16,
            "bin_end": 6.34,
            "count": 1
           },
           {
            "bin_start": 6.34,
            "bin_end": 6.52,
            "count": 0
           },
           {
            "bin_start": 6.52,
            "bin_end": 6.699999999999999,
            "count": 0
           },
           {
            "bin_start": 6.699999999999999,
            "bin_end": 6.88,
            "count": 0
           },
           {
            "bin_start": 6.88,
            "bin_end": 7.06,
            "count": 0
           },
           {
            "bin_start": 7.06,
            "bin_end": 7.24,
            "count": 1
           },
           {
            "bin_start": 7.24,
            "bin_end": 7.42,
            "count": 1
           },
           {
            "bin_start": 7.42,
            "bin_end": 7.6,
            "count": 1
           }
          ]
         }
        },
        {
         "name": " VPM",
         "dtype": "float64",
         "stats": {
          "unique_count": 5,
          "nan_count": 0,
          "min": "6.3",
          "max": "9.9",
          "histogram": [
           {
            "bin_start": 6.3,
            "bin_end": 6.66,
            "count": 2
           },
           {
            "bin_start": 6.66,
            "bin_end": 7.02,
            "count": 1
           },
           {
            "bin_start": 7.02,
            "bin_end": 7.38,
            "count": 0
           },
           {
            "bin_start": 7.38,
            "bin_end": 7.74,
            "count": 0
           },
           {
            "bin_start": 7.74,
            "bin_end": 8.1,
            "count": 0
           },
           {
            "bin_start": 8.1,
            "bin_end": 8.46,
            "count": 1
           },
           {
            "bin_start": 8.46,
            "bin_end": 8.82,
            "count": 0
           },
           {
            "bin_start": 8.82,
            "bin_end": 9.18,
            "count": 0
           },
           {
            "bin_start": 9.18,
            "bin_end": 9.54,
            "count": 0
           },
           {
            "bin_start": 9.54,
            "bin_end": 9.9,
            "count": 1
           }
          ]
         }
        },
        {
         "name": "  PM",
         "dtype": "float64",
         "stats": {
          "unique_count": 5,
          "nan_count": 0,
          "min": "948.1",
          "max": "968.3",
          "histogram": [
           {
            "bin_start": 948.1,
            "bin_end": 950.12,
            "count": 1
           },
           {
            "bin_start": 950.12,
            "bin_end": 952.14,
            "count": 0
           },
           {
            "bin_start": 952.14,
            "bin_end": 954.16,
            "count": 0
           },
           {
            "bin_start": 954.16,
            "bin_end": 956.18,
            "count": 0
           },
           {
            "bin_start": 956.18,
            "bin_end": 958.2,
            "count": 0
           },
           {
            "bin_start": 958.2,
            "bin_end": 960.22,
            "count": 0
           },
           {
            "bin_start": 960.22,
            "bin_end": 962.24,
            "count": 1
           },
           {
            "bin_start": 962.24,
            "bin_end": 964.26,
            "count": 0
           },
           {
            "bin_start": 964.26,
            "bin_end": 966.28,
            "count": 2
           },
           {
            "bin_start": 966.28,
            "bin_end": 968.3,
            "count": 1
           }
          ]
         }
        },
        {
         "name": " TMK",
         "dtype": "float64",
         "stats": {
          "unique_count": 5,
          "nan_count": 0,
          "min": "4.5",
          "max": "8.5",
          "histogram": [
           {
            "bin_start": 4.5,
            "bin_end": 4.9,
            "count": 1
           },
           {
            "bin_start": 4.9,
            "bin_end": 5.3,
            "count": 1
           },
           {
            "bin_start": 5.3,
            "bin_end": 5.7,
            "count": 1
           },
           {
            "bin_start": 5.7,
            "bin_end": 6.1,
            "count": 0
           },
           {
            "bin_start": 6.1,
            "bin_end": 6.5,
            "count": 0
           },
           {
            "bin_start": 6.5,
            "bin_end": 6.9,
            "count": 0
           },
           {
            "bin_start": 6.9,
            "bin_end": 7.300000000000001,
            "count": 1
           },
           {
            "bin_start": 7.300000000000001,
            "bin_end": 7.7,
            "count": 0
           },
           {
            "bin_start": 7.7,
            "bin_end": 8.1,
            "count": 0
           },
           {
            "bin_start": 8.1,
            "bin_end": 8.5,
            "count": 1
           }
          ]
         }
        },
        {
         "name": " UPM",
         "dtype": "float64",
         "stats": {
          "unique_count": 4,
          "nan_count": 0,
          "min": "75.0",
          "max": "89.0",
          "histogram": [
           {
            "bin_start": 75,
            "bin_end": 76.4,
            "count": 2
           },
           {
            "bin_start": 76.4,
            "bin_end": 77.8,
            "count": 0
           },
           {
            "bin_start": 77.8,
            "bin_end": 79.2,
            "count": 1
           },
           {
            "bin_start": 79.2,
            "bin_end": 80.6,
            "count": 0
           },
           {
            "bin_start": 80.6,
            "bin_end": 82,
            "count": 0
           },
           {
            "bin_start": 82,
            "bin_end": 83.4,
            "count": 1
           },
           {
            "bin_start": 83.4,
            "bin_end": 84.8,
            "count": 0
           },
           {
            "bin_start": 84.8,
            "bin_end": 86.2,
            "count": 0
           },
           {
            "bin_start": 86.2,
            "bin_end": 87.6,
            "count": 0
           },
           {
            "bin_start": 87.6,
            "bin_end": 89,
            "count": 1
           }
          ]
         }
        },
        {
         "name": " TXK",
         "dtype": "float64",
         "stats": {
          "unique_count": 5,
          "nan_count": 0,
          "min": "7.2",
          "max": "11.9",
          "histogram": [
           {
            "bin_start": 7.2,
            "bin_end": 7.67,
            "count": 1
           },
           {
            "bin_start": 7.67,
            "bin_end": 8.14,
            "count": 0
           },
           {
            "bin_start": 8.14,
            "bin_end": 8.61,
            "count": 0
           },
           {
            "bin_start": 8.61,
            "bin_end": 9.08,
            "count": 1
           },
           {
            "bin_start": 9.08,
            "bin_end": 9.55,
            "count": 0
           },
           {
            "bin_start": 9.55,
            "bin_end": 10.02,
            "count": 1
           },
           {
            "bin_start": 10.02,
            "bin_end": 10.49,
            "count": 0
           },
           {
            "bin_start": 10.49,
            "bin_end": 10.96,
            "count": 0
           },
           {
            "bin_start": 10.96,
            "bin_end": 11.43,
            "count": 0
           },
           {
            "bin_start": 11.43,
            "bin_end": 11.9,
            "count": 2
           }
          ]
         }
        },
        {
         "name": " TNK",
         "dtype": "float64",
         "stats": {
          "unique_count": 5,
          "nan_count": 0,
          "min": "0.9",
          "max": "4.4",
          "histogram": [
           {
            "bin_start": 0.9,
            "bin_end": 1.25,
            "count": 2
           },
           {
            "bin_start": 1.25,
            "bin_end": 1.6,
            "count": 0
           },
           {
            "bin_start": 1.6,
            "bin_end": 1.9500000000000002,
            "count": 0
           },
           {
            "bin_start": 1.9500000000000002,
            "bin_end": 2.3000000000000003,
            "count": 1
           },
           {
            "bin_start": 2.3000000000000003,
            "bin_end": 2.6500000000000004,
            "count": 0
           },
           {
            "bin_start": 2.6500000000000004,
            "bin_end": 3,
            "count": 0
           },
           {
            "bin_start": 3,
            "bin_end": 3.35,
            "count": 1
           },
           {
            "bin_start": 3.35,
            "bin_end": 3.7,
            "count": 0
           },
           {
            "bin_start": 3.7,
            "bin_end": 4.050000000000001,
            "count": 0
           },
           {
            "bin_start": 4.050000000000001,
            "bin_end": 4.4,
            "count": 1
           }
          ]
         }
        },
        {
         "name": " TGK",
         "dtype": "float64",
         "stats": {
          "unique_count": 5,
          "nan_count": 0,
          "min": "-1.7",
          "max": "1.7",
          "histogram": [
           {
            "bin_start": -1.7,
            "bin_end": -1.3599999999999999,
            "count": 1
           },
           {
            "bin_start": -1.3599999999999999,
            "bin_end": -1.02,
            "count": 0
           },
           {
            "bin_start": -1.02,
            "bin_end": -0.6799999999999999,
            "count": 0
           },
           {
            "bin_start": -0.6799999999999999,
            "bin_end": -0.3400000000000001,
            "count": 0
           },
           {
            "bin_start": -0.3400000000000001,
            "bin_end": -2.220446049250313e-16,
            "count": 0
           },
           {
            "bin_start": -2.220446049250313e-16,
            "bin_end": 0.3400000000000001,
            "count": 0
           },
           {
            "bin_start": 0.3400000000000001,
            "bin_end": 0.6799999999999999,
            "count": 1
           },
           {
            "bin_start": 0.6799999999999999,
            "bin_end": 1.0199999999999998,
            "count": 1
           },
           {
            "bin_start": 1.0199999999999998,
            "bin_end": 1.3599999999999997,
            "count": 0
           },
           {
            "bin_start": 1.3599999999999997,
            "bin_end": 1.7,
            "count": 2
           }
          ]
         }
        },
        {
         "name": "eor",
         "dtype": "object",
         "stats": {
          "unique_count": 1,
          "nan_count": 0,
          "categories": [
           {
            "name": "eor",
            "count": 5
           }
          ]
         }
        },
        {
         "name": "STATIONS_NAME",
         "dtype": "object",
         "stats": {
          "unique_count": 1,
          "nan_count": 0,
          "categories": [
           {
            "name": "München",
            "count": 5
           }
          ]
         }
        },
        {
         "name": "MONTH",
         "dtype": "object",
         "stats": {
          "unique_count": 1,
          "nan_count": 0,
          "categories": [
           {
            "name": "January",
            "count": 5
           }
          ]
         }
        },
        {
         "name": "YEAR",
         "dtype": "int64",
         "stats": {
          "unique_count": 1,
          "nan_count": 0,
          "min": "2012",
          "max": "2012",
          "histogram": [
           {
            "bin_start": 2011.5,
            "bin_end": 2011.6,
            "count": 0
           },
           {
            "bin_start": 2011.6,
            "bin_end": 2011.7,
            "count": 0
           },
           {
            "bin_start": 2011.7,
            "bin_end": 2011.8,
            "count": 0
           },
           {
            "bin_start": 2011.8,
            "bin_end": 2011.9,
            "count": 0
           },
           {
            "bin_start": 2011.9,
            "bin_end": 2012,
            "count": 0
           },
           {
            "bin_start": 2012,
            "bin_end": 2012.1,
            "count": 5
           },
           {
            "bin_start": 2012.1,
            "bin_end": 2012.2,
            "count": 0
           },
           {
            "bin_start": 2012.2,
            "bin_end": 2012.3,
            "count": 0
           },
           {
            "bin_start": 2012.3,
            "bin_end": 2012.4,
            "count": 0
           },
           {
            "bin_start": 2012.4,
            "bin_end": 2012.5,
            "count": 0
           }
          ]
         }
        },
        {
         "name": "WIND_CHILL",
         "dtype": "float64",
         "stats": {
          "unique_count": 5,
          "nan_count": 0,
          "min": "-1.8630277268661208",
          "max": "5.580360818317421",
          "histogram": [
           {
            "bin_start": -1.8630277268661208,
            "bin_end": -1.1186888723477666,
            "count": 1
           },
           {
            "bin_start": -1.1186888723477666,
            "bin_end": -0.3743500178294126,
            "count": 0
           },
           {
            "bin_start": -0.3743500178294126,
            "bin_end": 0.36998883668894145,
            "count": 0
           },
           {
            "bin_start": 0.36998883668894145,
            "bin_end": 1.1143276912072957,
            "count": 1
           },
           {
            "bin_start": 1.1143276912072957,
            "bin_end": 1.85866654572565,
            "count": 1
           },
           {
            "bin_start": 1.85866654572565,
            "bin_end": 2.6030054002440037,
            "count": 0
           },
           {
            "bin_start": 2.6030054002440037,
            "bin_end": 3.3473442547623584,
            "count": 0
           },
           {
            "bin_start": 3.3473442547623584,
            "bin_end": 4.091683109280712,
            "count": 0
           },
           {
            "bin_start": 4.091683109280712,
            "bin_end": 4.836021963799066,
            "count": 1
           },
           {
            "bin_start": 4.836021963799066,
            "bin_end": 5.580360818317421,
            "count": 1
           }
          ]
         }
        },
        {
         "name": "_deepnote_index_column",
         "dtype": "int64"
        }
       ],
       "rows": [
        {
         "STATIONS_ID": 1262,
         "MESS_DATUM": "2012-01-01T00:00:00.000000",
         "QN_3": 10,
         "  FX": 11.9,
         "  FM": 19.08,
         "QN_4": 10,
         " RSK": 0,
         "RSKF": 6,
         " SDK": 0.9,
         "SHK_TAG": 0,
         "  NM": 7.1,
         " VPM": 9.9,
         "  PM": 964.6,
         " TMK": 8.5,
         " UPM": 89,
         " TXK": 11.5,
         " TNK": 3.3,
         " TGK": 1.6,
         "eor": "eor",
         "STATIONS_NAME": "München",
         "MONTH": "January",
         "YEAR": 2012,
         "WIND_CHILL": 5.580360818317421,
         "_deepnote_index_column": 7168
        },
        {
         "STATIONS_ID": 1262,
         "MESS_DATUM": "2012-01-02T00:00:00.000000",
         "QN_3": 10,
         "  FX": 12.3,
         "  FM": 12.96,
         "QN_4": 10,
         " RSK": 0.6,
         "RSKF": 6,
         " SDK": 0,
         "SHK_TAG": 0,
         "  NM": 7.4,
         " VPM": 8.4,
         "  PM": 961.6,
         " TMK": 7.2,
         " UPM": 82,
         " TXK": 11.9,
         " TNK": 4.4,
         " TGK": 1.7,
         "eor": "eor",
         "STATIONS_NAME": "München",
         "MONTH": "January",
         "YEAR": 2012,
         "WIND_CHILL": 4.76524322109667,
         "_deepnote_index_column": 7169
        },
        {
         "STATIONS_ID": 1262,
         "MESS_DATUM": "2012-01-03T00:00:00.000000",
         "QN_3": 10,
         "  FX": 13.3,
         "  FM": 16.56,
         "QN_4": 10,
         " RSK": 1.5,
         "RSKF": 6,
         " SDK": 7.6,
         "SHK_TAG": 0,
         "  NM": 5.8,
         " VPM": 6.5,
         "  PM": 968.3,
         " TMK": 5,
         " UPM": 75,
         " TXK": 8.8,
         " TNK": 0.9,
         " TGK": -1.7,
         "eor": "eor",
         "STATIONS_NAME": "München",
         "MONTH": "January",
         "YEAR": 2012,
         "WIND_CHILL": 1.5179426715183943,
         "_deepnote_index_column": 7170
        },
        {
         "STATIONS_ID": 1262,
         "MESS_DATUM": "2012-01-04T00:00:00.000000",
         "QN_3": 10,
         "  FX": 17.3,
         "  FM": 30.240000000000002,
         "QN_4": 10,
         " RSK": 1.8,
         "RSKF": 6,
         " SDK": 0.8,
         "SHK_TAG": 0,
         "  NM": 6.3,
         " VPM": 7,
         "  PM": 964.5,
         " TMK": 5.3,
         " UPM": 78,
         " TXK": 9.6,
         " TNK": 2.1,
         " TGK": 0.8,
         "eor": "eor",
         "STATIONS_NAME": "München",
         "MONTH": "January",
         "YEAR": 2012,
         "WIND_CHILL": 0.421872601725616,
         "_deepnote_index_column": 7171
        },
        {
         "STATIONS_ID": 1262,
         "MESS_DATUM": "2012-01-05T00:00:00.000000",
         "QN_3": 10,
         "  FX": 27.8,
         "  FM": 47.519999999999996,
         "QN_4": 10,
         " RSK": 7.4,
         "RSKF": 8,
         " SDK": 0,
         "SHK_TAG": 0,
         "  NM": 7.6,
         " VPM": 6.3,
         "  PM": 948.1,
         " TMK": 4.5,
         " UPM": 75,
         " TXK": 7.2,
         " TNK": 1.2,
         " TGK": 0.6,
         "eor": "eor",
         "STATIONS_NAME": "München",
         "MONTH": "January",
         "YEAR": 2012,
         "WIND_CHILL": -1.8630277268661208,
         "_deepnote_index_column": 7172
        }
       ]
      },
      "text/plain": "      STATIONS_ID MESS_DATUM  QN_3    FX     FM  QN_4   RSK  RSKF   SDK  \\\n7168         1262 2012-01-01    10  11.9  19.08    10   0.0     6   0.9   \n7169         1262 2012-01-02    10  12.3  12.96    10   0.6     6   0.0   \n7170         1262 2012-01-03    10  13.3  16.56    10   1.5     6   7.6   \n7171         1262 2012-01-04    10  17.3  30.24    10   1.8     6   0.8   \n7172         1262 2012-01-05    10  27.8  47.52    10   7.4     8   0.0   \n\n      SHK_TAG  ...   TMK   UPM   TXK   TNK   TGK  eor  STATIONS_NAME    MONTH  \\\n7168        0  ...   8.5  89.0  11.5   3.3   1.6  eor        München  January   \n7169        0  ...   7.2  82.0  11.9   4.4   1.7  eor        München  January   \n7170        0  ...   5.0  75.0   8.8   0.9  -1.7  eor        München  January   \n7171        0  ...   5.3  78.0   9.6   2.1   0.8  eor        München  January   \n7172        0  ...   4.5  75.0   7.2   1.2   0.6  eor        München  January   \n\n      YEAR WIND_CHILL  \n7168  2012   5.580361  \n7169  2012   4.765243  \n7170  2012   1.517943  \n7171  2012   0.421873  \n7172  2012  -1.863028  \n\n[5 rows x 23 columns]",
      "text/html": "<div>\n<style scoped>\n    .dataframe tbody tr th:only-of-type {\n        vertical-align: middle;\n    }\n\n    .dataframe tbody tr th {\n        vertical-align: top;\n    }\n\n    .dataframe thead th {\n        text-align: right;\n    }\n</style>\n<table border=\"1\" class=\"dataframe\">\n  <thead>\n    <tr style=\"text-align: right;\">\n      <th></th>\n      <th>STATIONS_ID</th>\n      <th>MESS_DATUM</th>\n      <th>QN_3</th>\n      <th>FX</th>\n      <th>FM</th>\n      <th>QN_4</th>\n      <th>RSK</th>\n      <th>RSKF</th>\n      <th>SDK</th>\n      <th>SHK_TAG</th>\n      <th>...</th>\n      <th>TMK</th>\n      <th>UPM</th>\n      <th>TXK</th>\n      <th>TNK</th>\n      <th>TGK</th>\n      <th>eor</th>\n      <th>STATIONS_NAME</th>\n      <th>MONTH</th>\n      <th>YEAR</th>\n      <th>WIND_CHILL</th>\n    </tr>\n  </thead>\n  <tbody>\n    <tr>\n      <th>7168</th>\n      <td>1262</td>\n      <td>2012-01-01</td>\n      <td>10</td>\n      <td>11.9</td>\n      <td>19.08</td>\n      <td>10</td>\n      <td>0.0</td>\n      <td>6</td>\n      <td>0.9</td>\n      <td>0</td>\n      <td>...</td>\n      <td>8.5</td>\n      <td>89.0</td>\n      <td>11.5</td>\n      <td>3.3</td>\n      <td>1.6</td>\n      <td>eor</td>\n      <td>München</td>\n      <td>January</td>\n      <td>2012</td>\n      <td>5.580361</td>\n    </tr>\n    <tr>\n      <th>7169</th>\n      <td>1262</td>\n      <td>2012-01-02</td>\n      <td>10</td>\n      <td>12.3</td>\n      <td>12.96</td>\n      <td>10</td>\n      <td>0.6</td>\n      <td>6</td>\n      <td>0.0</td>\n      <td>0</td>\n      <td>...</td>\n      <td>7.2</td>\n      <td>82.0</td>\n      <td>11.9</td>\n      <td>4.4</td>\n      <td>1.7</td>\n      <td>eor</td>\n      <td>München</td>\n      <td>January</td>\n      <td>2012</td>\n      <td>4.765243</td>\n    </tr>\n    <tr>\n      <th>7170</th>\n      <td>1262</td>\n      <td>2012-01-03</td>\n      <td>10</td>\n      <td>13.3</td>\n      <td>16.56</td>\n      <td>10</td>\n      <td>1.5</td>\n      <td>6</td>\n      <td>7.6</td>\n      <td>0</td>\n      <td>...</td>\n      <td>5.0</td>\n      <td>75.0</td>\n      <td>8.8</td>\n      <td>0.9</td>\n      <td>-1.7</td>\n      <td>eor</td>\n      <td>München</td>\n      <td>January</td>\n      <td>2012</td>\n      <td>1.517943</td>\n    </tr>\n    <tr>\n      <th>7171</th>\n      <td>1262</td>\n      <td>2012-01-04</td>\n      <td>10</td>\n      <td>17.3</td>\n      <td>30.24</td>\n      <td>10</td>\n      <td>1.8</td>\n      <td>6</td>\n      <td>0.8</td>\n      <td>0</td>\n      <td>...</td>\n      <td>5.3</td>\n      <td>78.0</td>\n      <td>9.6</td>\n      <td>2.1</td>\n      <td>0.8</td>\n      <td>eor</td>\n      <td>München</td>\n      <td>January</td>\n      <td>2012</td>\n      <td>0.421873</td>\n    </tr>\n    <tr>\n      <th>7172</th>\n      <td>1262</td>\n      <td>2012-01-05</td>\n      <td>10</td>\n      <td>27.8</td>\n      <td>47.52</td>\n      <td>10</td>\n      <td>7.4</td>\n      <td>8</td>\n      <td>0.0</td>\n      <td>0</td>\n      <td>...</td>\n      <td>4.5</td>\n      <td>75.0</td>\n      <td>7.2</td>\n      <td>1.2</td>\n      <td>0.6</td>\n      <td>eor</td>\n      <td>München</td>\n      <td>January</td>\n      <td>2012</td>\n      <td>-1.863028</td>\n    </tr>\n  </tbody>\n</table>\n<p>5 rows × 23 columns</p>\n</div>"
     },
     "metadata": {},
     "output_type": "display_data"
    }
   ]
  },
  {
   "cell_type": "code",
   "metadata": {
    "cell_id": "cee00d2f-3bff-4c32-82e8-a8c3738841d9",
    "tags": [],
    "deepnote_to_be_reexecuted": false,
    "source_hash": "63e144fe",
    "execution_start": 1644143280502,
    "execution_millis": 334,
    "deepnote_table_state": {
     "pageSize": 10,
     "pageIndex": 1,
     "filters": [],
     "sortBy": []
    },
    "deepnote_table_loading": false,
    "deepnote_table_invalid": false,
    "deepnote_cell_type": "code"
   },
   "source": "#aggregate values per month and compute mean\ncols_avg = ['STATIONS_ID', 'MESS_DATUM', '  FX', '  FM', ' SDK', '  NM', ' VPM', '  PM', ' TMK', ' UPM',\n       ' TXK', ' TNK', ' TGK', 'STATIONS_NAME','MONTH', 'WIND_CHILL']\nnum_years = df[\"MESS_DATUM\"].dt.year.nunique()\ndf_agg = df.groupby(['STATIONS_NAME', 'MONTH'], observed=True)[cols_avg].mean()\ndf_agg[\" RSK\"] = df.groupby([\"STATIONS_NAME\",\"MONTH\"])[\" RSK\"].sum()/num_years\ndf_agg[\"SHK_TAG\"] = df.groupby([\"STATIONS_NAME\",\"MONTH\"])[\"SHK_TAG\"].sum()/num_years\ndisplay(df_agg)",
   "execution_count": null,
   "outputs": [
    {
     "data": {
      "application/vnd.deepnote.dataframe.v3+json": {
       "column_count": 15,
       "row_count": 72,
       "columns": [
        {
         "name": "STATIONS_ID",
         "dtype": "int64",
         "stats": {
          "unique_count": 6,
          "nan_count": 0,
          "min": "1078",
          "max": "2932",
          "histogram": [
           {
            "bin_start": 1078,
            "bin_end": 1263.4,
            "count": 24
           },
           {
            "bin_start": 1263.4,
            "bin_end": 1448.8,
            "count": 12
           },
           {
            "bin_start": 1448.8,
            "bin_end": 1634.2,
            "count": 0
           },
           {
            "bin_start": 1634.2,
            "bin_end": 1819.6,
            "count": 0
           },
           {
            "bin_start": 1819.6,
            "bin_end": 2005,
            "count": 0
           },
           {
            "bin_start": 2005,
            "bin_end": 2190.4,
            "count": 12
           },
           {
            "bin_start": 2190.4,
            "bin_end": 2375.8,
            "count": 0
           },
           {
            "bin_start": 2375.8,
            "bin_end": 2561.2,
            "count": 0
           },
           {
            "bin_start": 2561.2,
            "bin_end": 2746.6000000000004,
            "count": 12
           },
           {
            "bin_start": 2746.6000000000004,
            "bin_end": 2932,
            "count": 12
           }
          ]
         }
        },
        {
         "name": "  FX",
         "dtype": "float64",
         "stats": {
          "unique_count": 72,
          "nan_count": 0,
          "min": "8.228518518518515",
          "max": "11.875985663082442",
          "histogram": [
           {
            "bin_start": 8.228518518518515,
            "bin_end": 8.593265232974908,
            "count": 2
           },
           {
            "bin_start": 8.593265232974908,
            "bin_end": 8.9580119474313,
            "count": 2
           },
           {
            "bin_start": 8.9580119474313,
            "bin_end": 9.322758661887693,
            "count": 2
           },
           {
            "bin_start": 9.322758661887693,
            "bin_end": 9.687505376344086,
            "count": 7
           },
           {
            "bin_start": 9.687505376344086,
            "bin_end": 10.05225209080048,
            "count": 12
           },
           {
            "bin_start": 10.05225209080048,
            "bin_end": 10.41699880525687,
            "count": 10
           },
           {
            "bin_start": 10.41699880525687,
            "bin_end": 10.781745519713263,
            "count": 14
           },
           {
            "bin_start": 10.781745519713263,
            "bin_end": 11.146492234169656,
            "count": 5
           },
           {
            "bin_start": 11.146492234169656,
            "bin_end": 11.51123894862605,
            "count": 11
           },
           {
            "bin_start": 11.51123894862605,
            "bin_end": 11.875985663082442,
            "count": 7
           }
          ]
         }
        },
        {
         "name": "  FM",
         "dtype": "float64",
         "stats": {
          "unique_count": 72,
          "nan_count": 0,
          "min": "8.433548387096774",
          "max": "18.81161290322581",
          "histogram": [
           {
            "bin_start": 8.433548387096774,
            "bin_end": 9.471354838709678,
            "count": 4
           },
           {
            "bin_start": 9.471354838709678,
            "bin_end": 10.50916129032258,
            "count": 6
           },
           {
            "bin_start": 10.50916129032258,
            "bin_end": 11.546967741935486,
            "count": 10
           },
           {
            "bin_start": 11.546967741935486,
            "bin_end": 12.58477419354839,
            "count": 15
           },
           {
            "bin_start": 12.58477419354839,
            "bin_end": 13.622580645161293,
            "count": 18
           },
           {
            "bin_start": 13.622580645161293,
            "bin_end": 14.660387096774198,
            "count": 4
           },
           {
            "bin_start": 14.660387096774198,
            "bin_end": 15.698193548387101,
            "count": 5
           },
           {
            "bin_start": 15.698193548387101,
            "bin_end": 16.736000000000004,
            "count": 4
           },
           {
            "bin_start": 16.736000000000004,
            "bin_end": 17.773806451612906,
            "count": 3
           },
           {
            "bin_start": 17.773806451612906,
            "bin_end": 18.81161290322581,
            "count": 3
           }
          ]
         }
        },
        {
         "name": " SDK",
         "dtype": "float64",
         "stats": {
          "unique_count": 72,
          "nan_count": 0,
          "min": "1.1390716845878146",
          "max": "8.699756272401423",
          "histogram": [
           {
            "bin_start": 1.1390716845878146,
            "bin_end": 1.8951401433691755,
            "count": 13
           },
           {
            "bin_start": 1.8951401433691755,
            "bin_end": 2.651208602150536,
            "count": 5
           },
           {
            "bin_start": 2.651208602150536,
            "bin_end": 3.4072770609318974,
            "count": 11
           },
           {
            "bin_start": 3.4072770609318974,
            "bin_end": 4.163345519713258,
            "count": 2
           },
           {
            "bin_start": 4.163345519713258,
            "bin_end": 4.919413978494619,
            "count": 4
           },
           {
            "bin_start": 4.919413978494619,
            "bin_end": 5.67548243727598,
            "count": 5
           },
           {
            "bin_start": 5.67548243727598,
            "bin_end": 6.431550896057341,
            "count": 5
           },
           {
            "bin_start": 6.431550896057341,
            "bin_end": 7.187619354838701,
            "count": 17
           },
           {
            "bin_start": 7.187619354838701,
            "bin_end": 7.943687813620062,
            "count": 5
           },
           {
            "bin_start": 7.943687813620062,
            "bin_end": 8.699756272401423,
            "count": 5
           }
          ]
         }
        },
        {
         "name": "  NM",
         "dtype": "float64",
         "stats": {
          "unique_count": 71,
          "nan_count": 0,
          "min": "4.475985663082437",
          "max": "6.637992831541215",
          "histogram": [
           {
            "bin_start": 4.475985663082437,
            "bin_end": 4.692186379928314,
            "count": 5
           },
           {
            "bin_start": 4.692186379928314,
            "bin_end": 4.9083870967741925,
            "count": 13
           },
           {
            "bin_start": 4.9083870967741925,
            "bin_end": 5.12458781362007,
            "count": 12
           },
           {
            "bin_start": 5.12458781362007,
            "bin_end": 5.340788530465948,
            "count": 9
           },
           {
            "bin_start": 5.340788530465948,
            "bin_end": 5.556989247311826,
            "count": 3
           },
           {
            "bin_start": 5.556989247311826,
            "bin_end": 5.773189964157703,
            "count": 10
           },
           {
            "bin_start": 5.773189964157703,
            "bin_end": 5.989390681003582,
            "count": 3
           },
           {
            "bin_start": 5.989390681003582,
            "bin_end": 6.205591397849459,
            "count": 4
           },
           {
            "bin_start": 6.205591397849459,
            "bin_end": 6.421792114695338,
            "count": 8
           },
           {
            "bin_start": 6.421792114695338,
            "bin_end": 6.637992831541215,
            "count": 5
           }
          ]
         }
        },
        {
         "name": " VPM",
         "dtype": "float64",
         "stats": {
          "unique_count": 72,
          "nan_count": 0,
          "min": "5.489019607843137",
          "max": "15.584587813620074",
          "histogram": [
           {
            "bin_start": 5.489019607843137,
            "bin_end": 6.49857642842083,
            "count": 9
           },
           {
            "bin_start": 6.49857642842083,
            "bin_end": 7.508133248998524,
            "count": 12
           },
           {
            "bin_start": 7.508133248998524,
            "bin_end": 8.517690069576219,
            "count": 12
           },
           {
            "bin_start": 8.517690069576219,
            "bin_end": 9.527246890153911,
            "count": 3
           },
           {
            "bin_start": 9.527246890153911,
            "bin_end": 10.536803710731604,
            "count": 1
           },
           {
            "bin_start": 10.536803710731604,
            "bin_end": 11.546360531309299,
            "count": 11
           },
           {
            "bin_start": 11.546360531309299,
            "bin_end": 12.555917351886993,
            "count": 0
           },
           {
            "bin_start": 12.555917351886993,
            "bin_end": 13.565474172464686,
            "count": 6
           },
           {
            "bin_start": 13.565474172464686,
            "bin_end": 14.575030993042379,
            "count": 7
           },
           {
            "bin_start": 14.575030993042379,
            "bin_end": 15.584587813620074,
            "count": 11
           }
          ]
         }
        },
        {
         "name": "  PM",
         "dtype": "float64",
         "stats": {
          "unique_count": 72,
          "nan_count": 0,
          "min": "962.3276666666662",
          "max": "1012.5840740740746",
          "histogram": [
           {
            "bin_start": 962.3276666666662,
            "bin_end": 967.3533074074071,
            "count": 12
           },
           {
            "bin_start": 967.3533074074071,
            "bin_end": 972.3789481481479,
            "count": 0
           },
           {
            "bin_start": 972.3789481481479,
            "bin_end": 977.4045888888887,
            "count": 0
           },
           {
            "bin_start": 977.4045888888887,
            "bin_end": 982.4302296296296,
            "count": 0
           },
           {
            "bin_start": 982.4302296296296,
            "bin_end": 987.4558703703703,
            "count": 0
           },
           {
            "bin_start": 987.4558703703703,
            "bin_end": 992.4815111111112,
            "count": 0
           },
           {
            "bin_start": 992.4815111111112,
            "bin_end": 997.5071518518521,
            "count": 0
           },
           {
            "bin_start": 997.5071518518521,
            "bin_end": 1002.532792592593,
            "count": 13
           },
           {
            "bin_start": 1002.532792592593,
            "bin_end": 1007.5584333333337,
            "count": 25
           },
           {
            "bin_start": 1007.5584333333337,
            "bin_end": 1012.5840740740746,
            "count": 22
           }
          ]
         }
        },
        {
         "name": " TMK",
         "dtype": "float64",
         "stats": {
          "unique_count": 72,
          "nan_count": 0,
          "min": "0.5982078853046587",
          "max": "21.264516129032273",
          "histogram": [
           {
            "bin_start": 0.5982078853046587,
            "bin_end": 2.66483870967742,
            "count": 6
           },
           {
            "bin_start": 2.66483870967742,
            "bin_end": 4.731469534050181,
            "count": 10
           },
           {
            "bin_start": 4.731469534050181,
            "bin_end": 6.798100358422942,
            "count": 9
           },
           {
            "bin_start": 6.798100358422942,
            "bin_end": 8.864731182795703,
            "count": 5
           },
           {
            "bin_start": 8.864731182795703,
            "bin_end": 10.931362007168465,
            "count": 7
           },
           {
            "bin_start": 10.931362007168465,
            "bin_end": 12.997992831541225,
            "count": 5
           },
           {
            "bin_start": 12.997992831541225,
            "bin_end": 15.064623655913985,
            "count": 8
           },
           {
            "bin_start": 15.064623655913985,
            "bin_end": 17.13125448028675,
            "count": 4
           },
           {
            "bin_start": 17.13125448028675,
            "bin_end": 19.19788530465951,
            "count": 10
           },
           {
            "bin_start": 19.19788530465951,
            "bin_end": 21.264516129032273,
            "count": 8
           }
          ]
         }
        },
        {
         "name": " UPM",
         "dtype": "float64",
         "stats": {
          "unique_count": 72,
          "nan_count": 0,
          "min": "60.79465949820784",
          "max": "88.48807407407418",
          "histogram": [
           {
            "bin_start": 60.79465949820784,
            "bin_end": 63.56400095579448,
            "count": 2
           },
           {
            "bin_start": 63.56400095579448,
            "bin_end": 66.3333424133811,
            "count": 6
           },
           {
            "bin_start": 66.3333424133811,
            "bin_end": 69.10268387096774,
            "count": 10
           },
           {
            "bin_start": 69.10268387096774,
            "bin_end": 71.87202532855437,
            "count": 12
           },
           {
            "bin_start": 71.87202532855437,
            "bin_end": 74.641366786141,
            "count": 4
           },
           {
            "bin_start": 74.641366786141,
            "bin_end": 77.41070824372764,
            "count": 9
           },
           {
            "bin_start": 77.41070824372764,
            "bin_end": 80.18004970131427,
            "count": 2
           },
           {
            "bin_start": 80.18004970131427,
            "bin_end": 82.94939115890091,
            "count": 7
           },
           {
            "bin_start": 82.94939115890091,
            "bin_end": 85.71873261648754,
            "count": 11
           },
           {
            "bin_start": 85.71873261648754,
            "bin_end": 88.48807407407418,
            "count": 9
           }
          ]
         }
        },
        {
         "name": " TXK",
         "dtype": "float64",
         "stats": {
          "unique_count": 72,
          "nan_count": 0,
          "min": "3.8372759856630823",
          "max": "27.14659498207883",
          "histogram": [
           {
            "bin_start": 3.8372759856630823,
            "bin_end": 6.168207885304657,
            "count": 8
           },
           {
            "bin_start": 6.168207885304657,
            "bin_end": 8.499139784946232,
            "count": 11
           },
           {
            "bin_start": 8.499139784946232,
            "bin_end": 10.830071684587805,
            "count": 8
           },
           {
            "bin_start": 10.830071684587805,
            "bin_end": 13.16100358422938,
            "count": 3
           },
           {
            "bin_start": 13.16100358422938,
            "bin_end": 15.491935483870956,
            "count": 6
           },
           {
            "bin_start": 15.491935483870956,
            "bin_end": 17.82286738351253,
            "count": 6
           },
           {
            "bin_start": 17.82286738351253,
            "bin_end": 20.153799283154108,
            "count": 7
           },
           {
            "bin_start": 20.153799283154108,
            "bin_end": 22.48473118279568,
            "count": 5
           },
           {
            "bin_start": 22.48473118279568,
            "bin_end": 24.815663082437254,
            "count": 8
           },
           {
            "bin_start": 24.815663082437254,
            "bin_end": 27.14659498207883,
            "count": 10
           }
          ]
         }
        },
        {
         "name": " TNK",
         "dtype": "float64",
         "stats": {
          "unique_count": 72,
          "nan_count": 0,
          "min": "-3.599999999999997",
          "max": "15.238351254480284",
          "histogram": [
           {
            "bin_start": -3.599999999999997,
            "bin_end": -1.716164874551969,
            "count": 3
           },
           {
            "bin_start": -1.716164874551969,
            "bin_end": 0.1676702508960588,
            "count": 7
           },
           {
            "bin_start": 0.1676702508960588,
            "bin_end": 2.0515053763440863,
            "count": 11
           },
           {
            "bin_start": 2.0515053763440863,
            "bin_end": 3.9353405017921146,
            "count": 10
           },
           {
            "bin_start": 3.9353405017921146,
            "bin_end": 5.819175627240143,
            "count": 6
           },
           {
            "bin_start": 5.819175627240143,
            "bin_end": 7.7030107526881695,
            "count": 6
           },
           {
            "bin_start": 7.7030107526881695,
            "bin_end": 9.586845878136199,
            "count": 7
           },
           {
            "bin_start": 9.586845878136199,
            "bin_end": 11.470681003584225,
            "count": 5
           },
           {
            "bin_start": 11.470681003584225,
            "bin_end": 13.354516129032252,
            "count": 11
           },
           {
            "bin_start": 13.354516129032252,
            "bin_end": 15.238351254480284,
            "count": 6
           }
          ]
         }
        },
        {
         "name": " TGK",
         "dtype": "float64",
         "stats": {
          "unique_count": 72,
          "nan_count": 0,
          "min": "-5.570196078431363",
          "max": "13.61254480286739",
          "histogram": [
           {
            "bin_start": -5.570196078431363,
            "bin_end": -3.6519219903014877,
            "count": 2
           },
           {
            "bin_start": -3.6519219903014877,
            "bin_end": -1.7336479021716125,
            "count": 8
           },
           {
            "bin_start": -1.7336479021716125,
            "bin_end": 0.18462618595826275,
            "count": 12
           },
           {
            "bin_start": 0.18462618595826275,
            "bin_end": 2.102900274088138,
            "count": 11
           },
           {
            "bin_start": 2.102900274088138,
            "bin_end": 4.021174362218013,
            "count": 4
           },
           {
            "bin_start": 4.021174362218013,
            "bin_end": 5.939448450347888,
            "count": 9
           },
           {
            "bin_start": 5.939448450347888,
            "bin_end": 7.857722538477764,
            "count": 6
           },
           {
            "bin_start": 7.857722538477764,
            "bin_end": 9.77599662660764,
            "count": 5
           },
           {
            "bin_start": 9.77599662660764,
            "bin_end": 11.694270714737517,
            "count": 10
           },
           {
            "bin_start": 11.694270714737517,
            "bin_end": 13.61254480286739,
            "count": 5
           }
          ]
         }
        },
        {
         "name": "WIND_CHILL",
         "dtype": "float64",
         "stats": {
          "unique_count": 72,
          "nan_count": 0,
          "min": "-2.707893613889342",
          "max": "21.98618013122341",
          "histogram": [
           {
            "bin_start": -2.707893613889342,
            "bin_end": -0.23848623937806668,
            "count": 7
           },
           {
            "bin_start": -0.23848623937806668,
            "bin_end": 2.2309211351332086,
            "count": 10
           },
           {
            "bin_start": 2.2309211351332086,
            "bin_end": 4.700328509644484,
            "count": 11
           },
           {
            "bin_start": 4.700328509644484,
            "bin_end": 7.1697358841557595,
            "count": 2
           },
           {
            "bin_start": 7.1697358841557595,
            "bin_end": 9.639143258667035,
            "count": 8
           },
           {
            "bin_start": 9.639143258667035,
            "bin_end": 12.108550633178309,
            "count": 4
           },
           {
            "bin_start": 12.108550633178309,
            "bin_end": 14.577958007689586,
            "count": 8
           },
           {
            "bin_start": 14.577958007689586,
            "bin_end": 17.04736538220086,
            "count": 5
           },
           {
            "bin_start": 17.04736538220086,
            "bin_end": 19.516772756712133,
            "count": 8
           },
           {
            "bin_start": 19.516772756712133,
            "bin_end": 21.98618013122341,
            "count": 9
           }
          ]
         }
        },
        {
         "name": " RSK",
         "dtype": "float64",
         "stats": {
          "unique_count": 72,
          "nan_count": 0,
          "min": "22.53333333333333",
          "max": "98.47777777777782",
          "histogram": [
           {
            "bin_start": 22.53333333333333,
            "bin_end": 30.12777777777778,
            "count": 5
           },
           {
            "bin_start": 30.12777777777778,
            "bin_end": 37.72222222222223,
            "count": 11
           },
           {
            "bin_start": 37.72222222222223,
            "bin_end": 45.31666666666668,
            "count": 6
           },
           {
            "bin_start": 45.31666666666668,
            "bin_end": 52.911111111111126,
            "count": 17
           },
           {
            "bin_start": 52.911111111111126,
            "bin_end": 60.505555555555574,
            "count": 15
           },
           {
            "bin_start": 60.505555555555574,
            "bin_end": 68.10000000000002,
            "count": 7
           },
           {
            "bin_start": 68.10000000000002,
            "bin_end": 75.69444444444447,
            "count": 4
           },
           {
            "bin_start": 75.69444444444447,
            "bin_end": 83.28888888888892,
            "count": 3
           },
           {
            "bin_start": 83.28888888888892,
            "bin_end": 90.88333333333337,
            "count": 2
           },
           {
            "bin_start": 90.88333333333337,
            "bin_end": 98.47777777777782,
            "count": 2
           }
          ]
         }
        },
        {
         "name": "SHK_TAG",
         "dtype": "float64",
         "stats": {
          "unique_count": 28,
          "nan_count": 0,
          "min": "0.0",
          "max": "73.33333333333333",
          "histogram": [
           {
            "bin_start": 0,
            "bin_end": 7.333333333333333,
            "count": 59
           },
           {
            "bin_start": 7.333333333333333,
            "bin_end": 14.666666666666666,
            "count": 5
           },
           {
            "bin_start": 14.666666666666666,
            "bin_end": 22,
            "count": 2
           },
           {
            "bin_start": 22,
            "bin_end": 29.333333333333332,
            "count": 3
           },
           {
            "bin_start": 29.333333333333332,
            "bin_end": 36.666666666666664,
            "count": 1
           },
           {
            "bin_start": 36.666666666666664,
            "bin_end": 44,
            "count": 0
           },
           {
            "bin_start": 44,
            "bin_end": 51.33333333333333,
            "count": 0
           },
           {
            "bin_start": 51.33333333333333,
            "bin_end": 58.666666666666664,
            "count": 1
           },
           {
            "bin_start": 58.666666666666664,
            "bin_end": 66,
            "count": 0
           },
           {
            "bin_start": 66,
            "bin_end": 73.33333333333333,
            "count": 1
           }
          ]
         }
        },
        {
         "name": "_deepnote_index_column",
         "dtype": "object"
        }
       ],
       "rows": [
        {
         "STATIONS_ID": 1078,
         "  FX": 10.542293906810038,
         "  FM": 14.830967741935485,
         " SDK": 3.206189964157705,
         "  NM": 5.595340501792109,
         " VPM": 11.376702508960571,
         "  PM": 1011.1182078853044,
         " TMK": 11.912544802867384,
         " UPM": 80.92856630824379,
         " TXK": 15.699283154121858,
         " TNK": 8.069892473118282,
         " TGK": 5.913261648745519,
         "WIND_CHILL": 10.457822442572473,
         " RSK": 53.311111111111124,
         "SHK_TAG": 0,
         "_deepnote_index_column": "('Düsseldorf', 'October')"
        },
        {
         "STATIONS_ID": 1078,
         "  FX": 9.508518518518509,
         "  FM": 12.201333333333336,
         " SDK": 5.295914814814819,
         "  NM": 4.7629629629629635,
         " VPM": 13.000740740740744,
         "  PM": 1012.5840740740746,
         " TMK": 15.454074074074068,
         " UPM": 75.00248148148145,
         " TXK": 20.686296296296298,
         " TNK": 10.261851851851853,
         " TGK": 7.6351851851851835,
         "WIND_CHILL": 14.99951032867729,
         " RSK": 49.199999999999996,
         "SHK_TAG": 0,
         "_deepnote_index_column": "('Düsseldorf', 'September')"
        },
        {
         "STATIONS_ID": 1420,
         "  FX": 11.247777777777774,
         "  FM": 12.2,
         " SDK": 6.737155555555555,
         "  NM": 4.7981481481481465,
         " VPM": 8.17111111111111,
         "  PM": 1002.3129629629625,
         " TMK": 11.37777777777778,
         " UPM": 62.003111111111096,
         " TXK": 17.085185185185185,
         " TNK": 5.409259259259262,
         " TGK": 3.0729629629629627,
         "WIND_CHILL": 10.029269666131796,
         " RSK": 35.54444444444446,
         "SHK_TAG": 0,
         "_deepnote_index_column": "('Frankfurt', 'April')"
        },
        {
         "STATIONS_ID": 1420,
         "  FX": 10.755197132616479,
         "  FM": 10.588387096774198,
         " SDK": 7.365537634408601,
         "  NM": 4.637275985663079,
         " VPM": 15.103584229390677,
         "  PM": 1003.8343010752691,
         " TMK": 20.43584229390681,
         " UPM": 65.3213261648745,
         " TXK": 26.45913978494625,
         " TNK": 14.733691756272398,
         " TGK": 13.129390681003581,
         "WIND_CHILL": 21.099381332138886,
         " RSK": 62.900000000000006,
         "SHK_TAG": 0,
         "_deepnote_index_column": "('Frankfurt', 'August')"
        },
        {
         "STATIONS_ID": 1420,
         "  FX": 10.435842293906806,
         "  FM": 12.632258064516133,
         " SDK": 1.1390716845878146,
         "  NM": 6.6193548387096754,
         " VPM": 7.379211469534048,
         "  PM": 1006.3062724014337,
         " TMK": 4.353405017921144,
         " UPM": 86.54329749103945,
         " TXK": 6.77347670250896,
         " TNK": 1.6014336917562721,
         " TGK": 0.17311827956989242,
         "WIND_CHILL": 1.8646004454316003,
         " RSK": 54.43333333333331,
         "SHK_TAG": 4.888888888888889,
         "_deepnote_index_column": "('Frankfurt', 'December')"
        },
        {
         "STATIONS_ID": 1420,
         "  FX": 11.278431372549015,
         "  FM": 13.636235294117654,
         " SDK": 2.9355529411764696,
         "  NM": 5.616862745098036,
         " VPM": 6.080784313725489,
         "  PM": 1004.6673333333332,
         " TMK": 3.2505882352941153,
         " UPM": 75.92725490196084,
         " TXK": 6.8960784313725485,
         " TNK": -0.39686274509803954,
         " TGK": -2.2780392156862743,
         "WIND_CHILL": 0.15947194139656912,
         " RSK": 33.96666666666667,
         "SHK_TAG": 5.444444444444445,
         "_deepnote_index_column": "('Frankfurt', 'February')"
        },
        {
         "STATIONS_ID": 1420,
         "  FX": 11.000716845878122,
         "  FM": 13.525161290322577,
         " SDK": 1.527652329749103,
         "  NM": 6.294982078853051,
         " VPM": 6.5415770609319,
         "  PM": 1004.5122222222219,
         " TMK": 3.0928315412186382,
         " UPM": 83.25541218637993,
         " TXK": 5.655555555555554,
         " TNK": 0.2688172043010753,
         " TGK": -1.2806451612903231,
         "WIND_CHILL": 0.06206503168638588,
         " RSK": 48.24444444444448,
         "SHK_TAG": 11.222222222222221,
         "_deepnote_index_column": "('Frankfurt', 'January')"
        },
        {
         "STATIONS_ID": 1420,
         "  FX": 11.540501792114691,
         "  FM": 11.678709677419354,
         " SDK": 8.097724014336919,
         "  NM": 4.613620071684584,
         " VPM": 14.700716845878135,
         "  PM": 1003.4044802867385,
         " TMK": 21.264516129032273,
         " UPM": 60.79465949820784,
         " TXK": 27.14659498207883,
         " TNK": 15.238351254480284,
         " TGK": 13.61254480286739,
         "WIND_CHILL": 21.98618013122341,
         " RSK": 50.71111111111114,
         "SHK_TAG": 0,
         "_deepnote_index_column": "('Frankfurt', 'July')"
        },
        {
         "STATIONS_ID": 1420,
         "  FX": 11.37037037037036,
         "  FM": 11.655999999999999,
         " SDK": 7.648770370370372,
         "  NM": 4.81333333333333,
         " VPM": 13.855555555555556,
         "  PM": 1003.3139259259266,
         " TMK": 18.9525925925926,
         " UPM": 65.14288888888882,
         " TXK": 24.558518518518525,
         " TNK": 13.10740740740741,
         " TGK": 11.437777777777775,
         "WIND_CHILL": 19.26359346834342,
         " RSK": 57.73333333333335,
         "SHK_TAG": 0,
         "_deepnote_index_column": "('Frankfurt', 'June')"
        },
        {
         "STATIONS_ID": 1420,
         "  FX": 11.438351254480285,
         "  FM": 13.308387096774194,
         " SDK": 4.825756272401436,
         "  NM": 5.086379928315415,
         " VPM": 6.90573476702509,
         "  PM": 1003.5445878136205,
         " TMK": 6.987455197132618,
         " UPM": 69.0940501792115,
         " TXK": 11.811827956989246,
         " TNK": 1.9999999999999996,
         " TGK": -0.1354838709677419,
         "WIND_CHILL": 4.682213593868502,
         " RSK": 33.55555555555555,
         "SHK_TAG": 7.666666666666667,
         "_deepnote_index_column": "('Frankfurt', 'March')"
        }
       ]
      },
      "text/plain": "                         STATIONS_ID         FX         FM       SDK  \\\nSTATIONS_NAME MONTH                                                    \nDüsseldorf    April             1078  10.637778  13.212000  5.844378   \n              August            1078  10.539427  12.641290  6.733444   \n              December          1078  11.875986  17.850323  1.437695   \n              February          1078  11.846275  17.443765  3.022667   \n              January           1078  11.693548  17.116129  1.581835   \n...                              ...        ...        ...       ...   \nMünchen       March             1262  10.728674  13.122581  5.067681   \n              May               1262   9.782437  10.335484  6.621799   \n              November          1262   8.684815  10.648000  2.223963   \n              October           1262   8.321864   9.140645  3.693595   \n              September         1262   8.228519   8.521333  5.680922   \n\n                               NM        VPM           PM        TMK  \\\nSTATIONS_NAME MONTH                                                    \nDüsseldorf    April      4.867407   8.480741  1010.228667  10.635556   \n              August     4.701075  15.133692  1011.149892  19.468100   \n              December   6.263441   7.962366  1012.000358   5.705735   \n              February   5.409412   6.496471  1011.516588   3.991373   \n              January    6.141219   6.989247  1010.991971   3.970609   \n...                           ...        ...          ...        ...   \nMünchen       March      5.306093   6.522222   963.353047   5.027599   \n              May        5.532616  11.059857   963.187563  13.137993   \n              November   6.537037   7.694815   963.816926   4.698148   \n              October    5.855556  10.230466   965.448602   9.463082   \n              September  5.032593  12.859630   966.127852  13.932963   \n\n                               UPM        TXK        TNK        TGK  \\\nSTATIONS_NAME MONTH                                                   \nDüsseldorf    April      66.945185  15.914444   4.586667   1.567407   \n              August     68.862473  24.952688  13.735125  11.435125   \n              December   85.035018   8.055197   2.967025   1.212186   \n              February   77.373451   7.401569   0.441961  -1.871373   \n              January    83.397706   6.501792   1.015771  -0.874910   \n...                            ...        ...        ...        ...   \nMünchen       March      74.983405  10.401434  -0.770968  -3.012903   \n              May        74.164409  18.656272   6.866308   4.931900   \n              November   88.488074   8.260370   0.781111  -0.721852   \n              October    85.937097  14.426523   4.238710   2.526523   \n              September  81.248630  19.798889   7.774444   6.163704   \n\n                         WIND_CHILL        RSK    SHK_TAG  \nSTATIONS_NAME MONTH                                        \nDüsseldorf    April        9.027556  34.555556   0.000000  \n              August      19.813999  65.222222   0.000000  \n              December     2.443990  72.288889   3.333333  \n              February     0.423264  55.366667   3.888889  \n              January      0.475374  62.033333  15.222222  \n...                             ...        ...        ...  \nMünchen       March        2.424062  32.644444   8.555556  \n              May         12.488213  94.400000   0.000000  \n              November     2.469841  43.244444   0.777778  \n              October      8.402871  57.200000   0.666667  \n              September   13.661463  58.188889   0.000000  \n\n[72 rows x 15 columns]",
      "text/html": "<div>\n<style scoped>\n    .dataframe tbody tr th:only-of-type {\n        vertical-align: middle;\n    }\n\n    .dataframe tbody tr th {\n        vertical-align: top;\n    }\n\n    .dataframe thead th {\n        text-align: right;\n    }\n</style>\n<table border=\"1\" class=\"dataframe\">\n  <thead>\n    <tr style=\"text-align: right;\">\n      <th></th>\n      <th></th>\n      <th>STATIONS_ID</th>\n      <th>FX</th>\n      <th>FM</th>\n      <th>SDK</th>\n      <th>NM</th>\n      <th>VPM</th>\n      <th>PM</th>\n      <th>TMK</th>\n      <th>UPM</th>\n      <th>TXK</th>\n      <th>TNK</th>\n      <th>TGK</th>\n      <th>WIND_CHILL</th>\n      <th>RSK</th>\n      <th>SHK_TAG</th>\n    </tr>\n    <tr>\n      <th>STATIONS_NAME</th>\n      <th>MONTH</th>\n      <th></th>\n      <th></th>\n      <th></th>\n      <th></th>\n      <th></th>\n      <th></th>\n      <th></th>\n      <th></th>\n      <th></th>\n      <th></th>\n      <th></th>\n      <th></th>\n      <th></th>\n      <th></th>\n      <th></th>\n    </tr>\n  </thead>\n  <tbody>\n    <tr>\n      <th rowspan=\"5\" valign=\"top\">Düsseldorf</th>\n      <th>April</th>\n      <td>1078</td>\n      <td>10.637778</td>\n      <td>13.212000</td>\n      <td>5.844378</td>\n      <td>4.867407</td>\n      <td>8.480741</td>\n      <td>1010.228667</td>\n      <td>10.635556</td>\n      <td>66.945185</td>\n      <td>15.914444</td>\n      <td>4.586667</td>\n      <td>1.567407</td>\n      <td>9.027556</td>\n      <td>34.555556</td>\n      <td>0.000000</td>\n    </tr>\n    <tr>\n      <th>August</th>\n      <td>1078</td>\n      <td>10.539427</td>\n      <td>12.641290</td>\n      <td>6.733444</td>\n      <td>4.701075</td>\n      <td>15.133692</td>\n      <td>1011.149892</td>\n      <td>19.468100</td>\n      <td>68.862473</td>\n      <td>24.952688</td>\n      <td>13.735125</td>\n      <td>11.435125</td>\n      <td>19.813999</td>\n      <td>65.222222</td>\n      <td>0.000000</td>\n    </tr>\n    <tr>\n      <th>December</th>\n      <td>1078</td>\n      <td>11.875986</td>\n      <td>17.850323</td>\n      <td>1.437695</td>\n      <td>6.263441</td>\n      <td>7.962366</td>\n      <td>1012.000358</td>\n      <td>5.705735</td>\n      <td>85.035018</td>\n      <td>8.055197</td>\n      <td>2.967025</td>\n      <td>1.212186</td>\n      <td>2.443990</td>\n      <td>72.288889</td>\n      <td>3.333333</td>\n    </tr>\n    <tr>\n      <th>February</th>\n      <td>1078</td>\n      <td>11.846275</td>\n      <td>17.443765</td>\n      <td>3.022667</td>\n      <td>5.409412</td>\n      <td>6.496471</td>\n      <td>1011.516588</td>\n      <td>3.991373</td>\n      <td>77.373451</td>\n      <td>7.401569</td>\n      <td>0.441961</td>\n      <td>-1.871373</td>\n      <td>0.423264</td>\n      <td>55.366667</td>\n      <td>3.888889</td>\n    </tr>\n    <tr>\n      <th>January</th>\n      <td>1078</td>\n      <td>11.693548</td>\n      <td>17.116129</td>\n      <td>1.581835</td>\n      <td>6.141219</td>\n      <td>6.989247</td>\n      <td>1010.991971</td>\n      <td>3.970609</td>\n      <td>83.397706</td>\n      <td>6.501792</td>\n      <td>1.015771</td>\n      <td>-0.874910</td>\n      <td>0.475374</td>\n      <td>62.033333</td>\n      <td>15.222222</td>\n    </tr>\n    <tr>\n      <th>...</th>\n      <th>...</th>\n      <td>...</td>\n      <td>...</td>\n      <td>...</td>\n      <td>...</td>\n      <td>...</td>\n      <td>...</td>\n      <td>...</td>\n      <td>...</td>\n      <td>...</td>\n      <td>...</td>\n      <td>...</td>\n      <td>...</td>\n      <td>...</td>\n      <td>...</td>\n      <td>...</td>\n    </tr>\n    <tr>\n      <th rowspan=\"5\" valign=\"top\">München</th>\n      <th>March</th>\n      <td>1262</td>\n      <td>10.728674</td>\n      <td>13.122581</td>\n      <td>5.067681</td>\n      <td>5.306093</td>\n      <td>6.522222</td>\n      <td>963.353047</td>\n      <td>5.027599</td>\n      <td>74.983405</td>\n      <td>10.401434</td>\n      <td>-0.770968</td>\n      <td>-3.012903</td>\n      <td>2.424062</td>\n      <td>32.644444</td>\n      <td>8.555556</td>\n    </tr>\n    <tr>\n      <th>May</th>\n      <td>1262</td>\n      <td>9.782437</td>\n      <td>10.335484</td>\n      <td>6.621799</td>\n      <td>5.532616</td>\n      <td>11.059857</td>\n      <td>963.187563</td>\n      <td>13.137993</td>\n      <td>74.164409</td>\n      <td>18.656272</td>\n      <td>6.866308</td>\n      <td>4.931900</td>\n      <td>12.488213</td>\n      <td>94.400000</td>\n      <td>0.000000</td>\n    </tr>\n    <tr>\n      <th>November</th>\n      <td>1262</td>\n      <td>8.684815</td>\n      <td>10.648000</td>\n      <td>2.223963</td>\n      <td>6.537037</td>\n      <td>7.694815</td>\n      <td>963.816926</td>\n      <td>4.698148</td>\n      <td>88.488074</td>\n      <td>8.260370</td>\n      <td>0.781111</td>\n      <td>-0.721852</td>\n      <td>2.469841</td>\n      <td>43.244444</td>\n      <td>0.777778</td>\n    </tr>\n    <tr>\n      <th>October</th>\n      <td>1262</td>\n      <td>8.321864</td>\n      <td>9.140645</td>\n      <td>3.693595</td>\n      <td>5.855556</td>\n      <td>10.230466</td>\n      <td>965.448602</td>\n      <td>9.463082</td>\n      <td>85.937097</td>\n      <td>14.426523</td>\n      <td>4.238710</td>\n      <td>2.526523</td>\n      <td>8.402871</td>\n      <td>57.200000</td>\n      <td>0.666667</td>\n    </tr>\n    <tr>\n      <th>September</th>\n      <td>1262</td>\n      <td>8.228519</td>\n      <td>8.521333</td>\n      <td>5.680922</td>\n      <td>5.032593</td>\n      <td>12.859630</td>\n      <td>966.127852</td>\n      <td>13.932963</td>\n      <td>81.248630</td>\n      <td>19.798889</td>\n      <td>7.774444</td>\n      <td>6.163704</td>\n      <td>13.661463</td>\n      <td>58.188889</td>\n      <td>0.000000</td>\n    </tr>\n  </tbody>\n</table>\n<p>72 rows × 15 columns</p>\n</div>"
     },
     "metadata": {},
     "output_type": "display_data"
    }
   ]
  },
  {
   "cell_type": "code",
   "metadata": {
    "cell_id": "947cea86-d1f9-4bcc-b5ae-fa0013db71d0",
    "tags": [],
    "deepnote_to_be_reexecuted": false,
    "source_hash": "34e25e1e",
    "execution_start": 1644143280911,
    "execution_millis": 0,
    "deepnote_output_heights": [
     251.53125
    ],
    "deepnote_cell_type": "code"
   },
   "source": "df_rsk = df.groupby([\"STATIONS_NAME\",\"MONTH\",\"RSKF\"])[\" RSK\"].sum()/num_years",
   "execution_count": null,
   "outputs": []
  },
  {
   "cell_type": "code",
   "metadata": {
    "cell_id": "84ef2663-b7c9-495e-8049-e0cf8d146206",
    "tags": [],
    "deepnote_to_be_reexecuted": false,
    "source_hash": "298d9bdf",
    "execution_start": 1644143280912,
    "execution_millis": 0,
    "deepnote_output_heights": [
     424
    ],
    "deepnote_table_state": {
     "pageSize": 10,
     "pageIndex": 1,
     "filters": [],
     "sortBy": []
    },
    "deepnote_table_loading": false,
    "deepnote_table_invalid": false,
    "deepnote_cell_type": "code"
   },
   "source": "#reindex df to avoid lexicographical sorting of months\ndf_agg = df_agg.reindex([\"January\",\"February\",\"March\",\"April\",\"May\",\"June\",\"July\",\"August\",\"September\",\"October\",\"November\",\"December\"], level=1)\ndf_rsk = df_rsk.reindex([\"January\",\"February\",\"March\",\"April\",\"May\",\"June\",\"July\",\"August\",\"September\",\"October\",\"November\",\"December\"], level=1)",
   "execution_count": null,
   "outputs": []
  },
  {
   "cell_type": "code",
   "metadata": {
    "cell_id": "7cf69df2-255f-4a5c-838d-01c750de756d",
    "tags": [],
    "deepnote_to_be_reexecuted": false,
    "source_hash": "b745595d",
    "execution_start": 1644143280954,
    "execution_millis": 358,
    "deepnote_table_state": {
     "pageSize": 10,
     "pageIndex": 1,
     "filters": [],
     "sortBy": []
    },
    "deepnote_table_loading": false,
    "deepnote_cell_type": "code"
   },
   "source": "df_agg.head(n=20)",
   "execution_count": null,
   "outputs": [
    {
     "output_type": "execute_result",
     "execution_count": 11,
     "data": {
      "application/vnd.deepnote.dataframe.v3+json": {
       "column_count": 15,
       "row_count": 20,
       "columns": [
        {
         "name": "STATIONS_ID",
         "dtype": "int64",
         "stats": {
          "unique_count": 2,
          "nan_count": 0,
          "min": "1078",
          "max": "1420",
          "histogram": [
           {
            "bin_start": 1078,
            "bin_end": 1112.2,
            "count": 12
           },
           {
            "bin_start": 1112.2,
            "bin_end": 1146.4,
            "count": 0
           },
           {
            "bin_start": 1146.4,
            "bin_end": 1180.6,
            "count": 0
           },
           {
            "bin_start": 1180.6,
            "bin_end": 1214.8,
            "count": 0
           },
           {
            "bin_start": 1214.8,
            "bin_end": 1249,
            "count": 0
           },
           {
            "bin_start": 1249,
            "bin_end": 1283.2,
            "count": 0
           },
           {
            "bin_start": 1283.2,
            "bin_end": 1317.4,
            "count": 0
           },
           {
            "bin_start": 1317.4,
            "bin_end": 1351.6,
            "count": 0
           },
           {
            "bin_start": 1351.6,
            "bin_end": 1385.8,
            "count": 0
           },
           {
            "bin_start": 1385.8,
            "bin_end": 1420,
            "count": 8
           }
          ]
         }
        },
        {
         "name": "  FX",
         "dtype": "float64",
         "stats": {
          "unique_count": 20,
          "nan_count": 0,
          "min": "9.508518518518509",
          "max": "11.875985663082442",
          "histogram": [
           {
            "bin_start": 9.508518518518509,
            "bin_end": 9.745265232974901,
            "count": 1
           },
           {
            "bin_start": 9.745265232974901,
            "bin_end": 9.982011947431296,
            "count": 0
           },
           {
            "bin_start": 9.982011947431296,
            "bin_end": 10.218758661887689,
            "count": 0
           },
           {
            "bin_start": 10.218758661887689,
            "bin_end": 10.455505376344082,
            "count": 2
           },
           {
            "bin_start": 10.455505376344082,
            "bin_end": 10.692252090800476,
            "count": 4
           },
           {
            "bin_start": 10.692252090800476,
            "bin_end": 10.92899880525687,
            "count": 2
           },
           {
            "bin_start": 10.92899880525687,
            "bin_end": 11.165745519713262,
            "count": 1
           },
           {
            "bin_start": 11.165745519713262,
            "bin_end": 11.402492234169655,
            "count": 4
           },
           {
            "bin_start": 11.402492234169655,
            "bin_end": 11.63923894862605,
            "count": 3
           },
           {
            "bin_start": 11.63923894862605,
            "bin_end": 11.875985663082442,
            "count": 3
           }
          ]
         }
        },
        {
         "name": "  FM",
         "dtype": "float64",
         "stats": {
          "unique_count": 20,
          "nan_count": 0,
          "min": "10.588387096774198",
          "max": "17.85032258064516",
          "histogram": [
           {
            "bin_start": 10.588387096774198,
            "bin_end": 11.314580645161294,
            "count": 1
           },
           {
            "bin_start": 11.314580645161294,
            "bin_end": 12.04077419354839,
            "count": 3
           },
           {
            "bin_start": 12.04077419354839,
            "bin_end": 12.766967741935487,
            "count": 6
           },
           {
            "bin_start": 12.766967741935487,
            "bin_end": 13.493161290322583,
            "count": 2
           },
           {
            "bin_start": 13.493161290322583,
            "bin_end": 14.219354838709679,
            "count": 2
           },
           {
            "bin_start": 14.219354838709679,
            "bin_end": 14.945548387096775,
            "count": 1
           },
           {
            "bin_start": 14.945548387096775,
            "bin_end": 15.67174193548387,
            "count": 2
           },
           {
            "bin_start": 15.67174193548387,
            "bin_end": 16.397935483870967,
            "count": 0
           },
           {
            "bin_start": 16.397935483870967,
            "bin_end": 17.12412903225806,
            "count": 1
           },
           {
            "bin_start": 17.12412903225806,
            "bin_end": 17.85032258064516,
            "count": 2
           }
          ]
         }
        },
        {
         "name": " SDK",
         "dtype": "float64",
         "stats": {
          "unique_count": 20,
          "nan_count": 0,
          "min": "1.4376953405017925",
          "max": "8.097724014336919",
          "histogram": [
           {
            "bin_start": 1.4376953405017925,
            "bin_end": 2.103698207885305,
            "count": 3
           },
           {
            "bin_start": 2.103698207885305,
            "bin_end": 2.7697010752688174,
            "count": 1
           },
           {
            "bin_start": 2.7697010752688174,
            "bin_end": 3.43570394265233,
            "count": 3
           },
           {
            "bin_start": 3.43570394265233,
            "bin_end": 4.101706810035843,
            "count": 0
           },
           {
            "bin_start": 4.101706810035843,
            "bin_end": 4.767709677419355,
            "count": 1
           },
           {
            "bin_start": 4.767709677419355,
            "bin_end": 5.433712544802868,
            "count": 2
           },
           {
            "bin_start": 5.433712544802868,
            "bin_end": 6.099715412186381,
            "count": 1
           },
           {
            "bin_start": 6.099715412186381,
            "bin_end": 6.765718279569893,
            "count": 3
           },
           {
            "bin_start": 6.765718279569893,
            "bin_end": 7.4317211469534055,
            "count": 4
           },
           {
            "bin_start": 7.4317211469534055,
            "bin_end": 8.097724014336919,
            "count": 2
           }
          ]
         }
        },
        {
         "name": "  NM",
         "dtype": "float64",
         "stats": {
          "unique_count": 20,
          "nan_count": 0,
          "min": "4.613620071684584",
          "max": "6.294982078853051",
          "histogram": [
           {
            "bin_start": 4.613620071684584,
            "bin_end": 4.781756272401431,
            "count": 5
           },
           {
            "bin_start": 4.781756272401431,
            "bin_end": 4.949892473118277,
            "count": 3
           },
           {
            "bin_start": 4.949892473118277,
            "bin_end": 5.1180286738351235,
            "count": 4
           },
           {
            "bin_start": 5.1180286738351235,
            "bin_end": 5.286164874551971,
            "count": 1
           },
           {
            "bin_start": 5.286164874551971,
            "bin_end": 5.454301075268818,
            "count": 1
           },
           {
            "bin_start": 5.454301075268818,
            "bin_end": 5.622437275985664,
            "count": 2
           },
           {
            "bin_start": 5.622437275985664,
            "bin_end": 5.7905734767025105,
            "count": 0
           },
           {
            "bin_start": 5.7905734767025105,
            "bin_end": 5.958709677419358,
            "count": 1
           },
           {
            "bin_start": 5.958709677419358,
            "bin_end": 6.126845878136205,
            "count": 0
           },
           {
            "bin_start": 6.126845878136205,
            "bin_end": 6.294982078853051,
            "count": 3
           }
          ]
         }
        },
        {
         "name": " VPM",
         "dtype": "float64",
         "stats": {
          "unique_count": 20,
          "nan_count": 0,
          "min": "6.080784313725489",
          "max": "15.133691756272409",
          "histogram": [
           {
            "bin_start": 6.080784313725489,
            "bin_end": 6.986075057980181,
            "count": 4
           },
           {
            "bin_start": 6.986075057980181,
            "bin_end": 7.891365802234873,
            "count": 2
           },
           {
            "bin_start": 7.891365802234873,
            "bin_end": 8.796656546489565,
            "count": 3
           },
           {
            "bin_start": 8.796656546489565,
            "bin_end": 9.701947290744258,
            "count": 1
           },
           {
            "bin_start": 9.701947290744258,
            "bin_end": 10.60723803499895,
            "count": 0
           },
           {
            "bin_start": 10.60723803499895,
            "bin_end": 11.512528779253643,
            "count": 3
           },
           {
            "bin_start": 11.512528779253643,
            "bin_end": 12.417819523508333,
            "count": 0
           },
           {
            "bin_start": 12.417819523508333,
            "bin_end": 13.323110267763026,
            "count": 1
           },
           {
            "bin_start": 13.323110267763026,
            "bin_end": 14.228401012017716,
            "count": 2
           },
           {
            "bin_start": 14.228401012017716,
            "bin_end": 15.133691756272409,
            "count": 4
           }
          ]
         }
        },
        {
         "name": "  PM",
         "dtype": "float64",
         "stats": {
          "unique_count": 20,
          "nan_count": 0,
          "min": "1002.3129629629625",
          "max": "1012.5840740740746",
          "histogram": [
           {
            "bin_start": 1002.3129629629625,
            "bin_end": 1003.3400740740738,
            "count": 3
           },
           {
            "bin_start": 1003.3400740740738,
            "bin_end": 1004.3671851851849,
            "count": 3
           },
           {
            "bin_start": 1004.3671851851849,
            "bin_end": 1005.3942962962961,
            "count": 2
           },
           {
            "bin_start": 1005.3942962962961,
            "bin_end": 1006.4214074074073,
            "count": 0
           },
           {
            "bin_start": 1006.4214074074073,
            "bin_end": 1007.4485185185185,
            "count": 0
           },
           {
            "bin_start": 1007.4485185185185,
            "bin_end": 1008.4756296296298,
            "count": 0
           },
           {
            "bin_start": 1008.4756296296298,
            "bin_end": 1009.5027407407409,
            "count": 0
           },
           {
            "bin_start": 1009.5027407407409,
            "bin_end": 1010.5298518518522,
            "count": 2
           },
           {
            "bin_start": 1010.5298518518522,
            "bin_end": 1011.5569629629633,
            "count": 8
           },
           {
            "bin_start": 1011.5569629629633,
            "bin_end": 1012.5840740740746,
            "count": 2
           }
          ]
         }
        },
        {
         "name": " TMK",
         "dtype": "float64",
         "stats": {
          "unique_count": 20,
          "nan_count": 0,
          "min": "3.0928315412186382",
          "max": "21.264516129032273",
          "histogram": [
           {
            "bin_start": 3.0928315412186382,
            "bin_end": 4.910000000000002,
            "count": 4
           },
           {
            "bin_start": 4.910000000000002,
            "bin_end": 6.727168458781366,
            "count": 1
           },
           {
            "bin_start": 6.727168458781366,
            "bin_end": 8.54433691756273,
            "count": 3
           },
           {
            "bin_start": 8.54433691756273,
            "bin_end": 10.361505376344093,
            "count": 0
           },
           {
            "bin_start": 10.361505376344093,
            "bin_end": 12.178673835125457,
            "count": 3
           },
           {
            "bin_start": 12.178673835125457,
            "bin_end": 13.99584229390682,
            "count": 0
           },
           {
            "bin_start": 13.99584229390682,
            "bin_end": 15.813010752688184,
            "count": 3
           },
           {
            "bin_start": 15.813010752688184,
            "bin_end": 17.630179211469546,
            "count": 0
           },
           {
            "bin_start": 17.630179211469546,
            "bin_end": 19.447347670250913,
            "count": 2
           },
           {
            "bin_start": 19.447347670250913,
            "bin_end": 21.264516129032273,
            "count": 4
           }
          ]
         }
        },
        {
         "name": " UPM",
         "dtype": "float64",
         "stats": {
          "unique_count": 20,
          "nan_count": 0,
          "min": "60.79465949820784",
          "max": "85.03501792114699",
          "histogram": [
           {
            "bin_start": 60.79465949820784,
            "bin_end": 63.21869534050175,
            "count": 2
           },
           {
            "bin_start": 63.21869534050175,
            "bin_end": 65.64273118279567,
            "count": 2
           },
           {
            "bin_start": 65.64273118279567,
            "bin_end": 68.06676702508959,
            "count": 3
           },
           {
            "bin_start": 68.06676702508959,
            "bin_end": 70.49080286738351,
            "count": 4
           },
           {
            "bin_start": 70.49080286738351,
            "bin_end": 72.91483870967741,
            "count": 1
           },
           {
            "bin_start": 72.91483870967741,
            "bin_end": 75.33887455197133,
            "count": 1
           },
           {
            "bin_start": 75.33887455197133,
            "bin_end": 77.76291039426525,
            "count": 2
           },
           {
            "bin_start": 77.76291039426525,
            "bin_end": 80.18694623655915,
            "count": 0
           },
           {
            "bin_start": 80.18694623655915,
            "bin_end": 82.61098207885307,
            "count": 1
           },
           {
            "bin_start": 82.61098207885307,
            "bin_end": 85.03501792114699,
            "count": 4
           }
          ]
         }
        },
        {
         "name": " TXK",
         "dtype": "float64",
         "stats": {
          "unique_count": 20,
          "nan_count": 0,
          "min": "5.655555555555554",
          "max": "27.14659498207883",
          "histogram": [
           {
            "bin_start": 5.655555555555554,
            "bin_end": 7.804659498207881,
            "count": 4
           },
           {
            "bin_start": 7.804659498207881,
            "bin_end": 9.95376344086021,
            "count": 1
           },
           {
            "bin_start": 9.95376344086021,
            "bin_end": 12.102867383512535,
            "count": 3
           },
           {
            "bin_start": 12.102867383512535,
            "bin_end": 14.251971326164863,
            "count": 0
           },
           {
            "bin_start": 14.251971326164863,
            "bin_end": 16.40107526881719,
            "count": 2
           },
           {
            "bin_start": 16.40107526881719,
            "bin_end": 18.55017921146952,
            "count": 1
           },
           {
            "bin_start": 18.55017921146952,
            "bin_end": 20.699283154121847,
            "count": 3
           },
           {
            "bin_start": 20.699283154121847,
            "bin_end": 22.848387096774175,
            "count": 0
           },
           {
            "bin_start": 22.848387096774175,
            "bin_end": 24.997491039426503,
            "count": 3
           },
           {
            "bin_start": 24.997491039426503,
            "bin_end": 27.14659498207883,
            "count": 3
           }
          ]
         }
        },
        {
         "name": " TNK",
         "dtype": "float64",
         "stats": {
          "unique_count": 20,
          "nan_count": 0,
          "min": "-0.39686274509803954",
          "max": "15.238351254480284",
          "histogram": [
           {
            "bin_start": -0.39686274509803954,
            "bin_end": 1.1666586548597928,
            "count": 4
           },
           {
            "bin_start": 1.1666586548597928,
            "bin_end": 2.730180054817625,
            "count": 2
           },
           {
            "bin_start": 2.730180054817625,
            "bin_end": 4.293701454775458,
            "count": 2
           },
           {
            "bin_start": 4.293701454775458,
            "bin_end": 5.85722285473329,
            "count": 2
           },
           {
            "bin_start": 5.85722285473329,
            "bin_end": 7.4207442546911215,
            "count": 0
           },
           {
            "bin_start": 7.4207442546911215,
            "bin_end": 8.984265654648956,
            "count": 2
           },
           {
            "bin_start": 8.984265654648956,
            "bin_end": 10.547787054606788,
            "count": 2
           },
           {
            "bin_start": 10.547787054606788,
            "bin_end": 12.11130845456462,
            "count": 1
           },
           {
            "bin_start": 12.11130845456462,
            "bin_end": 13.674829854522452,
            "count": 1
           },
           {
            "bin_start": 13.674829854522452,
            "bin_end": 15.238351254480284,
            "count": 4
           }
          ]
         }
        },
        {
         "name": " TGK",
         "dtype": "float64",
         "stats": {
          "unique_count": 20,
          "nan_count": 0,
          "min": "-2.2780392156862743",
          "max": "13.61254480286739",
          "histogram": [
           {
            "bin_start": -2.2780392156862743,
            "bin_end": -0.6889808138309079,
            "count": 4
           },
           {
            "bin_start": -0.6889808138309079,
            "bin_end": 0.9000775880244585,
            "count": 2
           },
           {
            "bin_start": 0.9000775880244585,
            "bin_end": 2.489135989879825,
            "count": 3
           },
           {
            "bin_start": 2.489135989879825,
            "bin_end": 4.078194391735192,
            "count": 1
           },
           {
            "bin_start": 4.078194391735192,
            "bin_end": 5.667252793590558,
            "count": 1
           },
           {
            "bin_start": 5.667252793590558,
            "bin_end": 7.2563111954459245,
            "count": 2
           },
           {
            "bin_start": 7.2563111954459245,
            "bin_end": 8.845369597301291,
            "count": 1
           },
           {
            "bin_start": 8.845369597301291,
            "bin_end": 10.434427999156657,
            "count": 1
           },
           {
            "bin_start": 10.434427999156657,
            "bin_end": 12.023486401012024,
            "count": 3
           },
           {
            "bin_start": 12.023486401012024,
            "bin_end": 13.61254480286739,
            "count": 2
           }
          ]
         }
        },
        {
         "name": "WIND_CHILL",
         "dtype": "float64",
         "stats": {
          "unique_count": 20,
          "nan_count": 0,
          "min": "0.06206503168638588",
          "max": "21.98618013122341",
          "histogram": [
           {
            "bin_start": 0.06206503168638588,
            "bin_end": 2.2544765416400883,
            "count": 4
           },
           {
            "bin_start": 2.2544765416400883,
            "bin_end": 4.44688805159379,
            "count": 2
           },
           {
            "bin_start": 4.44688805159379,
            "bin_end": 6.639299561547492,
            "count": 2
           },
           {
            "bin_start": 6.639299561547492,
            "bin_end": 8.831711071501195,
            "count": 0
           },
           {
            "bin_start": 8.831711071501195,
            "bin_end": 11.024122581454897,
            "count": 3
           },
           {
            "bin_start": 11.024122581454897,
            "bin_end": 13.2165340914086,
            "count": 0
           },
           {
            "bin_start": 13.2165340914086,
            "bin_end": 15.408945601362301,
            "count": 3
           },
           {
            "bin_start": 15.408945601362301,
            "bin_end": 17.601357111316005,
            "count": 0
           },
           {
            "bin_start": 17.601357111316005,
            "bin_end": 19.793768621269706,
            "count": 2
           },
           {
            "bin_start": 19.793768621269706,
            "bin_end": 21.98618013122341,
            "count": 4
           }
          ]
         }
        },
        {
         "name": " RSK",
         "dtype": "float64",
         "stats": {
          "unique_count": 20,
          "nan_count": 0,
          "min": "33.55555555555555",
          "max": "72.28888888888896",
          "histogram": [
           {
            "bin_start": 33.55555555555555,
            "bin_end": 37.42888888888889,
            "count": 4
           },
           {
            "bin_start": 37.42888888888889,
            "bin_end": 41.302222222222234,
            "count": 0
           },
           {
            "bin_start": 41.302222222222234,
            "bin_end": 45.175555555555576,
            "count": 0
           },
           {
            "bin_start": 45.175555555555576,
            "bin_end": 49.04888888888891,
            "count": 2
           },
           {
            "bin_start": 49.04888888888891,
            "bin_end": 52.92222222222226,
            "count": 3
           },
           {
            "bin_start": 52.92222222222226,
            "bin_end": 56.795555555555595,
            "count": 2
           },
           {
            "bin_start": 56.795555555555595,
            "bin_end": 60.66888888888894,
            "count": 3
           },
           {
            "bin_start": 60.66888888888894,
            "bin_end": 64.54222222222228,
            "count": 4
           },
           {
            "bin_start": 64.54222222222228,
            "bin_end": 68.41555555555561,
            "count": 1
           },
           {
            "bin_start": 68.41555555555561,
            "bin_end": 72.28888888888896,
            "count": 1
           }
          ]
         }
        },
        {
         "name": "SHK_TAG",
         "dtype": "float64",
         "stats": {
          "unique_count": 8,
          "nan_count": 0,
          "min": "0.0",
          "max": "15.222222222222221",
          "histogram": [
           {
            "bin_start": 0,
            "bin_end": 1.5222222222222221,
            "count": 13
           },
           {
            "bin_start": 1.5222222222222221,
            "bin_end": 3.0444444444444443,
            "count": 1
           },
           {
            "bin_start": 3.0444444444444443,
            "bin_end": 4.566666666666666,
            "count": 2
           },
           {
            "bin_start": 4.566666666666666,
            "bin_end": 6.088888888888889,
            "count": 1
           },
           {
            "bin_start": 6.088888888888889,
            "bin_end": 7.611111111111111,
            "count": 0
           },
           {
            "bin_start": 7.611111111111111,
            "bin_end": 9.133333333333333,
            "count": 1
           },
           {
            "bin_start": 9.133333333333333,
            "bin_end": 10.655555555555555,
            "count": 0
           },
           {
            "bin_start": 10.655555555555555,
            "bin_end": 12.177777777777777,
            "count": 1
           },
           {
            "bin_start": 12.177777777777777,
            "bin_end": 13.7,
            "count": 0
           },
           {
            "bin_start": 13.7,
            "bin_end": 15.222222222222221,
            "count": 1
           }
          ]
         }
        },
        {
         "name": "_deepnote_index_column",
         "dtype": "object"
        }
       ],
       "rows": [
        {
         "STATIONS_ID": 1078,
         "  FX": 10.800000000000002,
         "  FM": 15.559999999999993,
         " SDK": 2.2120814814814818,
         "  NM": 5.852222222222221,
         " VPM": 8.875925925925925,
         "  PM": 1009.6506296296294,
         " TMK": 7.464074074074069,
         " UPM": 84.10003703703708,
         " TXK": 10.48629629629629,
         " TNK": 4.155555555555557,
         " TGK": 2.199629629629631,
         "WIND_CHILL": 4.947968492456913,
         " RSK": 52.85555555555552,
         "SHK_TAG": 0,
         "_deepnote_index_column": "('Düsseldorf', 'November')"
        },
        {
         "STATIONS_ID": 1078,
         "  FX": 11.875985663082442,
         "  FM": 17.85032258064516,
         " SDK": 1.4376953405017925,
         "  NM": 6.263440860215048,
         " VPM": 7.962365591397848,
         "  PM": 1012.0003584229394,
         " TMK": 5.705734767025088,
         " UPM": 85.03501792114699,
         " TXK": 8.055197132616488,
         " TNK": 2.967025089605733,
         " TGK": 1.212186379928315,
         "WIND_CHILL": 2.443990452566723,
         " RSK": 72.28888888888896,
         "SHK_TAG": 3.3333333333333335,
         "_deepnote_index_column": "('Düsseldorf', 'December')"
        },
        {
         "STATIONS_ID": 1420,
         "  FX": 11.000716845878122,
         "  FM": 13.525161290322577,
         " SDK": 1.527652329749103,
         "  NM": 6.294982078853051,
         " VPM": 6.5415770609319,
         "  PM": 1004.5122222222219,
         " TMK": 3.0928315412186382,
         " UPM": 83.25541218637993,
         " TXK": 5.655555555555554,
         " TNK": 0.2688172043010753,
         " TGK": -1.2806451612903231,
         "WIND_CHILL": 0.06206503168638588,
         " RSK": 48.24444444444448,
         "SHK_TAG": 11.222222222222221,
         "_deepnote_index_column": "('Frankfurt', 'January')"
        },
        {
         "STATIONS_ID": 1420,
         "  FX": 11.278431372549015,
         "  FM": 13.636235294117654,
         " SDK": 2.9355529411764696,
         "  NM": 5.616862745098036,
         " VPM": 6.080784313725489,
         "  PM": 1004.6673333333332,
         " TMK": 3.2505882352941153,
         " UPM": 75.92725490196084,
         " TXK": 6.8960784313725485,
         " TNK": -0.39686274509803954,
         " TGK": -2.2780392156862743,
         "WIND_CHILL": 0.15947194139656912,
         " RSK": 33.96666666666667,
         "SHK_TAG": 5.444444444444445,
         "_deepnote_index_column": "('Frankfurt', 'February')"
        },
        {
         "STATIONS_ID": 1420,
         "  FX": 11.438351254480285,
         "  FM": 13.308387096774194,
         " SDK": 4.825756272401436,
         "  NM": 5.086379928315415,
         " VPM": 6.90573476702509,
         "  PM": 1003.5445878136205,
         " TMK": 6.987455197132618,
         " UPM": 69.0940501792115,
         " TXK": 11.811827956989246,
         " TNK": 1.9999999999999996,
         " TGK": -0.1354838709677419,
         "WIND_CHILL": 4.682213593868502,
         " RSK": 33.55555555555555,
         "SHK_TAG": 7.666666666666667,
         "_deepnote_index_column": "('Frankfurt', 'March')"
        },
        {
         "STATIONS_ID": 1420,
         "  FX": 11.247777777777774,
         "  FM": 12.2,
         " SDK": 6.737155555555555,
         "  NM": 4.7981481481481465,
         " VPM": 8.17111111111111,
         "  PM": 1002.3129629629625,
         " TMK": 11.37777777777778,
         " UPM": 62.003111111111096,
         " TXK": 17.085185185185185,
         " TNK": 5.409259259259262,
         " TGK": 3.0729629629629627,
         "WIND_CHILL": 10.029269666131796,
         " RSK": 35.54444444444446,
         "SHK_TAG": 0,
         "_deepnote_index_column": "('Frankfurt', 'April')"
        },
        {
         "STATIONS_ID": 1420,
         "  FX": 11.184946236559139,
         "  FM": 11.781935483870978,
         " SDK": 7.181064516129037,
         "  NM": 5.039426523297488,
         " VPM": 10.984229390681007,
         "  PM": 1002.9644802867393,
         " TMK": 14.949462365591396,
         " UPM": 65.85372759856631,
         " TXK": 20.392114695340496,
         " TNK": 9.088172043010752,
         " TGK": 7.207168458781367,
         "WIND_CHILL": 14.381602861016946,
         " RSK": 60.05555555555557,
         "SHK_TAG": 0,
         "_deepnote_index_column": "('Frankfurt', 'May')"
        },
        {
         "STATIONS_ID": 1420,
         "  FX": 11.37037037037036,
         "  FM": 11.655999999999999,
         " SDK": 7.648770370370372,
         "  NM": 4.81333333333333,
         " VPM": 13.855555555555556,
         "  PM": 1003.3139259259266,
         " TMK": 18.9525925925926,
         " UPM": 65.14288888888882,
         " TXK": 24.558518518518525,
         " TNK": 13.10740740740741,
         " TGK": 11.437777777777775,
         "WIND_CHILL": 19.26359346834342,
         " RSK": 57.73333333333335,
         "SHK_TAG": 0,
         "_deepnote_index_column": "('Frankfurt', 'June')"
        },
        {
         "STATIONS_ID": 1420,
         "  FX": 11.540501792114691,
         "  FM": 11.678709677419354,
         " SDK": 8.097724014336919,
         "  NM": 4.613620071684584,
         " VPM": 14.700716845878135,
         "  PM": 1003.4044802867385,
         " TMK": 21.264516129032273,
         " UPM": 60.79465949820784,
         " TXK": 27.14659498207883,
         " TNK": 15.238351254480284,
         " TGK": 13.61254480286739,
         "WIND_CHILL": 21.98618013122341,
         " RSK": 50.71111111111114,
         "SHK_TAG": 0,
         "_deepnote_index_column": "('Frankfurt', 'July')"
        },
        {
         "STATIONS_ID": 1420,
         "  FX": 10.755197132616479,
         "  FM": 10.588387096774198,
         " SDK": 7.365537634408601,
         "  NM": 4.637275985663079,
         " VPM": 15.103584229390677,
         "  PM": 1003.8343010752691,
         " TMK": 20.43584229390681,
         " UPM": 65.3213261648745,
         " TXK": 26.45913978494625,
         " TNK": 14.733691756272398,
         " TGK": 13.129390681003581,
         "WIND_CHILL": 21.099381332138886,
         " RSK": 62.900000000000006,
         "SHK_TAG": 0,
         "_deepnote_index_column": "('Frankfurt', 'August')"
        }
       ]
      },
      "text/plain": "                         STATIONS_ID         FX         FM       SDK  \\\nSTATIONS_NAME MONTH                                                    \nDüsseldorf    January           1078  11.693548  17.116129  1.581835   \n              February          1078  11.846275  17.443765  3.022667   \n              March             1078  11.415771  15.521290  4.360025   \n              April             1078  10.637778  13.212000  5.844378   \n              May               1078  10.335125  12.456774  6.769412   \n              June              1078  10.477778  12.738667  6.533400   \n              July              1078  10.423656  12.179355  7.053086   \n              August            1078  10.539427  12.641290  6.733444   \n              September         1078   9.508519  12.201333  5.295915   \n              October           1078  10.542294  14.830968  3.206190   \n              November          1078  10.800000  15.560000  2.212081   \n              December          1078  11.875986  17.850323  1.437695   \nFrankfurt     January           1420  11.000717  13.525161  1.527652   \n              February          1420  11.278431  13.636235  2.935553   \n              March             1420  11.438351  13.308387  4.825756   \n              April             1420  11.247778  12.200000  6.737156   \n              May               1420  11.184946  11.781935  7.181065   \n              June              1420  11.370370  11.656000  7.648770   \n              July              1420  11.540502  11.678710  8.097724   \n              August            1420  10.755197  10.588387  7.365538   \n\n                               NM        VPM           PM        TMK  \\\nSTATIONS_NAME MONTH                                                    \nDüsseldorf    January    6.141219   6.989247  1010.991971   3.970609   \n              February   5.409412   6.496471  1011.516588   3.991373   \n              March      5.219355   7.200358  1011.045591   6.939427   \n              April      4.867407   8.480741  1010.228667  10.635556   \n              May        4.958065  10.892473  1011.035448  14.222939   \n              June       5.047037  13.634444  1011.169556  17.809630   \n              July       4.706810  15.070609  1011.221219  19.805735   \n              August     4.701075  15.133692  1011.149892  19.468100   \n              September  4.762963  13.000741  1012.584074  15.454074   \n              October    5.595341  11.376703  1011.118208  11.912545   \n              November   5.852222   8.875926  1009.650630   7.464074   \n              December   6.263441   7.962366  1012.000358   5.705735   \nFrankfurt     January    6.294982   6.541577  1004.512222   3.092832   \n              February   5.616863   6.080784  1004.667333   3.250588   \n              March      5.086380   6.905735  1003.544588   6.987455   \n              April      4.798148   8.171111  1002.312963  11.377778   \n              May        5.039427  10.984229  1002.964480  14.949462   \n              June       4.813333  13.855556  1003.313926  18.952593   \n              July       4.613620  14.700717  1003.404480  21.264516   \n              August     4.637276  15.103584  1003.834301  20.435842   \n\n                               UPM        TXK        TNK        TGK  \\\nSTATIONS_NAME MONTH                                                   \nDüsseldorf    January    83.397706   6.501792   1.015771  -0.874910   \n              February   77.373451   7.401569   0.441961  -1.871373   \n              March      72.021147  11.397133   2.167025  -0.620430   \n              April      66.945185  15.914444   4.586667   1.567407   \n              May        68.090179  19.577419   8.169534   5.490681   \n              June       68.230704  22.987778  12.093333   9.670741   \n              July       67.276738  25.258423  13.881720  11.645878   \n              August     68.862473  24.952688  13.735125  11.435125   \n              September  75.002481  20.686296  10.261852   7.635185   \n              October    80.928566  15.699283   8.069892   5.913262   \n              November   84.100037  10.486296   4.155556   2.199630   \n              December   85.035018   8.055197   2.967025   1.212186   \nFrankfurt     January    83.255412   5.655556   0.268817  -1.280645   \n              February   75.927255   6.896078  -0.396863  -2.278039   \n              March      69.094050  11.811828   2.000000  -0.135484   \n              April      62.003111  17.085185   5.409259   3.072963   \n              May        65.853728  20.392115   9.088172   7.207168   \n              June       65.142889  24.558519  13.107407  11.437778   \n              July       60.794659  27.146595  15.238351  13.612545   \n              August     65.321326  26.459140  14.733692  13.129391   \n\n                         WIND_CHILL        RSK    SHK_TAG  \nSTATIONS_NAME MONTH                                        \nDüsseldorf    January      0.475374  62.033333  15.222222  \n              February     0.423264  55.366667   3.888889  \n              March        4.339778  46.133333   1.777778  \n              April        9.027556  34.555556   0.000000  \n              May         13.452279  63.366667   0.000000  \n              June        17.777458  63.577778   0.000000  \n              July        20.238485  56.866667   0.000000  \n              August      19.813999  65.222222   0.000000  \n              September   14.999510  49.200000   0.000000  \n              October     10.457822  53.311111   0.000000  \n              November     4.947968  52.855556   0.000000  \n              December     2.443990  72.288889   3.333333  \nFrankfurt     January      0.062065  48.244444  11.222222  \n              February     0.159472  33.966667   5.444444  \n              March        4.682214  33.555556   7.666667  \n              April       10.029270  35.544444   0.000000  \n              May         14.381603  60.055556   0.000000  \n              June        19.263593  57.733333   0.000000  \n              July        21.986180  50.711111   0.000000  \n              August      21.099381  62.900000   0.000000  ",
      "text/html": "<div>\n<style scoped>\n    .dataframe tbody tr th:only-of-type {\n        vertical-align: middle;\n    }\n\n    .dataframe tbody tr th {\n        vertical-align: top;\n    }\n\n    .dataframe thead th {\n        text-align: right;\n    }\n</style>\n<table border=\"1\" class=\"dataframe\">\n  <thead>\n    <tr style=\"text-align: right;\">\n      <th></th>\n      <th></th>\n      <th>STATIONS_ID</th>\n      <th>FX</th>\n      <th>FM</th>\n      <th>SDK</th>\n      <th>NM</th>\n      <th>VPM</th>\n      <th>PM</th>\n      <th>TMK</th>\n      <th>UPM</th>\n      <th>TXK</th>\n      <th>TNK</th>\n      <th>TGK</th>\n      <th>WIND_CHILL</th>\n      <th>RSK</th>\n      <th>SHK_TAG</th>\n    </tr>\n    <tr>\n      <th>STATIONS_NAME</th>\n      <th>MONTH</th>\n      <th></th>\n      <th></th>\n      <th></th>\n      <th></th>\n      <th></th>\n      <th></th>\n      <th></th>\n      <th></th>\n      <th></th>\n      <th></th>\n      <th></th>\n      <th></th>\n      <th></th>\n      <th></th>\n      <th></th>\n    </tr>\n  </thead>\n  <tbody>\n    <tr>\n      <th rowspan=\"12\" valign=\"top\">Düsseldorf</th>\n      <th>January</th>\n      <td>1078</td>\n      <td>11.693548</td>\n      <td>17.116129</td>\n      <td>1.581835</td>\n      <td>6.141219</td>\n      <td>6.989247</td>\n      <td>1010.991971</td>\n      <td>3.970609</td>\n      <td>83.397706</td>\n      <td>6.501792</td>\n      <td>1.015771</td>\n      <td>-0.874910</td>\n      <td>0.475374</td>\n      <td>62.033333</td>\n      <td>15.222222</td>\n    </tr>\n    <tr>\n      <th>February</th>\n      <td>1078</td>\n      <td>11.846275</td>\n      <td>17.443765</td>\n      <td>3.022667</td>\n      <td>5.409412</td>\n      <td>6.496471</td>\n      <td>1011.516588</td>\n      <td>3.991373</td>\n      <td>77.373451</td>\n      <td>7.401569</td>\n      <td>0.441961</td>\n      <td>-1.871373</td>\n      <td>0.423264</td>\n      <td>55.366667</td>\n      <td>3.888889</td>\n    </tr>\n    <tr>\n      <th>March</th>\n      <td>1078</td>\n      <td>11.415771</td>\n      <td>15.521290</td>\n      <td>4.360025</td>\n      <td>5.219355</td>\n      <td>7.200358</td>\n      <td>1011.045591</td>\n      <td>6.939427</td>\n      <td>72.021147</td>\n      <td>11.397133</td>\n      <td>2.167025</td>\n      <td>-0.620430</td>\n      <td>4.339778</td>\n      <td>46.133333</td>\n      <td>1.777778</td>\n    </tr>\n    <tr>\n      <th>April</th>\n      <td>1078</td>\n      <td>10.637778</td>\n      <td>13.212000</td>\n      <td>5.844378</td>\n      <td>4.867407</td>\n      <td>8.480741</td>\n      <td>1010.228667</td>\n      <td>10.635556</td>\n      <td>66.945185</td>\n      <td>15.914444</td>\n      <td>4.586667</td>\n      <td>1.567407</td>\n      <td>9.027556</td>\n      <td>34.555556</td>\n      <td>0.000000</td>\n    </tr>\n    <tr>\n      <th>May</th>\n      <td>1078</td>\n      <td>10.335125</td>\n      <td>12.456774</td>\n      <td>6.769412</td>\n      <td>4.958065</td>\n      <td>10.892473</td>\n      <td>1011.035448</td>\n      <td>14.222939</td>\n      <td>68.090179</td>\n      <td>19.577419</td>\n      <td>8.169534</td>\n      <td>5.490681</td>\n      <td>13.452279</td>\n      <td>63.366667</td>\n      <td>0.000000</td>\n    </tr>\n    <tr>\n      <th>June</th>\n      <td>1078</td>\n      <td>10.477778</td>\n      <td>12.738667</td>\n      <td>6.533400</td>\n      <td>5.047037</td>\n      <td>13.634444</td>\n      <td>1011.169556</td>\n      <td>17.809630</td>\n      <td>68.230704</td>\n      <td>22.987778</td>\n      <td>12.093333</td>\n      <td>9.670741</td>\n      <td>17.777458</td>\n      <td>63.577778</td>\n      <td>0.000000</td>\n    </tr>\n    <tr>\n      <th>July</th>\n      <td>1078</td>\n      <td>10.423656</td>\n      <td>12.179355</td>\n      <td>7.053086</td>\n      <td>4.706810</td>\n      <td>15.070609</td>\n      <td>1011.221219</td>\n      <td>19.805735</td>\n      <td>67.276738</td>\n      <td>25.258423</td>\n      <td>13.881720</td>\n      <td>11.645878</td>\n      <td>20.238485</td>\n      <td>56.866667</td>\n      <td>0.000000</td>\n    </tr>\n    <tr>\n      <th>August</th>\n      <td>1078</td>\n      <td>10.539427</td>\n      <td>12.641290</td>\n      <td>6.733444</td>\n      <td>4.701075</td>\n      <td>15.133692</td>\n      <td>1011.149892</td>\n      <td>19.468100</td>\n      <td>68.862473</td>\n      <td>24.952688</td>\n      <td>13.735125</td>\n      <td>11.435125</td>\n      <td>19.813999</td>\n      <td>65.222222</td>\n      <td>0.000000</td>\n    </tr>\n    <tr>\n      <th>September</th>\n      <td>1078</td>\n      <td>9.508519</td>\n      <td>12.201333</td>\n      <td>5.295915</td>\n      <td>4.762963</td>\n      <td>13.000741</td>\n      <td>1012.584074</td>\n      <td>15.454074</td>\n      <td>75.002481</td>\n      <td>20.686296</td>\n      <td>10.261852</td>\n      <td>7.635185</td>\n      <td>14.999510</td>\n      <td>49.200000</td>\n      <td>0.000000</td>\n    </tr>\n    <tr>\n      <th>October</th>\n      <td>1078</td>\n      <td>10.542294</td>\n      <td>14.830968</td>\n      <td>3.206190</td>\n      <td>5.595341</td>\n      <td>11.376703</td>\n      <td>1011.118208</td>\n      <td>11.912545</td>\n      <td>80.928566</td>\n      <td>15.699283</td>\n      <td>8.069892</td>\n      <td>5.913262</td>\n      <td>10.457822</td>\n      <td>53.311111</td>\n      <td>0.000000</td>\n    </tr>\n    <tr>\n      <th>November</th>\n      <td>1078</td>\n      <td>10.800000</td>\n      <td>15.560000</td>\n      <td>2.212081</td>\n      <td>5.852222</td>\n      <td>8.875926</td>\n      <td>1009.650630</td>\n      <td>7.464074</td>\n      <td>84.100037</td>\n      <td>10.486296</td>\n      <td>4.155556</td>\n      <td>2.199630</td>\n      <td>4.947968</td>\n      <td>52.855556</td>\n      <td>0.000000</td>\n    </tr>\n    <tr>\n      <th>December</th>\n      <td>1078</td>\n      <td>11.875986</td>\n      <td>17.850323</td>\n      <td>1.437695</td>\n      <td>6.263441</td>\n      <td>7.962366</td>\n      <td>1012.000358</td>\n      <td>5.705735</td>\n      <td>85.035018</td>\n      <td>8.055197</td>\n      <td>2.967025</td>\n      <td>1.212186</td>\n      <td>2.443990</td>\n      <td>72.288889</td>\n      <td>3.333333</td>\n    </tr>\n    <tr>\n      <th rowspan=\"8\" valign=\"top\">Frankfurt</th>\n      <th>January</th>\n      <td>1420</td>\n      <td>11.000717</td>\n      <td>13.525161</td>\n      <td>1.527652</td>\n      <td>6.294982</td>\n      <td>6.541577</td>\n      <td>1004.512222</td>\n      <td>3.092832</td>\n      <td>83.255412</td>\n      <td>5.655556</td>\n      <td>0.268817</td>\n      <td>-1.280645</td>\n      <td>0.062065</td>\n      <td>48.244444</td>\n      <td>11.222222</td>\n    </tr>\n    <tr>\n      <th>February</th>\n      <td>1420</td>\n      <td>11.278431</td>\n      <td>13.636235</td>\n      <td>2.935553</td>\n      <td>5.616863</td>\n      <td>6.080784</td>\n      <td>1004.667333</td>\n      <td>3.250588</td>\n      <td>75.927255</td>\n      <td>6.896078</td>\n      <td>-0.396863</td>\n      <td>-2.278039</td>\n      <td>0.159472</td>\n      <td>33.966667</td>\n      <td>5.444444</td>\n    </tr>\n    <tr>\n      <th>March</th>\n      <td>1420</td>\n      <td>11.438351</td>\n      <td>13.308387</td>\n      <td>4.825756</td>\n      <td>5.086380</td>\n      <td>6.905735</td>\n      <td>1003.544588</td>\n      <td>6.987455</td>\n      <td>69.094050</td>\n      <td>11.811828</td>\n      <td>2.000000</td>\n      <td>-0.135484</td>\n      <td>4.682214</td>\n      <td>33.555556</td>\n      <td>7.666667</td>\n    </tr>\n    <tr>\n      <th>April</th>\n      <td>1420</td>\n      <td>11.247778</td>\n      <td>12.200000</td>\n      <td>6.737156</td>\n      <td>4.798148</td>\n      <td>8.171111</td>\n      <td>1002.312963</td>\n      <td>11.377778</td>\n      <td>62.003111</td>\n      <td>17.085185</td>\n      <td>5.409259</td>\n      <td>3.072963</td>\n      <td>10.029270</td>\n      <td>35.544444</td>\n      <td>0.000000</td>\n    </tr>\n    <tr>\n      <th>May</th>\n      <td>1420</td>\n      <td>11.184946</td>\n      <td>11.781935</td>\n      <td>7.181065</td>\n      <td>5.039427</td>\n      <td>10.984229</td>\n      <td>1002.964480</td>\n      <td>14.949462</td>\n      <td>65.853728</td>\n      <td>20.392115</td>\n      <td>9.088172</td>\n      <td>7.207168</td>\n      <td>14.381603</td>\n      <td>60.055556</td>\n      <td>0.000000</td>\n    </tr>\n    <tr>\n      <th>June</th>\n      <td>1420</td>\n      <td>11.370370</td>\n      <td>11.656000</td>\n      <td>7.648770</td>\n      <td>4.813333</td>\n      <td>13.855556</td>\n      <td>1003.313926</td>\n      <td>18.952593</td>\n      <td>65.142889</td>\n      <td>24.558519</td>\n      <td>13.107407</td>\n      <td>11.437778</td>\n      <td>19.263593</td>\n      <td>57.733333</td>\n      <td>0.000000</td>\n    </tr>\n    <tr>\n      <th>July</th>\n      <td>1420</td>\n      <td>11.540502</td>\n      <td>11.678710</td>\n      <td>8.097724</td>\n      <td>4.613620</td>\n      <td>14.700717</td>\n      <td>1003.404480</td>\n      <td>21.264516</td>\n      <td>60.794659</td>\n      <td>27.146595</td>\n      <td>15.238351</td>\n      <td>13.612545</td>\n      <td>21.986180</td>\n      <td>50.711111</td>\n      <td>0.000000</td>\n    </tr>\n    <tr>\n      <th>August</th>\n      <td>1420</td>\n      <td>10.755197</td>\n      <td>10.588387</td>\n      <td>7.365538</td>\n      <td>4.637276</td>\n      <td>15.103584</td>\n      <td>1003.834301</td>\n      <td>20.435842</td>\n      <td>65.321326</td>\n      <td>26.459140</td>\n      <td>14.733692</td>\n      <td>13.129391</td>\n      <td>21.099381</td>\n      <td>62.900000</td>\n      <td>0.000000</td>\n    </tr>\n  </tbody>\n</table>\n</div>"
     },
     "metadata": {}
    }
   ]
  },
  {
   "cell_type": "code",
   "metadata": {
    "cell_id": "3f809adc-b3b1-442d-b684-867904f707cc",
    "tags": [],
    "deepnote_to_be_reexecuted": false,
    "source_hash": "df149bb3",
    "execution_start": 1644143281296,
    "execution_millis": 129,
    "deepnote_output_heights": [
     1,
     1
    ],
    "deepnote_cell_type": "code"
   },
   "source": "display(df_rsk.head(n=10))\ndisplay(df_rsk.loc[:,:,8])\n",
   "execution_count": null,
   "outputs": [
    {
     "data": {
      "text/plain": "STATIONS_NAME  MONTH     RSKF\nDüsseldorf     January   0        0.000000\n                         6       46.133333\n                         7        1.977778\n                         8       13.922222\n               February  0        0.000000\n                         6       37.855556\n                         7        0.322222\n                         8       17.188889\n               March     0        0.000000\n                         6       34.622222\nName:  RSK, dtype: float64"
     },
     "metadata": {},
     "output_type": "display_data"
    },
    {
     "data": {
      "text/plain": "STATIONS_NAME  MONTH   \nDüsseldorf     January     13.922222\n               February    17.188889\n               March       10.722222\n               April        6.166667\n               May          7.266667\n                             ...    \nMünchen        July         8.288889\n               August       3.488889\n               October      1.244444\n               November     7.722222\n               December     8.622222\nName:  RSK, Length: 61, dtype: float64"
     },
     "metadata": {},
     "output_type": "display_data"
    }
   ]
  },
  {
   "cell_type": "code",
   "metadata": {
    "cell_id": "bad76aba-9767-40f5-8e4e-d13b262b58fa",
    "tags": [],
    "deepnote_to_be_reexecuted": false,
    "source_hash": "33749044",
    "execution_start": 1644143281323,
    "execution_millis": 985,
    "deepnote_output_heights": [
     1,
     199
    ],
    "deepnote_cell_type": "code"
   },
   "source": "df_rsk.loc[\"München\"].unstack().plot(kind='bar', stacked=False)\n",
   "execution_count": null,
   "outputs": [
    {
     "output_type": "execute_result",
     "execution_count": 13,
     "data": {
      "text/plain": "<AxesSubplot:xlabel='MONTH'>"
     },
     "metadata": {}
    },
    {
     "data": {
      "text/plain": "<Figure size 432x288 with 1 Axes>",
      "image/png": "[encoded data removed]"
     },
     "metadata": {
      "needs_background": "light",
      "image/png": {
       "width": 375,
       "height": 310
      }
     },
     "output_type": "display_data"
    }
   ]
  },
  {
   "cell_type": "markdown",
   "source": "## Statistical Overview",
   "metadata": {
    "cell_id": "00009-711879da-0bc7-42a4-a56e-df0617050896",
    "deepnote_cell_type": "markdown"
   }
  },
  {
   "cell_type": "code",
   "metadata": {
    "cell_id": "00010-49249f26-5023-4421-8e0b-476184f6ce22",
    "deepnote_output_heights": [
     1,
     null,
     null,
     1,
     null,
     null,
     1,
     null,
     null,
     1,
     null,
     null,
     1,
     null,
     null,
     1
    ],
    "deepnote_to_be_reexecuted": false,
    "source_hash": "a55b7dc1",
    "execution_start": 1644143282314,
    "execution_millis": 2605,
    "deepnote_app_is_code_hidden": true,
    "deepnote_cell_type": "code"
   },
   "source": "for cities in df[\"STATIONS_NAME\"].unique():\n    display(cities)\n    display(df[df[\"STATIONS_NAME\"] == cities].describe())\n    print(\"\\n\")",
   "execution_count": null,
   "outputs": [
    {
     "data": {
      "text/plain": "'München'"
     },
     "metadata": {},
     "output_type": "display_data"
    },
    {
     "data": {
      "application/vnd.deepnote.dataframe.v2+json": {
       "row_count": 8,
       "column_count": 19,
       "columns": [
        {
         "name": "STATIONS_ID",
         "dtype": "float64",
         "stats": {
          "unique_count": 3,
          "nan_count": 0,
          "min": "0.0",
          "max": "3288.0",
          "histogram": [
           {
            "bin_start": 0,
            "bin_end": 328.8,
            "count": 1
           },
           {
            "bin_start": 328.8,
            "bin_end": 657.6,
            "count": 0
           },
           {
            "bin_start": 657.6,
            "bin_end": 986.4000000000001,
            "count": 0
           },
           {
            "bin_start": 986.4000000000001,
            "bin_end": 1315.2,
            "count": 6
           },
           {
            "bin_start": 1315.2,
            "bin_end": 1644,
            "count": 0
           },
           {
            "bin_start": 1644,
            "bin_end": 1972.8000000000002,
            "count": 0
           },
           {
            "bin_start": 1972.8000000000002,
            "bin_end": 2301.6,
            "count": 0
           },
           {
            "bin_start": 2301.6,
            "bin_end": 2630.4,
            "count": 0
           },
           {
            "bin_start": 2630.4,
            "bin_end": 2959.2000000000003,
            "count": 0
           },
           {
            "bin_start": 2959.2000000000003,
            "bin_end": 3288,
            "count": 1
           }
          ]
         }
        },
        {
         "name": "QN_3",
         "dtype": "float64",
         "stats": {
          "unique_count": 5,
          "nan_count": 0,
          "min": "0.9447060219666933",
          "max": "3288.0",
          "histogram": [
           {
            "bin_start": 0.9447060219666933,
            "bin_end": 329.65023541977,
            "count": 7
           },
           {
            "bin_start": 329.65023541977,
            "bin_end": 658.3557648175733,
            "count": 0
           },
           {
            "bin_start": 658.3557648175733,
            "bin_end": 987.0612942153767,
            "count": 0
           },
           {
            "bin_start": 987.0612942153767,
            "bin_end": 1315.7668236131801,
            "count": 0
           },
           {
            "bin_start": 1315.7668236131801,
            "bin_end": 1644.4723530109834,
            "count": 0
           },
           {
            "bin_start": 1644.4723530109834,
            "bin_end": 1973.177882408787,
            "count": 0
           },
           {
            "bin_start": 1973.177882408787,
            "bin_end": 2301.88341180659,
            "count": 0
           },
           {
            "bin_start": 2301.88341180659,
            "bin_end": 2630.5889412043934,
            "count": 0
           },
           {
            "bin_start": 2630.5889412043934,
            "bin_end": 2959.2944706021967,
            "count": 0
           },
           {
            "bin_start": 2959.2944706021967,
            "bin_end": 3288,
            "count": 1
           }
          ]
         }
        },
        {
         "name": "  FX",
         "dtype": "float64",
         "stats": {
          "unique_count": 8,
          "nan_count": 0,
          "min": "0.0",
          "max": "3288.0",
          "histogram": [
           {
            "bin_start": 0,
            "bin_end": 328.8,
            "count": 7
           },
           {
            "bin_start": 328.8,
            "bin_end": 657.6,
            "count": 0
           },
           {
            "bin_start": 657.6,
            "bin_end": 986.4000000000001,
            "count": 0
           },
           {
            "bin_start": 986.4000000000001,
            "bin_end": 1315.2,
            "count": 0
           },
           {
            "bin_start": 1315.2,
            "bin_end": 1644,
            "count": 0
           },
           {
            "bin_start": 1644,
            "bin_end": 1972.8000000000002,
            "count": 0
           },
           {
            "bin_start": 1972.8000000000002,
            "bin_end": 2301.6,
            "count": 0
           },
           {
            "bin_start": 2301.6,
            "bin_end": 2630.4,
            "count": 0
           },
           {
            "bin_start": 2630.4,
            "bin_end": 2959.2000000000003,
            "count": 0
           },
           {
            "bin_start": 2959.2000000000003,
            "bin_end": 3288,
            "count": 1
           }
          ]
         }
        },
        {
         "name": "  FM",
         "dtype": "float64",
         "stats": {
          "unique_count": 8,
          "nan_count": 0,
          "min": "0.0",
          "max": "3288.0",
          "histogram": [
           {
            "bin_start": 0,
            "bin_end": 328.8,
            "count": 7
           },
           {
            "bin_start": 328.8,
            "bin_end": 657.6,
            "count": 0
           },
           {
            "bin_start": 657.6,
            "bin_end": 986.4000000000001,
            "count": 0
           },
           {
            "bin_start": 986.4000000000001,
            "bin_end": 1315.2,
            "count": 0
           },
           {
            "bin_start": 1315.2,
            "bin_end": 1644,
            "count": 0
           },
           {
            "bin_start": 1644,
            "bin_end": 1972.8000000000002,
            "count": 0
           },
           {
            "bin_start": 1972.8000000000002,
            "bin_end": 2301.6,
            "count": 0
           },
           {
            "bin_start": 2301.6,
            "bin_end": 2630.4,
            "count": 0
           },
           {
            "bin_start": 2630.4,
            "bin_end": 2959.2000000000003,
            "count": 0
           },
           {
            "bin_start": 2959.2000000000003,
            "bin_end": 3288,
            "count": 1
           }
          ]
         }
        },
        {
         "name": "QN_4",
         "dtype": "float64",
         "stats": {
          "unique_count": 5,
          "nan_count": 0,
          "min": "3.0",
          "max": "3288.0",
          "histogram": [
           {
            "bin_start": 3,
            "bin_end": 331.5,
            "count": 7
           },
           {
            "bin_start": 331.5,
            "bin_end": 660,
            "count": 0
           },
           {
            "bin_start": 660,
            "bin_end": 988.5,
            "count": 0
           },
           {
            "bin_start": 988.5,
            "bin_end": 1317,
            "count": 0
           },
           {
            "bin_start": 1317,
            "bin_end": 1645.5,
            "count": 0
           },
           {
            "bin_start": 1645.5,
            "bin_end": 1974,
            "count": 0
           },
           {
            "bin_start": 1974,
            "bin_end": 2302.5,
            "count": 0
           },
           {
            "bin_start": 2302.5,
            "bin_end": 2631,
            "count": 0
           },
           {
            "bin_start": 2631,
            "bin_end": 2959.5,
            "count": 0
           },
           {
            "bin_start": 2959.5,
            "bin_end": 3288,
            "count": 1
           }
          ]
         }
        },
        {
         "name": " RSK",
         "dtype": "float64",
         "stats": {
          "unique_count": 6,
          "nan_count": 0,
          "min": "0.0",
          "max": "3288.0",
          "histogram": [
           {
            "bin_start": 0,
            "bin_end": 328.8,
            "count": 7
           },
           {
            "bin_start": 328.8,
            "bin_end": 657.6,
            "count": 0
           },
           {
            "bin_start": 657.6,
            "bin_end": 986.4000000000001,
            "count": 0
           },
           {
            "bin_start": 986.4000000000001,
            "bin_end": 1315.2,
            "count": 0
           },
           {
            "bin_start": 1315.2,
            "bin_end": 1644,
            "count": 0
           },
           {
            "bin_start": 1644,
            "bin_end": 1972.8000000000002,
            "count": 0
           },
           {
            "bin_start": 1972.8000000000002,
            "bin_end": 2301.6,
            "count": 0
           },
           {
            "bin_start": 2301.6,
            "bin_end": 2630.4,
            "count": 0
           },
           {
            "bin_start": 2630.4,
            "bin_end": 2959.2000000000003,
            "count": 0
           },
           {
            "bin_start": 2959.2000000000003,
            "bin_end": 3288,
            "count": 1
           }
          ]
         }
        },
        {
         "name": "RSKF",
         "dtype": "float64",
         "stats": {
          "unique_count": 6,
          "nan_count": 0,
          "min": "0.0",
          "max": "3288.0",
          "histogram": [
           {
            "bin_start": 0,
            "bin_end": 328.8,
            "count": 7
           },
           {
            "bin_start": 328.8,
            "bin_end": 657.6,
            "count": 0
           },
           {
            "bin_start": 657.6,
            "bin_end": 986.4000000000001,
            "count": 0
           },
           {
            "bin_start": 986.4000000000001,
            "bin_end": 1315.2,
            "count": 0
           },
           {
            "bin_start": 1315.2,
            "bin_end": 1644,
            "count": 0
           },
           {
            "bin_start": 1644,
            "bin_end": 1972.8000000000002,
            "count": 0
           },
           {
            "bin_start": 1972.8000000000002,
            "bin_end": 2301.6,
            "count": 0
           },
           {
            "bin_start": 2301.6,
            "bin_end": 2630.4,
            "count": 0
           },
           {
            "bin_start": 2630.4,
            "bin_end": 2959.2000000000003,
            "count": 0
           },
           {
            "bin_start": 2959.2000000000003,
            "bin_end": 3288,
            "count": 1
           }
          ]
         }
        },
        {
         "name": " SDK",
         "dtype": "float64",
         "stats": {
          "unique_count": 8,
          "nan_count": 0,
          "min": "0.0",
          "max": "3288.0",
          "histogram": [
           {
            "bin_start": 0,
            "bin_end": 328.8,
            "count": 7
           },
           {
            "bin_start": 328.8,
            "bin_end": 657.6,
            "count": 0
           },
           {
            "bin_start": 657.6,
            "bin_end": 986.4000000000001,
            "count": 0
           },
           {
            "bin_start": 986.4000000000001,
            "bin_end": 1315.2,
            "count": 0
           },
           {
            "bin_start": 1315.2,
            "bin_end": 1644,
            "count": 0
           },
           {
            "bin_start": 1644,
            "bin_end": 1972.8000000000002,
            "count": 0
           },
           {
            "bin_start": 1972.8000000000002,
            "bin_end": 2301.6,
            "count": 0
           },
           {
            "bin_start": 2301.6,
            "bin_end": 2630.4,
            "count": 0
           },
           {
            "bin_start": 2630.4,
            "bin_end": 2959.2000000000003,
            "count": 0
           },
           {
            "bin_start": 2959.2000000000003,
            "bin_end": 3288,
            "count": 1
           }
          ]
         }
        },
        {
         "name": "SHK_TAG",
         "dtype": "float64",
         "stats": {
          "unique_count": 5,
          "nan_count": 0,
          "min": "0.0",
          "max": "3288.0",
          "histogram": [
           {
            "bin_start": 0,
            "bin_end": 328.8,
            "count": 7
           },
           {
            "bin_start": 328.8,
            "bin_end": 657.6,
            "count": 0
           },
           {
            "bin_start": 657.6,
            "bin_end": 986.4000000000001,
            "count": 0
           },
           {
            "bin_start": 986.4000000000001,
            "bin_end": 1315.2,
            "count": 0
           },
           {
            "bin_start": 1315.2,
            "bin_end": 1644,
            "count": 0
           },
           {
            "bin_start": 1644,
            "bin_end": 1972.8000000000002,
            "count": 0
           },
           {
            "bin_start": 1972.8000000000002,
            "bin_end": 2301.6,
            "count": 0
           },
           {
            "bin_start": 2301.6,
            "bin_end": 2630.4,
            "count": 0
           },
           {
            "bin_start": 2630.4,
            "bin_end": 2959.2000000000003,
            "count": 0
           },
           {
            "bin_start": 2959.2000000000003,
            "bin_end": 3288,
            "count": 1
           }
          ]
         }
        },
        {
         "name": "  NM",
         "dtype": "float64",
         "stats": {
          "unique_count": 8,
          "nan_count": 0,
          "min": "0.0",
          "max": "3288.0",
          "histogram": [
           {
            "bin_start": 0,
            "bin_end": 328.8,
            "count": 7
           },
           {
            "bin_start": 328.8,
            "bin_end": 657.6,
            "count": 0
           },
           {
            "bin_start": 657.6,
            "bin_end": 986.4000000000001,
            "count": 0
           },
           {
            "bin_start": 986.4000000000001,
            "bin_end": 1315.2,
            "count": 0
           },
           {
            "bin_start": 1315.2,
            "bin_end": 1644,
            "count": 0
           },
           {
            "bin_start": 1644,
            "bin_end": 1972.8000000000002,
            "count": 0
           },
           {
            "bin_start": 1972.8000000000002,
            "bin_end": 2301.6,
            "count": 0
           },
           {
            "bin_start": 2301.6,
            "bin_end": 2630.4,
            "count": 0
           },
           {
            "bin_start": 2630.4,
            "bin_end": 2959.2000000000003,
            "count": 0
           },
           {
            "bin_start": 2959.2000000000003,
            "bin_end": 3288,
            "count": 1
           }
          ]
         }
        },
        {
         "name": " VPM",
         "dtype": "float64",
         "stats": {
          "unique_count": 8,
          "nan_count": 0,
          "min": "1.4",
          "max": "3288.0",
          "histogram": [
           {
            "bin_start": 1.4,
            "bin_end": 330.05999999999995,
            "count": 7
           },
           {
            "bin_start": 330.05999999999995,
            "bin_end": 658.7199999999999,
            "count": 0
           },
           {
            "bin_start": 658.7199999999999,
            "bin_end": 987.3799999999999,
            "count": 0
           },
           {
            "bin_start": 987.3799999999999,
            "bin_end": 1316.04,
            "count": 0
           },
           {
            "bin_start": 1316.04,
            "bin_end": 1644.6999999999998,
            "count": 0
           },
           {
            "bin_start": 1644.6999999999998,
            "bin_end": 1973.36,
            "count": 0
           },
           {
            "bin_start": 1973.36,
            "bin_end": 2302.02,
            "count": 0
           },
           {
            "bin_start": 2302.02,
            "bin_end": 2630.68,
            "count": 0
           },
           {
            "bin_start": 2630.68,
            "bin_end": 2959.3399999999997,
            "count": 0
           },
           {
            "bin_start": 2959.3399999999997,
            "bin_end": 3288,
            "count": 1
           }
          ]
         }
        },
        {
         "name": "  PM",
         "dtype": "float64",
         "stats": {
          "unique_count": 8,
          "nan_count": 0,
          "min": "7.573657461036607",
          "max": "3288.0",
          "histogram": [
           {
            "bin_start": 7.573657461036607,
            "bin_end": 335.61629171493297,
            "count": 1
           },
           {
            "bin_start": 335.61629171493297,
            "bin_end": 663.6589259688294,
            "count": 0
           },
           {
            "bin_start": 663.6589259688294,
            "bin_end": 991.7015602227258,
            "count": 6
           },
           {
            "bin_start": 991.7015602227258,
            "bin_end": 1319.7441944766222,
            "count": 0
           },
           {
            "bin_start": 1319.7441944766222,
            "bin_end": 1647.7868287305184,
            "count": 0
           },
           {
            "bin_start": 1647.7868287305184,
            "bin_end": 1975.829462984415,
            "count": 0
           },
           {
            "bin_start": 1975.829462984415,
            "bin_end": 2303.872097238311,
            "count": 0
           },
           {
            "bin_start": 2303.872097238311,
            "bin_end": 2631.9147314922075,
            "count": 0
           },
           {
            "bin_start": 2631.9147314922075,
            "bin_end": 2959.9573657461037,
            "count": 0
           },
           {
            "bin_start": 2959.9573657461037,
            "bin_end": 3288,
            "count": 1
           }
          ]
         }
        },
        {
         "name": " TMK",
         "dtype": "float64",
         "stats": {
          "unique_count": 8,
          "nan_count": 0,
          "min": "-15.9",
          "max": "3288.0",
          "histogram": [
           {
            "bin_start": -15.9,
            "bin_end": 314.49,
            "count": 7
           },
           {
            "bin_start": 314.49,
            "bin_end": 644.88,
            "count": 0
           },
           {
            "bin_start": 644.88,
            "bin_end": 975.27,
            "count": 0
           },
           {
            "bin_start": 975.27,
            "bin_end": 1305.6599999999999,
            "count": 0
           },
           {
            "bin_start": 1305.6599999999999,
            "bin_end": 1636.0499999999997,
            "count": 0
           },
           {
            "bin_start": 1636.0499999999997,
            "bin_end": 1966.4399999999998,
            "count": 0
           },
           {
            "bin_start": 1966.4399999999998,
            "bin_end": 2296.83,
            "count": 0
           },
           {
            "bin_start": 2296.83,
            "bin_end": 2627.22,
            "count": 0
           },
           {
            "bin_start": 2627.22,
            "bin_end": 2957.6099999999997,
            "count": 0
           },
           {
            "bin_start": 2957.6099999999997,
            "bin_end": 3288,
            "count": 1
           }
          ]
         }
        },
        {
         "name": " UPM",
         "dtype": "float64",
         "stats": {
          "unique_count": 8,
          "nan_count": 0,
          "min": "11.06405432988241",
          "max": "3288.0",
          "histogram": [
           {
            "bin_start": 11.06405432988241,
            "bin_end": 338.7576488968942,
            "count": 7
           },
           {
            "bin_start": 338.7576488968942,
            "bin_end": 666.4512434639059,
            "count": 0
           },
           {
            "bin_start": 666.4512434639059,
            "bin_end": 994.1448380309176,
            "count": 0
           },
           {
            "bin_start": 994.1448380309176,
            "bin_end": 1321.8384325979293,
            "count": 0
           },
           {
            "bin_start": 1321.8384325979293,
            "bin_end": 1649.5320271649412,
            "count": 0
           },
           {
            "bin_start": 1649.5320271649412,
            "bin_end": 1977.2256217319527,
            "count": 0
           },
           {
            "bin_start": 1977.2256217319527,
            "bin_end": 2304.919216298965,
            "count": 0
           },
           {
            "bin_start": 2304.919216298965,
            "bin_end": 2632.6128108659764,
            "count": 0
           },
           {
            "bin_start": 2632.6128108659764,
            "bin_end": 2960.306405432988,
            "count": 0
           },
           {
            "bin_start": 2960.306405432988,
            "bin_end": 3288,
            "count": 1
           }
          ]
         }
        },
        {
         "name": " TXK",
         "dtype": "float64",
         "stats": {
          "unique_count": 8,
          "nan_count": 0,
          "min": "-9.9",
          "max": "3288.0",
          "histogram": [
           {
            "bin_start": -9.9,
            "bin_end": 319.89000000000004,
            "count": 7
           },
           {
            "bin_start": 319.89000000000004,
            "bin_end": 649.6800000000001,
            "count": 0
           },
           {
            "bin_start": 649.6800000000001,
            "bin_end": 979.4700000000001,
            "count": 0
           },
           {
            "bin_start": 979.4700000000001,
            "bin_end": 1309.26,
            "count": 0
           },
           {
            "bin_start": 1309.26,
            "bin_end": 1639.05,
            "count": 0
           },
           {
            "bin_start": 1639.05,
            "bin_end": 1968.8400000000001,
            "count": 0
           },
           {
            "bin_start": 1968.8400000000001,
            "bin_end": 2298.63,
            "count": 0
           },
           {
            "bin_start": 2298.63,
            "bin_end": 2628.42,
            "count": 0
           },
           {
            "bin_start": 2628.42,
            "bin_end": 2958.21,
            "count": 0
           },
           {
            "bin_start": 2958.21,
            "bin_end": 3288,
            "count": 1
           }
          ]
         }
        },
        {
         "name": " TNK",
         "dtype": "float64",
         "stats": {
          "unique_count": 8,
          "nan_count": 0,
          "min": "-23.1",
          "max": "3288.0",
          "histogram": [
           {
            "bin_start": -23.1,
            "bin_end": 308.01,
            "count": 7
           },
           {
            "bin_start": 308.01,
            "bin_end": 639.12,
            "count": 0
           },
           {
            "bin_start": 639.12,
            "bin_end": 970.23,
            "count": 0
           },
           {
            "bin_start": 970.23,
            "bin_end": 1301.3400000000001,
            "count": 0
           },
           {
            "bin_start": 1301.3400000000001,
            "bin_end": 1632.4500000000003,
            "count": 0
           },
           {
            "bin_start": 1632.4500000000003,
            "bin_end": 1963.5600000000002,
            "count": 0
           },
           {
            "bin_start": 1963.5600000000002,
            "bin_end": 2294.67,
            "count": 0
           },
           {
            "bin_start": 2294.67,
            "bin_end": 2625.78,
            "count": 0
           },
           {
            "bin_start": 2625.78,
            "bin_end": 2956.8900000000003,
            "count": 0
           },
           {
            "bin_start": 2956.8900000000003,
            "bin_end": 3288,
            "count": 1
           }
          ]
         }
        },
        {
         "name": " TGK",
         "dtype": "float64",
         "stats": {
          "unique_count": 8,
          "nan_count": 0,
          "min": "-26.9",
          "max": "3288.0",
          "histogram": [
           {
            "bin_start": -26.9,
            "bin_end": 304.59000000000003,
            "count": 7
           },
           {
            "bin_start": 304.59000000000003,
            "bin_end": 636.08,
            "count": 0
           },
           {
            "bin_start": 636.08,
            "bin_end": 967.57,
            "count": 0
           },
           {
            "bin_start": 967.57,
            "bin_end": 1299.06,
            "count": 0
           },
           {
            "bin_start": 1299.06,
            "bin_end": 1630.55,
            "count": 0
           },
           {
            "bin_start": 1630.55,
            "bin_end": 1962.04,
            "count": 0
           },
           {
            "bin_start": 1962.04,
            "bin_end": 2293.53,
            "count": 0
           },
           {
            "bin_start": 2293.53,
            "bin_end": 2625.02,
            "count": 0
           },
           {
            "bin_start": 2625.02,
            "bin_end": 2956.5099999999998,
            "count": 0
           },
           {
            "bin_start": 2956.5099999999998,
            "bin_end": 3288,
            "count": 1
           }
          ]
         }
        },
        {
         "name": "YEAR",
         "dtype": "float64",
         "stats": {
          "unique_count": 7,
          "nan_count": 0,
          "min": "2.5830883848397694",
          "max": "3288.0",
          "histogram": [
           {
            "bin_start": 2.5830883848397694,
            "bin_end": 331.1247795463558,
            "count": 1
           },
           {
            "bin_start": 331.1247795463558,
            "bin_end": 659.6664707078719,
            "count": 0
           },
           {
            "bin_start": 659.6664707078719,
            "bin_end": 988.2081618693879,
            "count": 0
           },
           {
            "bin_start": 988.2081618693879,
            "bin_end": 1316.749853030904,
            "count": 0
           },
           {
            "bin_start": 1316.749853030904,
            "bin_end": 1645.2915441924201,
            "count": 0
           },
           {
            "bin_start": 1645.2915441924201,
            "bin_end": 1973.833235353936,
            "count": 0
           },
           {
            "bin_start": 1973.833235353936,
            "bin_end": 2302.374926515452,
            "count": 6
           },
           {
            "bin_start": 2302.374926515452,
            "bin_end": 2630.916617676968,
            "count": 0
           },
           {
            "bin_start": 2630.916617676968,
            "bin_end": 2959.4583088384843,
            "count": 0
           },
           {
            "bin_start": 2959.4583088384843,
            "bin_end": 3288,
            "count": 1
           }
          ]
         }
        },
        {
         "name": "WIND_CHILL",
         "dtype": "float64",
         "stats": {
          "unique_count": 8,
          "nan_count": 0,
          "min": "-18.500994431783823",
          "max": "3288.0",
          "histogram": [
           {
            "bin_start": -18.500994431783823,
            "bin_end": 312.14910501139457,
            "count": 7
           },
           {
            "bin_start": 312.14910501139457,
            "bin_end": 642.799204454573,
            "count": 0
           },
           {
            "bin_start": 642.799204454573,
            "bin_end": 973.4493038977514,
            "count": 0
           },
           {
            "bin_start": 973.4493038977514,
            "bin_end": 1304.09940334093,
            "count": 0
           },
           {
            "bin_start": 1304.09940334093,
            "bin_end": 1634.7495027841085,
            "count": 0
           },
           {
            "bin_start": 1634.7495027841085,
            "bin_end": 1965.3996022272868,
            "count": 0
           },
           {
            "bin_start": 1965.3996022272868,
            "bin_end": 2296.049701670465,
            "count": 0
           },
           {
            "bin_start": 2296.049701670465,
            "bin_end": 2626.6998011136434,
            "count": 0
           },
           {
            "bin_start": 2626.6998011136434,
            "bin_end": 2957.349900556822,
            "count": 0
           },
           {
            "bin_start": 2957.349900556822,
            "bin_end": 3288,
            "count": 1
           }
          ]
         }
        },
        {
         "name": "_deepnote_index_column",
         "dtype": "object"
        }
       ],
       "rows_top": [
        {
         "STATIONS_ID": 3288,
         "QN_3": 3288,
         "  FX": 3288,
         "  FM": 3288,
         "QN_4": 3288,
         " RSK": 3288,
         "RSKF": 3288,
         " SDK": 3288,
         "SHK_TAG": 3288,
         "  NM": 3288,
         " VPM": 3288,
         "  PM": 3288,
         " TMK": 3288,
         " UPM": 3288,
         " TXK": 3288,
         " TNK": 3288,
         " TGK": 3288,
         "YEAR": 3288,
         "WIND_CHILL": 3288,
         "_deepnote_index_column": "count"
        },
        {
         "STATIONS_ID": 1262,
         "QN_3": 9.870133819951338,
         "  FX": 9.595924574209246,
         "  FM": 10.672007299270073,
         "QN_4": 7.081204379562044,
         " RSK": 1.9782238442822386,
         "RSKF": 3.943734793187348,
         " SDK": 5.197174574209246,
         "SHK_TAG": 0.4096715328467153,
         "  NM": 5.550912408759124,
         " VPM": 9.961648418491485,
         "  PM": 964.5792974452555,
         " TMK": 9.585553527980535,
         " UPM": 79.12698600973236,
         " TXK": 14.623418491484186,
         " TNK": 4.03205596107056,
         " TGK": 2.240298053527981,
         "YEAR": 2016,
         "WIND_CHILL": 8.220036649273318,
         "_deepnote_index_column": "mean"
        },
        {
         "STATIONS_ID": 0,
         "QN_3": 0.9447060219666933,
         "  FX": 4.400739261862236,
         "  FM": 6.3518182433057495,
         "QN_4": 3.4519306921921955,
         " RSK": 4.59448157856117,
         "RSKF": 3.1265077135250876,
         " SDK": 4.686180605505447,
         "SHK_TAG": 1.9528338947907444,
         "  NM": 2.130593160871054,
         " VPM": 4.215144074606493,
         "  PM": 7.573657461036607,
         " TMK": 7.5543128993156206,
         " UPM": 11.06405432988241,
         " TXK": 9.028060181161212,
         " TNK": 6.666509965999683,
         " TGK": 6.985794410782018,
         "YEAR": 2.5830883848397694,
         "WIND_CHILL": 9.075894124528018,
         "_deepnote_index_column": "std"
        },
        {
         "STATIONS_ID": 1262,
         "QN_3": 3,
         "  FX": 0,
         "  FM": 0,
         "QN_4": 3,
         " RSK": 0,
         "RSKF": 0,
         " SDK": 0,
         "SHK_TAG": 0,
         "  NM": 0,
         " VPM": 1.4,
         "  PM": 927.2,
         " TMK": -15.9,
         " UPM": 35,
         " TXK": -9.9,
         " TNK": -23.1,
         " TGK": -26.9,
         "YEAR": 2012,
         "WIND_CHILL": -18.500994431783823,
         "_deepnote_index_column": "min"
        },
        {
         "STATIONS_ID": 1262,
         "QN_3": 10,
         "  FX": 6.5,
         "  FM": 6.48,
         "QN_4": 3,
         " RSK": 0,
         "RSKF": 0,
         " SDK": 0.5,
         "SHK_TAG": 0,
         "  NM": 4.2,
         " VPM": 6.4,
         "  PM": 960.375,
         " TMK": 3.6,
         " UPM": 71,
         " TXK": 7.4,
         " TNK": -0.8,
         " TGK": -2.4,
         "YEAR": 2014,
         "WIND_CHILL": 0.9284392605241365,
         "_deepnote_index_column": "25%"
        },
        {
         "STATIONS_ID": 1262,
         "QN_3": 10,
         "  FX": 8.7,
         "  FM": 9,
         "QN_4": 10,
         " RSK": 0,
         "RSKF": 6,
         " SDK": 4.2,
         "SHK_TAG": 0,
         "  NM": 6.1,
         " VPM": 9.2,
         "  PM": 964.995,
         " TMK": 9.6,
         " UPM": 79.97999999999999,
         " TXK": 14.9,
         " TNK": 4,
         " TGK": 2.1,
         "YEAR": 2016,
         "WIND_CHILL": 8.19738228170225,
         "_deepnote_index_column": "50%"
        },
        {
         "STATIONS_ID": 1262,
         "QN_3": 10,
         "  FX": 11.8,
         "  FM": 12.96,
         "QN_4": 10,
         " RSK": 1.7,
         "RSKF": 6,
         " SDK": 9.233,
         "SHK_TAG": 0,
         "  NM": 7.3,
         " VPM": 13.2,
         "  PM": 969.4,
         " TMK": 15.7,
         " UPM": 88,
         " TXK": 21.7,
         " TNK": 9.4,
         " TGK": 7.7,
         "YEAR": 2018,
         "WIND_CHILL": 15.590736261578439,
         "_deepnote_index_column": "75%"
        },
        {
         "STATIONS_ID": 1262,
         "QN_3": 10,
         "  FX": 33.1,
         "  FM": 53.64,
         "QN_4": 10,
         " RSK": 58,
         "RSKF": 8,
         " SDK": 15.467,
         "SHK_TAG": 20,
         "  NM": 8,
         " VPM": 21.7,
         "  PM": 989.48,
         " TMK": 26.2,
         " UPM": 100,
         " TXK": 35.3,
         " TNK": 19,
         " TGK": 17.5,
         "YEAR": 2020,
         "WIND_CHILL": 28.04641738452238,
         "_deepnote_index_column": "max"
        }
       ],
       "rows_bottom": null
      },
      "text/plain": "       STATIONS_ID         QN_3           FX           FM         QN_4  \\\ncount       3288.0  3288.000000  3288.000000  3288.000000  3288.000000   \nmean        1262.0     9.870134     9.595925    10.672007     7.081204   \nstd            0.0     0.944706     4.400739     6.351818     3.451931   \nmin         1262.0     3.000000     0.000000     0.000000     3.000000   \n25%         1262.0    10.000000     6.500000     6.480000     3.000000   \n50%         1262.0    10.000000     8.700000     9.000000    10.000000   \n75%         1262.0    10.000000    11.800000    12.960000    10.000000   \nmax         1262.0    10.000000    33.100000    53.640000    10.000000   \n\n               RSK         RSKF          SDK      SHK_TAG           NM  \\\ncount  3288.000000  3288.000000  3288.000000  3288.000000  3288.000000   \nmean      1.978224     3.943735     5.197175     0.409672     5.550912   \nstd       4.594482     3.126508     4.686181     1.952834     2.130593   \nmin       0.000000     0.000000     0.000000     0.000000     0.000000   \n25%       0.000000     0.000000     0.500000     0.000000     4.200000   \n50%       0.000000     6.000000     4.200000     0.000000     6.100000   \n75%       1.700000     6.000000     9.233000     0.000000     7.300000   \nmax      58.000000     8.000000    15.467000    20.000000     8.000000   \n\n               VPM           PM          TMK          UPM          TXK  \\\ncount  3288.000000  3288.000000  3288.000000  3288.000000  3288.000000   \nmean      9.961648   964.579297     9.585554    79.126986    14.623418   \nstd       4.215144     7.573657     7.554313    11.064054     9.028060   \nmin       1.400000   927.200000   -15.900000    35.000000    -9.900000   \n25%       6.400000   960.375000     3.600000    71.000000     7.400000   \n50%       9.200000   964.995000     9.600000    79.980000    14.900000   \n75%      13.200000   969.400000    15.700000    88.000000    21.700000   \nmax      21.700000   989.480000    26.200000   100.000000    35.300000   \n\n               TNK          TGK         YEAR   WIND_CHILL  \ncount  3288.000000  3288.000000  3288.000000  3288.000000  \nmean      4.032056     2.240298  2016.000000     8.220037  \nstd       6.666510     6.985794     2.583088     9.075894  \nmin     -23.100000   -26.900000  2012.000000   -18.500994  \n25%      -0.800000    -2.400000  2014.000000     0.928439  \n50%       4.000000     2.100000  2016.000000     8.197382  \n75%       9.400000     7.700000  2018.000000    15.590736  \nmax      19.000000    17.500000  2020.000000    28.046417  ",
      "text/html": "<div>\n<style scoped>\n    .dataframe tbody tr th:only-of-type {\n        vertical-align: middle;\n    }\n\n    .dataframe tbody tr th {\n        vertical-align: top;\n    }\n\n    .dataframe thead th {\n        text-align: right;\n    }\n</style>\n<table border=\"1\" class=\"dataframe\">\n  <thead>\n    <tr style=\"text-align: right;\">\n      <th></th>\n      <th>STATIONS_ID</th>\n      <th>QN_3</th>\n      <th>FX</th>\n      <th>FM</th>\n      <th>QN_4</th>\n      <th>RSK</th>\n      <th>RSKF</th>\n      <th>SDK</th>\n      <th>SHK_TAG</th>\n      <th>NM</th>\n      <th>VPM</th>\n      <th>PM</th>\n      <th>TMK</th>\n      <th>UPM</th>\n      <th>TXK</th>\n      <th>TNK</th>\n      <th>TGK</th>\n      <th>YEAR</th>\n      <th>WIND_CHILL</th>\n    </tr>\n  </thead>\n  <tbody>\n    <tr>\n      <th>count</th>\n      <td>3288.0</td>\n      <td>3288.000000</td>\n      <td>3288.000000</td>\n      <td>3288.000000</td>\n      <td>3288.000000</td>\n      <td>3288.000000</td>\n      <td>3288.000000</td>\n      <td>3288.000000</td>\n      <td>3288.000000</td>\n      <td>3288.000000</td>\n      <td>3288.000000</td>\n      <td>3288.000000</td>\n      <td>3288.000000</td>\n      <td>3288.000000</td>\n      <td>3288.000000</td>\n      <td>3288.000000</td>\n      <td>3288.000000</td>\n      <td>3288.000000</td>\n      <td>3288.000000</td>\n    </tr>\n    <tr>\n      <th>mean</th>\n      <td>1262.0</td>\n      <td>9.870134</td>\n      <td>9.595925</td>\n      <td>10.672007</td>\n      <td>7.081204</td>\n      <td>1.978224</td>\n      <td>3.943735</td>\n      <td>5.197175</td>\n      <td>0.409672</td>\n      <td>5.550912</td>\n      <td>9.961648</td>\n      <td>964.579297</td>\n      <td>9.585554</td>\n      <td>79.126986</td>\n      <td>14.623418</td>\n      <td>4.032056</td>\n      <td>2.240298</td>\n      <td>2016.000000</td>\n      <td>8.220037</td>\n    </tr>\n    <tr>\n      <th>std</th>\n      <td>0.0</td>\n      <td>0.944706</td>\n      <td>4.400739</td>\n      <td>6.351818</td>\n      <td>3.451931</td>\n      <td>4.594482</td>\n      <td>3.126508</td>\n      <td>4.686181</td>\n      <td>1.952834</td>\n      <td>2.130593</td>\n      <td>4.215144</td>\n      <td>7.573657</td>\n      <td>7.554313</td>\n      <td>11.064054</td>\n      <td>9.028060</td>\n      <td>6.666510</td>\n      <td>6.985794</td>\n      <td>2.583088</td>\n      <td>9.075894</td>\n    </tr>\n    <tr>\n      <th>min</th>\n      <td>1262.0</td>\n      <td>3.000000</td>\n      <td>0.000000</td>\n      <td>0.000000</td>\n      <td>3.000000</td>\n      <td>0.000000</td>\n      <td>0.000000</td>\n      <td>0.000000</td>\n      <td>0.000000</td>\n      <td>0.000000</td>\n      <td>1.400000</td>\n      <td>927.200000</td>\n      <td>-15.900000</td>\n      <td>35.000000</td>\n      <td>-9.900000</td>\n      <td>-23.100000</td>\n      <td>-26.900000</td>\n      <td>2012.000000</td>\n      <td>-18.500994</td>\n    </tr>\n    <tr>\n      <th>25%</th>\n      <td>1262.0</td>\n      <td>10.000000</td>\n      <td>6.500000</td>\n      <td>6.480000</td>\n      <td>3.000000</td>\n      <td>0.000000</td>\n      <td>0.000000</td>\n      <td>0.500000</td>\n      <td>0.000000</td>\n      <td>4.200000</td>\n      <td>6.400000</td>\n      <td>960.375000</td>\n      <td>3.600000</td>\n      <td>71.000000</td>\n      <td>7.400000</td>\n      <td>-0.800000</td>\n      <td>-2.400000</td>\n      <td>2014.000000</td>\n      <td>0.928439</td>\n    </tr>\n    <tr>\n      <th>50%</th>\n      <td>1262.0</td>\n      <td>10.000000</td>\n      <td>8.700000</td>\n      <td>9.000000</td>\n      <td>10.000000</td>\n      <td>0.000000</td>\n      <td>6.000000</td>\n      <td>4.200000</td>\n      <td>0.000000</td>\n      <td>6.100000</td>\n      <td>9.200000</td>\n      <td>964.995000</td>\n      <td>9.600000</td>\n      <td>79.980000</td>\n      <td>14.900000</td>\n      <td>4.000000</td>\n      <td>2.100000</td>\n      <td>2016.000000</td>\n      <td>8.197382</td>\n    </tr>\n    <tr>\n      <th>75%</th>\n      <td>1262.0</td>\n      <td>10.000000</td>\n      <td>11.800000</td>\n      <td>12.960000</td>\n      <td>10.000000</td>\n      <td>1.700000</td>\n      <td>6.000000</td>\n      <td>9.233000</td>\n      <td>0.000000</td>\n      <td>7.300000</td>\n      <td>13.200000</td>\n      <td>969.400000</td>\n      <td>15.700000</td>\n      <td>88.000000</td>\n      <td>21.700000</td>\n      <td>9.400000</td>\n      <td>7.700000</td>\n      <td>2018.000000</td>\n      <td>15.590736</td>\n    </tr>\n    <tr>\n      <th>max</th>\n      <td>1262.0</td>\n      <td>10.000000</td>\n      <td>33.100000</td>\n      <td>53.640000</td>\n      <td>10.000000</td>\n      <td>58.000000</td>\n      <td>8.000000</td>\n      <td>15.467000</td>\n      <td>20.000000</td>\n      <td>8.000000</td>\n      <td>21.700000</td>\n      <td>989.480000</td>\n      <td>26.200000</td>\n      <td>100.000000</td>\n      <td>35.300000</td>\n      <td>19.000000</td>\n      <td>17.500000</td>\n      <td>2020.000000</td>\n      <td>28.046417</td>\n    </tr>\n  </tbody>\n</table>\n</div>"
     },
     "metadata": {},
     "output_type": "display_data"
    },
    {
     "name": "stdout",
     "text": "\n\n",
     "output_type": "stream"
    },
    {
     "data": {
      "text/plain": "'Köln'"
     },
     "metadata": {},
     "output_type": "display_data"
    },
    {
     "data": {
      "application/vnd.deepnote.dataframe.v2+json": {
       "row_count": 8,
       "column_count": 19,
       "columns": [
        {
         "name": "STATIONS_ID",
         "dtype": "float64",
         "stats": {
          "unique_count": 3,
          "nan_count": 0,
          "min": "0.0",
          "max": "3288.0",
          "histogram": [
           {
            "bin_start": 0,
            "bin_end": 328.8,
            "count": 1
           },
           {
            "bin_start": 328.8,
            "bin_end": 657.6,
            "count": 0
           },
           {
            "bin_start": 657.6,
            "bin_end": 986.4000000000001,
            "count": 0
           },
           {
            "bin_start": 986.4000000000001,
            "bin_end": 1315.2,
            "count": 0
           },
           {
            "bin_start": 1315.2,
            "bin_end": 1644,
            "count": 0
           },
           {
            "bin_start": 1644,
            "bin_end": 1972.8000000000002,
            "count": 0
           },
           {
            "bin_start": 1972.8000000000002,
            "bin_end": 2301.6,
            "count": 0
           },
           {
            "bin_start": 2301.6,
            "bin_end": 2630.4,
            "count": 0
           },
           {
            "bin_start": 2630.4,
            "bin_end": 2959.2000000000003,
            "count": 6
           },
           {
            "bin_start": 2959.2000000000003,
            "bin_end": 3288,
            "count": 1
           }
          ]
         }
        },
        {
         "name": "QN_3",
         "dtype": "float64",
         "stats": {
          "unique_count": 5,
          "nan_count": 0,
          "min": "0.9447060219666933",
          "max": "3288.0",
          "histogram": [
           {
            "bin_start": 0.9447060219666933,
            "bin_end": 329.65023541977,
            "count": 7
           },
           {
            "bin_start": 329.65023541977,
            "bin_end": 658.3557648175733,
            "count": 0
           },
           {
            "bin_start": 658.3557648175733,
            "bin_end": 987.0612942153767,
            "count": 0
           },
           {
            "bin_start": 987.0612942153767,
            "bin_end": 1315.7668236131801,
            "count": 0
           },
           {
            "bin_start": 1315.7668236131801,
            "bin_end": 1644.4723530109834,
            "count": 0
           },
           {
            "bin_start": 1644.4723530109834,
            "bin_end": 1973.177882408787,
            "count": 0
           },
           {
            "bin_start": 1973.177882408787,
            "bin_end": 2301.88341180659,
            "count": 0
           },
           {
            "bin_start": 2301.88341180659,
            "bin_end": 2630.5889412043934,
            "count": 0
           },
           {
            "bin_start": 2630.5889412043934,
            "bin_end": 2959.2944706021967,
            "count": 0
           },
           {
            "bin_start": 2959.2944706021967,
            "bin_end": 3288,
            "count": 1
           }
          ]
         }
        },
        {
         "name": "  FX",
         "dtype": "float64",
         "stats": {
          "unique_count": 8,
          "nan_count": 0,
          "min": "0.0",
          "max": "3288.0",
          "histogram": [
           {
            "bin_start": 0,
            "bin_end": 328.8,
            "count": 7
           },
           {
            "bin_start": 328.8,
            "bin_end": 657.6,
            "count": 0
           },
           {
            "bin_start": 657.6,
            "bin_end": 986.4000000000001,
            "count": 0
           },
           {
            "bin_start": 986.4000000000001,
            "bin_end": 1315.2,
            "count": 0
           },
           {
            "bin_start": 1315.2,
            "bin_end": 1644,
            "count": 0
           },
           {
            "bin_start": 1644,
            "bin_end": 1972.8000000000002,
            "count": 0
           },
           {
            "bin_start": 1972.8000000000002,
            "bin_end": 2301.6,
            "count": 0
           },
           {
            "bin_start": 2301.6,
            "bin_end": 2630.4,
            "count": 0
           },
           {
            "bin_start": 2630.4,
            "bin_end": 2959.2000000000003,
            "count": 0
           },
           {
            "bin_start": 2959.2000000000003,
            "bin_end": 3288,
            "count": 1
           }
          ]
         }
        },
        {
         "name": "  FM",
         "dtype": "float64",
         "stats": {
          "unique_count": 8,
          "nan_count": 0,
          "min": "0.0",
          "max": "3288.0",
          "histogram": [
           {
            "bin_start": 0,
            "bin_end": 328.8,
            "count": 7
           },
           {
            "bin_start": 328.8,
            "bin_end": 657.6,
            "count": 0
           },
           {
            "bin_start": 657.6,
            "bin_end": 986.4000000000001,
            "count": 0
           },
           {
            "bin_start": 986.4000000000001,
            "bin_end": 1315.2,
            "count": 0
           },
           {
            "bin_start": 1315.2,
            "bin_end": 1644,
            "count": 0
           },
           {
            "bin_start": 1644,
            "bin_end": 1972.8000000000002,
            "count": 0
           },
           {
            "bin_start": 1972.8000000000002,
            "bin_end": 2301.6,
            "count": 0
           },
           {
            "bin_start": 2301.6,
            "bin_end": 2630.4,
            "count": 0
           },
           {
            "bin_start": 2630.4,
            "bin_end": 2959.2000000000003,
            "count": 0
           },
           {
            "bin_start": 2959.2000000000003,
            "bin_end": 3288,
            "count": 1
           }
          ]
         }
        },
        {
         "name": "QN_4",
         "dtype": "float64",
         "stats": {
          "unique_count": 5,
          "nan_count": 0,
          "min": "3.0",
          "max": "3288.0",
          "histogram": [
           {
            "bin_start": 3,
            "bin_end": 331.5,
            "count": 7
           },
           {
            "bin_start": 331.5,
            "bin_end": 660,
            "count": 0
           },
           {
            "bin_start": 660,
            "bin_end": 988.5,
            "count": 0
           },
           {
            "bin_start": 988.5,
            "bin_end": 1317,
            "count": 0
           },
           {
            "bin_start": 1317,
            "bin_end": 1645.5,
            "count": 0
           },
           {
            "bin_start": 1645.5,
            "bin_end": 1974,
            "count": 0
           },
           {
            "bin_start": 1974,
            "bin_end": 2302.5,
            "count": 0
           },
           {
            "bin_start": 2302.5,
            "bin_end": 2631,
            "count": 0
           },
           {
            "bin_start": 2631,
            "bin_end": 2959.5,
            "count": 0
           },
           {
            "bin_start": 2959.5,
            "bin_end": 3288,
            "count": 1
           }
          ]
         }
        },
        {
         "name": " RSK",
         "dtype": "float64",
         "stats": {
          "unique_count": 7,
          "nan_count": 0,
          "min": "0.0",
          "max": "3288.0",
          "histogram": [
           {
            "bin_start": 0,
            "bin_end": 328.8,
            "count": 7
           },
           {
            "bin_start": 328.8,
            "bin_end": 657.6,
            "count": 0
           },
           {
            "bin_start": 657.6,
            "bin_end": 986.4000000000001,
            "count": 0
           },
           {
            "bin_start": 986.4000000000001,
            "bin_end": 1315.2,
            "count": 0
           },
           {
            "bin_start": 1315.2,
            "bin_end": 1644,
            "count": 0
           },
           {
            "bin_start": 1644,
            "bin_end": 1972.8000000000002,
            "count": 0
           },
           {
            "bin_start": 1972.8000000000002,
            "bin_end": 2301.6,
            "count": 0
           },
           {
            "bin_start": 2301.6,
            "bin_end": 2630.4,
            "count": 0
           },
           {
            "bin_start": 2630.4,
            "bin_end": 2959.2000000000003,
            "count": 0
           },
           {
            "bin_start": 2959.2000000000003,
            "bin_end": 3288,
            "count": 1
           }
          ]
         }
        },
        {
         "name": "RSKF",
         "dtype": "float64",
         "stats": {
          "unique_count": 6,
          "nan_count": 0,
          "min": "0.0",
          "max": "3288.0",
          "histogram": [
           {
            "bin_start": 0,
            "bin_end": 328.8,
            "count": 7
           },
           {
            "bin_start": 328.8,
            "bin_end": 657.6,
            "count": 0
           },
           {
            "bin_start": 657.6,
            "bin_end": 986.4000000000001,
            "count": 0
           },
           {
            "bin_start": 986.4000000000001,
            "bin_end": 1315.2,
            "count": 0
           },
           {
            "bin_start": 1315.2,
            "bin_end": 1644,
            "count": 0
           },
           {
            "bin_start": 1644,
            "bin_end": 1972.8000000000002,
            "count": 0
           },
           {
            "bin_start": 1972.8000000000002,
            "bin_end": 2301.6,
            "count": 0
           },
           {
            "bin_start": 2301.6,
            "bin_end": 2630.4,
            "count": 0
           },
           {
            "bin_start": 2630.4,
            "bin_end": 2959.2000000000003,
            "count": 0
           },
           {
            "bin_start": 2959.2000000000003,
            "bin_end": 3288,
            "count": 1
           }
          ]
         }
        },
        {
         "name": " SDK",
         "dtype": "float64",
         "stats": {
          "unique_count": 8,
          "nan_count": 0,
          "min": "0.0",
          "max": "3288.0",
          "histogram": [
           {
            "bin_start": 0,
            "bin_end": 328.8,
            "count": 7
           },
           {
            "bin_start": 328.8,
            "bin_end": 657.6,
            "count": 0
           },
           {
            "bin_start": 657.6,
            "bin_end": 986.4000000000001,
            "count": 0
           },
           {
            "bin_start": 986.4000000000001,
            "bin_end": 1315.2,
            "count": 0
           },
           {
            "bin_start": 1315.2,
            "bin_end": 1644,
            "count": 0
           },
           {
            "bin_start": 1644,
            "bin_end": 1972.8000000000002,
            "count": 0
           },
           {
            "bin_start": 1972.8000000000002,
            "bin_end": 2301.6,
            "count": 0
           },
           {
            "bin_start": 2301.6,
            "bin_end": 2630.4,
            "count": 0
           },
           {
            "bin_start": 2630.4,
            "bin_end": 2959.2000000000003,
            "count": 0
           },
           {
            "bin_start": 2959.2000000000003,
            "bin_end": 3288,
            "count": 1
           }
          ]
         }
        },
        {
         "name": "SHK_TAG",
         "dtype": "float64",
         "stats": {
          "unique_count": 5,
          "nan_count": 0,
          "min": "0.0",
          "max": "3288.0",
          "histogram": [
           {
            "bin_start": 0,
            "bin_end": 328.8,
            "count": 7
           },
           {
            "bin_start": 328.8,
            "bin_end": 657.6,
            "count": 0
           },
           {
            "bin_start": 657.6,
            "bin_end": 986.4000000000001,
            "count": 0
           },
           {
            "bin_start": 986.4000000000001,
            "bin_end": 1315.2,
            "count": 0
           },
           {
            "bin_start": 1315.2,
            "bin_end": 1644,
            "count": 0
           },
           {
            "bin_start": 1644,
            "bin_end": 1972.8000000000002,
            "count": 0
           },
           {
            "bin_start": 1972.8000000000002,
            "bin_end": 2301.6,
            "count": 0
           },
           {
            "bin_start": 2301.6,
            "bin_end": 2630.4,
            "count": 0
           },
           {
            "bin_start": 2630.4,
            "bin_end": 2959.2000000000003,
            "count": 0
           },
           {
            "bin_start": 2959.2000000000003,
            "bin_end": 3288,
            "count": 1
           }
          ]
         }
        },
        {
         "name": "  NM",
         "dtype": "float64",
         "stats": {
          "unique_count": 8,
          "nan_count": 0,
          "min": "0.0",
          "max": "3288.0",
          "histogram": [
           {
            "bin_start": 0,
            "bin_end": 328.8,
            "count": 7
           },
           {
            "bin_start": 328.8,
            "bin_end": 657.6,
            "count": 0
           },
           {
            "bin_start": 657.6,
            "bin_end": 986.4000000000001,
            "count": 0
           },
           {
            "bin_start": 986.4000000000001,
            "bin_end": 1315.2,
            "count": 0
           },
           {
            "bin_start": 1315.2,
            "bin_end": 1644,
            "count": 0
           },
           {
            "bin_start": 1644,
            "bin_end": 1972.8000000000002,
            "count": 0
           },
           {
            "bin_start": 1972.8000000000002,
            "bin_end": 2301.6,
            "count": 0
           },
           {
            "bin_start": 2301.6,
            "bin_end": 2630.4,
            "count": 0
           },
           {
            "bin_start": 2630.4,
            "bin_end": 2959.2000000000003,
            "count": 0
           },
           {
            "bin_start": 2959.2000000000003,
            "bin_end": 3288,
            "count": 1
           }
          ]
         }
        },
        {
         "name": " VPM",
         "dtype": "float64",
         "stats": {
          "unique_count": 8,
          "nan_count": 0,
          "min": "1.5",
          "max": "3288.0",
          "histogram": [
           {
            "bin_start": 1.5,
            "bin_end": 330.15,
            "count": 7
           },
           {
            "bin_start": 330.15,
            "bin_end": 658.8,
            "count": 0
           },
           {
            "bin_start": 658.8,
            "bin_end": 987.4499999999999,
            "count": 0
           },
           {
            "bin_start": 987.4499999999999,
            "bin_end": 1316.1,
            "count": 0
           },
           {
            "bin_start": 1316.1,
            "bin_end": 1644.75,
            "count": 0
           },
           {
            "bin_start": 1644.75,
            "bin_end": 1973.3999999999999,
            "count": 0
           },
           {
            "bin_start": 1973.3999999999999,
            "bin_end": 2302.0499999999997,
            "count": 0
           },
           {
            "bin_start": 2302.0499999999997,
            "bin_end": 2630.7,
            "count": 0
           },
           {
            "bin_start": 2630.7,
            "bin_end": 2959.35,
            "count": 0
           },
           {
            "bin_start": 2959.35,
            "bin_end": 3288,
            "count": 1
           }
          ]
         }
        },
        {
         "name": "  PM",
         "dtype": "float64",
         "stats": {
          "unique_count": 8,
          "nan_count": 0,
          "min": "8.873711620075778",
          "max": "3288.0",
          "histogram": [
           {
            "bin_start": 8.873711620075778,
            "bin_end": 336.7863404580682,
            "count": 1
           },
           {
            "bin_start": 336.7863404580682,
            "bin_end": 664.6989692960607,
            "count": 0
           },
           {
            "bin_start": 664.6989692960607,
            "bin_end": 992.6115981340531,
            "count": 1
           },
           {
            "bin_start": 992.6115981340531,
            "bin_end": 1320.5242269720454,
            "count": 5
           },
           {
            "bin_start": 1320.5242269720454,
            "bin_end": 1648.436855810038,
            "count": 0
           },
           {
            "bin_start": 1648.436855810038,
            "bin_end": 1976.3494846480303,
            "count": 0
           },
           {
            "bin_start": 1976.3494846480303,
            "bin_end": 2304.262113486023,
            "count": 0
           },
           {
            "bin_start": 2304.262113486023,
            "bin_end": 2632.1747423240154,
            "count": 0
           },
           {
            "bin_start": 2632.1747423240154,
            "bin_end": 2960.087371162008,
            "count": 0
           },
           {
            "bin_start": 2960.087371162008,
            "bin_end": 3288,
            "count": 1
           }
          ]
         }
        },
        {
         "name": " TMK",
         "dtype": "float64",
         "stats": {
          "unique_count": 8,
          "nan_count": 0,
          "min": "-10.2",
          "max": "3288.0",
          "histogram": [
           {
            "bin_start": -10.2,
            "bin_end": 319.62,
            "count": 7
           },
           {
            "bin_start": 319.62,
            "bin_end": 649.4399999999999,
            "count": 0
           },
           {
            "bin_start": 649.4399999999999,
            "bin_end": 979.26,
            "count": 0
           },
           {
            "bin_start": 979.26,
            "bin_end": 1309.08,
            "count": 0
           },
           {
            "bin_start": 1309.08,
            "bin_end": 1638.8999999999999,
            "count": 0
           },
           {
            "bin_start": 1638.8999999999999,
            "bin_end": 1968.72,
            "count": 0
           },
           {
            "bin_start": 1968.72,
            "bin_end": 2298.54,
            "count": 0
           },
           {
            "bin_start": 2298.54,
            "bin_end": 2628.36,
            "count": 0
           },
           {
            "bin_start": 2628.36,
            "bin_end": 2958.1800000000003,
            "count": 0
           },
           {
            "bin_start": 2958.1800000000003,
            "bin_end": 3288,
            "count": 1
           }
          ]
         }
        },
        {
         "name": " UPM",
         "dtype": "float64",
         "stats": {
          "unique_count": 8,
          "nan_count": 0,
          "min": "12.021316506902318",
          "max": "3288.0",
          "histogram": [
           {
            "bin_start": 12.021316506902318,
            "bin_end": 339.61918485621214,
            "count": 7
           },
           {
            "bin_start": 339.61918485621214,
            "bin_end": 667.2170532055219,
            "count": 0
           },
           {
            "bin_start": 667.2170532055219,
            "bin_end": 994.8149215548317,
            "count": 0
           },
           {
            "bin_start": 994.8149215548317,
            "bin_end": 1322.4127899041416,
            "count": 0
           },
           {
            "bin_start": 1322.4127899041416,
            "bin_end": 1650.0106582534515,
            "count": 0
           },
           {
            "bin_start": 1650.0106582534515,
            "bin_end": 1977.6085266027612,
            "count": 0
           },
           {
            "bin_start": 1977.6085266027612,
            "bin_end": 2305.2063949520707,
            "count": 0
           },
           {
            "bin_start": 2305.2063949520707,
            "bin_end": 2632.8042633013806,
            "count": 0
           },
           {
            "bin_start": 2632.8042633013806,
            "bin_end": 2960.4021316506905,
            "count": 0
           },
           {
            "bin_start": 2960.4021316506905,
            "bin_end": 3288,
            "count": 1
           }
          ]
         }
        },
        {
         "name": " TXK",
         "dtype": "float64",
         "stats": {
          "unique_count": 8,
          "nan_count": 0,
          "min": "-4.3",
          "max": "3288.0",
          "histogram": [
           {
            "bin_start": -4.3,
            "bin_end": 324.93,
            "count": 7
           },
           {
            "bin_start": 324.93,
            "bin_end": 654.1600000000001,
            "count": 0
           },
           {
            "bin_start": 654.1600000000001,
            "bin_end": 983.3900000000001,
            "count": 0
           },
           {
            "bin_start": 983.3900000000001,
            "bin_end": 1312.6200000000001,
            "count": 0
           },
           {
            "bin_start": 1312.6200000000001,
            "bin_end": 1641.8500000000001,
            "count": 0
           },
           {
            "bin_start": 1641.8500000000001,
            "bin_end": 1971.0800000000002,
            "count": 0
           },
           {
            "bin_start": 1971.0800000000002,
            "bin_end": 2300.31,
            "count": 0
           },
           {
            "bin_start": 2300.31,
            "bin_end": 2629.54,
            "count": 0
           },
           {
            "bin_start": 2629.54,
            "bin_end": 2958.77,
            "count": 0
           },
           {
            "bin_start": 2958.77,
            "bin_end": 3288,
            "count": 1
           }
          ]
         }
        },
        {
         "name": " TNK",
         "dtype": "float64",
         "stats": {
          "unique_count": 8,
          "nan_count": 0,
          "min": "-17.6",
          "max": "3288.0",
          "histogram": [
           {
            "bin_start": -17.6,
            "bin_end": 312.96,
            "count": 7
           },
           {
            "bin_start": 312.96,
            "bin_end": 643.52,
            "count": 0
           },
           {
            "bin_start": 643.52,
            "bin_end": 974.08,
            "count": 0
           },
           {
            "bin_start": 974.08,
            "bin_end": 1304.64,
            "count": 0
           },
           {
            "bin_start": 1304.64,
            "bin_end": 1635.2,
            "count": 0
           },
           {
            "bin_start": 1635.2,
            "bin_end": 1965.7600000000002,
            "count": 0
           },
           {
            "bin_start": 1965.7600000000002,
            "bin_end": 2296.32,
            "count": 0
           },
           {
            "bin_start": 2296.32,
            "bin_end": 2626.88,
            "count": 0
           },
           {
            "bin_start": 2626.88,
            "bin_end": 2957.44,
            "count": 0
           },
           {
            "bin_start": 2957.44,
            "bin_end": 3288,
            "count": 1
           }
          ]
         }
        },
        {
         "name": " TGK",
         "dtype": "float64",
         "stats": {
          "unique_count": 8,
          "nan_count": 0,
          "min": "-20.3",
          "max": "3288.0",
          "histogram": [
           {
            "bin_start": -20.3,
            "bin_end": 310.53000000000003,
            "count": 7
           },
           {
            "bin_start": 310.53000000000003,
            "bin_end": 641.3600000000001,
            "count": 0
           },
           {
            "bin_start": 641.3600000000001,
            "bin_end": 972.1900000000002,
            "count": 0
           },
           {
            "bin_start": 972.1900000000002,
            "bin_end": 1303.0200000000002,
            "count": 0
           },
           {
            "bin_start": 1303.0200000000002,
            "bin_end": 1633.8500000000001,
            "count": 0
           },
           {
            "bin_start": 1633.8500000000001,
            "bin_end": 1964.6800000000003,
            "count": 0
           },
           {
            "bin_start": 1964.6800000000003,
            "bin_end": 2295.51,
            "count": 0
           },
           {
            "bin_start": 2295.51,
            "bin_end": 2626.34,
            "count": 0
           },
           {
            "bin_start": 2626.34,
            "bin_end": 2957.17,
            "count": 0
           },
           {
            "bin_start": 2957.17,
            "bin_end": 3288,
            "count": 1
           }
          ]
         }
        },
        {
         "name": "YEAR",
         "dtype": "float64",
         "stats": {
          "unique_count": 7,
          "nan_count": 0,
          "min": "2.5830883848397694",
          "max": "3288.0",
          "histogram": [
           {
            "bin_start": 2.5830883848397694,
            "bin_end": 331.1247795463558,
            "count": 1
           },
           {
            "bin_start": 331.1247795463558,
            "bin_end": 659.6664707078719,
            "count": 0
           },
           {
            "bin_start": 659.6664707078719,
            "bin_end": 988.2081618693879,
            "count": 0
           },
           {
            "bin_start": 988.2081618693879,
            "bin_end": 1316.749853030904,
            "count": 0
           },
           {
            "bin_start": 1316.749853030904,
            "bin_end": 1645.2915441924201,
            "count": 0
           },
           {
            "bin_start": 1645.2915441924201,
            "bin_end": 1973.833235353936,
            "count": 0
           },
           {
            "bin_start": 1973.833235353936,
            "bin_end": 2302.374926515452,
            "count": 6
           },
           {
            "bin_start": 2302.374926515452,
            "bin_end": 2630.916617676968,
            "count": 0
           },
           {
            "bin_start": 2630.916617676968,
            "bin_end": 2959.4583088384843,
            "count": 0
           },
           {
            "bin_start": 2959.4583088384843,
            "bin_end": 3288,
            "count": 1
           }
          ]
         }
        },
        {
         "name": "WIND_CHILL",
         "dtype": "float64",
         "stats": {
          "unique_count": 8,
          "nan_count": 0,
          "min": "-15.127293765963937",
          "max": "3288.0",
          "histogram": [
           {
            "bin_start": -15.127293765963937,
            "bin_end": 315.18543561063245,
            "count": 7
           },
           {
            "bin_start": 315.18543561063245,
            "bin_end": 645.4981649872288,
            "count": 0
           },
           {
            "bin_start": 645.4981649872288,
            "bin_end": 975.8108943638252,
            "count": 0
           },
           {
            "bin_start": 975.8108943638252,
            "bin_end": 1306.1236237404216,
            "count": 0
           },
           {
            "bin_start": 1306.1236237404216,
            "bin_end": 1636.4363531170181,
            "count": 0
           },
           {
            "bin_start": 1636.4363531170181,
            "bin_end": 1966.7490824936144,
            "count": 0
           },
           {
            "bin_start": 1966.7490824936144,
            "bin_end": 2297.061811870211,
            "count": 0
           },
           {
            "bin_start": 2297.061811870211,
            "bin_end": 2627.3745412468074,
            "count": 0
           },
           {
            "bin_start": 2627.3745412468074,
            "bin_end": 2957.687270623404,
            "count": 0
           },
           {
            "bin_start": 2957.687270623404,
            "bin_end": 3288,
            "count": 1
           }
          ]
         }
        },
        {
         "name": "_deepnote_index_column",
         "dtype": "object"
        }
       ],
       "rows_top": [
        {
         "STATIONS_ID": 3288,
         "QN_3": 3288,
         "  FX": 3288,
         "  FM": 3288,
         "QN_4": 3288,
         " RSK": 3288,
         "RSKF": 3288,
         " SDK": 3288,
         "SHK_TAG": 3288,
         "  NM": 3288,
         " VPM": 3288,
         "  PM": 3288,
         " TMK": 3288,
         " UPM": 3288,
         " TXK": 3288,
         " TNK": 3288,
         " TGK": 3288,
         "YEAR": 3288,
         "WIND_CHILL": 3288,
         "_deepnote_index_column": "count"
        },
        {
         "STATIONS_ID": 2667,
         "QN_3": 9.870133819951338,
         "  FX": 9.788381995133822,
         "  FM": 11.561715328467153,
         "QN_4": 7.081204379562044,
         " RSK": 2.0488138686131387,
         "RSKF": 4.020985401459854,
         " SDK": 4.386150243309003,
         "SHK_TAG": 0.0787712895377129,
         "  NM": 5.447901459854013,
         " VPM": 10.4264902676399,
         "  PM": 1004.3290723844282,
         " TMK": 11.242974452554744,
         " UPM": 75.51672749391727,
         " TXK": 15.963868613138684,
         " TNK": 6.2475973236009725,
         " TGK": 4.592974452554744,
         "YEAR": 2016,
         "WIND_CHILL": 9.960386963942492,
         "_deepnote_index_column": "mean"
        },
        {
         "STATIONS_ID": 0,
         "QN_3": 0.9447060219666933,
         "  FX": 3.672027157795225,
         "  FM": 4.44604165278767,
         "QN_4": 3.4519306921921955,
         " RSK": 4.231596111489376,
         "RSKF": 2.99475009698352,
         " SDK": 4.318640243492933,
         "SHK_TAG": 0.7543804208031021,
         "  NM": 2.006376018531284,
         " VPM": 3.965950404326777,
         "  PM": 8.873711620075778,
         " TMK": 6.721035224151693,
         " UPM": 12.021316506902318,
         " TXK": 8.100529520888331,
         " TNK": 5.94549375237195,
         " TGK": 6.294108189713559,
         "YEAR": 2.5830883848397694,
         "WIND_CHILL": 8.153240185014432,
         "_deepnote_index_column": "std"
        },
        {
         "STATIONS_ID": 2667,
         "QN_3": 3,
         "  FX": 0,
         "  FM": 0,
         "QN_4": 3,
         " RSK": 0,
         "RSKF": 0,
         " SDK": 0,
         "SHK_TAG": 0,
         "  NM": 0,
         " VPM": 1.5,
         "  PM": 965.4,
         " TMK": -10.2,
         " UPM": 28.92,
         " TXK": -4.3,
         " TNK": -17.6,
         " TGK": -20.3,
         "YEAR": 2012,
         "WIND_CHILL": -15.127293765963937,
         "_deepnote_index_column": "min"
        },
        {
         "STATIONS_ID": 2667,
         "QN_3": 10,
         "  FX": 7.2,
         "  FM": 8.28,
         "QN_4": 3,
         " RSK": 0,
         "RSKF": 0,
         " SDK": 0.4,
         "SHK_TAG": 0,
         "  NM": 4.3,
         " VPM": 7.3,
         "  PM": 999.2149999999999,
         " TMK": 6,
         " UPM": 68,
         " TXK": 9.6,
         " TNK": 1.9,
         " TGK": 0.2,
         "YEAR": 2014,
         "WIND_CHILL": 3.595584690912129,
         "_deepnote_index_column": "25%"
        },
        {
         "STATIONS_ID": 2667,
         "QN_3": 10,
         "  FX": 9.3,
         "  FM": 10.8,
         "QN_4": 10,
         " RSK": 0.1,
         "RSKF": 6,
         " SDK": 3.1,
         "SHK_TAG": 0,
         "  NM": 5.9,
         " VPM": 9.8,
         "  PM": 1004.64,
         " TMK": 11.1,
         " UPM": 77,
         " TXK": 15.8,
         " TNK": 6.3,
         " TGK": 4.8,
         "YEAR": 2016,
         "WIND_CHILL": 9.812860480351532,
         "_deepnote_index_column": "50%"
        },
        {
         "STATIONS_ID": 2667,
         "QN_3": 10,
         "  FX": 11.8,
         "  FM": 14.04,
         "QN_4": 10,
         " RSK": 2.3,
         "RSKF": 6,
         " SDK": 7.5,
         "SHK_TAG": 0,
         "  NM": 7,
         " VPM": 13.2,
         "  PM": 1010.1,
         " TMK": 16.4,
         " UPM": 84.8425,
         " TXK": 22.2,
         " TNK": 10.8,
         " TGK": 9.3,
         "YEAR": 2018,
         "WIND_CHILL": 16.168074533346065,
         "_deepnote_index_column": "75%"
        },
        {
         "STATIONS_ID": 2667,
         "QN_3": 10,
         "  FX": 31.9,
         "  FM": 36,
         "QN_4": 10,
         " RSK": 48.7,
         "RSKF": 8,
         " SDK": 15.4,
         "SHK_TAG": 14,
         "  NM": 8,
         " VPM": 23.1,
         "  PM": 1034.65,
         " TMK": 31,
         " UPM": 100,
         " TXK": 40.3,
         " TNK": 21.9,
         " TGK": 20.4,
         "YEAR": 2020,
         "WIND_CHILL": 33.712434106491145,
         "_deepnote_index_column": "max"
        }
       ],
       "rows_bottom": null
      },
      "text/plain": "       STATIONS_ID         QN_3           FX           FM         QN_4  \\\ncount       3288.0  3288.000000  3288.000000  3288.000000  3288.000000   \nmean        2667.0     9.870134     9.788382    11.561715     7.081204   \nstd            0.0     0.944706     3.672027     4.446042     3.451931   \nmin         2667.0     3.000000     0.000000     0.000000     3.000000   \n25%         2667.0    10.000000     7.200000     8.280000     3.000000   \n50%         2667.0    10.000000     9.300000    10.800000    10.000000   \n75%         2667.0    10.000000    11.800000    14.040000    10.000000   \nmax         2667.0    10.000000    31.900000    36.000000    10.000000   \n\n               RSK         RSKF         SDK      SHK_TAG           NM  \\\ncount  3288.000000  3288.000000  3288.00000  3288.000000  3288.000000   \nmean      2.048814     4.020985     4.38615     0.078771     5.447901   \nstd       4.231596     2.994750     4.31864     0.754380     2.006376   \nmin       0.000000     0.000000     0.00000     0.000000     0.000000   \n25%       0.000000     0.000000     0.40000     0.000000     4.300000   \n50%       0.100000     6.000000     3.10000     0.000000     5.900000   \n75%       2.300000     6.000000     7.50000     0.000000     7.000000   \nmax      48.700000     8.000000    15.40000    14.000000     8.000000   \n\n              VPM           PM          TMK          UPM          TXK  \\\ncount  3288.00000  3288.000000  3288.000000  3288.000000  3288.000000   \nmean     10.42649  1004.329072    11.242974    75.516727    15.963869   \nstd       3.96595     8.873712     6.721035    12.021317     8.100530   \nmin       1.50000   965.400000   -10.200000    28.920000    -4.300000   \n25%       7.30000   999.215000     6.000000    68.000000     9.600000   \n50%       9.80000  1004.640000    11.100000    77.000000    15.800000   \n75%      13.20000  1010.100000    16.400000    84.842500    22.200000   \nmax      23.10000  1034.650000    31.000000   100.000000    40.300000   \n\n               TNK          TGK         YEAR   WIND_CHILL  \ncount  3288.000000  3288.000000  3288.000000  3288.000000  \nmean      6.247597     4.592974  2016.000000     9.960387  \nstd       5.945494     6.294108     2.583088     8.153240  \nmin     -17.600000   -20.300000  2012.000000   -15.127294  \n25%       1.900000     0.200000  2014.000000     3.595585  \n50%       6.300000     4.800000  2016.000000     9.812860  \n75%      10.800000     9.300000  2018.000000    16.168075  \nmax      21.900000    20.400000  2020.000000    33.712434  ",
      "text/html": "<div>\n<style scoped>\n    .dataframe tbody tr th:only-of-type {\n        vertical-align: middle;\n    }\n\n    .dataframe tbody tr th {\n        vertical-align: top;\n    }\n\n    .dataframe thead th {\n        text-align: right;\n    }\n</style>\n<table border=\"1\" class=\"dataframe\">\n  <thead>\n    <tr style=\"text-align: right;\">\n      <th></th>\n      <th>STATIONS_ID</th>\n      <th>QN_3</th>\n      <th>FX</th>\n      <th>FM</th>\n      <th>QN_4</th>\n      <th>RSK</th>\n      <th>RSKF</th>\n      <th>SDK</th>\n      <th>SHK_TAG</th>\n      <th>NM</th>\n      <th>VPM</th>\n      <th>PM</th>\n      <th>TMK</th>\n      <th>UPM</th>\n      <th>TXK</th>\n      <th>TNK</th>\n      <th>TGK</th>\n      <th>YEAR</th>\n      <th>WIND_CHILL</th>\n    </tr>\n  </thead>\n  <tbody>\n    <tr>\n      <th>count</th>\n      <td>3288.0</td>\n      <td>3288.000000</td>\n      <td>3288.000000</td>\n      <td>3288.000000</td>\n      <td>3288.000000</td>\n      <td>3288.000000</td>\n      <td>3288.000000</td>\n      <td>3288.00000</td>\n      <td>3288.000000</td>\n      <td>3288.000000</td>\n      <td>3288.00000</td>\n      <td>3288.000000</td>\n      <td>3288.000000</td>\n      <td>3288.000000</td>\n      <td>3288.000000</td>\n      <td>3288.000000</td>\n      <td>3288.000000</td>\n      <td>3288.000000</td>\n      <td>3288.000000</td>\n    </tr>\n    <tr>\n      <th>mean</th>\n      <td>2667.0</td>\n      <td>9.870134</td>\n      <td>9.788382</td>\n      <td>11.561715</td>\n      <td>7.081204</td>\n      <td>2.048814</td>\n      <td>4.020985</td>\n      <td>4.38615</td>\n      <td>0.078771</td>\n      <td>5.447901</td>\n      <td>10.42649</td>\n      <td>1004.329072</td>\n      <td>11.242974</td>\n      <td>75.516727</td>\n      <td>15.963869</td>\n      <td>6.247597</td>\n      <td>4.592974</td>\n      <td>2016.000000</td>\n      <td>9.960387</td>\n    </tr>\n    <tr>\n      <th>std</th>\n      <td>0.0</td>\n      <td>0.944706</td>\n      <td>3.672027</td>\n      <td>4.446042</td>\n      <td>3.451931</td>\n      <td>4.231596</td>\n      <td>2.994750</td>\n      <td>4.31864</td>\n      <td>0.754380</td>\n      <td>2.006376</td>\n      <td>3.96595</td>\n      <td>8.873712</td>\n      <td>6.721035</td>\n      <td>12.021317</td>\n      <td>8.100530</td>\n      <td>5.945494</td>\n      <td>6.294108</td>\n      <td>2.583088</td>\n      <td>8.153240</td>\n    </tr>\n    <tr>\n      <th>min</th>\n      <td>2667.0</td>\n      <td>3.000000</td>\n      <td>0.000000</td>\n      <td>0.000000</td>\n      <td>3.000000</td>\n      <td>0.000000</td>\n      <td>0.000000</td>\n      <td>0.00000</td>\n      <td>0.000000</td>\n      <td>0.000000</td>\n      <td>1.50000</td>\n      <td>965.400000</td>\n      <td>-10.200000</td>\n      <td>28.920000</td>\n      <td>-4.300000</td>\n      <td>-17.600000</td>\n      <td>-20.300000</td>\n      <td>2012.000000</td>\n      <td>-15.127294</td>\n    </tr>\n    <tr>\n      <th>25%</th>\n      <td>2667.0</td>\n      <td>10.000000</td>\n      <td>7.200000</td>\n      <td>8.280000</td>\n      <td>3.000000</td>\n      <td>0.000000</td>\n      <td>0.000000</td>\n      <td>0.40000</td>\n      <td>0.000000</td>\n      <td>4.300000</td>\n      <td>7.30000</td>\n      <td>999.215000</td>\n      <td>6.000000</td>\n      <td>68.000000</td>\n      <td>9.600000</td>\n      <td>1.900000</td>\n      <td>0.200000</td>\n      <td>2014.000000</td>\n      <td>3.595585</td>\n    </tr>\n    <tr>\n      <th>50%</th>\n      <td>2667.0</td>\n      <td>10.000000</td>\n      <td>9.300000</td>\n      <td>10.800000</td>\n      <td>10.000000</td>\n      <td>0.100000</td>\n      <td>6.000000</td>\n      <td>3.10000</td>\n      <td>0.000000</td>\n      <td>5.900000</td>\n      <td>9.80000</td>\n      <td>1004.640000</td>\n      <td>11.100000</td>\n      <td>77.000000</td>\n      <td>15.800000</td>\n      <td>6.300000</td>\n      <td>4.800000</td>\n      <td>2016.000000</td>\n      <td>9.812860</td>\n    </tr>\n    <tr>\n      <th>75%</th>\n      <td>2667.0</td>\n      <td>10.000000</td>\n      <td>11.800000</td>\n      <td>14.040000</td>\n      <td>10.000000</td>\n      <td>2.300000</td>\n      <td>6.000000</td>\n      <td>7.50000</td>\n      <td>0.000000</td>\n      <td>7.000000</td>\n      <td>13.20000</td>\n      <td>1010.100000</td>\n      <td>16.400000</td>\n      <td>84.842500</td>\n      <td>22.200000</td>\n      <td>10.800000</td>\n      <td>9.300000</td>\n      <td>2018.000000</td>\n      <td>16.168075</td>\n    </tr>\n    <tr>\n      <th>max</th>\n      <td>2667.0</td>\n      <td>10.000000</td>\n      <td>31.900000</td>\n      <td>36.000000</td>\n      <td>10.000000</td>\n      <td>48.700000</td>\n      <td>8.000000</td>\n      <td>15.40000</td>\n      <td>14.000000</td>\n      <td>8.000000</td>\n      <td>23.10000</td>\n      <td>1034.650000</td>\n      <td>31.000000</td>\n      <td>100.000000</td>\n      <td>40.300000</td>\n      <td>21.900000</td>\n      <td>20.400000</td>\n      <td>2020.000000</td>\n      <td>33.712434</td>\n    </tr>\n  </tbody>\n</table>\n</div>"
     },
     "metadata": {},
     "output_type": "display_data"
    },
    {
     "name": "stdout",
     "text": "\n\n",
     "output_type": "stream"
    },
    {
     "data": {
      "text/plain": "'Düsseldorf'"
     },
     "metadata": {},
     "output_type": "display_data"
    },
    {
     "data": {
      "application/vnd.deepnote.dataframe.v2+json": {
       "row_count": 8,
       "column_count": 19,
       "columns": [
        {
         "name": "STATIONS_ID",
         "dtype": "float64",
         "stats": {
          "unique_count": 3,
          "nan_count": 0,
          "min": "0.0",
          "max": "3288.0",
          "histogram": [
           {
            "bin_start": 0,
            "bin_end": 328.8,
            "count": 1
           },
           {
            "bin_start": 328.8,
            "bin_end": 657.6,
            "count": 0
           },
           {
            "bin_start": 657.6,
            "bin_end": 986.4000000000001,
            "count": 0
           },
           {
            "bin_start": 986.4000000000001,
            "bin_end": 1315.2,
            "count": 6
           },
           {
            "bin_start": 1315.2,
            "bin_end": 1644,
            "count": 0
           },
           {
            "bin_start": 1644,
            "bin_end": 1972.8000000000002,
            "count": 0
           },
           {
            "bin_start": 1972.8000000000002,
            "bin_end": 2301.6,
            "count": 0
           },
           {
            "bin_start": 2301.6,
            "bin_end": 2630.4,
            "count": 0
           },
           {
            "bin_start": 2630.4,
            "bin_end": 2959.2000000000003,
            "count": 0
           },
           {
            "bin_start": 2959.2000000000003,
            "bin_end": 3288,
            "count": 1
           }
          ]
         }
        },
        {
         "name": "QN_3",
         "dtype": "float64",
         "stats": {
          "unique_count": 5,
          "nan_count": 0,
          "min": "0.9447060219666933",
          "max": "3288.0",
          "histogram": [
           {
            "bin_start": 0.9447060219666933,
            "bin_end": 329.65023541977,
            "count": 7
           },
           {
            "bin_start": 329.65023541977,
            "bin_end": 658.3557648175733,
            "count": 0
           },
           {
            "bin_start": 658.3557648175733,
            "bin_end": 987.0612942153767,
            "count": 0
           },
           {
            "bin_start": 987.0612942153767,
            "bin_end": 1315.7668236131801,
            "count": 0
           },
           {
            "bin_start": 1315.7668236131801,
            "bin_end": 1644.4723530109834,
            "count": 0
           },
           {
            "bin_start": 1644.4723530109834,
            "bin_end": 1973.177882408787,
            "count": 0
           },
           {
            "bin_start": 1973.177882408787,
            "bin_end": 2301.88341180659,
            "count": 0
           },
           {
            "bin_start": 2301.88341180659,
            "bin_end": 2630.5889412043934,
            "count": 0
           },
           {
            "bin_start": 2630.5889412043934,
            "bin_end": 2959.2944706021967,
            "count": 0
           },
           {
            "bin_start": 2959.2944706021967,
            "bin_end": 3288,
            "count": 1
           }
          ]
         }
        },
        {
         "name": "  FX",
         "dtype": "float64",
         "stats": {
          "unique_count": 8,
          "nan_count": 0,
          "min": "0.0",
          "max": "3288.0",
          "histogram": [
           {
            "bin_start": 0,
            "bin_end": 328.8,
            "count": 7
           },
           {
            "bin_start": 328.8,
            "bin_end": 657.6,
            "count": 0
           },
           {
            "bin_start": 657.6,
            "bin_end": 986.4000000000001,
            "count": 0
           },
           {
            "bin_start": 986.4000000000001,
            "bin_end": 1315.2,
            "count": 0
           },
           {
            "bin_start": 1315.2,
            "bin_end": 1644,
            "count": 0
           },
           {
            "bin_start": 1644,
            "bin_end": 1972.8000000000002,
            "count": 0
           },
           {
            "bin_start": 1972.8000000000002,
            "bin_end": 2301.6,
            "count": 0
           },
           {
            "bin_start": 2301.6,
            "bin_end": 2630.4,
            "count": 0
           },
           {
            "bin_start": 2630.4,
            "bin_end": 2959.2000000000003,
            "count": 0
           },
           {
            "bin_start": 2959.2000000000003,
            "bin_end": 3288,
            "count": 1
           }
          ]
         }
        },
        {
         "name": "  FM",
         "dtype": "float64",
         "stats": {
          "unique_count": 8,
          "nan_count": 0,
          "min": "0.0",
          "max": "3288.0",
          "histogram": [
           {
            "bin_start": 0,
            "bin_end": 328.8,
            "count": 7
           },
           {
            "bin_start": 328.8,
            "bin_end": 657.6,
            "count": 0
           },
           {
            "bin_start": 657.6,
            "bin_end": 986.4000000000001,
            "count": 0
           },
           {
            "bin_start": 986.4000000000001,
            "bin_end": 1315.2,
            "count": 0
           },
           {
            "bin_start": 1315.2,
            "bin_end": 1644,
            "count": 0
           },
           {
            "bin_start": 1644,
            "bin_end": 1972.8000000000002,
            "count": 0
           },
           {
            "bin_start": 1972.8000000000002,
            "bin_end": 2301.6,
            "count": 0
           },
           {
            "bin_start": 2301.6,
            "bin_end": 2630.4,
            "count": 0
           },
           {
            "bin_start": 2630.4,
            "bin_end": 2959.2000000000003,
            "count": 0
           },
           {
            "bin_start": 2959.2000000000003,
            "bin_end": 3288,
            "count": 1
           }
          ]
         }
        },
        {
         "name": "QN_4",
         "dtype": "float64",
         "stats": {
          "unique_count": 5,
          "nan_count": 0,
          "min": "3.0",
          "max": "3288.0",
          "histogram": [
           {
            "bin_start": 3,
            "bin_end": 331.5,
            "count": 7
           },
           {
            "bin_start": 331.5,
            "bin_end": 660,
            "count": 0
           },
           {
            "bin_start": 660,
            "bin_end": 988.5,
            "count": 0
           },
           {
            "bin_start": 988.5,
            "bin_end": 1317,
            "count": 0
           },
           {
            "bin_start": 1317,
            "bin_end": 1645.5,
            "count": 0
           },
           {
            "bin_start": 1645.5,
            "bin_end": 1974,
            "count": 0
           },
           {
            "bin_start": 1974,
            "bin_end": 2302.5,
            "count": 0
           },
           {
            "bin_start": 2302.5,
            "bin_end": 2631,
            "count": 0
           },
           {
            "bin_start": 2631,
            "bin_end": 2959.5,
            "count": 0
           },
           {
            "bin_start": 2959.5,
            "bin_end": 3288,
            "count": 1
           }
          ]
         }
        },
        {
         "name": " RSK",
         "dtype": "float64",
         "stats": {
          "unique_count": 7,
          "nan_count": 0,
          "min": "0.0",
          "max": "3288.0",
          "histogram": [
           {
            "bin_start": 0,
            "bin_end": 328.8,
            "count": 7
           },
           {
            "bin_start": 328.8,
            "bin_end": 657.6,
            "count": 0
           },
           {
            "bin_start": 657.6,
            "bin_end": 986.4000000000001,
            "count": 0
           },
           {
            "bin_start": 986.4000000000001,
            "bin_end": 1315.2,
            "count": 0
           },
           {
            "bin_start": 1315.2,
            "bin_end": 1644,
            "count": 0
           },
           {
            "bin_start": 1644,
            "bin_end": 1972.8000000000002,
            "count": 0
           },
           {
            "bin_start": 1972.8000000000002,
            "bin_end": 2301.6,
            "count": 0
           },
           {
            "bin_start": 2301.6,
            "bin_end": 2630.4,
            "count": 0
           },
           {
            "bin_start": 2630.4,
            "bin_end": 2959.2000000000003,
            "count": 0
           },
           {
            "bin_start": 2959.2000000000003,
            "bin_end": 3288,
            "count": 1
           }
          ]
         }
        },
        {
         "name": "RSKF",
         "dtype": "float64",
         "stats": {
          "unique_count": 6,
          "nan_count": 0,
          "min": "0.0",
          "max": "3288.0",
          "histogram": [
           {
            "bin_start": 0,
            "bin_end": 328.8,
            "count": 7
           },
           {
            "bin_start": 328.8,
            "bin_end": 657.6,
            "count": 0
           },
           {
            "bin_start": 657.6,
            "bin_end": 986.4000000000001,
            "count": 0
           },
           {
            "bin_start": 986.4000000000001,
            "bin_end": 1315.2,
            "count": 0
           },
           {
            "bin_start": 1315.2,
            "bin_end": 1644,
            "count": 0
           },
           {
            "bin_start": 1644,
            "bin_end": 1972.8000000000002,
            "count": 0
           },
           {
            "bin_start": 1972.8000000000002,
            "bin_end": 2301.6,
            "count": 0
           },
           {
            "bin_start": 2301.6,
            "bin_end": 2630.4,
            "count": 0
           },
           {
            "bin_start": 2630.4,
            "bin_end": 2959.2000000000003,
            "count": 0
           },
           {
            "bin_start": 2959.2000000000003,
            "bin_end": 3288,
            "count": 1
           }
          ]
         }
        },
        {
         "name": " SDK",
         "dtype": "float64",
         "stats": {
          "unique_count": 8,
          "nan_count": 0,
          "min": "0.0",
          "max": "3288.0",
          "histogram": [
           {
            "bin_start": 0,
            "bin_end": 328.8,
            "count": 7
           },
           {
            "bin_start": 328.8,
            "bin_end": 657.6,
            "count": 0
           },
           {
            "bin_start": 657.6,
            "bin_end": 986.4000000000001,
            "count": 0
           },
           {
            "bin_start": 986.4000000000001,
            "bin_end": 1315.2,
            "count": 0
           },
           {
            "bin_start": 1315.2,
            "bin_end": 1644,
            "count": 0
           },
           {
            "bin_start": 1644,
            "bin_end": 1972.8000000000002,
            "count": 0
           },
           {
            "bin_start": 1972.8000000000002,
            "bin_end": 2301.6,
            "count": 0
           },
           {
            "bin_start": 2301.6,
            "bin_end": 2630.4,
            "count": 0
           },
           {
            "bin_start": 2630.4,
            "bin_end": 2959.2000000000003,
            "count": 0
           },
           {
            "bin_start": 2959.2000000000003,
            "bin_end": 3288,
            "count": 1
           }
          ]
         }
        },
        {
         "name": "SHK_TAG",
         "dtype": "float64",
         "stats": {
          "unique_count": 5,
          "nan_count": 0,
          "min": "0.0",
          "max": "3288.0",
          "histogram": [
           {
            "bin_start": 0,
            "bin_end": 328.8,
            "count": 7
           },
           {
            "bin_start": 328.8,
            "bin_end": 657.6,
            "count": 0
           },
           {
            "bin_start": 657.6,
            "bin_end": 986.4000000000001,
            "count": 0
           },
           {
            "bin_start": 986.4000000000001,
            "bin_end": 1315.2,
            "count": 0
           },
           {
            "bin_start": 1315.2,
            "bin_end": 1644,
            "count": 0
           },
           {
            "bin_start": 1644,
            "bin_end": 1972.8000000000002,
            "count": 0
           },
           {
            "bin_start": 1972.8000000000002,
            "bin_end": 2301.6,
            "count": 0
           },
           {
            "bin_start": 2301.6,
            "bin_end": 2630.4,
            "count": 0
           },
           {
            "bin_start": 2630.4,
            "bin_end": 2959.2000000000003,
            "count": 0
           },
           {
            "bin_start": 2959.2000000000003,
            "bin_end": 3288,
            "count": 1
           }
          ]
         }
        },
        {
         "name": "  NM",
         "dtype": "float64",
         "stats": {
          "unique_count": 8,
          "nan_count": 0,
          "min": "0.0",
          "max": "3288.0",
          "histogram": [
           {
            "bin_start": 0,
            "bin_end": 328.8,
            "count": 7
           },
           {
            "bin_start": 328.8,
            "bin_end": 657.6,
            "count": 0
           },
           {
            "bin_start": 657.6,
            "bin_end": 986.4000000000001,
            "count": 0
           },
           {
            "bin_start": 986.4000000000001,
            "bin_end": 1315.2,
            "count": 0
           },
           {
            "bin_start": 1315.2,
            "bin_end": 1644,
            "count": 0
           },
           {
            "bin_start": 1644,
            "bin_end": 1972.8000000000002,
            "count": 0
           },
           {
            "bin_start": 1972.8000000000002,
            "bin_end": 2301.6,
            "count": 0
           },
           {
            "bin_start": 2301.6,
            "bin_end": 2630.4,
            "count": 0
           },
           {
            "bin_start": 2630.4,
            "bin_end": 2959.2000000000003,
            "count": 0
           },
           {
            "bin_start": 2959.2000000000003,
            "bin_end": 3288,
            "count": 1
           }
          ]
         }
        },
        {
         "name": " VPM",
         "dtype": "float64",
         "stats": {
          "unique_count": 8,
          "nan_count": 0,
          "min": "0.0",
          "max": "3288.0",
          "histogram": [
           {
            "bin_start": 0,
            "bin_end": 328.8,
            "count": 7
           },
           {
            "bin_start": 328.8,
            "bin_end": 657.6,
            "count": 0
           },
           {
            "bin_start": 657.6,
            "bin_end": 986.4000000000001,
            "count": 0
           },
           {
            "bin_start": 986.4000000000001,
            "bin_end": 1315.2,
            "count": 0
           },
           {
            "bin_start": 1315.2,
            "bin_end": 1644,
            "count": 0
           },
           {
            "bin_start": 1644,
            "bin_end": 1972.8000000000002,
            "count": 0
           },
           {
            "bin_start": 1972.8000000000002,
            "bin_end": 2301.6,
            "count": 0
           },
           {
            "bin_start": 2301.6,
            "bin_end": 2630.4,
            "count": 0
           },
           {
            "bin_start": 2630.4,
            "bin_end": 2959.2000000000003,
            "count": 0
           },
           {
            "bin_start": 2959.2000000000003,
            "bin_end": 3288,
            "count": 1
           }
          ]
         }
        },
        {
         "name": "  PM",
         "dtype": "float64",
         "stats": {
          "unique_count": 8,
          "nan_count": 0,
          "min": "9.139202496339234",
          "max": "3288.0",
          "histogram": [
           {
            "bin_start": 9.139202496339234,
            "bin_end": 337.02528224670533,
            "count": 1
           },
           {
            "bin_start": 337.02528224670533,
            "bin_end": 664.9113619970714,
            "count": 0
           },
           {
            "bin_start": 664.9113619970714,
            "bin_end": 992.7974417474375,
            "count": 1
           },
           {
            "bin_start": 992.7974417474375,
            "bin_end": 1320.6835214978037,
            "count": 5
           },
           {
            "bin_start": 1320.6835214978037,
            "bin_end": 1648.5696012481699,
            "count": 0
           },
           {
            "bin_start": 1648.5696012481699,
            "bin_end": 1976.4556809985359,
            "count": 0
           },
           {
            "bin_start": 1976.4556809985359,
            "bin_end": 2304.341760748902,
            "count": 0
           },
           {
            "bin_start": 2304.341760748902,
            "bin_end": 2632.227840499268,
            "count": 0
           },
           {
            "bin_start": 2632.227840499268,
            "bin_end": 2960.1139202496342,
            "count": 0
           },
           {
            "bin_start": 2960.1139202496342,
            "bin_end": 3288,
            "count": 1
           }
          ]
         }
        },
        {
         "name": " TMK",
         "dtype": "float64",
         "stats": {
          "unique_count": 8,
          "nan_count": 0,
          "min": "-9.1",
          "max": "3288.0",
          "histogram": [
           {
            "bin_start": -9.1,
            "bin_end": 320.60999999999996,
            "count": 7
           },
           {
            "bin_start": 320.60999999999996,
            "bin_end": 650.3199999999999,
            "count": 0
           },
           {
            "bin_start": 650.3199999999999,
            "bin_end": 980.0299999999999,
            "count": 0
           },
           {
            "bin_start": 980.0299999999999,
            "bin_end": 1309.74,
            "count": 0
           },
           {
            "bin_start": 1309.74,
            "bin_end": 1639.45,
            "count": 0
           },
           {
            "bin_start": 1639.45,
            "bin_end": 1969.1599999999999,
            "count": 0
           },
           {
            "bin_start": 1969.1599999999999,
            "bin_end": 2298.87,
            "count": 0
           },
           {
            "bin_start": 2298.87,
            "bin_end": 2628.58,
            "count": 0
           },
           {
            "bin_start": 2628.58,
            "bin_end": 2958.29,
            "count": 0
           },
           {
            "bin_start": 2958.29,
            "bin_end": 3288,
            "count": 1
           }
          ]
         }
        },
        {
         "name": " UPM",
         "dtype": "float64",
         "stats": {
          "unique_count": 8,
          "nan_count": 0,
          "min": "0.0",
          "max": "3288.0",
          "histogram": [
           {
            "bin_start": 0,
            "bin_end": 328.8,
            "count": 7
           },
           {
            "bin_start": 328.8,
            "bin_end": 657.6,
            "count": 0
           },
           {
            "bin_start": 657.6,
            "bin_end": 986.4000000000001,
            "count": 0
           },
           {
            "bin_start": 986.4000000000001,
            "bin_end": 1315.2,
            "count": 0
           },
           {
            "bin_start": 1315.2,
            "bin_end": 1644,
            "count": 0
           },
           {
            "bin_start": 1644,
            "bin_end": 1972.8000000000002,
            "count": 0
           },
           {
            "bin_start": 1972.8000000000002,
            "bin_end": 2301.6,
            "count": 0
           },
           {
            "bin_start": 2301.6,
            "bin_end": 2630.4,
            "count": 0
           },
           {
            "bin_start": 2630.4,
            "bin_end": 2959.2000000000003,
            "count": 0
           },
           {
            "bin_start": 2959.2000000000003,
            "bin_end": 3288,
            "count": 1
           }
          ]
         }
        },
        {
         "name": " TXK",
         "dtype": "float64",
         "stats": {
          "unique_count": 8,
          "nan_count": 0,
          "min": "-5.4",
          "max": "3288.0",
          "histogram": [
           {
            "bin_start": -5.4,
            "bin_end": 323.94000000000005,
            "count": 7
           },
           {
            "bin_start": 323.94000000000005,
            "bin_end": 653.2800000000001,
            "count": 0
           },
           {
            "bin_start": 653.2800000000001,
            "bin_end": 982.6200000000001,
            "count": 0
           },
           {
            "bin_start": 982.6200000000001,
            "bin_end": 1311.96,
            "count": 0
           },
           {
            "bin_start": 1311.96,
            "bin_end": 1641.3000000000002,
            "count": 0
           },
           {
            "bin_start": 1641.3000000000002,
            "bin_end": 1970.64,
            "count": 0
           },
           {
            "bin_start": 1970.64,
            "bin_end": 2299.98,
            "count": 0
           },
           {
            "bin_start": 2299.98,
            "bin_end": 2629.32,
            "count": 0
           },
           {
            "bin_start": 2629.32,
            "bin_end": 2958.6600000000003,
            "count": 0
           },
           {
            "bin_start": 2958.6600000000003,
            "bin_end": 3288,
            "count": 1
           }
          ]
         }
        },
        {
         "name": " TNK",
         "dtype": "float64",
         "stats": {
          "unique_count": 8,
          "nan_count": 0,
          "min": "-13.8",
          "max": "3288.0",
          "histogram": [
           {
            "bin_start": -13.8,
            "bin_end": 316.38,
            "count": 7
           },
           {
            "bin_start": 316.38,
            "bin_end": 646.5600000000001,
            "count": 0
           },
           {
            "bin_start": 646.5600000000001,
            "bin_end": 976.74,
            "count": 0
           },
           {
            "bin_start": 976.74,
            "bin_end": 1306.92,
            "count": 0
           },
           {
            "bin_start": 1306.92,
            "bin_end": 1637.1000000000001,
            "count": 0
           },
           {
            "bin_start": 1637.1000000000001,
            "bin_end": 1967.28,
            "count": 0
           },
           {
            "bin_start": 1967.28,
            "bin_end": 2297.46,
            "count": 0
           },
           {
            "bin_start": 2297.46,
            "bin_end": 2627.64,
            "count": 0
           },
           {
            "bin_start": 2627.64,
            "bin_end": 2957.8199999999997,
            "count": 0
           },
           {
            "bin_start": 2957.8199999999997,
            "bin_end": 3288,
            "count": 1
           }
          ]
         }
        },
        {
         "name": " TGK",
         "dtype": "float64",
         "stats": {
          "unique_count": 8,
          "nan_count": 0,
          "min": "-17.3",
          "max": "3288.0",
          "histogram": [
           {
            "bin_start": -17.3,
            "bin_end": 313.23,
            "count": 7
           },
           {
            "bin_start": 313.23,
            "bin_end": 643.7600000000001,
            "count": 0
           },
           {
            "bin_start": 643.7600000000001,
            "bin_end": 974.2900000000002,
            "count": 0
           },
           {
            "bin_start": 974.2900000000002,
            "bin_end": 1304.8200000000002,
            "count": 0
           },
           {
            "bin_start": 1304.8200000000002,
            "bin_end": 1635.3500000000001,
            "count": 0
           },
           {
            "bin_start": 1635.3500000000001,
            "bin_end": 1965.8800000000003,
            "count": 0
           },
           {
            "bin_start": 1965.8800000000003,
            "bin_end": 2296.41,
            "count": 0
           },
           {
            "bin_start": 2296.41,
            "bin_end": 2626.94,
            "count": 0
           },
           {
            "bin_start": 2626.94,
            "bin_end": 2957.4700000000003,
            "count": 0
           },
           {
            "bin_start": 2957.4700000000003,
            "bin_end": 3288,
            "count": 1
           }
          ]
         }
        },
        {
         "name": "YEAR",
         "dtype": "float64",
         "stats": {
          "unique_count": 7,
          "nan_count": 0,
          "min": "2.5830883848397694",
          "max": "3288.0",
          "histogram": [
           {
            "bin_start": 2.5830883848397694,
            "bin_end": 331.1247795463558,
            "count": 1
           },
           {
            "bin_start": 331.1247795463558,
            "bin_end": 659.6664707078719,
            "count": 0
           },
           {
            "bin_start": 659.6664707078719,
            "bin_end": 988.2081618693879,
            "count": 0
           },
           {
            "bin_start": 988.2081618693879,
            "bin_end": 1316.749853030904,
            "count": 0
           },
           {
            "bin_start": 1316.749853030904,
            "bin_end": 1645.2915441924201,
            "count": 0
           },
           {
            "bin_start": 1645.2915441924201,
            "bin_end": 1973.833235353936,
            "count": 0
           },
           {
            "bin_start": 1973.833235353936,
            "bin_end": 2302.374926515452,
            "count": 6
           },
           {
            "bin_start": 2302.374926515452,
            "bin_end": 2630.916617676968,
            "count": 0
           },
           {
            "bin_start": 2630.916617676968,
            "bin_end": 2959.4583088384843,
            "count": 0
           },
           {
            "bin_start": 2959.4583088384843,
            "bin_end": 3288,
            "count": 1
           }
          ]
         }
        },
        {
         "name": "WIND_CHILL",
         "dtype": "float64",
         "stats": {
          "unique_count": 8,
          "nan_count": 0,
          "min": "-15.591357711406307",
          "max": "3288.0",
          "histogram": [
           {
            "bin_start": -15.591357711406307,
            "bin_end": 314.76777805973427,
            "count": 7
           },
           {
            "bin_start": 314.76777805973427,
            "bin_end": 645.1269138308749,
            "count": 0
           },
           {
            "bin_start": 645.1269138308749,
            "bin_end": 975.4860496020154,
            "count": 0
           },
           {
            "bin_start": 975.4860496020154,
            "bin_end": 1305.845185373156,
            "count": 0
           },
           {
            "bin_start": 1305.845185373156,
            "bin_end": 1636.2043211442967,
            "count": 0
           },
           {
            "bin_start": 1636.2043211442967,
            "bin_end": 1966.5634569154372,
            "count": 0
           },
           {
            "bin_start": 1966.5634569154372,
            "bin_end": 2296.922592686578,
            "count": 0
           },
           {
            "bin_start": 2296.922592686578,
            "bin_end": 2627.2817284577186,
            "count": 0
           },
           {
            "bin_start": 2627.2817284577186,
            "bin_end": 2957.6408642288593,
            "count": 0
           },
           {
            "bin_start": 2957.6408642288593,
            "bin_end": 3288,
            "count": 1
           }
          ]
         }
        },
        {
         "name": "_deepnote_index_column",
         "dtype": "object"
        }
       ],
       "rows_top": [
        {
         "STATIONS_ID": 3288,
         "QN_3": 3288,
         "  FX": 3288,
         "  FM": 3288,
         "QN_4": 3288,
         " RSK": 3288,
         "RSKF": 3288,
         " SDK": 3288,
         "SHK_TAG": 3288,
         "  NM": 3288,
         " VPM": 3288,
         "  PM": 3288,
         " TMK": 3288,
         " UPM": 3288,
         " TXK": 3288,
         " TNK": 3288,
         " TGK": 3288,
         "YEAR": 3288,
         "WIND_CHILL": 3288,
         "_deepnote_index_column": "count"
        },
        {
         "STATIONS_ID": 1078,
         "QN_3": 9.870133819951338,
         "  FX": 10.839324817518248,
         "  FM": 14.469197080291972,
         "QN_4": 7.081204379562044,
         " RSK": 1.8470194647201947,
         "RSKF": 4.049878345498784,
         " SDK": 4.509875304136253,
         "SHK_TAG": 0.06630170316301703,
         "  NM": 5.294616788321167,
         " VPM": 10.448570559610706,
         "  PM": 1011.1425212895379,
         " TMK": 11.4875,
         " UPM": 74.76614963503648,
         " TXK": 15.78464111922141,
         " TNK": 6.831113138686131,
         " TGK": 4.487469586374695,
         "YEAR": 2016,
         "WIND_CHILL": 9.915440220344585,
         "_deepnote_index_column": "mean"
        },
        {
         "STATIONS_ID": 0,
         "QN_3": 0.9447060219666933,
         "  FX": 3.939291565890973,
         "  FM": 6.37119644713794,
         "QN_4": 3.4519306921921955,
         " RSK": 3.7991468944050446,
         "RSKF": 2.975092830580996,
         " SDK": 4.301169868555881,
         "SHK_TAG": 0.6776779527020778,
         "  NM": 1.9885460515650104,
         " VPM": 3.821505495693325,
         "  PM": 9.139202496339234,
         " TMK": 6.671630000715235,
         " UPM": 12.014656775903687,
         " TXK": 7.880181098526846,
         " TNK": 5.978121736530542,
         " TGK": 6.301533361790062,
         "YEAR": 2.5830883848397694,
         "WIND_CHILL": 8.245291873867403,
         "_deepnote_index_column": "std"
        },
        {
         "STATIONS_ID": 1078,
         "QN_3": 3,
         "  FX": 0,
         "  FM": 0,
         "QN_4": 3,
         " RSK": 0,
         "RSKF": 0,
         " SDK": 0,
         "SHK_TAG": 0,
         "  NM": 0,
         " VPM": 0,
         "  PM": 971.9,
         " TMK": -9.1,
         " UPM": 0,
         " TXK": -5.4,
         " TNK": -13.8,
         " TGK": -17.3,
         "YEAR": 2012,
         "WIND_CHILL": -15.591357711406307,
         "_deepnote_index_column": "min"
        },
        {
         "STATIONS_ID": 1078,
         "QN_3": 10,
         "  FX": 8.2,
         "  FM": 9.360000000000001,
         "QN_4": 3,
         " RSK": 0,
         "RSKF": 0,
         " SDK": 0.5,
         "SHK_TAG": 0,
         "  NM": 4.1,
         " VPM": 7.4,
         "  PM": 1005.9975,
         " TMK": 6.4,
         " UPM": 67,
         " TXK": 9.5,
         " TNK": 2.3,
         " TGK": 0,
         "YEAR": 2014,
         "WIND_CHILL": 3.3713046673038,
         "_deepnote_index_column": "25%"
        },
        {
         "STATIONS_ID": 1078,
         "QN_3": 10,
         "  FX": 10.3,
         "  FM": 13.32,
         "QN_4": 10,
         " RSK": 0.1,
         "RSKF": 6,
         " SDK": 3.325,
         "SHK_TAG": 0,
         "  NM": 5.8,
         " VPM": 9.9,
         "  PM": 1011.5,
         " TMK": 11.3,
         " UPM": 76.04,
         " TXK": 15.5,
         " TNK": 7,
         " TGK": 4.6,
         "YEAR": 2016,
         "WIND_CHILL": 9.64201636071316,
         "_deepnote_index_column": "50%"
        },
        {
         "STATIONS_ID": 1078,
         "QN_3": 10,
         "  FX": 12.9,
         "  FM": 18.36,
         "QN_4": 10,
         " RSK": 2,
         "RSKF": 6,
         " SDK": 7.641500000000001,
         "SHK_TAG": 0,
         "  NM": 6.8,
         " VPM": 13.1,
         "  PM": 1017.2,
         " TMK": 16.6,
         " UPM": 84,
         " TXK": 21.825000000000003,
         " TNK": 11.425,
         " TGK": 9.225,
         "YEAR": 2018,
         "WIND_CHILL": 16.311911504761284,
         "_deepnote_index_column": "75%"
        },
        {
         "STATIONS_ID": 1078,
         "QN_3": 10,
         "  FX": 39.5,
         "  FM": 42.12,
         "QN_4": 10,
         " RSK": 56.3,
         "RSKF": 8,
         " SDK": 15.483,
         "SHK_TAG": 13,
         "  NM": 8,
         " VPM": 22.4,
         "  PM": 1042.06,
         " TMK": 31.2,
         " UPM": 100,
         " TXK": 40.7,
         " TNK": 23.3,
         " TGK": 22.6,
         "YEAR": 2020,
         "WIND_CHILL": 33.94216842413167,
         "_deepnote_index_column": "max"
        }
       ],
       "rows_bottom": null
      },
      "text/plain": "       STATIONS_ID         QN_3           FX           FM         QN_4  \\\ncount       3288.0  3288.000000  3288.000000  3288.000000  3288.000000   \nmean        1078.0     9.870134    10.839325    14.469197     7.081204   \nstd            0.0     0.944706     3.939292     6.371196     3.451931   \nmin         1078.0     3.000000     0.000000     0.000000     3.000000   \n25%         1078.0    10.000000     8.200000     9.360000     3.000000   \n50%         1078.0    10.000000    10.300000    13.320000    10.000000   \n75%         1078.0    10.000000    12.900000    18.360000    10.000000   \nmax         1078.0    10.000000    39.500000    42.120000    10.000000   \n\n               RSK         RSKF          SDK      SHK_TAG           NM  \\\ncount  3288.000000  3288.000000  3288.000000  3288.000000  3288.000000   \nmean      1.847019     4.049878     4.509875     0.066302     5.294617   \nstd       3.799147     2.975093     4.301170     0.677678     1.988546   \nmin       0.000000     0.000000     0.000000     0.000000     0.000000   \n25%       0.000000     0.000000     0.500000     0.000000     4.100000   \n50%       0.100000     6.000000     3.325000     0.000000     5.800000   \n75%       2.000000     6.000000     7.641500     0.000000     6.800000   \nmax      56.300000     8.000000    15.483000    13.000000     8.000000   \n\n               VPM           PM         TMK          UPM          TXK  \\\ncount  3288.000000  3288.000000  3288.00000  3288.000000  3288.000000   \nmean     10.448571  1011.142521    11.48750    74.766150    15.784641   \nstd       3.821505     9.139202     6.67163    12.014657     7.880181   \nmin       0.000000   971.900000    -9.10000     0.000000    -5.400000   \n25%       7.400000  1005.997500     6.40000    67.000000     9.500000   \n50%       9.900000  1011.500000    11.30000    76.040000    15.500000   \n75%      13.100000  1017.200000    16.60000    84.000000    21.825000   \nmax      22.400000  1042.060000    31.20000   100.000000    40.700000   \n\n               TNK          TGK         YEAR   WIND_CHILL  \ncount  3288.000000  3288.000000  3288.000000  3288.000000  \nmean      6.831113     4.487470  2016.000000     9.915440  \nstd       5.978122     6.301533     2.583088     8.245292  \nmin     -13.800000   -17.300000  2012.000000   -15.591358  \n25%       2.300000     0.000000  2014.000000     3.371305  \n50%       7.000000     4.600000  2016.000000     9.642016  \n75%      11.425000     9.225000  2018.000000    16.311912  \nmax      23.300000    22.600000  2020.000000    33.942168  ",
      "text/html": "<div>\n<style scoped>\n    .dataframe tbody tr th:only-of-type {\n        vertical-align: middle;\n    }\n\n    .dataframe tbody tr th {\n        vertical-align: top;\n    }\n\n    .dataframe thead th {\n        text-align: right;\n    }\n</style>\n<table border=\"1\" class=\"dataframe\">\n  <thead>\n    <tr style=\"text-align: right;\">\n      <th></th>\n      <th>STATIONS_ID</th>\n      <th>QN_3</th>\n      <th>FX</th>\n      <th>FM</th>\n      <th>QN_4</th>\n      <th>RSK</th>\n      <th>RSKF</th>\n      <th>SDK</th>\n      <th>SHK_TAG</th>\n      <th>NM</th>\n      <th>VPM</th>\n      <th>PM</th>\n      <th>TMK</th>\n      <th>UPM</th>\n      <th>TXK</th>\n      <th>TNK</th>\n      <th>TGK</th>\n      <th>YEAR</th>\n      <th>WIND_CHILL</th>\n    </tr>\n  </thead>\n  <tbody>\n    <tr>\n      <th>count</th>\n      <td>3288.0</td>\n      <td>3288.000000</td>\n      <td>3288.000000</td>\n      <td>3288.000000</td>\n      <td>3288.000000</td>\n      <td>3288.000000</td>\n      <td>3288.000000</td>\n      <td>3288.000000</td>\n      <td>3288.000000</td>\n      <td>3288.000000</td>\n      <td>3288.000000</td>\n      <td>3288.000000</td>\n      <td>3288.00000</td>\n      <td>3288.000000</td>\n      <td>3288.000000</td>\n      <td>3288.000000</td>\n      <td>3288.000000</td>\n      <td>3288.000000</td>\n      <td>3288.000000</td>\n    </tr>\n    <tr>\n      <th>mean</th>\n      <td>1078.0</td>\n      <td>9.870134</td>\n      <td>10.839325</td>\n      <td>14.469197</td>\n      <td>7.081204</td>\n      <td>1.847019</td>\n      <td>4.049878</td>\n      <td>4.509875</td>\n      <td>0.066302</td>\n      <td>5.294617</td>\n      <td>10.448571</td>\n      <td>1011.142521</td>\n      <td>11.48750</td>\n      <td>74.766150</td>\n      <td>15.784641</td>\n      <td>6.831113</td>\n      <td>4.487470</td>\n      <td>2016.000000</td>\n      <td>9.915440</td>\n    </tr>\n    <tr>\n      <th>std</th>\n      <td>0.0</td>\n      <td>0.944706</td>\n      <td>3.939292</td>\n      <td>6.371196</td>\n      <td>3.451931</td>\n      <td>3.799147</td>\n      <td>2.975093</td>\n      <td>4.301170</td>\n      <td>0.677678</td>\n      <td>1.988546</td>\n      <td>3.821505</td>\n      <td>9.139202</td>\n      <td>6.67163</td>\n      <td>12.014657</td>\n      <td>7.880181</td>\n      <td>5.978122</td>\n      <td>6.301533</td>\n      <td>2.583088</td>\n      <td>8.245292</td>\n    </tr>\n    <tr>\n      <th>min</th>\n      <td>1078.0</td>\n      <td>3.000000</td>\n      <td>0.000000</td>\n      <td>0.000000</td>\n      <td>3.000000</td>\n      <td>0.000000</td>\n      <td>0.000000</td>\n      <td>0.000000</td>\n      <td>0.000000</td>\n      <td>0.000000</td>\n      <td>0.000000</td>\n      <td>971.900000</td>\n      <td>-9.10000</td>\n      <td>0.000000</td>\n      <td>-5.400000</td>\n      <td>-13.800000</td>\n      <td>-17.300000</td>\n      <td>2012.000000</td>\n      <td>-15.591358</td>\n    </tr>\n    <tr>\n      <th>25%</th>\n      <td>1078.0</td>\n      <td>10.000000</td>\n      <td>8.200000</td>\n      <td>9.360000</td>\n      <td>3.000000</td>\n      <td>0.000000</td>\n      <td>0.000000</td>\n      <td>0.500000</td>\n      <td>0.000000</td>\n      <td>4.100000</td>\n      <td>7.400000</td>\n      <td>1005.997500</td>\n      <td>6.40000</td>\n      <td>67.000000</td>\n      <td>9.500000</td>\n      <td>2.300000</td>\n      <td>0.000000</td>\n      <td>2014.000000</td>\n      <td>3.371305</td>\n    </tr>\n    <tr>\n      <th>50%</th>\n      <td>1078.0</td>\n      <td>10.000000</td>\n      <td>10.300000</td>\n      <td>13.320000</td>\n      <td>10.000000</td>\n      <td>0.100000</td>\n      <td>6.000000</td>\n      <td>3.325000</td>\n      <td>0.000000</td>\n      <td>5.800000</td>\n      <td>9.900000</td>\n      <td>1011.500000</td>\n      <td>11.30000</td>\n      <td>76.040000</td>\n      <td>15.500000</td>\n      <td>7.000000</td>\n      <td>4.600000</td>\n      <td>2016.000000</td>\n      <td>9.642016</td>\n    </tr>\n    <tr>\n      <th>75%</th>\n      <td>1078.0</td>\n      <td>10.000000</td>\n      <td>12.900000</td>\n      <td>18.360000</td>\n      <td>10.000000</td>\n      <td>2.000000</td>\n      <td>6.000000</td>\n      <td>7.641500</td>\n      <td>0.000000</td>\n      <td>6.800000</td>\n      <td>13.100000</td>\n      <td>1017.200000</td>\n      <td>16.60000</td>\n      <td>84.000000</td>\n      <td>21.825000</td>\n      <td>11.425000</td>\n      <td>9.225000</td>\n      <td>2018.000000</td>\n      <td>16.311912</td>\n    </tr>\n    <tr>\n      <th>max</th>\n      <td>1078.0</td>\n      <td>10.000000</td>\n      <td>39.500000</td>\n      <td>42.120000</td>\n      <td>10.000000</td>\n      <td>56.300000</td>\n      <td>8.000000</td>\n      <td>15.483000</td>\n      <td>13.000000</td>\n      <td>8.000000</td>\n      <td>22.400000</td>\n      <td>1042.060000</td>\n      <td>31.20000</td>\n      <td>100.000000</td>\n      <td>40.700000</td>\n      <td>23.300000</td>\n      <td>22.600000</td>\n      <td>2020.000000</td>\n      <td>33.942168</td>\n    </tr>\n  </tbody>\n</table>\n</div>"
     },
     "metadata": {},
     "output_type": "display_data"
    },
    {
     "name": "stdout",
     "text": "\n\n",
     "output_type": "stream"
    },
    {
     "data": {
      "text/plain": "'Frankfurt'"
     },
     "metadata": {},
     "output_type": "display_data"
    },
    {
     "data": {
      "application/vnd.deepnote.dataframe.v2+json": {
       "row_count": 8,
       "column_count": 19,
       "columns": [
        {
         "name": "STATIONS_ID",
         "dtype": "float64",
         "stats": {
          "unique_count": 3,
          "nan_count": 0,
          "min": "0.0",
          "max": "3288.0",
          "histogram": [
           {
            "bin_start": 0,
            "bin_end": 328.8,
            "count": 1
           },
           {
            "bin_start": 328.8,
            "bin_end": 657.6,
            "count": 0
           },
           {
            "bin_start": 657.6,
            "bin_end": 986.4000000000001,
            "count": 0
           },
           {
            "bin_start": 986.4000000000001,
            "bin_end": 1315.2,
            "count": 0
           },
           {
            "bin_start": 1315.2,
            "bin_end": 1644,
            "count": 6
           },
           {
            "bin_start": 1644,
            "bin_end": 1972.8000000000002,
            "count": 0
           },
           {
            "bin_start": 1972.8000000000002,
            "bin_end": 2301.6,
            "count": 0
           },
           {
            "bin_start": 2301.6,
            "bin_end": 2630.4,
            "count": 0
           },
           {
            "bin_start": 2630.4,
            "bin_end": 2959.2000000000003,
            "count": 0
           },
           {
            "bin_start": 2959.2000000000003,
            "bin_end": 3288,
            "count": 1
           }
          ]
         }
        },
        {
         "name": "QN_3",
         "dtype": "float64",
         "stats": {
          "unique_count": 5,
          "nan_count": 0,
          "min": "0.9447060219666933",
          "max": "3288.0",
          "histogram": [
           {
            "bin_start": 0.9447060219666933,
            "bin_end": 329.65023541977,
            "count": 7
           },
           {
            "bin_start": 329.65023541977,
            "bin_end": 658.3557648175733,
            "count": 0
           },
           {
            "bin_start": 658.3557648175733,
            "bin_end": 987.0612942153767,
            "count": 0
           },
           {
            "bin_start": 987.0612942153767,
            "bin_end": 1315.7668236131801,
            "count": 0
           },
           {
            "bin_start": 1315.7668236131801,
            "bin_end": 1644.4723530109834,
            "count": 0
           },
           {
            "bin_start": 1644.4723530109834,
            "bin_end": 1973.177882408787,
            "count": 0
           },
           {
            "bin_start": 1973.177882408787,
            "bin_end": 2301.88341180659,
            "count": 0
           },
           {
            "bin_start": 2301.88341180659,
            "bin_end": 2630.5889412043934,
            "count": 0
           },
           {
            "bin_start": 2630.5889412043934,
            "bin_end": 2959.2944706021967,
            "count": 0
           },
           {
            "bin_start": 2959.2944706021967,
            "bin_end": 3288,
            "count": 1
           }
          ]
         }
        },
        {
         "name": "  FX",
         "dtype": "float64",
         "stats": {
          "unique_count": 8,
          "nan_count": 0,
          "min": "0.0",
          "max": "3288.0",
          "histogram": [
           {
            "bin_start": 0,
            "bin_end": 328.8,
            "count": 7
           },
           {
            "bin_start": 328.8,
            "bin_end": 657.6,
            "count": 0
           },
           {
            "bin_start": 657.6,
            "bin_end": 986.4000000000001,
            "count": 0
           },
           {
            "bin_start": 986.4000000000001,
            "bin_end": 1315.2,
            "count": 0
           },
           {
            "bin_start": 1315.2,
            "bin_end": 1644,
            "count": 0
           },
           {
            "bin_start": 1644,
            "bin_end": 1972.8000000000002,
            "count": 0
           },
           {
            "bin_start": 1972.8000000000002,
            "bin_end": 2301.6,
            "count": 0
           },
           {
            "bin_start": 2301.6,
            "bin_end": 2630.4,
            "count": 0
           },
           {
            "bin_start": 2630.4,
            "bin_end": 2959.2000000000003,
            "count": 0
           },
           {
            "bin_start": 2959.2000000000003,
            "bin_end": 3288,
            "count": 1
           }
          ]
         }
        },
        {
         "name": "  FM",
         "dtype": "float64",
         "stats": {
          "unique_count": 8,
          "nan_count": 0,
          "min": "0.0",
          "max": "3288.0",
          "histogram": [
           {
            "bin_start": 0,
            "bin_end": 328.8,
            "count": 7
           },
           {
            "bin_start": 328.8,
            "bin_end": 657.6,
            "count": 0
           },
           {
            "bin_start": 657.6,
            "bin_end": 986.4000000000001,
            "count": 0
           },
           {
            "bin_start": 986.4000000000001,
            "bin_end": 1315.2,
            "count": 0
           },
           {
            "bin_start": 1315.2,
            "bin_end": 1644,
            "count": 0
           },
           {
            "bin_start": 1644,
            "bin_end": 1972.8000000000002,
            "count": 0
           },
           {
            "bin_start": 1972.8000000000002,
            "bin_end": 2301.6,
            "count": 0
           },
           {
            "bin_start": 2301.6,
            "bin_end": 2630.4,
            "count": 0
           },
           {
            "bin_start": 2630.4,
            "bin_end": 2959.2000000000003,
            "count": 0
           },
           {
            "bin_start": 2959.2000000000003,
            "bin_end": 3288,
            "count": 1
           }
          ]
         }
        },
        {
         "name": "QN_4",
         "dtype": "float64",
         "stats": {
          "unique_count": 5,
          "nan_count": 0,
          "min": "3.0",
          "max": "3288.0",
          "histogram": [
           {
            "bin_start": 3,
            "bin_end": 331.5,
            "count": 7
           },
           {
            "bin_start": 331.5,
            "bin_end": 660,
            "count": 0
           },
           {
            "bin_start": 660,
            "bin_end": 988.5,
            "count": 0
           },
           {
            "bin_start": 988.5,
            "bin_end": 1317,
            "count": 0
           },
           {
            "bin_start": 1317,
            "bin_end": 1645.5,
            "count": 0
           },
           {
            "bin_start": 1645.5,
            "bin_end": 1974,
            "count": 0
           },
           {
            "bin_start": 1974,
            "bin_end": 2302.5,
            "count": 0
           },
           {
            "bin_start": 2302.5,
            "bin_end": 2631,
            "count": 0
           },
           {
            "bin_start": 2631,
            "bin_end": 2959.5,
            "count": 0
           },
           {
            "bin_start": 2959.5,
            "bin_end": 3288,
            "count": 1
           }
          ]
         }
        },
        {
         "name": " RSK",
         "dtype": "float64",
         "stats": {
          "unique_count": 6,
          "nan_count": 0,
          "min": "0.0",
          "max": "3288.0",
          "histogram": [
           {
            "bin_start": 0,
            "bin_end": 328.8,
            "count": 7
           },
           {
            "bin_start": 328.8,
            "bin_end": 657.6,
            "count": 0
           },
           {
            "bin_start": 657.6,
            "bin_end": 986.4000000000001,
            "count": 0
           },
           {
            "bin_start": 986.4000000000001,
            "bin_end": 1315.2,
            "count": 0
           },
           {
            "bin_start": 1315.2,
            "bin_end": 1644,
            "count": 0
           },
           {
            "bin_start": 1644,
            "bin_end": 1972.8000000000002,
            "count": 0
           },
           {
            "bin_start": 1972.8000000000002,
            "bin_end": 2301.6,
            "count": 0
           },
           {
            "bin_start": 2301.6,
            "bin_end": 2630.4,
            "count": 0
           },
           {
            "bin_start": 2630.4,
            "bin_end": 2959.2000000000003,
            "count": 0
           },
           {
            "bin_start": 2959.2000000000003,
            "bin_end": 3288,
            "count": 1
           }
          ]
         }
        },
        {
         "name": "RSKF",
         "dtype": "float64",
         "stats": {
          "unique_count": 6,
          "nan_count": 0,
          "min": "0.0",
          "max": "3288.0",
          "histogram": [
           {
            "bin_start": 0,
            "bin_end": 328.8,
            "count": 7
           },
           {
            "bin_start": 328.8,
            "bin_end": 657.6,
            "count": 0
           },
           {
            "bin_start": 657.6,
            "bin_end": 986.4000000000001,
            "count": 0
           },
           {
            "bin_start": 986.4000000000001,
            "bin_end": 1315.2,
            "count": 0
           },
           {
            "bin_start": 1315.2,
            "bin_end": 1644,
            "count": 0
           },
           {
            "bin_start": 1644,
            "bin_end": 1972.8000000000002,
            "count": 0
           },
           {
            "bin_start": 1972.8000000000002,
            "bin_end": 2301.6,
            "count": 0
           },
           {
            "bin_start": 2301.6,
            "bin_end": 2630.4,
            "count": 0
           },
           {
            "bin_start": 2630.4,
            "bin_end": 2959.2000000000003,
            "count": 0
           },
           {
            "bin_start": 2959.2000000000003,
            "bin_end": 3288,
            "count": 1
           }
          ]
         }
        },
        {
         "name": " SDK",
         "dtype": "float64",
         "stats": {
          "unique_count": 8,
          "nan_count": 0,
          "min": "0.0",
          "max": "3288.0",
          "histogram": [
           {
            "bin_start": 0,
            "bin_end": 328.8,
            "count": 7
           },
           {
            "bin_start": 328.8,
            "bin_end": 657.6,
            "count": 0
           },
           {
            "bin_start": 657.6,
            "bin_end": 986.4000000000001,
            "count": 0
           },
           {
            "bin_start": 986.4000000000001,
            "bin_end": 1315.2,
            "count": 0
           },
           {
            "bin_start": 1315.2,
            "bin_end": 1644,
            "count": 0
           },
           {
            "bin_start": 1644,
            "bin_end": 1972.8000000000002,
            "count": 0
           },
           {
            "bin_start": 1972.8000000000002,
            "bin_end": 2301.6,
            "count": 0
           },
           {
            "bin_start": 2301.6,
            "bin_end": 2630.4,
            "count": 0
           },
           {
            "bin_start": 2630.4,
            "bin_end": 2959.2000000000003,
            "count": 0
           },
           {
            "bin_start": 2959.2000000000003,
            "bin_end": 3288,
            "count": 1
           }
          ]
         }
        },
        {
         "name": "SHK_TAG",
         "dtype": "float64",
         "stats": {
          "unique_count": 5,
          "nan_count": 0,
          "min": "0.0",
          "max": "3288.0",
          "histogram": [
           {
            "bin_start": 0,
            "bin_end": 328.8,
            "count": 7
           },
           {
            "bin_start": 328.8,
            "bin_end": 657.6,
            "count": 0
           },
           {
            "bin_start": 657.6,
            "bin_end": 986.4000000000001,
            "count": 0
           },
           {
            "bin_start": 986.4000000000001,
            "bin_end": 1315.2,
            "count": 0
           },
           {
            "bin_start": 1315.2,
            "bin_end": 1644,
            "count": 0
           },
           {
            "bin_start": 1644,
            "bin_end": 1972.8000000000002,
            "count": 0
           },
           {
            "bin_start": 1972.8000000000002,
            "bin_end": 2301.6,
            "count": 0
           },
           {
            "bin_start": 2301.6,
            "bin_end": 2630.4,
            "count": 0
           },
           {
            "bin_start": 2630.4,
            "bin_end": 2959.2000000000003,
            "count": 0
           },
           {
            "bin_start": 2959.2000000000003,
            "bin_end": 3288,
            "count": 1
           }
          ]
         }
        },
        {
         "name": "  NM",
         "dtype": "float64",
         "stats": {
          "unique_count": 8,
          "nan_count": 0,
          "min": "0.0",
          "max": "3288.0",
          "histogram": [
           {
            "bin_start": 0,
            "bin_end": 328.8,
            "count": 7
           },
           {
            "bin_start": 328.8,
            "bin_end": 657.6,
            "count": 0
           },
           {
            "bin_start": 657.6,
            "bin_end": 986.4000000000001,
            "count": 0
           },
           {
            "bin_start": 986.4000000000001,
            "bin_end": 1315.2,
            "count": 0
           },
           {
            "bin_start": 1315.2,
            "bin_end": 1644,
            "count": 0
           },
           {
            "bin_start": 1644,
            "bin_end": 1972.8000000000002,
            "count": 0
           },
           {
            "bin_start": 1972.8000000000002,
            "bin_end": 2301.6,
            "count": 0
           },
           {
            "bin_start": 2301.6,
            "bin_end": 2630.4,
            "count": 0
           },
           {
            "bin_start": 2630.4,
            "bin_end": 2959.2000000000003,
            "count": 0
           },
           {
            "bin_start": 2959.2000000000003,
            "bin_end": 3288,
            "count": 1
           }
          ]
         }
        },
        {
         "name": " VPM",
         "dtype": "float64",
         "stats": {
          "unique_count": 8,
          "nan_count": 0,
          "min": "1.6",
          "max": "3288.0",
          "histogram": [
           {
            "bin_start": 1.6,
            "bin_end": 330.24,
            "count": 7
           },
           {
            "bin_start": 330.24,
            "bin_end": 658.88,
            "count": 0
           },
           {
            "bin_start": 658.88,
            "bin_end": 987.52,
            "count": 0
           },
           {
            "bin_start": 987.52,
            "bin_end": 1316.1599999999999,
            "count": 0
           },
           {
            "bin_start": 1316.1599999999999,
            "bin_end": 1644.7999999999997,
            "count": 0
           },
           {
            "bin_start": 1644.7999999999997,
            "bin_end": 1973.4399999999998,
            "count": 0
           },
           {
            "bin_start": 1973.4399999999998,
            "bin_end": 2302.08,
            "count": 0
           },
           {
            "bin_start": 2302.08,
            "bin_end": 2630.72,
            "count": 0
           },
           {
            "bin_start": 2630.72,
            "bin_end": 2959.3599999999997,
            "count": 0
           },
           {
            "bin_start": 2959.3599999999997,
            "bin_end": 3288,
            "count": 1
           }
          ]
         }
        },
        {
         "name": "  PM",
         "dtype": "float64",
         "stats": {
          "unique_count": 8,
          "nan_count": 0,
          "min": "8.487034338843165",
          "max": "3288.0",
          "histogram": [
           {
            "bin_start": 8.487034338843165,
            "bin_end": 336.43833090495883,
            "count": 1
           },
           {
            "bin_start": 336.43833090495883,
            "bin_end": 664.3896274710745,
            "count": 0
           },
           {
            "bin_start": 664.3896274710745,
            "bin_end": 992.3409240371902,
            "count": 1
           },
           {
            "bin_start": 992.3409240371902,
            "bin_end": 1320.2922206033059,
            "count": 5
           },
           {
            "bin_start": 1320.2922206033059,
            "bin_end": 1648.2435171694215,
            "count": 0
           },
           {
            "bin_start": 1648.2435171694215,
            "bin_end": 1976.1948137355373,
            "count": 0
           },
           {
            "bin_start": 1976.1948137355373,
            "bin_end": 2304.146110301653,
            "count": 0
           },
           {
            "bin_start": 2304.146110301653,
            "bin_end": 2632.0974068677688,
            "count": 0
           },
           {
            "bin_start": 2632.0974068677688,
            "bin_end": 2960.0487034338844,
            "count": 0
           },
           {
            "bin_start": 2960.0487034338844,
            "bin_end": 3288,
            "count": 1
           }
          ]
         }
        },
        {
         "name": " TMK",
         "dtype": "float64",
         "stats": {
          "unique_count": 8,
          "nan_count": 0,
          "min": "-10.9",
          "max": "3288.0",
          "histogram": [
           {
            "bin_start": -10.9,
            "bin_end": 318.99,
            "count": 7
           },
           {
            "bin_start": 318.99,
            "bin_end": 648.88,
            "count": 0
           },
           {
            "bin_start": 648.88,
            "bin_end": 978.77,
            "count": 0
           },
           {
            "bin_start": 978.77,
            "bin_end": 1308.6599999999999,
            "count": 0
           },
           {
            "bin_start": 1308.6599999999999,
            "bin_end": 1638.5499999999997,
            "count": 0
           },
           {
            "bin_start": 1638.5499999999997,
            "bin_end": 1968.4399999999998,
            "count": 0
           },
           {
            "bin_start": 1968.4399999999998,
            "bin_end": 2298.33,
            "count": 0
           },
           {
            "bin_start": 2298.33,
            "bin_end": 2628.22,
            "count": 0
           },
           {
            "bin_start": 2628.22,
            "bin_end": 2958.1099999999997,
            "count": 0
           },
           {
            "bin_start": 2958.1099999999997,
            "bin_end": 3288,
            "count": 1
           }
          ]
         }
        },
        {
         "name": " UPM",
         "dtype": "float64",
         "stats": {
          "unique_count": 8,
          "nan_count": 0,
          "min": "14.069654735499993",
          "max": "3288.0",
          "histogram": [
           {
            "bin_start": 14.069654735499993,
            "bin_end": 341.46268926194995,
            "count": 7
           },
           {
            "bin_start": 341.46268926194995,
            "bin_end": 668.8557237883999,
            "count": 0
           },
           {
            "bin_start": 668.8557237883999,
            "bin_end": 996.2487583148499,
            "count": 0
           },
           {
            "bin_start": 996.2487583148499,
            "bin_end": 1323.6417928413,
            "count": 0
           },
           {
            "bin_start": 1323.6417928413,
            "bin_end": 1651.03482736775,
            "count": 0
           },
           {
            "bin_start": 1651.03482736775,
            "bin_end": 1978.4278618941999,
            "count": 0
           },
           {
            "bin_start": 1978.4278618941999,
            "bin_end": 2305.82089642065,
            "count": 0
           },
           {
            "bin_start": 2305.82089642065,
            "bin_end": 2633.2139309471,
            "count": 0
           },
           {
            "bin_start": 2633.2139309471,
            "bin_end": 2960.6069654735497,
            "count": 0
           },
           {
            "bin_start": 2960.6069654735497,
            "bin_end": 3288,
            "count": 1
           }
          ]
         }
        },
        {
         "name": " TXK",
         "dtype": "float64",
         "stats": {
          "unique_count": 8,
          "nan_count": 0,
          "min": "-7.5",
          "max": "3288.0",
          "histogram": [
           {
            "bin_start": -7.5,
            "bin_end": 322.05,
            "count": 7
           },
           {
            "bin_start": 322.05,
            "bin_end": 651.6,
            "count": 0
           },
           {
            "bin_start": 651.6,
            "bin_end": 981.1500000000001,
            "count": 0
           },
           {
            "bin_start": 981.1500000000001,
            "bin_end": 1310.7,
            "count": 0
           },
           {
            "bin_start": 1310.7,
            "bin_end": 1640.25,
            "count": 0
           },
           {
            "bin_start": 1640.25,
            "bin_end": 1969.8000000000002,
            "count": 0
           },
           {
            "bin_start": 1969.8000000000002,
            "bin_end": 2299.35,
            "count": 0
           },
           {
            "bin_start": 2299.35,
            "bin_end": 2628.9,
            "count": 0
           },
           {
            "bin_start": 2628.9,
            "bin_end": 2958.4500000000003,
            "count": 0
           },
           {
            "bin_start": 2958.4500000000003,
            "bin_end": 3288,
            "count": 1
           }
          ]
         }
        },
        {
         "name": " TNK",
         "dtype": "float64",
         "stats": {
          "unique_count": 8,
          "nan_count": 0,
          "min": "-16.0",
          "max": "3288.0",
          "histogram": [
           {
            "bin_start": -16,
            "bin_end": 314.4,
            "count": 7
           },
           {
            "bin_start": 314.4,
            "bin_end": 644.8,
            "count": 0
           },
           {
            "bin_start": 644.8,
            "bin_end": 975.1999999999999,
            "count": 0
           },
           {
            "bin_start": 975.1999999999999,
            "bin_end": 1305.6,
            "count": 0
           },
           {
            "bin_start": 1305.6,
            "bin_end": 1636,
            "count": 0
           },
           {
            "bin_start": 1636,
            "bin_end": 1966.3999999999999,
            "count": 0
           },
           {
            "bin_start": 1966.3999999999999,
            "bin_end": 2296.7999999999997,
            "count": 0
           },
           {
            "bin_start": 2296.7999999999997,
            "bin_end": 2627.2,
            "count": 0
           },
           {
            "bin_start": 2627.2,
            "bin_end": 2957.6,
            "count": 0
           },
           {
            "bin_start": 2957.6,
            "bin_end": 3288,
            "count": 1
           }
          ]
         }
        },
        {
         "name": " TGK",
         "dtype": "float64",
         "stats": {
          "unique_count": 8,
          "nan_count": 0,
          "min": "-20.1",
          "max": "3288.0",
          "histogram": [
           {
            "bin_start": -20.1,
            "bin_end": 310.71,
            "count": 7
           },
           {
            "bin_start": 310.71,
            "bin_end": 641.52,
            "count": 0
           },
           {
            "bin_start": 641.52,
            "bin_end": 972.33,
            "count": 0
           },
           {
            "bin_start": 972.33,
            "bin_end": 1303.14,
            "count": 0
           },
           {
            "bin_start": 1303.14,
            "bin_end": 1633.95,
            "count": 0
           },
           {
            "bin_start": 1633.95,
            "bin_end": 1964.7600000000002,
            "count": 0
           },
           {
            "bin_start": 1964.7600000000002,
            "bin_end": 2295.57,
            "count": 0
           },
           {
            "bin_start": 2295.57,
            "bin_end": 2626.38,
            "count": 0
           },
           {
            "bin_start": 2626.38,
            "bin_end": 2957.19,
            "count": 0
           },
           {
            "bin_start": 2957.19,
            "bin_end": 3288,
            "count": 1
           }
          ]
         }
        },
        {
         "name": "YEAR",
         "dtype": "float64",
         "stats": {
          "unique_count": 7,
          "nan_count": 0,
          "min": "2.5830883848397694",
          "max": "3288.0",
          "histogram": [
           {
            "bin_start": 2.5830883848397694,
            "bin_end": 331.1247795463558,
            "count": 1
           },
           {
            "bin_start": 331.1247795463558,
            "bin_end": 659.6664707078719,
            "count": 0
           },
           {
            "bin_start": 659.6664707078719,
            "bin_end": 988.2081618693879,
            "count": 0
           },
           {
            "bin_start": 988.2081618693879,
            "bin_end": 1316.749853030904,
            "count": 0
           },
           {
            "bin_start": 1316.749853030904,
            "bin_end": 1645.2915441924201,
            "count": 0
           },
           {
            "bin_start": 1645.2915441924201,
            "bin_end": 1973.833235353936,
            "count": 0
           },
           {
            "bin_start": 1973.833235353936,
            "bin_end": 2302.374926515452,
            "count": 6
           },
           {
            "bin_start": 2302.374926515452,
            "bin_end": 2630.916617676968,
            "count": 0
           },
           {
            "bin_start": 2630.916617676968,
            "bin_end": 2959.4583088384843,
            "count": 0
           },
           {
            "bin_start": 2959.4583088384843,
            "bin_end": 3288,
            "count": 1
           }
          ]
         }
        },
        {
         "name": "WIND_CHILL",
         "dtype": "float64",
         "stats": {
          "unique_count": 8,
          "nan_count": 0,
          "min": "-18.242383785878467",
          "max": "3288.0",
          "histogram": [
           {
            "bin_start": -18.242383785878467,
            "bin_end": 312.3818545927094,
            "count": 7
           },
           {
            "bin_start": 312.3818545927094,
            "bin_end": 643.0060929712972,
            "count": 0
           },
           {
            "bin_start": 643.0060929712972,
            "bin_end": 973.6303313498851,
            "count": 0
           },
           {
            "bin_start": 973.6303313498851,
            "bin_end": 1304.254569728473,
            "count": 0
           },
           {
            "bin_start": 1304.254569728473,
            "bin_end": 1634.8788081070609,
            "count": 0
           },
           {
            "bin_start": 1634.8788081070609,
            "bin_end": 1965.5030464856486,
            "count": 0
           },
           {
            "bin_start": 1965.5030464856486,
            "bin_end": 2296.1272848642366,
            "count": 0
           },
           {
            "bin_start": 2296.1272848642366,
            "bin_end": 2626.7515232428245,
            "count": 0
           },
           {
            "bin_start": 2626.7515232428245,
            "bin_end": 2957.3757616214125,
            "count": 0
           },
           {
            "bin_start": 2957.3757616214125,
            "bin_end": 3288,
            "count": 1
           }
          ]
         }
        },
        {
         "name": "_deepnote_index_column",
         "dtype": "object"
        }
       ],
       "rows_top": [
        {
         "STATIONS_ID": 3288,
         "QN_3": 3288,
         "  FX": 3288,
         "  FM": 3288,
         "QN_4": 3288,
         " RSK": 3288,
         "RSKF": 3288,
         " SDK": 3288,
         "SHK_TAG": 3288,
         "  NM": 3288,
         " VPM": 3288,
         "  PM": 3288,
         " TMK": 3288,
         " UPM": 3288,
         " TXK": 3288,
         " TNK": 3288,
         " TGK": 3288,
         "YEAR": 3288,
         "WIND_CHILL": 3288,
         "_deepnote_index_column": "count"
        },
        {
         "STATIONS_ID": 1420,
         "QN_3": 9.870133819951338,
         "  FX": 10.80279805352798,
         "  FM": 11.944160583941605,
         "QN_4": 7.081204379562044,
         " RSK": 1.5835462287104625,
         "RSKF": 3.8972019464720193,
         " SDK": 4.863555656934306,
         "SHK_TAG": 0.08029197080291971,
         "  NM": 5.347354014598539,
         " VPM": 10.194890510948905,
         "  PM": 1003.9936040145984,
         " TMK": 11.579197080291971,
         " UPM": 72.78924878345498,
         " TXK": 16.150091240875913,
         " TNK": 6.903832116788322,
         " TGK": 5.119799270072993,
         "YEAR": 2016,
         "WIND_CHILL": 10.39292387558355,
         "_deepnote_index_column": "mean"
        },
        {
         "STATIONS_ID": 0,
         "QN_3": 0.9447060219666933,
         "  FX": 3.759634384103313,
         "  FM": 5.613125147588112,
         "QN_4": 3.4519306921921955,
         " RSK": 3.729489282811983,
         "RSKF": 3.047801616512054,
         " SDK": 4.534741622870317,
         "SHK_TAG": 0.7273196621825033,
         "  NM": 1.9938097829383366,
         " VPM": 3.9690993139929747,
         "  PM": 8.487034338843165,
         " TMK": 7.378043571887751,
         " UPM": 14.069654735499993,
         " TXK": 8.801267989044334,
         " TNK": 6.498782542962526,
         " TGK": 6.638449944513421,
         "YEAR": 2.5830883848397694,
         "WIND_CHILL": 8.882599103422523,
         "_deepnote_index_column": "std"
        },
        {
         "STATIONS_ID": 1420,
         "QN_3": 3,
         "  FX": 0,
         "  FM": 0,
         "QN_4": 3,
         " RSK": 0,
         "RSKF": 0,
         " SDK": 0,
         "SHK_TAG": 0,
         "  NM": 0,
         " VPM": 1.6,
         "  PM": 965.4,
         " TMK": -10.9,
         " UPM": 27.42,
         " TXK": -7.5,
         " TNK": -16,
         " TGK": -20.1,
         "YEAR": 2012,
         "WIND_CHILL": -18.242383785878467,
         "_deepnote_index_column": "min"
        },
        {
         "STATIONS_ID": 1420,
         "QN_3": 10,
         "  FX": 8.2,
         "  FM": 7.920000000000001,
         "QN_4": 3,
         " RSK": 0,
         "RSKF": 0,
         " SDK": 0.467,
         "SHK_TAG": 0,
         "  NM": 4.175000000000001,
         " VPM": 7,
         "  PM": 999.0074999999999,
         " TMK": 5.675000000000001,
         " UPM": 62,
         " TXK": 8.9,
         " TNK": 1.9,
         " TGK": 0.1,
         "YEAR": 2014,
         "WIND_CHILL": 3.1553814115222885,
         "_deepnote_index_column": "25%"
        },
        {
         "STATIONS_ID": 1420,
         "QN_3": 10,
         "  FX": 10.4,
         "  FM": 10.44,
         "QN_4": 10,
         " RSK": 0,
         "RSKF": 6,
         " SDK": 3.8,
         "SHK_TAG": 0,
         "  NM": 5.8,
         " VPM": 9.6,
         "  PM": 1004.2,
         " TMK": 11.3,
         " UPM": 74,
         " TXK": 16,
         " TNK": 6.8,
         " TGK": 4.9,
         "YEAR": 2016,
         "WIND_CHILL": 10.096245103051391,
         "_deepnote_index_column": "50%"
        },
        {
         "STATIONS_ID": 1420,
         "QN_3": 10,
         "  FX": 12.9,
         "  FM": 15.120000000000001,
         "QN_4": 10,
         " RSK": 1.2249999999999999,
         "RSKF": 6,
         " SDK": 8.5,
         "SHK_TAG": 0,
         "  NM": 6.9,
         " VPM": 13,
         "  PM": 1009.4,
         " TMK": 17.4,
         " UPM": 84,
         " TXK": 23,
         " TNK": 12,
         " TGK": 10.2,
         "YEAR": 2018,
         "WIND_CHILL": 17.375766185196177,
         "_deepnote_index_column": "75%"
        },
        {
         "STATIONS_ID": 1420,
         "QN_3": 10,
         "  FX": 35,
         "  FM": 38.88,
         "QN_4": 10,
         " RSK": 50.2,
         "RSKF": 8,
         " SDK": 15.667,
         "SHK_TAG": 18,
         "  NM": 8,
         " VPM": 21.9,
         "  PM": 1033.16,
         " TMK": 32,
         " UPM": 100,
         " TXK": 40.1,
         " TNK": 25.7,
         " TGK": 23.5,
         "YEAR": 2020,
         "WIND_CHILL": 34.86904814780211,
         "_deepnote_index_column": "max"
        }
       ],
       "rows_bottom": null
      },
      "text/plain": "       STATIONS_ID         QN_3           FX           FM         QN_4  \\\ncount       3288.0  3288.000000  3288.000000  3288.000000  3288.000000   \nmean        1420.0     9.870134    10.802798    11.944161     7.081204   \nstd            0.0     0.944706     3.759634     5.613125     3.451931   \nmin         1420.0     3.000000     0.000000     0.000000     3.000000   \n25%         1420.0    10.000000     8.200000     7.920000     3.000000   \n50%         1420.0    10.000000    10.400000    10.440000    10.000000   \n75%         1420.0    10.000000    12.900000    15.120000    10.000000   \nmax         1420.0    10.000000    35.000000    38.880000    10.000000   \n\n               RSK         RSKF          SDK      SHK_TAG           NM  \\\ncount  3288.000000  3288.000000  3288.000000  3288.000000  3288.000000   \nmean      1.583546     3.897202     4.863556     0.080292     5.347354   \nstd       3.729489     3.047802     4.534742     0.727320     1.993810   \nmin       0.000000     0.000000     0.000000     0.000000     0.000000   \n25%       0.000000     0.000000     0.467000     0.000000     4.175000   \n50%       0.000000     6.000000     3.800000     0.000000     5.800000   \n75%       1.225000     6.000000     8.500000     0.000000     6.900000   \nmax      50.200000     8.000000    15.667000    18.000000     8.000000   \n\n               VPM           PM          TMK          UPM          TXK  \\\ncount  3288.000000  3288.000000  3288.000000  3288.000000  3288.000000   \nmean     10.194891  1003.993604    11.579197    72.789249    16.150091   \nstd       3.969099     8.487034     7.378044    14.069655     8.801268   \nmin       1.600000   965.400000   -10.900000    27.420000    -7.500000   \n25%       7.000000   999.007500     5.675000    62.000000     8.900000   \n50%       9.600000  1004.200000    11.300000    74.000000    16.000000   \n75%      13.000000  1009.400000    17.400000    84.000000    23.000000   \nmax      21.900000  1033.160000    32.000000   100.000000    40.100000   \n\n               TNK          TGK         YEAR   WIND_CHILL  \ncount  3288.000000  3288.000000  3288.000000  3288.000000  \nmean      6.903832     5.119799  2016.000000    10.392924  \nstd       6.498783     6.638450     2.583088     8.882599  \nmin     -16.000000   -20.100000  2012.000000   -18.242384  \n25%       1.900000     0.100000  2014.000000     3.155381  \n50%       6.800000     4.900000  2016.000000    10.096245  \n75%      12.000000    10.200000  2018.000000    17.375766  \nmax      25.700000    23.500000  2020.000000    34.869048  ",
      "text/html": "<div>\n<style scoped>\n    .dataframe tbody tr th:only-of-type {\n        vertical-align: middle;\n    }\n\n    .dataframe tbody tr th {\n        vertical-align: top;\n    }\n\n    .dataframe thead th {\n        text-align: right;\n    }\n</style>\n<table border=\"1\" class=\"dataframe\">\n  <thead>\n    <tr style=\"text-align: right;\">\n      <th></th>\n      <th>STATIONS_ID</th>\n      <th>QN_3</th>\n      <th>FX</th>\n      <th>FM</th>\n      <th>QN_4</th>\n      <th>RSK</th>\n      <th>RSKF</th>\n      <th>SDK</th>\n      <th>SHK_TAG</th>\n      <th>NM</th>\n      <th>VPM</th>\n      <th>PM</th>\n      <th>TMK</th>\n      <th>UPM</th>\n      <th>TXK</th>\n      <th>TNK</th>\n      <th>TGK</th>\n      <th>YEAR</th>\n      <th>WIND_CHILL</th>\n    </tr>\n  </thead>\n  <tbody>\n    <tr>\n      <th>count</th>\n      <td>3288.0</td>\n      <td>3288.000000</td>\n      <td>3288.000000</td>\n      <td>3288.000000</td>\n      <td>3288.000000</td>\n      <td>3288.000000</td>\n      <td>3288.000000</td>\n      <td>3288.000000</td>\n      <td>3288.000000</td>\n      <td>3288.000000</td>\n      <td>3288.000000</td>\n      <td>3288.000000</td>\n      <td>3288.000000</td>\n      <td>3288.000000</td>\n      <td>3288.000000</td>\n      <td>3288.000000</td>\n      <td>3288.000000</td>\n      <td>3288.000000</td>\n      <td>3288.000000</td>\n    </tr>\n    <tr>\n      <th>mean</th>\n      <td>1420.0</td>\n      <td>9.870134</td>\n      <td>10.802798</td>\n      <td>11.944161</td>\n      <td>7.081204</td>\n      <td>1.583546</td>\n      <td>3.897202</td>\n      <td>4.863556</td>\n      <td>0.080292</td>\n      <td>5.347354</td>\n      <td>10.194891</td>\n      <td>1003.993604</td>\n      <td>11.579197</td>\n      <td>72.789249</td>\n      <td>16.150091</td>\n      <td>6.903832</td>\n      <td>5.119799</td>\n      <td>2016.000000</td>\n      <td>10.392924</td>\n    </tr>\n    <tr>\n      <th>std</th>\n      <td>0.0</td>\n      <td>0.944706</td>\n      <td>3.759634</td>\n      <td>5.613125</td>\n      <td>3.451931</td>\n      <td>3.729489</td>\n      <td>3.047802</td>\n      <td>4.534742</td>\n      <td>0.727320</td>\n      <td>1.993810</td>\n      <td>3.969099</td>\n      <td>8.487034</td>\n      <td>7.378044</td>\n      <td>14.069655</td>\n      <td>8.801268</td>\n      <td>6.498783</td>\n      <td>6.638450</td>\n      <td>2.583088</td>\n      <td>8.882599</td>\n    </tr>\n    <tr>\n      <th>min</th>\n      <td>1420.0</td>\n      <td>3.000000</td>\n      <td>0.000000</td>\n      <td>0.000000</td>\n      <td>3.000000</td>\n      <td>0.000000</td>\n      <td>0.000000</td>\n      <td>0.000000</td>\n      <td>0.000000</td>\n      <td>0.000000</td>\n      <td>1.600000</td>\n      <td>965.400000</td>\n      <td>-10.900000</td>\n      <td>27.420000</td>\n      <td>-7.500000</td>\n      <td>-16.000000</td>\n      <td>-20.100000</td>\n      <td>2012.000000</td>\n      <td>-18.242384</td>\n    </tr>\n    <tr>\n      <th>25%</th>\n      <td>1420.0</td>\n      <td>10.000000</td>\n      <td>8.200000</td>\n      <td>7.920000</td>\n      <td>3.000000</td>\n      <td>0.000000</td>\n      <td>0.000000</td>\n      <td>0.467000</td>\n      <td>0.000000</td>\n      <td>4.175000</td>\n      <td>7.000000</td>\n      <td>999.007500</td>\n      <td>5.675000</td>\n      <td>62.000000</td>\n      <td>8.900000</td>\n      <td>1.900000</td>\n      <td>0.100000</td>\n      <td>2014.000000</td>\n      <td>3.155381</td>\n    </tr>\n    <tr>\n      <th>50%</th>\n      <td>1420.0</td>\n      <td>10.000000</td>\n      <td>10.400000</td>\n      <td>10.440000</td>\n      <td>10.000000</td>\n      <td>0.000000</td>\n      <td>6.000000</td>\n      <td>3.800000</td>\n      <td>0.000000</td>\n      <td>5.800000</td>\n      <td>9.600000</td>\n      <td>1004.200000</td>\n      <td>11.300000</td>\n      <td>74.000000</td>\n      <td>16.000000</td>\n      <td>6.800000</td>\n      <td>4.900000</td>\n      <td>2016.000000</td>\n      <td>10.096245</td>\n    </tr>\n    <tr>\n      <th>75%</th>\n      <td>1420.0</td>\n      <td>10.000000</td>\n      <td>12.900000</td>\n      <td>15.120000</td>\n      <td>10.000000</td>\n      <td>1.225000</td>\n      <td>6.000000</td>\n      <td>8.500000</td>\n      <td>0.000000</td>\n      <td>6.900000</td>\n      <td>13.000000</td>\n      <td>1009.400000</td>\n      <td>17.400000</td>\n      <td>84.000000</td>\n      <td>23.000000</td>\n      <td>12.000000</td>\n      <td>10.200000</td>\n      <td>2018.000000</td>\n      <td>17.375766</td>\n    </tr>\n    <tr>\n      <th>max</th>\n      <td>1420.0</td>\n      <td>10.000000</td>\n      <td>35.000000</td>\n      <td>38.880000</td>\n      <td>10.000000</td>\n      <td>50.200000</td>\n      <td>8.000000</td>\n      <td>15.667000</td>\n      <td>18.000000</td>\n      <td>8.000000</td>\n      <td>21.900000</td>\n      <td>1033.160000</td>\n      <td>32.000000</td>\n      <td>100.000000</td>\n      <td>40.100000</td>\n      <td>25.700000</td>\n      <td>23.500000</td>\n      <td>2020.000000</td>\n      <td>34.869048</td>\n    </tr>\n  </tbody>\n</table>\n</div>"
     },
     "metadata": {},
     "output_type": "display_data"
    },
    {
     "name": "stdout",
     "text": "\n\n",
     "output_type": "stream"
    },
    {
     "data": {
      "text/plain": "'Hannover'"
     },
     "metadata": {},
     "output_type": "display_data"
    },
    {
     "data": {
      "application/vnd.deepnote.dataframe.v2+json": {
       "row_count": 8,
       "column_count": 19,
       "columns": [
        {
         "name": "STATIONS_ID",
         "dtype": "float64",
         "stats": {
          "unique_count": 3,
          "nan_count": 0,
          "min": "0.0",
          "max": "3288.0",
          "histogram": [
           {
            "bin_start": 0,
            "bin_end": 328.8,
            "count": 1
           },
           {
            "bin_start": 328.8,
            "bin_end": 657.6,
            "count": 0
           },
           {
            "bin_start": 657.6,
            "bin_end": 986.4000000000001,
            "count": 0
           },
           {
            "bin_start": 986.4000000000001,
            "bin_end": 1315.2,
            "count": 0
           },
           {
            "bin_start": 1315.2,
            "bin_end": 1644,
            "count": 0
           },
           {
            "bin_start": 1644,
            "bin_end": 1972.8000000000002,
            "count": 0
           },
           {
            "bin_start": 1972.8000000000002,
            "bin_end": 2301.6,
            "count": 6
           },
           {
            "bin_start": 2301.6,
            "bin_end": 2630.4,
            "count": 0
           },
           {
            "bin_start": 2630.4,
            "bin_end": 2959.2000000000003,
            "count": 0
           },
           {
            "bin_start": 2959.2000000000003,
            "bin_end": 3288,
            "count": 1
           }
          ]
         }
        },
        {
         "name": "QN_3",
         "dtype": "float64",
         "stats": {
          "unique_count": 5,
          "nan_count": 0,
          "min": "0.9447060219666933",
          "max": "3288.0",
          "histogram": [
           {
            "bin_start": 0.9447060219666933,
            "bin_end": 329.65023541977,
            "count": 7
           },
           {
            "bin_start": 329.65023541977,
            "bin_end": 658.3557648175733,
            "count": 0
           },
           {
            "bin_start": 658.3557648175733,
            "bin_end": 987.0612942153767,
            "count": 0
           },
           {
            "bin_start": 987.0612942153767,
            "bin_end": 1315.7668236131801,
            "count": 0
           },
           {
            "bin_start": 1315.7668236131801,
            "bin_end": 1644.4723530109834,
            "count": 0
           },
           {
            "bin_start": 1644.4723530109834,
            "bin_end": 1973.177882408787,
            "count": 0
           },
           {
            "bin_start": 1973.177882408787,
            "bin_end": 2301.88341180659,
            "count": 0
           },
           {
            "bin_start": 2301.88341180659,
            "bin_end": 2630.5889412043934,
            "count": 0
           },
           {
            "bin_start": 2630.5889412043934,
            "bin_end": 2959.2944706021967,
            "count": 0
           },
           {
            "bin_start": 2959.2944706021967,
            "bin_end": 3288,
            "count": 1
           }
          ]
         }
        },
        {
         "name": "  FX",
         "dtype": "float64",
         "stats": {
          "unique_count": 8,
          "nan_count": 0,
          "min": "0.0",
          "max": "3288.0",
          "histogram": [
           {
            "bin_start": 0,
            "bin_end": 328.8,
            "count": 7
           },
           {
            "bin_start": 328.8,
            "bin_end": 657.6,
            "count": 0
           },
           {
            "bin_start": 657.6,
            "bin_end": 986.4000000000001,
            "count": 0
           },
           {
            "bin_start": 986.4000000000001,
            "bin_end": 1315.2,
            "count": 0
           },
           {
            "bin_start": 1315.2,
            "bin_end": 1644,
            "count": 0
           },
           {
            "bin_start": 1644,
            "bin_end": 1972.8000000000002,
            "count": 0
           },
           {
            "bin_start": 1972.8000000000002,
            "bin_end": 2301.6,
            "count": 0
           },
           {
            "bin_start": 2301.6,
            "bin_end": 2630.4,
            "count": 0
           },
           {
            "bin_start": 2630.4,
            "bin_end": 2959.2000000000003,
            "count": 0
           },
           {
            "bin_start": 2959.2000000000003,
            "bin_end": 3288,
            "count": 1
           }
          ]
         }
        },
        {
         "name": "  FM",
         "dtype": "float64",
         "stats": {
          "unique_count": 8,
          "nan_count": 0,
          "min": "0.0",
          "max": "3288.0",
          "histogram": [
           {
            "bin_start": 0,
            "bin_end": 328.8,
            "count": 7
           },
           {
            "bin_start": 328.8,
            "bin_end": 657.6,
            "count": 0
           },
           {
            "bin_start": 657.6,
            "bin_end": 986.4000000000001,
            "count": 0
           },
           {
            "bin_start": 986.4000000000001,
            "bin_end": 1315.2,
            "count": 0
           },
           {
            "bin_start": 1315.2,
            "bin_end": 1644,
            "count": 0
           },
           {
            "bin_start": 1644,
            "bin_end": 1972.8000000000002,
            "count": 0
           },
           {
            "bin_start": 1972.8000000000002,
            "bin_end": 2301.6,
            "count": 0
           },
           {
            "bin_start": 2301.6,
            "bin_end": 2630.4,
            "count": 0
           },
           {
            "bin_start": 2630.4,
            "bin_end": 2959.2000000000003,
            "count": 0
           },
           {
            "bin_start": 2959.2000000000003,
            "bin_end": 3288,
            "count": 1
           }
          ]
         }
        },
        {
         "name": "QN_4",
         "dtype": "float64",
         "stats": {
          "unique_count": 5,
          "nan_count": 0,
          "min": "3.0",
          "max": "3288.0",
          "histogram": [
           {
            "bin_start": 3,
            "bin_end": 331.5,
            "count": 7
           },
           {
            "bin_start": 331.5,
            "bin_end": 660,
            "count": 0
           },
           {
            "bin_start": 660,
            "bin_end": 988.5,
            "count": 0
           },
           {
            "bin_start": 988.5,
            "bin_end": 1317,
            "count": 0
           },
           {
            "bin_start": 1317,
            "bin_end": 1645.5,
            "count": 0
           },
           {
            "bin_start": 1645.5,
            "bin_end": 1974,
            "count": 0
           },
           {
            "bin_start": 1974,
            "bin_end": 2302.5,
            "count": 0
           },
           {
            "bin_start": 2302.5,
            "bin_end": 2631,
            "count": 0
           },
           {
            "bin_start": 2631,
            "bin_end": 2959.5,
            "count": 0
           },
           {
            "bin_start": 2959.5,
            "bin_end": 3288,
            "count": 1
           }
          ]
         }
        },
        {
         "name": " RSK",
         "dtype": "float64",
         "stats": {
          "unique_count": 6,
          "nan_count": 0,
          "min": "0.0",
          "max": "3288.0",
          "histogram": [
           {
            "bin_start": 0,
            "bin_end": 328.8,
            "count": 7
           },
           {
            "bin_start": 328.8,
            "bin_end": 657.6,
            "count": 0
           },
           {
            "bin_start": 657.6,
            "bin_end": 986.4000000000001,
            "count": 0
           },
           {
            "bin_start": 986.4000000000001,
            "bin_end": 1315.2,
            "count": 0
           },
           {
            "bin_start": 1315.2,
            "bin_end": 1644,
            "count": 0
           },
           {
            "bin_start": 1644,
            "bin_end": 1972.8000000000002,
            "count": 0
           },
           {
            "bin_start": 1972.8000000000002,
            "bin_end": 2301.6,
            "count": 0
           },
           {
            "bin_start": 2301.6,
            "bin_end": 2630.4,
            "count": 0
           },
           {
            "bin_start": 2630.4,
            "bin_end": 2959.2000000000003,
            "count": 0
           },
           {
            "bin_start": 2959.2000000000003,
            "bin_end": 3288,
            "count": 1
           }
          ]
         }
        },
        {
         "name": "RSKF",
         "dtype": "float64",
         "stats": {
          "unique_count": 6,
          "nan_count": 0,
          "min": "0.0",
          "max": "3288.0",
          "histogram": [
           {
            "bin_start": 0,
            "bin_end": 328.8,
            "count": 7
           },
           {
            "bin_start": 328.8,
            "bin_end": 657.6,
            "count": 0
           },
           {
            "bin_start": 657.6,
            "bin_end": 986.4000000000001,
            "count": 0
           },
           {
            "bin_start": 986.4000000000001,
            "bin_end": 1315.2,
            "count": 0
           },
           {
            "bin_start": 1315.2,
            "bin_end": 1644,
            "count": 0
           },
           {
            "bin_start": 1644,
            "bin_end": 1972.8000000000002,
            "count": 0
           },
           {
            "bin_start": 1972.8000000000002,
            "bin_end": 2301.6,
            "count": 0
           },
           {
            "bin_start": 2301.6,
            "bin_end": 2630.4,
            "count": 0
           },
           {
            "bin_start": 2630.4,
            "bin_end": 2959.2000000000003,
            "count": 0
           },
           {
            "bin_start": 2959.2000000000003,
            "bin_end": 3288,
            "count": 1
           }
          ]
         }
        },
        {
         "name": " SDK",
         "dtype": "float64",
         "stats": {
          "unique_count": 8,
          "nan_count": 0,
          "min": "0.0",
          "max": "3288.0",
          "histogram": [
           {
            "bin_start": 0,
            "bin_end": 328.8,
            "count": 7
           },
           {
            "bin_start": 328.8,
            "bin_end": 657.6,
            "count": 0
           },
           {
            "bin_start": 657.6,
            "bin_end": 986.4000000000001,
            "count": 0
           },
           {
            "bin_start": 986.4000000000001,
            "bin_end": 1315.2,
            "count": 0
           },
           {
            "bin_start": 1315.2,
            "bin_end": 1644,
            "count": 0
           },
           {
            "bin_start": 1644,
            "bin_end": 1972.8000000000002,
            "count": 0
           },
           {
            "bin_start": 1972.8000000000002,
            "bin_end": 2301.6,
            "count": 0
           },
           {
            "bin_start": 2301.6,
            "bin_end": 2630.4,
            "count": 0
           },
           {
            "bin_start": 2630.4,
            "bin_end": 2959.2000000000003,
            "count": 0
           },
           {
            "bin_start": 2959.2000000000003,
            "bin_end": 3288,
            "count": 1
           }
          ]
         }
        },
        {
         "name": "SHK_TAG",
         "dtype": "float64",
         "stats": {
          "unique_count": 5,
          "nan_count": 0,
          "min": "0.0",
          "max": "3288.0",
          "histogram": [
           {
            "bin_start": 0,
            "bin_end": 328.8,
            "count": 7
           },
           {
            "bin_start": 328.8,
            "bin_end": 657.6,
            "count": 0
           },
           {
            "bin_start": 657.6,
            "bin_end": 986.4000000000001,
            "count": 0
           },
           {
            "bin_start": 986.4000000000001,
            "bin_end": 1315.2,
            "count": 0
           },
           {
            "bin_start": 1315.2,
            "bin_end": 1644,
            "count": 0
           },
           {
            "bin_start": 1644,
            "bin_end": 1972.8000000000002,
            "count": 0
           },
           {
            "bin_start": 1972.8000000000002,
            "bin_end": 2301.6,
            "count": 0
           },
           {
            "bin_start": 2301.6,
            "bin_end": 2630.4,
            "count": 0
           },
           {
            "bin_start": 2630.4,
            "bin_end": 2959.2000000000003,
            "count": 0
           },
           {
            "bin_start": 2959.2000000000003,
            "bin_end": 3288,
            "count": 1
           }
          ]
         }
        },
        {
         "name": "  NM",
         "dtype": "float64",
         "stats": {
          "unique_count": 8,
          "nan_count": 0,
          "min": "0.0",
          "max": "3288.0",
          "histogram": [
           {
            "bin_start": 0,
            "bin_end": 328.8,
            "count": 7
           },
           {
            "bin_start": 328.8,
            "bin_end": 657.6,
            "count": 0
           },
           {
            "bin_start": 657.6,
            "bin_end": 986.4000000000001,
            "count": 0
           },
           {
            "bin_start": 986.4000000000001,
            "bin_end": 1315.2,
            "count": 0
           },
           {
            "bin_start": 1315.2,
            "bin_end": 1644,
            "count": 0
           },
           {
            "bin_start": 1644,
            "bin_end": 1972.8000000000002,
            "count": 0
           },
           {
            "bin_start": 1972.8000000000002,
            "bin_end": 2301.6,
            "count": 0
           },
           {
            "bin_start": 2301.6,
            "bin_end": 2630.4,
            "count": 0
           },
           {
            "bin_start": 2630.4,
            "bin_end": 2959.2000000000003,
            "count": 0
           },
           {
            "bin_start": 2959.2000000000003,
            "bin_end": 3288,
            "count": 1
           }
          ]
         }
        },
        {
         "name": " VPM",
         "dtype": "float64",
         "stats": {
          "unique_count": 8,
          "nan_count": 0,
          "min": "1.7",
          "max": "3288.0",
          "histogram": [
           {
            "bin_start": 1.7,
            "bin_end": 330.33,
            "count": 7
           },
           {
            "bin_start": 330.33,
            "bin_end": 658.96,
            "count": 0
           },
           {
            "bin_start": 658.96,
            "bin_end": 987.59,
            "count": 0
           },
           {
            "bin_start": 987.59,
            "bin_end": 1316.22,
            "count": 0
           },
           {
            "bin_start": 1316.22,
            "bin_end": 1644.8500000000001,
            "count": 0
           },
           {
            "bin_start": 1644.8500000000001,
            "bin_end": 1973.48,
            "count": 0
           },
           {
            "bin_start": 1973.48,
            "bin_end": 2302.1099999999997,
            "count": 0
           },
           {
            "bin_start": 2302.1099999999997,
            "bin_end": 2630.74,
            "count": 0
           },
           {
            "bin_start": 2630.74,
            "bin_end": 2959.37,
            "count": 0
           },
           {
            "bin_start": 2959.37,
            "bin_end": 3288,
            "count": 1
           }
          ]
         }
        },
        {
         "name": "  PM",
         "dtype": "float64",
         "stats": {
          "unique_count": 8,
          "nan_count": 0,
          "min": "9.098936741790794",
          "max": "3288.0",
          "histogram": [
           {
            "bin_start": 9.098936741790794,
            "bin_end": 336.98904306761176,
            "count": 1
           },
           {
            "bin_start": 336.98904306761176,
            "bin_end": 664.8791493934327,
            "count": 0
           },
           {
            "bin_start": 664.8791493934327,
            "bin_end": 992.7692557192537,
            "count": 1
           },
           {
            "bin_start": 992.7692557192537,
            "bin_end": 1320.6593620450747,
            "count": 5
           },
           {
            "bin_start": 1320.6593620450747,
            "bin_end": 1648.5494683708955,
            "count": 0
           },
           {
            "bin_start": 1648.5494683708955,
            "bin_end": 1976.4395746967166,
            "count": 0
           },
           {
            "bin_start": 1976.4395746967166,
            "bin_end": 2304.3296810225374,
            "count": 0
           },
           {
            "bin_start": 2304.3296810225374,
            "bin_end": 2632.2197873483583,
            "count": 0
           },
           {
            "bin_start": 2632.2197873483583,
            "bin_end": 2960.109893674179,
            "count": 0
           },
           {
            "bin_start": 2960.109893674179,
            "bin_end": 3288,
            "count": 1
           }
          ]
         }
        },
        {
         "name": " TMK",
         "dtype": "float64",
         "stats": {
          "unique_count": 8,
          "nan_count": 0,
          "min": "-13.0",
          "max": "3288.0",
          "histogram": [
           {
            "bin_start": -13,
            "bin_end": 317.1,
            "count": 7
           },
           {
            "bin_start": 317.1,
            "bin_end": 647.2,
            "count": 0
           },
           {
            "bin_start": 647.2,
            "bin_end": 977.3000000000001,
            "count": 0
           },
           {
            "bin_start": 977.3000000000001,
            "bin_end": 1307.4,
            "count": 0
           },
           {
            "bin_start": 1307.4,
            "bin_end": 1637.5,
            "count": 0
           },
           {
            "bin_start": 1637.5,
            "bin_end": 1967.6000000000001,
            "count": 0
           },
           {
            "bin_start": 1967.6000000000001,
            "bin_end": 2297.7000000000003,
            "count": 0
           },
           {
            "bin_start": 2297.7000000000003,
            "bin_end": 2627.8,
            "count": 0
           },
           {
            "bin_start": 2627.8,
            "bin_end": 2957.9,
            "count": 0
           },
           {
            "bin_start": 2957.9,
            "bin_end": 3288,
            "count": 1
           }
          ]
         }
        },
        {
         "name": " UPM",
         "dtype": "float64",
         "stats": {
          "unique_count": 8,
          "nan_count": 0,
          "min": "11.66885287008421",
          "max": "3288.0",
          "histogram": [
           {
            "bin_start": 11.66885287008421,
            "bin_end": 339.3019675830758,
            "count": 7
           },
           {
            "bin_start": 339.3019675830758,
            "bin_end": 666.9350822960674,
            "count": 0
           },
           {
            "bin_start": 666.9350822960674,
            "bin_end": 994.5681970090591,
            "count": 0
           },
           {
            "bin_start": 994.5681970090591,
            "bin_end": 1322.2013117220506,
            "count": 0
           },
           {
            "bin_start": 1322.2013117220506,
            "bin_end": 1649.8344264350421,
            "count": 0
           },
           {
            "bin_start": 1649.8344264350421,
            "bin_end": 1977.467541148034,
            "count": 0
           },
           {
            "bin_start": 1977.467541148034,
            "bin_end": 2305.100655861025,
            "count": 0
           },
           {
            "bin_start": 2305.100655861025,
            "bin_end": 2632.733770574017,
            "count": 0
           },
           {
            "bin_start": 2632.733770574017,
            "bin_end": 2960.3668852870087,
            "count": 0
           },
           {
            "bin_start": 2960.3668852870087,
            "bin_end": 3288,
            "count": 1
           }
          ]
         }
        },
        {
         "name": " TXK",
         "dtype": "float64",
         "stats": {
          "unique_count": 8,
          "nan_count": 0,
          "min": "-8.5",
          "max": "3288.0",
          "histogram": [
           {
            "bin_start": -8.5,
            "bin_end": 321.15,
            "count": 7
           },
           {
            "bin_start": 321.15,
            "bin_end": 650.8,
            "count": 0
           },
           {
            "bin_start": 650.8,
            "bin_end": 980.4499999999999,
            "count": 0
           },
           {
            "bin_start": 980.4499999999999,
            "bin_end": 1310.1,
            "count": 0
           },
           {
            "bin_start": 1310.1,
            "bin_end": 1639.75,
            "count": 0
           },
           {
            "bin_start": 1639.75,
            "bin_end": 1969.3999999999999,
            "count": 0
           },
           {
            "bin_start": 1969.3999999999999,
            "bin_end": 2299.0499999999997,
            "count": 0
           },
           {
            "bin_start": 2299.0499999999997,
            "bin_end": 2628.7,
            "count": 0
           },
           {
            "bin_start": 2628.7,
            "bin_end": 2958.35,
            "count": 0
           },
           {
            "bin_start": 2958.35,
            "bin_end": 3288,
            "count": 1
           }
          ]
         }
        },
        {
         "name": " TNK",
         "dtype": "float64",
         "stats": {
          "unique_count": 8,
          "nan_count": 0,
          "min": "-18.2",
          "max": "3288.0",
          "histogram": [
           {
            "bin_start": -18.2,
            "bin_end": 312.42,
            "count": 7
           },
           {
            "bin_start": 312.42,
            "bin_end": 643.04,
            "count": 0
           },
           {
            "bin_start": 643.04,
            "bin_end": 973.66,
            "count": 0
           },
           {
            "bin_start": 973.66,
            "bin_end": 1304.28,
            "count": 0
           },
           {
            "bin_start": 1304.28,
            "bin_end": 1634.8999999999999,
            "count": 0
           },
           {
            "bin_start": 1634.8999999999999,
            "bin_end": 1965.52,
            "count": 0
           },
           {
            "bin_start": 1965.52,
            "bin_end": 2296.1400000000003,
            "count": 0
           },
           {
            "bin_start": 2296.1400000000003,
            "bin_end": 2626.76,
            "count": 0
           },
           {
            "bin_start": 2626.76,
            "bin_end": 2957.38,
            "count": 0
           },
           {
            "bin_start": 2957.38,
            "bin_end": 3288,
            "count": 1
           }
          ]
         }
        },
        {
         "name": " TGK",
         "dtype": "float64",
         "stats": {
          "unique_count": 8,
          "nan_count": 0,
          "min": "-20.3",
          "max": "3288.0",
          "histogram": [
           {
            "bin_start": -20.3,
            "bin_end": 310.53000000000003,
            "count": 7
           },
           {
            "bin_start": 310.53000000000003,
            "bin_end": 641.3600000000001,
            "count": 0
           },
           {
            "bin_start": 641.3600000000001,
            "bin_end": 972.1900000000002,
            "count": 0
           },
           {
            "bin_start": 972.1900000000002,
            "bin_end": 1303.0200000000002,
            "count": 0
           },
           {
            "bin_start": 1303.0200000000002,
            "bin_end": 1633.8500000000001,
            "count": 0
           },
           {
            "bin_start": 1633.8500000000001,
            "bin_end": 1964.6800000000003,
            "count": 0
           },
           {
            "bin_start": 1964.6800000000003,
            "bin_end": 2295.51,
            "count": 0
           },
           {
            "bin_start": 2295.51,
            "bin_end": 2626.34,
            "count": 0
           },
           {
            "bin_start": 2626.34,
            "bin_end": 2957.17,
            "count": 0
           },
           {
            "bin_start": 2957.17,
            "bin_end": 3288,
            "count": 1
           }
          ]
         }
        },
        {
         "name": "YEAR",
         "dtype": "float64",
         "stats": {
          "unique_count": 7,
          "nan_count": 0,
          "min": "2.5830883848397694",
          "max": "3288.0",
          "histogram": [
           {
            "bin_start": 2.5830883848397694,
            "bin_end": 331.1247795463558,
            "count": 1
           },
           {
            "bin_start": 331.1247795463558,
            "bin_end": 659.6664707078719,
            "count": 0
           },
           {
            "bin_start": 659.6664707078719,
            "bin_end": 988.2081618693879,
            "count": 0
           },
           {
            "bin_start": 988.2081618693879,
            "bin_end": 1316.749853030904,
            "count": 0
           },
           {
            "bin_start": 1316.749853030904,
            "bin_end": 1645.2915441924201,
            "count": 0
           },
           {
            "bin_start": 1645.2915441924201,
            "bin_end": 1973.833235353936,
            "count": 0
           },
           {
            "bin_start": 1973.833235353936,
            "bin_end": 2302.374926515452,
            "count": 6
           },
           {
            "bin_start": 2302.374926515452,
            "bin_end": 2630.916617676968,
            "count": 0
           },
           {
            "bin_start": 2630.916617676968,
            "bin_end": 2959.4583088384843,
            "count": 0
           },
           {
            "bin_start": 2959.4583088384843,
            "bin_end": 3288,
            "count": 1
           }
          ]
         }
        },
        {
         "name": "WIND_CHILL",
         "dtype": "float64",
         "stats": {
          "unique_count": 8,
          "nan_count": 0,
          "min": "-19.267800617273707",
          "max": "3288.0",
          "histogram": [
           {
            "bin_start": -19.267800617273707,
            "bin_end": 311.4589794444537,
            "count": 7
           },
           {
            "bin_start": 311.4589794444537,
            "bin_end": 642.1857595061811,
            "count": 0
           },
           {
            "bin_start": 642.1857595061811,
            "bin_end": 972.9125395679084,
            "count": 0
           },
           {
            "bin_start": 972.9125395679084,
            "bin_end": 1303.6393196296358,
            "count": 0
           },
           {
            "bin_start": 1303.6393196296358,
            "bin_end": 1634.3660996913632,
            "count": 0
           },
           {
            "bin_start": 1634.3660996913632,
            "bin_end": 1965.0928797530905,
            "count": 0
           },
           {
            "bin_start": 1965.0928797530905,
            "bin_end": 2295.819659814818,
            "count": 0
           },
           {
            "bin_start": 2295.819659814818,
            "bin_end": 2626.5464398765453,
            "count": 0
           },
           {
            "bin_start": 2626.5464398765453,
            "bin_end": 2957.2732199382726,
            "count": 0
           },
           {
            "bin_start": 2957.2732199382726,
            "bin_end": 3288,
            "count": 1
           }
          ]
         }
        },
        {
         "name": "_deepnote_index_column",
         "dtype": "object"
        }
       ],
       "rows_top": [
        {
         "STATIONS_ID": 3288,
         "QN_3": 3288,
         "  FX": 3288,
         "  FM": 3288,
         "QN_4": 3288,
         " RSK": 3288,
         "RSKF": 3288,
         " SDK": 3288,
         "SHK_TAG": 3288,
         "  NM": 3288,
         " VPM": 3288,
         "  PM": 3288,
         " TMK": 3288,
         " UPM": 3288,
         " TXK": 3288,
         " TNK": 3288,
         " TGK": 3288,
         "YEAR": 3288,
         "WIND_CHILL": 3288,
         "_deepnote_index_column": "count"
        },
        {
         "STATIONS_ID": 2014,
         "QN_3": 9.870133819951338,
         "  FX": 10.741727493917274,
         "  FM": 13.760693430656936,
         "QN_4": 7.081204379562044,
         " RSK": 1.6303223844282237,
         "RSKF": 4.226277372262774,
         " SDK": 4.447367092457421,
         "SHK_TAG": 0.09671532846715329,
         "  NM": 5.482451338199514,
         " VPM": 10.28521897810219,
         "  PM": 1008.487539537713,
         " TMK": 10.589446472019466,
         " UPM": 77.36446167883211,
         " TXK": 14.793217761557177,
         " TNK": 6.197141119221412,
         " TGK": 3.7383211678832113,
         "YEAR": 2016,
         "WIND_CHILL": 8.90004911853275,
         "_deepnote_index_column": "mean"
        },
        {
         "STATIONS_ID": 0,
         "QN_3": 0.9447060219666933,
         "  FX": 3.9530263978898392,
         "  FM": 5.740141544642749,
         "QN_4": 3.4519306921921955,
         " RSK": 3.7816131974188956,
         "RSKF": 2.9136048611991074,
         " SDK": 4.302997334088239,
         "SHK_TAG": 0.7427255010609289,
         "  NM": 1.8860509399060053,
         " VPM": 3.9151069669061327,
         "  PM": 9.098936741790794,
         " TMK": 6.899902421072063,
         " UPM": 11.66885287008421,
         " TXK": 8.199580353076614,
         " TNK": 6.089751926763231,
         " TGK": 6.118470679830645,
         "YEAR": 2.5830883848397694,
         "WIND_CHILL": 8.550536779445169,
         "_deepnote_index_column": "std"
        },
        {
         "STATIONS_ID": 2014,
         "QN_3": 3,
         "  FX": 0,
         "  FM": 0,
         "QN_4": 3,
         " RSK": 0,
         "RSKF": 0,
         " SDK": 0,
         "SHK_TAG": 0,
         "  NM": 0,
         " VPM": 1.7,
         "  PM": 967.2,
         " TMK": -13,
         " UPM": 39,
         " TXK": -8.5,
         " TNK": -18.2,
         " TGK": -20.3,
         "YEAR": 2012,
         "WIND_CHILL": -19.267800617273707,
         "_deepnote_index_column": "min"
        },
        {
         "STATIONS_ID": 2014,
         "QN_3": 10,
         "  FX": 7.9,
         "  FM": 9.360000000000001,
         "QN_4": 3,
         " RSK": 0,
         "RSKF": 0,
         " SDK": 0.34574999999999995,
         "SHK_TAG": 0,
         "  NM": 4.4,
         " VPM": 7.2,
         "  PM": 1003.2,
         " TMK": 5.5,
         " UPM": 69.71,
         " TXK": 8.4,
         " TNK": 2,
         " TGK": -0.5,
         "YEAR": 2014,
         "WIND_CHILL": 2.3228632327868683,
         "_deepnote_index_column": "25%"
        },
        {
         "STATIONS_ID": 2014,
         "QN_3": 10,
         "  FX": 10.3,
         "  FM": 12.96,
         "QN_4": 10,
         " RSK": 0,
         "RSKF": 6,
         " SDK": 3.2085,
         "SHK_TAG": 0,
         "  NM": 5.9,
         " VPM": 9.7,
         "  PM": 1008.825,
         " TMK": 10.4,
         " UPM": 79,
         " TXK": 14.45,
         " TNK": 6.2,
         " TGK": 3.7,
         "YEAR": 2016,
         "WIND_CHILL": 8.597163574069452,
         "_deepnote_index_column": "50%"
        },
        {
         "STATIONS_ID": 2014,
         "QN_3": 10,
         "  FX": 12.9,
         "  FM": 16.92,
         "QN_4": 10,
         " RSK": 1.5,
         "RSKF": 6,
         " SDK": 7.583,
         "SHK_TAG": 0,
         "  NM": 7,
         " VPM": 13,
         "  PM": 1014.4,
         " TMK": 16,
         " UPM": 86,
         " TXK": 21.1,
         " TNK": 10.9,
         " TGK": 8.3,
         "YEAR": 2018,
         "WIND_CHILL": 15.63470241813512,
         "_deepnote_index_column": "75%"
        },
        {
         "STATIONS_ID": 2014,
         "QN_3": 10,
         "  FX": 31.6,
         "  FM": 40.68000000000001,
         "QN_4": 10,
         " RSK": 46.9,
         "RSKF": 8,
         " SDK": 15.417,
         "SHK_TAG": 12,
         "  NM": 8,
         " VPM": 22.3,
         "  PM": 1038.47,
         " TMK": 29.2,
         " UPM": 100,
         " TXK": 37.9,
         " TNK": 21.2,
         " TGK": 20.1,
         "YEAR": 2020,
         "WIND_CHILL": 31.578034841218372,
         "_deepnote_index_column": "max"
        }
       ],
       "rows_bottom": null
      },
      "text/plain": "       STATIONS_ID         QN_3           FX           FM         QN_4  \\\ncount       3288.0  3288.000000  3288.000000  3288.000000  3288.000000   \nmean        2014.0     9.870134    10.741727    13.760693     7.081204   \nstd            0.0     0.944706     3.953026     5.740142     3.451931   \nmin         2014.0     3.000000     0.000000     0.000000     3.000000   \n25%         2014.0    10.000000     7.900000     9.360000     3.000000   \n50%         2014.0    10.000000    10.300000    12.960000    10.000000   \n75%         2014.0    10.000000    12.900000    16.920000    10.000000   \nmax         2014.0    10.000000    31.600000    40.680000    10.000000   \n\n               RSK         RSKF          SDK      SHK_TAG           NM  \\\ncount  3288.000000  3288.000000  3288.000000  3288.000000  3288.000000   \nmean      1.630322     4.226277     4.447367     0.096715     5.482451   \nstd       3.781613     2.913605     4.302997     0.742726     1.886051   \nmin       0.000000     0.000000     0.000000     0.000000     0.000000   \n25%       0.000000     0.000000     0.345750     0.000000     4.400000   \n50%       0.000000     6.000000     3.208500     0.000000     5.900000   \n75%       1.500000     6.000000     7.583000     0.000000     7.000000   \nmax      46.900000     8.000000    15.417000    12.000000     8.000000   \n\n               VPM           PM          TMK          UPM          TXK  \\\ncount  3288.000000  3288.000000  3288.000000  3288.000000  3288.000000   \nmean     10.285219  1008.487540    10.589446    77.364462    14.793218   \nstd       3.915107     9.098937     6.899902    11.668853     8.199580   \nmin       1.700000   967.200000   -13.000000    39.000000    -8.500000   \n25%       7.200000  1003.200000     5.500000    69.710000     8.400000   \n50%       9.700000  1008.825000    10.400000    79.000000    14.450000   \n75%      13.000000  1014.400000    16.000000    86.000000    21.100000   \nmax      22.300000  1038.470000    29.200000   100.000000    37.900000   \n\n               TNK          TGK         YEAR   WIND_CHILL  \ncount  3288.000000  3288.000000  3288.000000  3288.000000  \nmean      6.197141     3.738321  2016.000000     8.900049  \nstd       6.089752     6.118471     2.583088     8.550537  \nmin     -18.200000   -20.300000  2012.000000   -19.267801  \n25%       2.000000    -0.500000  2014.000000     2.322863  \n50%       6.200000     3.700000  2016.000000     8.597164  \n75%      10.900000     8.300000  2018.000000    15.634702  \nmax      21.200000    20.100000  2020.000000    31.578035  ",
      "text/html": "<div>\n<style scoped>\n    .dataframe tbody tr th:only-of-type {\n        vertical-align: middle;\n    }\n\n    .dataframe tbody tr th {\n        vertical-align: top;\n    }\n\n    .dataframe thead th {\n        text-align: right;\n    }\n</style>\n<table border=\"1\" class=\"dataframe\">\n  <thead>\n    <tr style=\"text-align: right;\">\n      <th></th>\n      <th>STATIONS_ID</th>\n      <th>QN_3</th>\n      <th>FX</th>\n      <th>FM</th>\n      <th>QN_4</th>\n      <th>RSK</th>\n      <th>RSKF</th>\n      <th>SDK</th>\n      <th>SHK_TAG</th>\n      <th>NM</th>\n      <th>VPM</th>\n      <th>PM</th>\n      <th>TMK</th>\n      <th>UPM</th>\n      <th>TXK</th>\n      <th>TNK</th>\n      <th>TGK</th>\n      <th>YEAR</th>\n      <th>WIND_CHILL</th>\n    </tr>\n  </thead>\n  <tbody>\n    <tr>\n      <th>count</th>\n      <td>3288.0</td>\n      <td>3288.000000</td>\n      <td>3288.000000</td>\n      <td>3288.000000</td>\n      <td>3288.000000</td>\n      <td>3288.000000</td>\n      <td>3288.000000</td>\n      <td>3288.000000</td>\n      <td>3288.000000</td>\n      <td>3288.000000</td>\n      <td>3288.000000</td>\n      <td>3288.000000</td>\n      <td>3288.000000</td>\n      <td>3288.000000</td>\n      <td>3288.000000</td>\n      <td>3288.000000</td>\n      <td>3288.000000</td>\n      <td>3288.000000</td>\n      <td>3288.000000</td>\n    </tr>\n    <tr>\n      <th>mean</th>\n      <td>2014.0</td>\n      <td>9.870134</td>\n      <td>10.741727</td>\n      <td>13.760693</td>\n      <td>7.081204</td>\n      <td>1.630322</td>\n      <td>4.226277</td>\n      <td>4.447367</td>\n      <td>0.096715</td>\n      <td>5.482451</td>\n      <td>10.285219</td>\n      <td>1008.487540</td>\n      <td>10.589446</td>\n      <td>77.364462</td>\n      <td>14.793218</td>\n      <td>6.197141</td>\n      <td>3.738321</td>\n      <td>2016.000000</td>\n      <td>8.900049</td>\n    </tr>\n    <tr>\n      <th>std</th>\n      <td>0.0</td>\n      <td>0.944706</td>\n      <td>3.953026</td>\n      <td>5.740142</td>\n      <td>3.451931</td>\n      <td>3.781613</td>\n      <td>2.913605</td>\n      <td>4.302997</td>\n      <td>0.742726</td>\n      <td>1.886051</td>\n      <td>3.915107</td>\n      <td>9.098937</td>\n      <td>6.899902</td>\n      <td>11.668853</td>\n      <td>8.199580</td>\n      <td>6.089752</td>\n      <td>6.118471</td>\n      <td>2.583088</td>\n      <td>8.550537</td>\n    </tr>\n    <tr>\n      <th>min</th>\n      <td>2014.0</td>\n      <td>3.000000</td>\n      <td>0.000000</td>\n      <td>0.000000</td>\n      <td>3.000000</td>\n      <td>0.000000</td>\n      <td>0.000000</td>\n      <td>0.000000</td>\n      <td>0.000000</td>\n      <td>0.000000</td>\n      <td>1.700000</td>\n      <td>967.200000</td>\n      <td>-13.000000</td>\n      <td>39.000000</td>\n      <td>-8.500000</td>\n      <td>-18.200000</td>\n      <td>-20.300000</td>\n      <td>2012.000000</td>\n      <td>-19.267801</td>\n    </tr>\n    <tr>\n      <th>25%</th>\n      <td>2014.0</td>\n      <td>10.000000</td>\n      <td>7.900000</td>\n      <td>9.360000</td>\n      <td>3.000000</td>\n      <td>0.000000</td>\n      <td>0.000000</td>\n      <td>0.345750</td>\n      <td>0.000000</td>\n      <td>4.400000</td>\n      <td>7.200000</td>\n      <td>1003.200000</td>\n      <td>5.500000</td>\n      <td>69.710000</td>\n      <td>8.400000</td>\n      <td>2.000000</td>\n      <td>-0.500000</td>\n      <td>2014.000000</td>\n      <td>2.322863</td>\n    </tr>\n    <tr>\n      <th>50%</th>\n      <td>2014.0</td>\n      <td>10.000000</td>\n      <td>10.300000</td>\n      <td>12.960000</td>\n      <td>10.000000</td>\n      <td>0.000000</td>\n      <td>6.000000</td>\n      <td>3.208500</td>\n      <td>0.000000</td>\n      <td>5.900000</td>\n      <td>9.700000</td>\n      <td>1008.825000</td>\n      <td>10.400000</td>\n      <td>79.000000</td>\n      <td>14.450000</td>\n      <td>6.200000</td>\n      <td>3.700000</td>\n      <td>2016.000000</td>\n      <td>8.597164</td>\n    </tr>\n    <tr>\n      <th>75%</th>\n      <td>2014.0</td>\n      <td>10.000000</td>\n      <td>12.900000</td>\n      <td>16.920000</td>\n      <td>10.000000</td>\n      <td>1.500000</td>\n      <td>6.000000</td>\n      <td>7.583000</td>\n      <td>0.000000</td>\n      <td>7.000000</td>\n      <td>13.000000</td>\n      <td>1014.400000</td>\n      <td>16.000000</td>\n      <td>86.000000</td>\n      <td>21.100000</td>\n      <td>10.900000</td>\n      <td>8.300000</td>\n      <td>2018.000000</td>\n      <td>15.634702</td>\n    </tr>\n    <tr>\n      <th>max</th>\n      <td>2014.0</td>\n      <td>10.000000</td>\n      <td>31.600000</td>\n      <td>40.680000</td>\n      <td>10.000000</td>\n      <td>46.900000</td>\n      <td>8.000000</td>\n      <td>15.417000</td>\n      <td>12.000000</td>\n      <td>8.000000</td>\n      <td>22.300000</td>\n      <td>1038.470000</td>\n      <td>29.200000</td>\n      <td>100.000000</td>\n      <td>37.900000</td>\n      <td>21.200000</td>\n      <td>20.100000</td>\n      <td>2020.000000</td>\n      <td>31.578035</td>\n    </tr>\n  </tbody>\n</table>\n</div>"
     },
     "metadata": {},
     "output_type": "display_data"
    },
    {
     "name": "stdout",
     "text": "\n\n",
     "output_type": "stream"
    },
    {
     "data": {
      "text/plain": "'Leipzig'"
     },
     "metadata": {},
     "output_type": "display_data"
    },
    {
     "data": {
      "application/vnd.deepnote.dataframe.v2+json": {
       "row_count": 8,
       "column_count": 19,
       "columns": [
        {
         "name": "STATIONS_ID",
         "dtype": "float64",
         "stats": {
          "unique_count": 3,
          "nan_count": 0,
          "min": "0.0",
          "max": "3288.0",
          "histogram": [
           {
            "bin_start": 0,
            "bin_end": 328.8,
            "count": 1
           },
           {
            "bin_start": 328.8,
            "bin_end": 657.6,
            "count": 0
           },
           {
            "bin_start": 657.6,
            "bin_end": 986.4000000000001,
            "count": 0
           },
           {
            "bin_start": 986.4000000000001,
            "bin_end": 1315.2,
            "count": 0
           },
           {
            "bin_start": 1315.2,
            "bin_end": 1644,
            "count": 0
           },
           {
            "bin_start": 1644,
            "bin_end": 1972.8000000000002,
            "count": 0
           },
           {
            "bin_start": 1972.8000000000002,
            "bin_end": 2301.6,
            "count": 0
           },
           {
            "bin_start": 2301.6,
            "bin_end": 2630.4,
            "count": 0
           },
           {
            "bin_start": 2630.4,
            "bin_end": 2959.2000000000003,
            "count": 6
           },
           {
            "bin_start": 2959.2000000000003,
            "bin_end": 3288,
            "count": 1
           }
          ]
         }
        },
        {
         "name": "QN_3",
         "dtype": "float64",
         "stats": {
          "unique_count": 5,
          "nan_count": 0,
          "min": "0.9447060219666933",
          "max": "3288.0",
          "histogram": [
           {
            "bin_start": 0.9447060219666933,
            "bin_end": 329.65023541977,
            "count": 7
           },
           {
            "bin_start": 329.65023541977,
            "bin_end": 658.3557648175733,
            "count": 0
           },
           {
            "bin_start": 658.3557648175733,
            "bin_end": 987.0612942153767,
            "count": 0
           },
           {
            "bin_start": 987.0612942153767,
            "bin_end": 1315.7668236131801,
            "count": 0
           },
           {
            "bin_start": 1315.7668236131801,
            "bin_end": 1644.4723530109834,
            "count": 0
           },
           {
            "bin_start": 1644.4723530109834,
            "bin_end": 1973.177882408787,
            "count": 0
           },
           {
            "bin_start": 1973.177882408787,
            "bin_end": 2301.88341180659,
            "count": 0
           },
           {
            "bin_start": 2301.88341180659,
            "bin_end": 2630.5889412043934,
            "count": 0
           },
           {
            "bin_start": 2630.5889412043934,
            "bin_end": 2959.2944706021967,
            "count": 0
           },
           {
            "bin_start": 2959.2944706021967,
            "bin_end": 3288,
            "count": 1
           }
          ]
         }
        },
        {
         "name": "  FX",
         "dtype": "float64",
         "stats": {
          "unique_count": 8,
          "nan_count": 0,
          "min": "0.0",
          "max": "3288.0",
          "histogram": [
           {
            "bin_start": 0,
            "bin_end": 328.8,
            "count": 7
           },
           {
            "bin_start": 328.8,
            "bin_end": 657.6,
            "count": 0
           },
           {
            "bin_start": 657.6,
            "bin_end": 986.4000000000001,
            "count": 0
           },
           {
            "bin_start": 986.4000000000001,
            "bin_end": 1315.2,
            "count": 0
           },
           {
            "bin_start": 1315.2,
            "bin_end": 1644,
            "count": 0
           },
           {
            "bin_start": 1644,
            "bin_end": 1972.8000000000002,
            "count": 0
           },
           {
            "bin_start": 1972.8000000000002,
            "bin_end": 2301.6,
            "count": 0
           },
           {
            "bin_start": 2301.6,
            "bin_end": 2630.4,
            "count": 0
           },
           {
            "bin_start": 2630.4,
            "bin_end": 2959.2000000000003,
            "count": 0
           },
           {
            "bin_start": 2959.2000000000003,
            "bin_end": 3288,
            "count": 1
           }
          ]
         }
        },
        {
         "name": "  FM",
         "dtype": "float64",
         "stats": {
          "unique_count": 8,
          "nan_count": 0,
          "min": "0.0",
          "max": "3288.0",
          "histogram": [
           {
            "bin_start": 0,
            "bin_end": 328.8,
            "count": 7
           },
           {
            "bin_start": 328.8,
            "bin_end": 657.6,
            "count": 0
           },
           {
            "bin_start": 657.6,
            "bin_end": 986.4000000000001,
            "count": 0
           },
           {
            "bin_start": 986.4000000000001,
            "bin_end": 1315.2,
            "count": 0
           },
           {
            "bin_start": 1315.2,
            "bin_end": 1644,
            "count": 0
           },
           {
            "bin_start": 1644,
            "bin_end": 1972.8000000000002,
            "count": 0
           },
           {
            "bin_start": 1972.8000000000002,
            "bin_end": 2301.6,
            "count": 0
           },
           {
            "bin_start": 2301.6,
            "bin_end": 2630.4,
            "count": 0
           },
           {
            "bin_start": 2630.4,
            "bin_end": 2959.2000000000003,
            "count": 0
           },
           {
            "bin_start": 2959.2000000000003,
            "bin_end": 3288,
            "count": 1
           }
          ]
         }
        },
        {
         "name": "QN_4",
         "dtype": "float64",
         "stats": {
          "unique_count": 5,
          "nan_count": 0,
          "min": "3.0",
          "max": "3288.0",
          "histogram": [
           {
            "bin_start": 3,
            "bin_end": 331.5,
            "count": 7
           },
           {
            "bin_start": 331.5,
            "bin_end": 660,
            "count": 0
           },
           {
            "bin_start": 660,
            "bin_end": 988.5,
            "count": 0
           },
           {
            "bin_start": 988.5,
            "bin_end": 1317,
            "count": 0
           },
           {
            "bin_start": 1317,
            "bin_end": 1645.5,
            "count": 0
           },
           {
            "bin_start": 1645.5,
            "bin_end": 1974,
            "count": 0
           },
           {
            "bin_start": 1974,
            "bin_end": 2302.5,
            "count": 0
           },
           {
            "bin_start": 2302.5,
            "bin_end": 2631,
            "count": 0
           },
           {
            "bin_start": 2631,
            "bin_end": 2959.5,
            "count": 0
           },
           {
            "bin_start": 2959.5,
            "bin_end": 3288,
            "count": 1
           }
          ]
         }
        },
        {
         "name": " RSK",
         "dtype": "float64",
         "stats": {
          "unique_count": 6,
          "nan_count": 0,
          "min": "0.0",
          "max": "3288.0",
          "histogram": [
           {
            "bin_start": 0,
            "bin_end": 328.8,
            "count": 7
           },
           {
            "bin_start": 328.8,
            "bin_end": 657.6,
            "count": 0
           },
           {
            "bin_start": 657.6,
            "bin_end": 986.4000000000001,
            "count": 0
           },
           {
            "bin_start": 986.4000000000001,
            "bin_end": 1315.2,
            "count": 0
           },
           {
            "bin_start": 1315.2,
            "bin_end": 1644,
            "count": 0
           },
           {
            "bin_start": 1644,
            "bin_end": 1972.8000000000002,
            "count": 0
           },
           {
            "bin_start": 1972.8000000000002,
            "bin_end": 2301.6,
            "count": 0
           },
           {
            "bin_start": 2301.6,
            "bin_end": 2630.4,
            "count": 0
           },
           {
            "bin_start": 2630.4,
            "bin_end": 2959.2000000000003,
            "count": 0
           },
           {
            "bin_start": 2959.2000000000003,
            "bin_end": 3288,
            "count": 1
           }
          ]
         }
        },
        {
         "name": "RSKF",
         "dtype": "float64",
         "stats": {
          "unique_count": 6,
          "nan_count": 0,
          "min": "0.0",
          "max": "3288.0",
          "histogram": [
           {
            "bin_start": 0,
            "bin_end": 328.8,
            "count": 7
           },
           {
            "bin_start": 328.8,
            "bin_end": 657.6,
            "count": 0
           },
           {
            "bin_start": 657.6,
            "bin_end": 986.4000000000001,
            "count": 0
           },
           {
            "bin_start": 986.4000000000001,
            "bin_end": 1315.2,
            "count": 0
           },
           {
            "bin_start": 1315.2,
            "bin_end": 1644,
            "count": 0
           },
           {
            "bin_start": 1644,
            "bin_end": 1972.8000000000002,
            "count": 0
           },
           {
            "bin_start": 1972.8000000000002,
            "bin_end": 2301.6,
            "count": 0
           },
           {
            "bin_start": 2301.6,
            "bin_end": 2630.4,
            "count": 0
           },
           {
            "bin_start": 2630.4,
            "bin_end": 2959.2000000000003,
            "count": 0
           },
           {
            "bin_start": 2959.2000000000003,
            "bin_end": 3288,
            "count": 1
           }
          ]
         }
        },
        {
         "name": " SDK",
         "dtype": "float64",
         "stats": {
          "unique_count": 8,
          "nan_count": 0,
          "min": "0.0",
          "max": "3288.0",
          "histogram": [
           {
            "bin_start": 0,
            "bin_end": 328.8,
            "count": 7
           },
           {
            "bin_start": 328.8,
            "bin_end": 657.6,
            "count": 0
           },
           {
            "bin_start": 657.6,
            "bin_end": 986.4000000000001,
            "count": 0
           },
           {
            "bin_start": 986.4000000000001,
            "bin_end": 1315.2,
            "count": 0
           },
           {
            "bin_start": 1315.2,
            "bin_end": 1644,
            "count": 0
           },
           {
            "bin_start": 1644,
            "bin_end": 1972.8000000000002,
            "count": 0
           },
           {
            "bin_start": 1972.8000000000002,
            "bin_end": 2301.6,
            "count": 0
           },
           {
            "bin_start": 2301.6,
            "bin_end": 2630.4,
            "count": 0
           },
           {
            "bin_start": 2630.4,
            "bin_end": 2959.2000000000003,
            "count": 0
           },
           {
            "bin_start": 2959.2000000000003,
            "bin_end": 3288,
            "count": 1
           }
          ]
         }
        },
        {
         "name": "SHK_TAG",
         "dtype": "float64",
         "stats": {
          "unique_count": 5,
          "nan_count": 0,
          "min": "0.0",
          "max": "3288.0",
          "histogram": [
           {
            "bin_start": 0,
            "bin_end": 328.8,
            "count": 7
           },
           {
            "bin_start": 328.8,
            "bin_end": 657.6,
            "count": 0
           },
           {
            "bin_start": 657.6,
            "bin_end": 986.4000000000001,
            "count": 0
           },
           {
            "bin_start": 986.4000000000001,
            "bin_end": 1315.2,
            "count": 0
           },
           {
            "bin_start": 1315.2,
            "bin_end": 1644,
            "count": 0
           },
           {
            "bin_start": 1644,
            "bin_end": 1972.8000000000002,
            "count": 0
           },
           {
            "bin_start": 1972.8000000000002,
            "bin_end": 2301.6,
            "count": 0
           },
           {
            "bin_start": 2301.6,
            "bin_end": 2630.4,
            "count": 0
           },
           {
            "bin_start": 2630.4,
            "bin_end": 2959.2000000000003,
            "count": 0
           },
           {
            "bin_start": 2959.2000000000003,
            "bin_end": 3288,
            "count": 1
           }
          ]
         }
        },
        {
         "name": "  NM",
         "dtype": "float64",
         "stats": {
          "unique_count": 8,
          "nan_count": 0,
          "min": "0.0",
          "max": "3288.0",
          "histogram": [
           {
            "bin_start": 0,
            "bin_end": 328.8,
            "count": 7
           },
           {
            "bin_start": 328.8,
            "bin_end": 657.6,
            "count": 0
           },
           {
            "bin_start": 657.6,
            "bin_end": 986.4000000000001,
            "count": 0
           },
           {
            "bin_start": 986.4000000000001,
            "bin_end": 1315.2,
            "count": 0
           },
           {
            "bin_start": 1315.2,
            "bin_end": 1644,
            "count": 0
           },
           {
            "bin_start": 1644,
            "bin_end": 1972.8000000000002,
            "count": 0
           },
           {
            "bin_start": 1972.8000000000002,
            "bin_end": 2301.6,
            "count": 0
           },
           {
            "bin_start": 2301.6,
            "bin_end": 2630.4,
            "count": 0
           },
           {
            "bin_start": 2630.4,
            "bin_end": 2959.2000000000003,
            "count": 0
           },
           {
            "bin_start": 2959.2000000000003,
            "bin_end": 3288,
            "count": 1
           }
          ]
         }
        },
        {
         "name": " VPM",
         "dtype": "float64",
         "stats": {
          "unique_count": 8,
          "nan_count": 0,
          "min": "1.3",
          "max": "3288.0",
          "histogram": [
           {
            "bin_start": 1.3,
            "bin_end": 329.96999999999997,
            "count": 7
           },
           {
            "bin_start": 329.96999999999997,
            "bin_end": 658.6399999999999,
            "count": 0
           },
           {
            "bin_start": 658.6399999999999,
            "bin_end": 987.3099999999998,
            "count": 0
           },
           {
            "bin_start": 987.3099999999998,
            "bin_end": 1315.9799999999998,
            "count": 0
           },
           {
            "bin_start": 1315.9799999999998,
            "bin_end": 1644.6499999999999,
            "count": 0
           },
           {
            "bin_start": 1644.6499999999999,
            "bin_end": 1973.3199999999997,
            "count": 0
           },
           {
            "bin_start": 1973.3199999999997,
            "bin_end": 2301.99,
            "count": 0
           },
           {
            "bin_start": 2301.99,
            "bin_end": 2630.66,
            "count": 0
           },
           {
            "bin_start": 2630.66,
            "bin_end": 2959.33,
            "count": 0
           },
           {
            "bin_start": 2959.33,
            "bin_end": 3288,
            "count": 1
           }
          ]
         }
        },
        {
         "name": "  PM",
         "dtype": "float64",
         "stats": {
          "unique_count": 8,
          "nan_count": 0,
          "min": "8.472781630345834",
          "max": "3288.0",
          "histogram": [
           {
            "bin_start": 8.472781630345834,
            "bin_end": 336.4255034673113,
            "count": 1
           },
           {
            "bin_start": 336.4255034673113,
            "bin_end": 664.3782253042767,
            "count": 0
           },
           {
            "bin_start": 664.3782253042767,
            "bin_end": 992.3309471412422,
            "count": 1
           },
           {
            "bin_start": 992.3309471412422,
            "bin_end": 1320.2836689782077,
            "count": 5
           },
           {
            "bin_start": 1320.2836689782077,
            "bin_end": 1648.236390815173,
            "count": 0
           },
           {
            "bin_start": 1648.236390815173,
            "bin_end": 1976.1891126521386,
            "count": 0
           },
           {
            "bin_start": 1976.1891126521386,
            "bin_end": 2304.141834489104,
            "count": 0
           },
           {
            "bin_start": 2304.141834489104,
            "bin_end": 2632.0945563260693,
            "count": 0
           },
           {
            "bin_start": 2632.0945563260693,
            "bin_end": 2960.0472781630347,
            "count": 0
           },
           {
            "bin_start": 2960.0472781630347,
            "bin_end": 3288,
            "count": 1
           }
          ]
         }
        },
        {
         "name": " TMK",
         "dtype": "float64",
         "stats": {
          "unique_count": 8,
          "nan_count": 0,
          "min": "-17.3",
          "max": "3288.0",
          "histogram": [
           {
            "bin_start": -17.3,
            "bin_end": 313.23,
            "count": 7
           },
           {
            "bin_start": 313.23,
            "bin_end": 643.7600000000001,
            "count": 0
           },
           {
            "bin_start": 643.7600000000001,
            "bin_end": 974.2900000000002,
            "count": 0
           },
           {
            "bin_start": 974.2900000000002,
            "bin_end": 1304.8200000000002,
            "count": 0
           },
           {
            "bin_start": 1304.8200000000002,
            "bin_end": 1635.3500000000001,
            "count": 0
           },
           {
            "bin_start": 1635.3500000000001,
            "bin_end": 1965.8800000000003,
            "count": 0
           },
           {
            "bin_start": 1965.8800000000003,
            "bin_end": 2296.41,
            "count": 0
           },
           {
            "bin_start": 2296.41,
            "bin_end": 2626.94,
            "count": 0
           },
           {
            "bin_start": 2626.94,
            "bin_end": 2957.4700000000003,
            "count": 0
           },
           {
            "bin_start": 2957.4700000000003,
            "bin_end": 3288,
            "count": 1
           }
          ]
         }
        },
        {
         "name": " UPM",
         "dtype": "float64",
         "stats": {
          "unique_count": 8,
          "nan_count": 0,
          "min": "13.00414343344172",
          "max": "3288.0",
          "histogram": [
           {
            "bin_start": 13.00414343344172,
            "bin_end": 340.5037290900975,
            "count": 7
           },
           {
            "bin_start": 340.5037290900975,
            "bin_end": 668.0033147467534,
            "count": 0
           },
           {
            "bin_start": 668.0033147467534,
            "bin_end": 995.5029004034092,
            "count": 0
           },
           {
            "bin_start": 995.5029004034092,
            "bin_end": 1323.002486060065,
            "count": 0
           },
           {
            "bin_start": 1323.002486060065,
            "bin_end": 1650.5020717167208,
            "count": 0
           },
           {
            "bin_start": 1650.5020717167208,
            "bin_end": 1978.0016573733765,
            "count": 0
           },
           {
            "bin_start": 1978.0016573733765,
            "bin_end": 2305.5012430300326,
            "count": 0
           },
           {
            "bin_start": 2305.5012430300326,
            "bin_end": 2633.0008286866882,
            "count": 0
           },
           {
            "bin_start": 2633.0008286866882,
            "bin_end": 2960.500414343344,
            "count": 0
           },
           {
            "bin_start": 2960.500414343344,
            "bin_end": 3288,
            "count": 1
           }
          ]
         }
        },
        {
         "name": " TXK",
         "dtype": "float64",
         "stats": {
          "unique_count": 8,
          "nan_count": 0,
          "min": "-13.6",
          "max": "3288.0",
          "histogram": [
           {
            "bin_start": -13.6,
            "bin_end": 316.55999999999995,
            "count": 7
           },
           {
            "bin_start": 316.55999999999995,
            "bin_end": 646.7199999999999,
            "count": 0
           },
           {
            "bin_start": 646.7199999999999,
            "bin_end": 976.8799999999999,
            "count": 0
           },
           {
            "bin_start": 976.8799999999999,
            "bin_end": 1307.04,
            "count": 0
           },
           {
            "bin_start": 1307.04,
            "bin_end": 1637.1999999999998,
            "count": 0
           },
           {
            "bin_start": 1637.1999999999998,
            "bin_end": 1967.36,
            "count": 0
           },
           {
            "bin_start": 1967.36,
            "bin_end": 2297.52,
            "count": 0
           },
           {
            "bin_start": 2297.52,
            "bin_end": 2627.68,
            "count": 0
           },
           {
            "bin_start": 2627.68,
            "bin_end": 2957.8399999999997,
            "count": 0
           },
           {
            "bin_start": 2957.8399999999997,
            "bin_end": 3288,
            "count": 1
           }
          ]
         }
        },
        {
         "name": " TNK",
         "dtype": "float64",
         "stats": {
          "unique_count": 8,
          "nan_count": 0,
          "min": "-21.5",
          "max": "3288.0",
          "histogram": [
           {
            "bin_start": -21.5,
            "bin_end": 309.45,
            "count": 7
           },
           {
            "bin_start": 309.45,
            "bin_end": 640.4,
            "count": 0
           },
           {
            "bin_start": 640.4,
            "bin_end": 971.3499999999999,
            "count": 0
           },
           {
            "bin_start": 971.3499999999999,
            "bin_end": 1302.3,
            "count": 0
           },
           {
            "bin_start": 1302.3,
            "bin_end": 1633.25,
            "count": 0
           },
           {
            "bin_start": 1633.25,
            "bin_end": 1964.1999999999998,
            "count": 0
           },
           {
            "bin_start": 1964.1999999999998,
            "bin_end": 2295.15,
            "count": 0
           },
           {
            "bin_start": 2295.15,
            "bin_end": 2626.1,
            "count": 0
           },
           {
            "bin_start": 2626.1,
            "bin_end": 2957.0499999999997,
            "count": 0
           },
           {
            "bin_start": 2957.0499999999997,
            "bin_end": 3288,
            "count": 1
           }
          ]
         }
        },
        {
         "name": " TGK",
         "dtype": "float64",
         "stats": {
          "unique_count": 8,
          "nan_count": 0,
          "min": "-26.5",
          "max": "3288.0",
          "histogram": [
           {
            "bin_start": -26.5,
            "bin_end": 304.95,
            "count": 7
           },
           {
            "bin_start": 304.95,
            "bin_end": 636.4,
            "count": 0
           },
           {
            "bin_start": 636.4,
            "bin_end": 967.8499999999999,
            "count": 0
           },
           {
            "bin_start": 967.8499999999999,
            "bin_end": 1299.3,
            "count": 0
           },
           {
            "bin_start": 1299.3,
            "bin_end": 1630.75,
            "count": 0
           },
           {
            "bin_start": 1630.75,
            "bin_end": 1962.1999999999998,
            "count": 0
           },
           {
            "bin_start": 1962.1999999999998,
            "bin_end": 2293.65,
            "count": 0
           },
           {
            "bin_start": 2293.65,
            "bin_end": 2625.1,
            "count": 0
           },
           {
            "bin_start": 2625.1,
            "bin_end": 2956.5499999999997,
            "count": 0
           },
           {
            "bin_start": 2956.5499999999997,
            "bin_end": 3288,
            "count": 1
           }
          ]
         }
        },
        {
         "name": "YEAR",
         "dtype": "float64",
         "stats": {
          "unique_count": 7,
          "nan_count": 0,
          "min": "2.5830883848397694",
          "max": "3288.0",
          "histogram": [
           {
            "bin_start": 2.5830883848397694,
            "bin_end": 331.1247795463558,
            "count": 1
           },
           {
            "bin_start": 331.1247795463558,
            "bin_end": 659.6664707078719,
            "count": 0
           },
           {
            "bin_start": 659.6664707078719,
            "bin_end": 988.2081618693879,
            "count": 0
           },
           {
            "bin_start": 988.2081618693879,
            "bin_end": 1316.749853030904,
            "count": 0
           },
           {
            "bin_start": 1316.749853030904,
            "bin_end": 1645.2915441924201,
            "count": 0
           },
           {
            "bin_start": 1645.2915441924201,
            "bin_end": 1973.833235353936,
            "count": 0
           },
           {
            "bin_start": 1973.833235353936,
            "bin_end": 2302.374926515452,
            "count": 6
           },
           {
            "bin_start": 2302.374926515452,
            "bin_end": 2630.916617676968,
            "count": 0
           },
           {
            "bin_start": 2630.916617676968,
            "bin_end": 2959.4583088384843,
            "count": 0
           },
           {
            "bin_start": 2959.4583088384843,
            "bin_end": 3288,
            "count": 1
           }
          ]
         }
        },
        {
         "name": "WIND_CHILL",
         "dtype": "float64",
         "stats": {
          "unique_count": 8,
          "nan_count": 0,
          "min": "-22.21442276683752",
          "max": "3288.0",
          "histogram": [
           {
            "bin_start": -22.21442276683752,
            "bin_end": 308.80701950984627,
            "count": 7
           },
           {
            "bin_start": 308.80701950984627,
            "bin_end": 639.82846178653,
            "count": 0
           },
           {
            "bin_start": 639.82846178653,
            "bin_end": 970.8499040632139,
            "count": 0
           },
           {
            "bin_start": 970.8499040632139,
            "bin_end": 1301.8713463398976,
            "count": 0
           },
           {
            "bin_start": 1301.8713463398976,
            "bin_end": 1632.8927886165814,
            "count": 0
           },
           {
            "bin_start": 1632.8927886165814,
            "bin_end": 1963.9142308932653,
            "count": 0
           },
           {
            "bin_start": 1963.9142308932653,
            "bin_end": 2294.9356731699486,
            "count": 0
           },
           {
            "bin_start": 2294.9356731699486,
            "bin_end": 2625.9571154466325,
            "count": 0
           },
           {
            "bin_start": 2625.9571154466325,
            "bin_end": 2956.9785577233165,
            "count": 0
           },
           {
            "bin_start": 2956.9785577233165,
            "bin_end": 3288,
            "count": 1
           }
          ]
         }
        },
        {
         "name": "_deepnote_index_column",
         "dtype": "object"
        }
       ],
       "rows_top": [
        {
         "STATIONS_ID": 3288,
         "QN_3": 3288,
         "  FX": 3288,
         "  FM": 3288,
         "QN_4": 3288,
         " RSK": 3288,
         "RSKF": 3288,
         " SDK": 3288,
         "SHK_TAG": 3288,
         "  NM": 3288,
         " VPM": 3288,
         "  PM": 3288,
         " TMK": 3288,
         " UPM": 3288,
         " TXK": 3288,
         " TNK": 3288,
         " TGK": 3288,
         "YEAR": 3288,
         "WIND_CHILL": 3288,
         "_deepnote_index_column": "count"
        },
        {
         "STATIONS_ID": 2932,
         "QN_3": 9.870133819951338,
         "  FX": 10.577828467153283,
         "  FM": 14.686861313868613,
         "QN_4": 7.081204379562044,
         " RSK": 1.2913625304136254,
         "RSKF": 3.8704379562043796,
         " SDK": 4.968577250608273,
         "SHK_TAG": 0.2490875912408759,
         "  NM": 5.43573600973236,
         " VPM": 9.94279197080292,
         "  PM": 999.9045954987834,
         " TMK": 10.604318734793187,
         " UPM": 74.95244525547446,
         " TXK": 15.038442822384427,
         " TNK": 6.171745742092456,
         " TGK": 3.8724148418491486,
         "YEAR": 2016,
         "WIND_CHILL": 8.775760136855771,
         "_deepnote_index_column": "mean"
        },
        {
         "STATIONS_ID": 0,
         "QN_3": 0.9447060219666933,
         "  FX": 4.119601267299788,
         "  FM": 6.620509743011052,
         "QN_4": 3.4519306921921955,
         " RSK": 3.4548526603510807,
         "RSKF": 3.0753050642190405,
         " SDK": 4.5395006273776835,
         "SHK_TAG": 1.3410054012153534,
         "  NM": 1.965015826324316,
         " VPM": 3.935898342437755,
         "  PM": 8.472781630345834,
         " TMK": 7.632553586731304,
         " UPM": 13.00414343344172,
         " TXK": 8.96335372600107,
         " TNK": 6.724029922115292,
         " TGK": 6.76508484739413,
         "YEAR": 2.5830883848397694,
         "WIND_CHILL": 9.491154283309717,
         "_deepnote_index_column": "std"
        },
        {
         "STATIONS_ID": 2932,
         "QN_3": 3,
         "  FX": 0,
         "  FM": 0,
         "QN_4": 3,
         " RSK": 0,
         "RSKF": 0,
         " SDK": 0,
         "SHK_TAG": 0,
         "  NM": 0,
         " VPM": 1.3,
         "  PM": 958.6,
         " TMK": -17.3,
         " UPM": 33.38,
         " TXK": -13.6,
         " TNK": -21.5,
         " TGK": -26.5,
         "YEAR": 2012,
         "WIND_CHILL": -22.21442276683752,
         "_deepnote_index_column": "min"
        },
        {
         "STATIONS_ID": 2932,
         "QN_3": 10,
         "  FX": 7.6,
         "  FM": 9.72,
         "QN_4": 3,
         " RSK": 0,
         "RSKF": 0,
         " SDK": 0.4,
         "SHK_TAG": 0,
         "  NM": 4.3,
         " VPM": 6.8,
         "  PM": 994.9,
         " TMK": 4.8,
         " UPM": 65,
         " TXK": 8.075,
         " TNK": 1.1,
         " TGK": -0.8,
         "YEAR": 2014,
         "WIND_CHILL": 1.2571674472653627,
         "_deepnote_index_column": "25%"
        },
        {
         "STATIONS_ID": 2932,
         "QN_3": 10,
         "  FX": 9.8,
         "  FM": 13.32,
         "QN_4": 10,
         " RSK": 0,
         "RSKF": 6,
         " SDK": 4.1,
         "SHK_TAG": 0,
         "  NM": 5.9,
         " VPM": 9.4,
         "  PM": 1000.1,
         " TMK": 10.3,
         " UPM": 76.42,
         " TXK": 14.9,
         " TNK": 6.2,
         " TGK": 4.05,
         "YEAR": 2016,
         "WIND_CHILL": 8.394410442847526,
         "_deepnote_index_column": "50%"
        },
        {
         "STATIONS_ID": 2932,
         "QN_3": 10,
         "  FX": 12.825000000000001,
         "  FM": 18,
         "QN_4": 10,
         " RSK": 1,
         "RSKF": 6,
         " SDK": 8.5,
         "SHK_TAG": 0,
         "  NM": 7,
         " VPM": 12.7,
         "  PM": 1005.335,
         " TMK": 16.6,
         " UPM": 85,
         " TXK": 22.1,
         " TNK": 11.5,
         " TGK": 8.9,
         "YEAR": 2018,
         "WIND_CHILL": 16.309239288934776,
         "_deepnote_index_column": "75%"
        },
        {
         "STATIONS_ID": 2932,
         "QN_3": 10,
         "  FX": 35.7,
         "  FM": 48.6,
         "QN_4": 10,
         " RSK": 58.9,
         "RSKF": 8,
         " SDK": 15.767,
         "SHK_TAG": 14,
         "  NM": 8,
         " VPM": 25.7,
         "  PM": 1029.04,
         " TMK": 30.2,
         " UPM": 100,
         " TXK": 38.3,
         " TNK": 22.6,
         " TGK": 20.3,
         "YEAR": 2020,
         "WIND_CHILL": 32.76881788251231,
         "_deepnote_index_column": "max"
        }
       ],
       "rows_bottom": null
      },
      "text/plain": "       STATIONS_ID         QN_3           FX           FM         QN_4  \\\ncount       3288.0  3288.000000  3288.000000  3288.000000  3288.000000   \nmean        2932.0     9.870134    10.577828    14.686861     7.081204   \nstd            0.0     0.944706     4.119601     6.620510     3.451931   \nmin         2932.0     3.000000     0.000000     0.000000     3.000000   \n25%         2932.0    10.000000     7.600000     9.720000     3.000000   \n50%         2932.0    10.000000     9.800000    13.320000    10.000000   \n75%         2932.0    10.000000    12.825000    18.000000    10.000000   \nmax         2932.0    10.000000    35.700000    48.600000    10.000000   \n\n               RSK         RSKF          SDK      SHK_TAG           NM  \\\ncount  3288.000000  3288.000000  3288.000000  3288.000000  3288.000000   \nmean      1.291363     3.870438     4.968577     0.249088     5.435736   \nstd       3.454853     3.075305     4.539501     1.341005     1.965016   \nmin       0.000000     0.000000     0.000000     0.000000     0.000000   \n25%       0.000000     0.000000     0.400000     0.000000     4.300000   \n50%       0.000000     6.000000     4.100000     0.000000     5.900000   \n75%       1.000000     6.000000     8.500000     0.000000     7.000000   \nmax      58.900000     8.000000    15.767000    14.000000     8.000000   \n\n               VPM           PM          TMK          UPM          TXK  \\\ncount  3288.000000  3288.000000  3288.000000  3288.000000  3288.000000   \nmean      9.942792   999.904595    10.604319    74.952445    15.038443   \nstd       3.935898     8.472782     7.632554    13.004143     8.963354   \nmin       1.300000   958.600000   -17.300000    33.380000   -13.600000   \n25%       6.800000   994.900000     4.800000    65.000000     8.075000   \n50%       9.400000  1000.100000    10.300000    76.420000    14.900000   \n75%      12.700000  1005.335000    16.600000    85.000000    22.100000   \nmax      25.700000  1029.040000    30.200000   100.000000    38.300000   \n\n               TNK          TGK         YEAR   WIND_CHILL  \ncount  3288.000000  3288.000000  3288.000000  3288.000000  \nmean      6.171746     3.872415  2016.000000     8.775760  \nstd       6.724030     6.765085     2.583088     9.491154  \nmin     -21.500000   -26.500000  2012.000000   -22.214423  \n25%       1.100000    -0.800000  2014.000000     1.257167  \n50%       6.200000     4.050000  2016.000000     8.394410  \n75%      11.500000     8.900000  2018.000000    16.309239  \nmax      22.600000    20.300000  2020.000000    32.768818  ",
      "text/html": "<div>\n<style scoped>\n    .dataframe tbody tr th:only-of-type {\n        vertical-align: middle;\n    }\n\n    .dataframe tbody tr th {\n        vertical-align: top;\n    }\n\n    .dataframe thead th {\n        text-align: right;\n    }\n</style>\n<table border=\"1\" class=\"dataframe\">\n  <thead>\n    <tr style=\"text-align: right;\">\n      <th></th>\n      <th>STATIONS_ID</th>\n      <th>QN_3</th>\n      <th>FX</th>\n      <th>FM</th>\n      <th>QN_4</th>\n      <th>RSK</th>\n      <th>RSKF</th>\n      <th>SDK</th>\n      <th>SHK_TAG</th>\n      <th>NM</th>\n      <th>VPM</th>\n      <th>PM</th>\n      <th>TMK</th>\n      <th>UPM</th>\n      <th>TXK</th>\n      <th>TNK</th>\n      <th>TGK</th>\n      <th>YEAR</th>\n      <th>WIND_CHILL</th>\n    </tr>\n  </thead>\n  <tbody>\n    <tr>\n      <th>count</th>\n      <td>3288.0</td>\n      <td>3288.000000</td>\n      <td>3288.000000</td>\n      <td>3288.000000</td>\n      <td>3288.000000</td>\n      <td>3288.000000</td>\n      <td>3288.000000</td>\n      <td>3288.000000</td>\n      <td>3288.000000</td>\n      <td>3288.000000</td>\n      <td>3288.000000</td>\n      <td>3288.000000</td>\n      <td>3288.000000</td>\n      <td>3288.000000</td>\n      <td>3288.000000</td>\n      <td>3288.000000</td>\n      <td>3288.000000</td>\n      <td>3288.000000</td>\n      <td>3288.000000</td>\n    </tr>\n    <tr>\n      <th>mean</th>\n      <td>2932.0</td>\n      <td>9.870134</td>\n      <td>10.577828</td>\n      <td>14.686861</td>\n      <td>7.081204</td>\n      <td>1.291363</td>\n      <td>3.870438</td>\n      <td>4.968577</td>\n      <td>0.249088</td>\n      <td>5.435736</td>\n      <td>9.942792</td>\n      <td>999.904595</td>\n      <td>10.604319</td>\n      <td>74.952445</td>\n      <td>15.038443</td>\n      <td>6.171746</td>\n      <td>3.872415</td>\n      <td>2016.000000</td>\n      <td>8.775760</td>\n    </tr>\n    <tr>\n      <th>std</th>\n      <td>0.0</td>\n      <td>0.944706</td>\n      <td>4.119601</td>\n      <td>6.620510</td>\n      <td>3.451931</td>\n      <td>3.454853</td>\n      <td>3.075305</td>\n      <td>4.539501</td>\n      <td>1.341005</td>\n      <td>1.965016</td>\n      <td>3.935898</td>\n      <td>8.472782</td>\n      <td>7.632554</td>\n      <td>13.004143</td>\n      <td>8.963354</td>\n      <td>6.724030</td>\n      <td>6.765085</td>\n      <td>2.583088</td>\n      <td>9.491154</td>\n    </tr>\n    <tr>\n      <th>min</th>\n      <td>2932.0</td>\n      <td>3.000000</td>\n      <td>0.000000</td>\n      <td>0.000000</td>\n      <td>3.000000</td>\n      <td>0.000000</td>\n      <td>0.000000</td>\n      <td>0.000000</td>\n      <td>0.000000</td>\n      <td>0.000000</td>\n      <td>1.300000</td>\n      <td>958.600000</td>\n      <td>-17.300000</td>\n      <td>33.380000</td>\n      <td>-13.600000</td>\n      <td>-21.500000</td>\n      <td>-26.500000</td>\n      <td>2012.000000</td>\n      <td>-22.214423</td>\n    </tr>\n    <tr>\n      <th>25%</th>\n      <td>2932.0</td>\n      <td>10.000000</td>\n      <td>7.600000</td>\n      <td>9.720000</td>\n      <td>3.000000</td>\n      <td>0.000000</td>\n      <td>0.000000</td>\n      <td>0.400000</td>\n      <td>0.000000</td>\n      <td>4.300000</td>\n      <td>6.800000</td>\n      <td>994.900000</td>\n      <td>4.800000</td>\n      <td>65.000000</td>\n      <td>8.075000</td>\n      <td>1.100000</td>\n      <td>-0.800000</td>\n      <td>2014.000000</td>\n      <td>1.257167</td>\n    </tr>\n    <tr>\n      <th>50%</th>\n      <td>2932.0</td>\n      <td>10.000000</td>\n      <td>9.800000</td>\n      <td>13.320000</td>\n      <td>10.000000</td>\n      <td>0.000000</td>\n      <td>6.000000</td>\n      <td>4.100000</td>\n      <td>0.000000</td>\n      <td>5.900000</td>\n      <td>9.400000</td>\n      <td>1000.100000</td>\n      <td>10.300000</td>\n      <td>76.420000</td>\n      <td>14.900000</td>\n      <td>6.200000</td>\n      <td>4.050000</td>\n      <td>2016.000000</td>\n      <td>8.394410</td>\n    </tr>\n    <tr>\n      <th>75%</th>\n      <td>2932.0</td>\n      <td>10.000000</td>\n      <td>12.825000</td>\n      <td>18.000000</td>\n      <td>10.000000</td>\n      <td>1.000000</td>\n      <td>6.000000</td>\n      <td>8.500000</td>\n      <td>0.000000</td>\n      <td>7.000000</td>\n      <td>12.700000</td>\n      <td>1005.335000</td>\n      <td>16.600000</td>\n      <td>85.000000</td>\n      <td>22.100000</td>\n      <td>11.500000</td>\n      <td>8.900000</td>\n      <td>2018.000000</td>\n      <td>16.309239</td>\n    </tr>\n    <tr>\n      <th>max</th>\n      <td>2932.0</td>\n      <td>10.000000</td>\n      <td>35.700000</td>\n      <td>48.600000</td>\n      <td>10.000000</td>\n      <td>58.900000</td>\n      <td>8.000000</td>\n      <td>15.767000</td>\n      <td>14.000000</td>\n      <td>8.000000</td>\n      <td>25.700000</td>\n      <td>1029.040000</td>\n      <td>30.200000</td>\n      <td>100.000000</td>\n      <td>38.300000</td>\n      <td>22.600000</td>\n      <td>20.300000</td>\n      <td>2020.000000</td>\n      <td>32.768818</td>\n    </tr>\n  </tbody>\n</table>\n</div>"
     },
     "metadata": {},
     "output_type": "display_data"
    },
    {
     "name": "stdout",
     "text": "\n\n",
     "output_type": "stream"
    }
   ]
  },
  {
   "cell_type": "markdown",
   "source": "## Visualisation of some Averages\nThe following plots show the average of some characteristics from 2012 to 2020.",
   "metadata": {
    "cell_id": "00011-1844b5ab-4547-4d1e-94d0-b303437b369d",
    "deepnote_app_coordinates": {
     "x": 0,
     "y": 10,
     "w": 12,
     "h": 5
    },
    "deepnote_cell_type": "markdown"
   }
  },
  {
   "cell_type": "code",
   "metadata": {
    "cell_id": "077ba30c-4802-4a3c-ad9c-33d87028b4d7",
    "tags": [],
    "deepnote_to_be_reexecuted": false,
    "source_hash": "d319f4a7",
    "execution_start": 1644143284920,
    "execution_millis": 364,
    "deepnote_cell_type": "code"
   },
   "source": "import plotly.express as px \nimport plotly.graph_objects as go",
   "execution_count": null,
   "outputs": []
  },
  {
   "cell_type": "code",
   "metadata": {
    "cell_id": "75ebf5a4-67c3-48a3-8a3a-c7de1fe4907d",
    "tags": [],
    "deepnote_to_be_reexecuted": false,
    "source_hash": "4b4b4f8",
    "execution_start": 1644143285293,
    "execution_millis": 342,
    "deepnote_output_heights": [
     1
    ],
    "deepnote_app_coordinates": {
     "x": 0,
     "y": 41,
     "w": 12,
     "h": 25
    },
    "deepnote_app_is_code_hidden": true,
    "deepnote_cell_type": "code"
   },
   "source": "#average precipitation height in mm\n\ncities = df[\"STATIONS_NAME\"].unique()\nfig = go.Figure()\n\nfor city in cities:\n    fig.add_trace(go.Scatter(x=df_agg.loc[city].index.get_level_values(0), y=df_agg.loc[city][\" RSK\"],\n                    mode='lines',\n                    name=city))\n\nfig.update_layout(\n    title=\"Average Precipitation height\",\n    xaxis_title=\"Month\",\n    yaxis_title=\"Precipitation height in mm\",\n    legend_title=\"City\",\n    font=dict(\n        family=\"Courier New, monospace\",\n        size=18,\n        color=\"RebeccaPurple\"\n    )\n)\n\nfig.show()",
   "execution_count": null,
   "outputs": [
    {
     "data": {
      "text/html": "<html>\n<head><meta charset=\"utf-8\" /></head>\n<body>\n    <div>            <script src=\"https://cdnjs.cloudflare.com/ajax/libs/mathjax/2.7.5/MathJax.js?config=TeX-AMS-MML_SVG\"></script><script type=\"text/javascript\">if (window.MathJax) {MathJax.Hub.Config({SVG: {font: \"STIX-Web\"}});}</script>                <script type=\"text/javascript\">window.PlotlyConfig = {MathJaxConfig: 'local'};</script>\n        <script src=\"https://cdn.plot.ly/plotly-2.6.3.min.js\"></script>                <div id=\"a0820fb1-857d-437e-af9b-cd88364a09ad\" class=\"plotly-graph-div\" style=\"height:525px; width:100%;\"></div>            <script type=\"text/javascript\">                                    window.PLOTLYENV=window.PLOTLYENV || {};                                    if (document.getElementById(\"a0820fb1-857d-437e-af9b-cd88364a09ad\")) {                    Plotly.newPlot(                        \"a0820fb1-857d-437e-af9b-cd88364a09ad\",                        [{\"mode\":\"lines\",\"name\":\"M\\u00fcnchen\",\"x\":[\"January\",\"February\",\"March\",\"April\",\"May\",\"June\",\"July\",\"August\",\"September\",\"October\",\"November\",\"December\"],\"y\":[53.21111111111108,37.31111111111111,32.64444444444444,40.41111111111109,94.40000000000002,98.47777777777782,81.8888888888889,86.9111111111111,58.18888888888893,57.20000000000001,43.24444444444444,38.82222222222222],\"type\":\"scatter\"},{\"mode\":\"lines\",\"name\":\"K\\u00f6ln\",\"x\":[\"January\",\"February\",\"March\",\"April\",\"May\",\"June\",\"July\",\"August\",\"September\",\"October\",\"November\",\"December\"],\"y\":[68.73333333333336,48.10000000000006,51.43333333333333,38.444444444444436,51.099999999999994,79.04444444444448,80.13333333333337,84.32222222222225,52.91111111111112,64.42222222222222,59.8777777777778,69.97777777777779],\"type\":\"scatter\"},{\"mode\":\"lines\",\"name\":\"D\\u00fcsseldorf\",\"x\":[\"January\",\"February\",\"March\",\"April\",\"May\",\"June\",\"July\",\"August\",\"September\",\"October\",\"November\",\"December\"],\"y\":[62.03333333333333,55.366666666666646,46.13333333333334,34.555555555555564,63.36666666666669,63.57777777777781,56.866666666666696,65.22222222222224,49.199999999999996,53.311111111111124,52.85555555555552,72.28888888888896],\"type\":\"scatter\"},{\"mode\":\"lines\",\"name\":\"Frankfurt\",\"x\":[\"January\",\"February\",\"March\",\"April\",\"May\",\"June\",\"July\",\"August\",\"September\",\"October\",\"November\",\"December\"],\"y\":[48.24444444444448,33.96666666666667,33.55555555555555,35.54444444444446,60.05555555555557,57.73333333333335,50.71111111111114,62.900000000000006,43.12222222222221,49.9222222222222,48.333333333333286,54.43333333333331],\"type\":\"scatter\"},{\"mode\":\"lines\",\"name\":\"Hannover\",\"x\":[\"January\",\"February\",\"March\",\"April\",\"May\",\"June\",\"July\",\"August\",\"September\",\"October\",\"November\",\"December\"],\"y\":[52.6111111111111,35.8111111111111,35.766666666666644,29.300000000000004,52.088888888888874,57.7666666666667,73.97777777777782,53.099999999999994,49.666666666666664,60.877777777777816,45.38888888888891,49.25555555555557],\"type\":\"scatter\"},{\"mode\":\"lines\",\"name\":\"Leipzig\",\"x\":[\"January\",\"February\",\"March\",\"April\",\"May\",\"June\",\"July\",\"August\",\"September\",\"October\",\"November\",\"December\"],\"y\":[37.611111111111114,23.133333333333326,29.322222222222212,22.53333333333333,53.96666666666667,50.95555555555555,56.611111111111114,56.422222222222246,37.633333333333326,42.38888888888891,32.5888888888889,28.611111111111104],\"type\":\"scatter\"}],                        {\"template\":{\"data\":{\"bar\":[{\"error_x\":{\"color\":\"#2a3f5f\"},\"error_y\":{\"color\":\"#2a3f5f\"},\"marker\":{\"line\":{\"color\":\"#E5ECF6\",\"width\":0.5},\"pattern\":{\"fillmode\":\"overlay\",\"size\":10,\"solidity\":0.2}},\"type\":\"bar\"}],\"barpolar\":[{\"marker\":{\"line\":{\"color\":\"#E5ECF6\",\"width\":0.5},\"pattern\":{\"fillmode\":\"overlay\",\"size\":10,\"solidity\":0.2}},\"type\":\"barpolar\"}],\"carpet\":[{\"aaxis\":{\"endlinecolor\":\"#2a3f5f\",\"gridcolor\":\"white\",\"linecolor\":\"white\",\"minorgridcolor\":\"white\",\"startlinecolor\":\"#2a3f5f\"},\"baxis\":{\"endlinecolor\":\"#2a3f5f\",\"gridcolor\":\"white\",\"linecolor\":\"white\",\"minorgridcolor\":\"white\",\"startlinecolor\":\"#2a3f5f\"},\"type\":\"carpet\"}],\"choropleth\":[{\"colorbar\":{\"outlinewidth\":0,\"ticks\":\"\"},\"type\":\"choropleth\"}],\"contour\":[{\"colorbar\":{\"outlinewidth\":0,\"ticks\":\"\"},\"colorscale\":[[0.0,\"#0d0887\"],[0.1111111111111111,\"#46039f\"],[0.2222222222222222,\"#7201a8\"],[0.3333333333333333,\"#9c179e\"],[0.4444444444444444,\"#bd3786\"],[0.5555555555555556,\"#d8576b\"],[0.6666666666666666,\"#ed7953\"],[0.7777777777777778,\"#fb9f3a\"],[0.8888888888888888,\"#fdca26\"],[1.0,\"#f0f921\"]],\"type\":\"contour\"}],\"contourcarpet\":[{\"colorbar\":{\"outlinewidth\":0,\"ticks\":\"\"},\"type\":\"contourcarpet\"}],\"heatmap\":[{\"colorbar\":{\"outlinewidth\":0,\"ticks\":\"\"},\"colorscale\":[[0.0,\"#0d0887\"],[0.1111111111111111,\"#46039f\"],[0.2222222222222222,\"#7201a8\"],[0.3333333333333333,\"#9c179e\"],[0.4444444444444444,\"#bd3786\"],[0.5555555555555556,\"#d8576b\"],[0.6666666666666666,\"#ed7953\"],[0.7777777777777778,\"#fb9f3a\"],[0.8888888888888888,\"#fdca26\"],[1.0,\"#f0f921\"]],\"type\":\"heatmap\"}],\"heatmapgl\":[{\"colorbar\":{\"outlinewidth\":0,\"ticks\":\"\"},\"colorscale\":[[0.0,\"#0d0887\"],[0.1111111111111111,\"#46039f\"],[0.2222222222222222,\"#7201a8\"],[0.3333333333333333,\"#9c179e\"],[0.4444444444444444,\"#bd3786\"],[0.5555555555555556,\"#d8576b\"],[0.6666666666666666,\"#ed7953\"],[0.7777777777777778,\"#fb9f3a\"],[0.8888888888888888,\"#fdca26\"],[1.0,\"#f0f921\"]],\"type\":\"heatmapgl\"}],\"histogram\":[{\"marker\":{\"pattern\":{\"fillmode\":\"overlay\",\"size\":10,\"solidity\":0.2}},\"type\":\"histogram\"}],\"histogram2d\":[{\"colorbar\":{\"outlinewidth\":0,\"ticks\":\"\"},\"colorscale\":[[0.0,\"#0d0887\"],[0.1111111111111111,\"#46039f\"],[0.2222222222222222,\"#7201a8\"],[0.3333333333333333,\"#9c179e\"],[0.4444444444444444,\"#bd3786\"],[0.5555555555555556,\"#d8576b\"],[0.6666666666666666,\"#ed7953\"],[0.7777777777777778,\"#fb9f3a\"],[0.8888888888888888,\"#fdca26\"],[1.0,\"#f0f921\"]],\"type\":\"histogram2d\"}],\"histogram2dcontour\":[{\"colorbar\":{\"outlinewidth\":0,\"ticks\":\"\"},\"colorscale\":[[0.0,\"#0d0887\"],[0.1111111111111111,\"#46039f\"],[0.2222222222222222,\"#7201a8\"],[0.3333333333333333,\"#9c179e\"],[0.4444444444444444,\"#bd3786\"],[0.5555555555555556,\"#d8576b\"],[0.6666666666666666,\"#ed7953\"],[0.7777777777777778,\"#fb9f3a\"],[0.8888888888888888,\"#fdca26\"],[1.0,\"#f0f921\"]],\"type\":\"histogram2dcontour\"}],\"mesh3d\":[{\"colorbar\":{\"outlinewidth\":0,\"ticks\":\"\"},\"type\":\"mesh3d\"}],\"parcoords\":[{\"line\":{\"colorbar\":{\"outlinewidth\":0,\"ticks\":\"\"}},\"type\":\"parcoords\"}],\"pie\":[{\"automargin\":true,\"type\":\"pie\"}],\"scatter\":[{\"marker\":{\"colorbar\":{\"outlinewidth\":0,\"ticks\":\"\"}},\"type\":\"scatter\"}],\"scatter3d\":[{\"line\":{\"colorbar\":{\"outlinewidth\":0,\"ticks\":\"\"}},\"marker\":{\"colorbar\":{\"outlinewidth\":0,\"ticks\":\"\"}},\"type\":\"scatter3d\"}],\"scattercarpet\":[{\"marker\":{\"colorbar\":{\"outlinewidth\":0,\"ticks\":\"\"}},\"type\":\"scattercarpet\"}],\"scattergeo\":[{\"marker\":{\"colorbar\":{\"outlinewidth\":0,\"ticks\":\"\"}},\"type\":\"scattergeo\"}],\"scattergl\":[{\"marker\":{\"colorbar\":{\"outlinewidth\":0,\"ticks\":\"\"}},\"type\":\"scattergl\"}],\"scattermapbox\":[{\"marker\":{\"colorbar\":{\"outlinewidth\":0,\"ticks\":\"\"}},\"type\":\"scattermapbox\"}],\"scatterpolar\":[{\"marker\":{\"colorbar\":{\"outlinewidth\":0,\"ticks\":\"\"}},\"type\":\"scatterpolar\"}],\"scatterpolargl\":[{\"marker\":{\"colorbar\":{\"outlinewidth\":0,\"ticks\":\"\"}},\"type\":\"scatterpolargl\"}],\"scatterternary\":[{\"marker\":{\"colorbar\":{\"outlinewidth\":0,\"ticks\":\"\"}},\"type\":\"scatterternary\"}],\"surface\":[{\"colorbar\":{\"outlinewidth\":0,\"ticks\":\"\"},\"colorscale\":[[0.0,\"#0d0887\"],[0.1111111111111111,\"#46039f\"],[0.2222222222222222,\"#7201a8\"],[0.3333333333333333,\"#9c179e\"],[0.4444444444444444,\"#bd3786\"],[0.5555555555555556,\"#d8576b\"],[0.6666666666666666,\"#ed7953\"],[0.7777777777777778,\"#fb9f3a\"],[0.8888888888888888,\"#fdca26\"],[1.0,\"#f0f921\"]],\"type\":\"surface\"}],\"table\":[{\"cells\":{\"fill\":{\"color\":\"#EBF0F8\"},\"line\":{\"color\":\"white\"}},\"header\":{\"fill\":{\"color\":\"#C8D4E3\"},\"line\":{\"color\":\"white\"}},\"type\":\"table\"}]},\"layout\":{\"annotationdefaults\":{\"arrowcolor\":\"#2a3f5f\",\"arrowhead\":0,\"arrowwidth\":1},\"autotypenumbers\":\"strict\",\"coloraxis\":{\"colorbar\":{\"outlinewidth\":0,\"ticks\":\"\"}},\"colorscale\":{\"diverging\":[[0,\"#8e0152\"],[0.1,\"#c51b7d\"],[0.2,\"#de77ae\"],[0.3,\"#f1b6da\"],[0.4,\"#fde0ef\"],[0.5,\"#f7f7f7\"],[0.6,\"#e6f5d0\"],[0.7,\"#b8e186\"],[0.8,\"#7fbc41\"],[0.9,\"#4d9221\"],[1,\"#276419\"]],\"sequential\":[[0.0,\"#0d0887\"],[0.1111111111111111,\"#46039f\"],[0.2222222222222222,\"#7201a8\"],[0.3333333333333333,\"#9c179e\"],[0.4444444444444444,\"#bd3786\"],[0.5555555555555556,\"#d8576b\"],[0.6666666666666666,\"#ed7953\"],[0.7777777777777778,\"#fb9f3a\"],[0.8888888888888888,\"#fdca26\"],[1.0,\"#f0f921\"]],\"sequentialminus\":[[0.0,\"#0d0887\"],[0.1111111111111111,\"#46039f\"],[0.2222222222222222,\"#7201a8\"],[0.3333333333333333,\"#9c179e\"],[0.4444444444444444,\"#bd3786\"],[0.5555555555555556,\"#d8576b\"],[0.6666666666666666,\"#ed7953\"],[0.7777777777777778,\"#fb9f3a\"],[0.8888888888888888,\"#fdca26\"],[1.0,\"#f0f921\"]]},\"colorway\":[\"#636efa\",\"#EF553B\",\"#00cc96\",\"#ab63fa\",\"#FFA15A\",\"#19d3f3\",\"#FF6692\",\"#B6E880\",\"#FF97FF\",\"#FECB52\"],\"font\":{\"color\":\"#2a3f5f\"},\"geo\":{\"bgcolor\":\"white\",\"lakecolor\":\"white\",\"landcolor\":\"#E5ECF6\",\"showlakes\":true,\"showland\":true,\"subunitcolor\":\"white\"},\"hoverlabel\":{\"align\":\"left\"},\"hovermode\":\"closest\",\"mapbox\":{\"style\":\"light\"},\"paper_bgcolor\":\"white\",\"plot_bgcolor\":\"#E5ECF6\",\"polar\":{\"angularaxis\":{\"gridcolor\":\"white\",\"linecolor\":\"white\",\"ticks\":\"\"},\"bgcolor\":\"#E5ECF6\",\"radialaxis\":{\"gridcolor\":\"white\",\"linecolor\":\"white\",\"ticks\":\"\"}},\"scene\":{\"xaxis\":{\"backgroundcolor\":\"#E5ECF6\",\"gridcolor\":\"white\",\"gridwidth\":2,\"linecolor\":\"white\",\"showbackground\":true,\"ticks\":\"\",\"zerolinecolor\":\"white\"},\"yaxis\":{\"backgroundcolor\":\"#E5ECF6\",\"gridcolor\":\"white\",\"gridwidth\":2,\"linecolor\":\"white\",\"showbackground\":true,\"ticks\":\"\",\"zerolinecolor\":\"white\"},\"zaxis\":{\"backgroundcolor\":\"#E5ECF6\",\"gridcolor\":\"white\",\"gridwidth\":2,\"linecolor\":\"white\",\"showbackground\":true,\"ticks\":\"\",\"zerolinecolor\":\"white\"}},\"shapedefaults\":{\"line\":{\"color\":\"#2a3f5f\"}},\"ternary\":{\"aaxis\":{\"gridcolor\":\"white\",\"linecolor\":\"white\",\"ticks\":\"\"},\"baxis\":{\"gridcolor\":\"white\",\"linecolor\":\"white\",\"ticks\":\"\"},\"bgcolor\":\"#E5ECF6\",\"caxis\":{\"gridcolor\":\"white\",\"linecolor\":\"white\",\"ticks\":\"\"}},\"title\":{\"x\":0.05},\"xaxis\":{\"automargin\":true,\"gridcolor\":\"white\",\"linecolor\":\"white\",\"ticks\":\"\",\"title\":{\"standoff\":15},\"zerolinecolor\":\"white\",\"zerolinewidth\":2},\"yaxis\":{\"automargin\":true,\"gridcolor\":\"white\",\"linecolor\":\"white\",\"ticks\":\"\",\"title\":{\"standoff\":15},\"zerolinecolor\":\"white\",\"zerolinewidth\":2}}},\"font\":{\"family\":\"Courier New, monospace\",\"size\":18,\"color\":\"RebeccaPurple\"},\"title\":{\"text\":\"Average Precipitation height\"},\"xaxis\":{\"title\":{\"text\":\"Month\"}},\"yaxis\":{\"title\":{\"text\":\"Precipitation height in mm\"}},\"legend\":{\"title\":{\"text\":\"City\"}}},                        {\"responsive\": true}                    ).then(function(){\n                            \nvar gd = document.getElementById('a0820fb1-857d-437e-af9b-cd88364a09ad');\nvar x = new MutationObserver(function (mutations, observer) {{\n        var display = window.getComputedStyle(gd).display;\n        if (!display || display === 'none') {{\n            console.log([gd, 'removed!']);\n            Plotly.purge(gd);\n            observer.disconnect();\n        }}\n}});\n\n// Listen for the removal of the full notebook cells\nvar notebookContainer = gd.closest('#notebook-container');\nif (notebookContainer) {{\n    x.observe(notebookContainer, {childList: true});\n}}\n\n// Listen for the clearing of the current output cell\nvar outputEl = gd.closest('.output');\nif (outputEl) {{\n    x.observe(outputEl, {childList: true});\n}}\n\n                        })                };                            </script>        </div>\n</body>\n</html>"
     },
     "metadata": {},
     "output_type": "display_data"
    }
   ]
  },
  {
   "cell_type": "code",
   "metadata": {
    "cell_id": "bbb7e087-2f68-42a1-8b7c-a1a479cff153",
    "tags": [],
    "deepnote_to_be_reexecuted": false,
    "source_hash": "e49d8724",
    "execution_start": 1644143285686,
    "execution_millis": 12,
    "deepnote_output_heights": [
     1
    ],
    "deepnote_app_coordinates": {
     "x": 0,
     "y": 15,
     "w": 12,
     "h": 24
    },
    "deepnote_app_is_code_hidden": true,
    "deepnote_cell_type": "code"
   },
   "source": "#average temperature\nfig = go.Figure()\n\nfor city in cities:\n    fig.add_trace(go.Scatter(x=df_agg.loc[city].index.get_level_values(0), y=df_agg.loc[city][\" TMK\"],\n                    mode='lines',\n                    name=city))\n\nfig.update_layout(\n    title=\"Average Temperature\",\n    xaxis_title=\"Month\",\n    yaxis_title=\"Temperature in °C\",\n    legend_title=\"City\",\n    font=dict(\n        family=\"Courier New, monospace\",\n        size=18,\n        color=\"RebeccaPurple\"\n    )\n)\n\nfig.show()",
   "execution_count": null,
   "outputs": [
    {
     "data": {
      "text/html": "<html>\n<head><meta charset=\"utf-8\" /></head>\n<body>\n    <div>            <script src=\"https://cdnjs.cloudflare.com/ajax/libs/mathjax/2.7.5/MathJax.js?config=TeX-AMS-MML_SVG\"></script><script type=\"text/javascript\">if (window.MathJax) {MathJax.Hub.Config({SVG: {font: \"STIX-Web\"}});}</script>                <script type=\"text/javascript\">window.PlotlyConfig = {MathJaxConfig: 'local'};</script>\n        <script src=\"https://cdn.plot.ly/plotly-2.6.3.min.js\"></script>                <div id=\"44c743e0-fceb-45db-8512-329e1adf5a1c\" class=\"plotly-graph-div\" style=\"height:525px; width:100%;\"></div>            <script type=\"text/javascript\">                                    window.PLOTLYENV=window.PLOTLYENV || {};                                    if (document.getElementById(\"44c743e0-fceb-45db-8512-329e1adf5a1c\")) {                    Plotly.newPlot(                        \"44c743e0-fceb-45db-8512-329e1adf5a1c\",                        [{\"mode\":\"lines\",\"name\":\"M\\u00fcnchen\",\"x\":[\"January\",\"February\",\"March\",\"April\",\"May\",\"June\",\"July\",\"August\",\"September\",\"October\",\"November\",\"December\"],\"y\":[0.5982078853046587,0.8329411764705884,5.027598566308241,9.588148148148141,13.137992831541228,17.391111111111105,19.297132616487467,18.66272401433692,13.93296296296296,9.463082437275983,4.698148148148148,1.8781362007168452],\"type\":\"scatter\"},{\"mode\":\"lines\",\"name\":\"K\\u00f6ln\",\"x\":[\"January\",\"February\",\"March\",\"April\",\"May\",\"June\",\"July\",\"August\",\"September\",\"October\",\"November\",\"December\"],\"y\":[3.6336917562724036,3.7137254901960777,6.809677419354841,10.668888888888882,14.155555555555544,17.70962962962963,19.545878136200713,19.15663082437276,15.084814814814823,11.484229390680992,7.123333333333333,5.363082437275986],\"type\":\"scatter\"},{\"mode\":\"lines\",\"name\":\"D\\u00fcsseldorf\",\"x\":[\"January\",\"February\",\"March\",\"April\",\"May\",\"June\",\"July\",\"August\",\"September\",\"October\",\"November\",\"December\"],\"y\":[3.9706093189964164,3.9913725490196073,6.939426523297486,10.635555555555559,14.222939068100366,17.809629629629626,19.805734767025083,19.468100358422937,15.454074074074068,11.912544802867384,7.464074074074069,5.705734767025088],\"type\":\"scatter\"},{\"mode\":\"lines\",\"name\":\"Frankfurt\",\"x\":[\"January\",\"February\",\"March\",\"April\",\"May\",\"June\",\"July\",\"August\",\"September\",\"October\",\"November\",\"December\"],\"y\":[3.0928315412186382,3.2505882352941153,6.987455197132618,11.37777777777778,14.949462365591396,18.9525925925926,21.264516129032273,20.43584229390681,15.968888888888893,11.275985663082443,6.534814814814816,4.353405017921144],\"type\":\"scatter\"},{\"mode\":\"lines\",\"name\":\"Hannover\",\"x\":[\"January\",\"February\",\"March\",\"April\",\"May\",\"June\",\"July\",\"August\",\"September\",\"October\",\"November\",\"December\"],\"y\":[2.5311827956989243,2.923529411764704,5.545161290322574,9.641111111111112,13.560215053763454,17.19444444444445,18.881003584229386,18.90860215053763,14.83333333333332,11.065949820788525,6.589259259259265,4.930465949820789],\"type\":\"scatter\"},{\"mode\":\"lines\",\"name\":\"Leipzig\",\"x\":[\"January\",\"February\",\"March\",\"April\",\"May\",\"June\",\"July\",\"August\",\"September\",\"October\",\"November\",\"December\"],\"y\":[1.5921146953405017,2.0435294117647067,5.1627240143369155,9.917777777777777,13.975268817204304,18.1,20.0810035842294,19.93906810035841,15.419629629629638,10.788172043010757,5.907777777777779,3.8118279569892475],\"type\":\"scatter\"}],                        {\"template\":{\"data\":{\"bar\":[{\"error_x\":{\"color\":\"#2a3f5f\"},\"error_y\":{\"color\":\"#2a3f5f\"},\"marker\":{\"line\":{\"color\":\"#E5ECF6\",\"width\":0.5},\"pattern\":{\"fillmode\":\"overlay\",\"size\":10,\"solidity\":0.2}},\"type\":\"bar\"}],\"barpolar\":[{\"marker\":{\"line\":{\"color\":\"#E5ECF6\",\"width\":0.5},\"pattern\":{\"fillmode\":\"overlay\",\"size\":10,\"solidity\":0.2}},\"type\":\"barpolar\"}],\"carpet\":[{\"aaxis\":{\"endlinecolor\":\"#2a3f5f\",\"gridcolor\":\"white\",\"linecolor\":\"white\",\"minorgridcolor\":\"white\",\"startlinecolor\":\"#2a3f5f\"},\"baxis\":{\"endlinecolor\":\"#2a3f5f\",\"gridcolor\":\"white\",\"linecolor\":\"white\",\"minorgridcolor\":\"white\",\"startlinecolor\":\"#2a3f5f\"},\"type\":\"carpet\"}],\"choropleth\":[{\"colorbar\":{\"outlinewidth\":0,\"ticks\":\"\"},\"type\":\"choropleth\"}],\"contour\":[{\"colorbar\":{\"outlinewidth\":0,\"ticks\":\"\"},\"colorscale\":[[0.0,\"#0d0887\"],[0.1111111111111111,\"#46039f\"],[0.2222222222222222,\"#7201a8\"],[0.3333333333333333,\"#9c179e\"],[0.4444444444444444,\"#bd3786\"],[0.5555555555555556,\"#d8576b\"],[0.6666666666666666,\"#ed7953\"],[0.7777777777777778,\"#fb9f3a\"],[0.8888888888888888,\"#fdca26\"],[1.0,\"#f0f921\"]],\"type\":\"contour\"}],\"contourcarpet\":[{\"colorbar\":{\"outlinewidth\":0,\"ticks\":\"\"},\"type\":\"contourcarpet\"}],\"heatmap\":[{\"colorbar\":{\"outlinewidth\":0,\"ticks\":\"\"},\"colorscale\":[[0.0,\"#0d0887\"],[0.1111111111111111,\"#46039f\"],[0.2222222222222222,\"#7201a8\"],[0.3333333333333333,\"#9c179e\"],[0.4444444444444444,\"#bd3786\"],[0.5555555555555556,\"#d8576b\"],[0.6666666666666666,\"#ed7953\"],[0.7777777777777778,\"#fb9f3a\"],[0.8888888888888888,\"#fdca26\"],[1.0,\"#f0f921\"]],\"type\":\"heatmap\"}],\"heatmapgl\":[{\"colorbar\":{\"outlinewidth\":0,\"ticks\":\"\"},\"colorscale\":[[0.0,\"#0d0887\"],[0.1111111111111111,\"#46039f\"],[0.2222222222222222,\"#7201a8\"],[0.3333333333333333,\"#9c179e\"],[0.4444444444444444,\"#bd3786\"],[0.5555555555555556,\"#d8576b\"],[0.6666666666666666,\"#ed7953\"],[0.7777777777777778,\"#fb9f3a\"],[0.8888888888888888,\"#fdca26\"],[1.0,\"#f0f921\"]],\"type\":\"heatmapgl\"}],\"histogram\":[{\"marker\":{\"pattern\":{\"fillmode\":\"overlay\",\"size\":10,\"solidity\":0.2}},\"type\":\"histogram\"}],\"histogram2d\":[{\"colorbar\":{\"outlinewidth\":0,\"ticks\":\"\"},\"colorscale\":[[0.0,\"#0d0887\"],[0.1111111111111111,\"#46039f\"],[0.2222222222222222,\"#7201a8\"],[0.3333333333333333,\"#9c179e\"],[0.4444444444444444,\"#bd3786\"],[0.5555555555555556,\"#d8576b\"],[0.6666666666666666,\"#ed7953\"],[0.7777777777777778,\"#fb9f3a\"],[0.8888888888888888,\"#fdca26\"],[1.0,\"#f0f921\"]],\"type\":\"histogram2d\"}],\"histogram2dcontour\":[{\"colorbar\":{\"outlinewidth\":0,\"ticks\":\"\"},\"colorscale\":[[0.0,\"#0d0887\"],[0.1111111111111111,\"#46039f\"],[0.2222222222222222,\"#7201a8\"],[0.3333333333333333,\"#9c179e\"],[0.4444444444444444,\"#bd3786\"],[0.5555555555555556,\"#d8576b\"],[0.6666666666666666,\"#ed7953\"],[0.7777777777777778,\"#fb9f3a\"],[0.8888888888888888,\"#fdca26\"],[1.0,\"#f0f921\"]],\"type\":\"histogram2dcontour\"}],\"mesh3d\":[{\"colorbar\":{\"outlinewidth\":0,\"ticks\":\"\"},\"type\":\"mesh3d\"}],\"parcoords\":[{\"line\":{\"colorbar\":{\"outlinewidth\":0,\"ticks\":\"\"}},\"type\":\"parcoords\"}],\"pie\":[{\"automargin\":true,\"type\":\"pie\"}],\"scatter\":[{\"marker\":{\"colorbar\":{\"outlinewidth\":0,\"ticks\":\"\"}},\"type\":\"scatter\"}],\"scatter3d\":[{\"line\":{\"colorbar\":{\"outlinewidth\":0,\"ticks\":\"\"}},\"marker\":{\"colorbar\":{\"outlinewidth\":0,\"ticks\":\"\"}},\"type\":\"scatter3d\"}],\"scattercarpet\":[{\"marker\":{\"colorbar\":{\"outlinewidth\":0,\"ticks\":\"\"}},\"type\":\"scattercarpet\"}],\"scattergeo\":[{\"marker\":{\"colorbar\":{\"outlinewidth\":0,\"ticks\":\"\"}},\"type\":\"scattergeo\"}],\"scattergl\":[{\"marker\":{\"colorbar\":{\"outlinewidth\":0,\"ticks\":\"\"}},\"type\":\"scattergl\"}],\"scattermapbox\":[{\"marker\":{\"colorbar\":{\"outlinewidth\":0,\"ticks\":\"\"}},\"type\":\"scattermapbox\"}],\"scatterpolar\":[{\"marker\":{\"colorbar\":{\"outlinewidth\":0,\"ticks\":\"\"}},\"type\":\"scatterpolar\"}],\"scatterpolargl\":[{\"marker\":{\"colorbar\":{\"outlinewidth\":0,\"ticks\":\"\"}},\"type\":\"scatterpolargl\"}],\"scatterternary\":[{\"marker\":{\"colorbar\":{\"outlinewidth\":0,\"ticks\":\"\"}},\"type\":\"scatterternary\"}],\"surface\":[{\"colorbar\":{\"outlinewidth\":0,\"ticks\":\"\"},\"colorscale\":[[0.0,\"#0d0887\"],[0.1111111111111111,\"#46039f\"],[0.2222222222222222,\"#7201a8\"],[0.3333333333333333,\"#9c179e\"],[0.4444444444444444,\"#bd3786\"],[0.5555555555555556,\"#d8576b\"],[0.6666666666666666,\"#ed7953\"],[0.7777777777777778,\"#fb9f3a\"],[0.8888888888888888,\"#fdca26\"],[1.0,\"#f0f921\"]],\"type\":\"surface\"}],\"table\":[{\"cells\":{\"fill\":{\"color\":\"#EBF0F8\"},\"line\":{\"color\":\"white\"}},\"header\":{\"fill\":{\"color\":\"#C8D4E3\"},\"line\":{\"color\":\"white\"}},\"type\":\"table\"}]},\"layout\":{\"annotationdefaults\":{\"arrowcolor\":\"#2a3f5f\",\"arrowhead\":0,\"arrowwidth\":1},\"autotypenumbers\":\"strict\",\"coloraxis\":{\"colorbar\":{\"outlinewidth\":0,\"ticks\":\"\"}},\"colorscale\":{\"diverging\":[[0,\"#8e0152\"],[0.1,\"#c51b7d\"],[0.2,\"#de77ae\"],[0.3,\"#f1b6da\"],[0.4,\"#fde0ef\"],[0.5,\"#f7f7f7\"],[0.6,\"#e6f5d0\"],[0.7,\"#b8e186\"],[0.8,\"#7fbc41\"],[0.9,\"#4d9221\"],[1,\"#276419\"]],\"sequential\":[[0.0,\"#0d0887\"],[0.1111111111111111,\"#46039f\"],[0.2222222222222222,\"#7201a8\"],[0.3333333333333333,\"#9c179e\"],[0.4444444444444444,\"#bd3786\"],[0.5555555555555556,\"#d8576b\"],[0.6666666666666666,\"#ed7953\"],[0.7777777777777778,\"#fb9f3a\"],[0.8888888888888888,\"#fdca26\"],[1.0,\"#f0f921\"]],\"sequentialminus\":[[0.0,\"#0d0887\"],[0.1111111111111111,\"#46039f\"],[0.2222222222222222,\"#7201a8\"],[0.3333333333333333,\"#9c179e\"],[0.4444444444444444,\"#bd3786\"],[0.5555555555555556,\"#d8576b\"],[0.6666666666666666,\"#ed7953\"],[0.7777777777777778,\"#fb9f3a\"],[0.8888888888888888,\"#fdca26\"],[1.0,\"#f0f921\"]]},\"colorway\":[\"#636efa\",\"#EF553B\",\"#00cc96\",\"#ab63fa\",\"#FFA15A\",\"#19d3f3\",\"#FF6692\",\"#B6E880\",\"#FF97FF\",\"#FECB52\"],\"font\":{\"color\":\"#2a3f5f\"},\"geo\":{\"bgcolor\":\"white\",\"lakecolor\":\"white\",\"landcolor\":\"#E5ECF6\",\"showlakes\":true,\"showland\":true,\"subunitcolor\":\"white\"},\"hoverlabel\":{\"align\":\"left\"},\"hovermode\":\"closest\",\"mapbox\":{\"style\":\"light\"},\"paper_bgcolor\":\"white\",\"plot_bgcolor\":\"#E5ECF6\",\"polar\":{\"angularaxis\":{\"gridcolor\":\"white\",\"linecolor\":\"white\",\"ticks\":\"\"},\"bgcolor\":\"#E5ECF6\",\"radialaxis\":{\"gridcolor\":\"white\",\"linecolor\":\"white\",\"ticks\":\"\"}},\"scene\":{\"xaxis\":{\"backgroundcolor\":\"#E5ECF6\",\"gridcolor\":\"white\",\"gridwidth\":2,\"linecolor\":\"white\",\"showbackground\":true,\"ticks\":\"\",\"zerolinecolor\":\"white\"},\"yaxis\":{\"backgroundcolor\":\"#E5ECF6\",\"gridcolor\":\"white\",\"gridwidth\":2,\"linecolor\":\"white\",\"showbackground\":true,\"ticks\":\"\",\"zerolinecolor\":\"white\"},\"zaxis\":{\"backgroundcolor\":\"#E5ECF6\",\"gridcolor\":\"white\",\"gridwidth\":2,\"linecolor\":\"white\",\"showbackground\":true,\"ticks\":\"\",\"zerolinecolor\":\"white\"}},\"shapedefaults\":{\"line\":{\"color\":\"#2a3f5f\"}},\"ternary\":{\"aaxis\":{\"gridcolor\":\"white\",\"linecolor\":\"white\",\"ticks\":\"\"},\"baxis\":{\"gridcolor\":\"white\",\"linecolor\":\"white\",\"ticks\":\"\"},\"bgcolor\":\"#E5ECF6\",\"caxis\":{\"gridcolor\":\"white\",\"linecolor\":\"white\",\"ticks\":\"\"}},\"title\":{\"x\":0.05},\"xaxis\":{\"automargin\":true,\"gridcolor\":\"white\",\"linecolor\":\"white\",\"ticks\":\"\",\"title\":{\"standoff\":15},\"zerolinecolor\":\"white\",\"zerolinewidth\":2},\"yaxis\":{\"automargin\":true,\"gridcolor\":\"white\",\"linecolor\":\"white\",\"ticks\":\"\",\"title\":{\"standoff\":15},\"zerolinecolor\":\"white\",\"zerolinewidth\":2}}},\"font\":{\"family\":\"Courier New, monospace\",\"size\":18,\"color\":\"RebeccaPurple\"},\"title\":{\"text\":\"Average Temperature\"},\"xaxis\":{\"title\":{\"text\":\"Month\"}},\"yaxis\":{\"title\":{\"text\":\"Temperature in \\u00b0C\"}},\"legend\":{\"title\":{\"text\":\"City\"}}},                        {\"responsive\": true}                    ).then(function(){\n                            \nvar gd = document.getElementById('44c743e0-fceb-45db-8512-329e1adf5a1c');\nvar x = new MutationObserver(function (mutations, observer) {{\n        var display = window.getComputedStyle(gd).display;\n        if (!display || display === 'none') {{\n            console.log([gd, 'removed!']);\n            Plotly.purge(gd);\n            observer.disconnect();\n        }}\n}});\n\n// Listen for the removal of the full notebook cells\nvar notebookContainer = gd.closest('#notebook-container');\nif (notebookContainer) {{\n    x.observe(notebookContainer, {childList: true});\n}}\n\n// Listen for the clearing of the current output cell\nvar outputEl = gd.closest('.output');\nif (outputEl) {{\n    x.observe(outputEl, {childList: true});\n}}\n\n                        })                };                            </script>        </div>\n</body>\n</html>"
     },
     "metadata": {},
     "output_type": "display_data"
    }
   ]
  },
  {
   "cell_type": "code",
   "metadata": {
    "cell_id": "00014-924e3317-10f7-4ccf-9084-a06bf78bc3be",
    "deepnote_output_heights": [
     1
    ],
    "deepnote_to_be_reexecuted": false,
    "source_hash": "34358781",
    "execution_start": 1644143285704,
    "execution_millis": 80,
    "deepnote_app_is_code_hidden": true,
    "deepnote_cell_type": "code"
   },
   "source": "#plot average wind speed\nfig = go.Figure()\n\nfor city in cities:\n    fig.add_trace(go.Scatter(x=df_agg.loc[city].index.get_level_values(0), y=df_agg.loc[city][\"  FM\"],\n                    mode='lines',\n                    name=city))\n\nfig.update_layout(\n    title=\"Average Wind Speed\",\n    xaxis_title=\"Month\",\n    yaxis_title=\"Wind speed in km/h\",\n    legend_title=\"City\",\n    font=dict(\n        family=\"Courier New, monospace\",\n        size=18,\n        color=\"RebeccaPurple\"\n    )\n)\n\nfig.show()",
   "execution_count": null,
   "outputs": [
    {
     "data": {
      "text/html": "<html>\n<head><meta charset=\"utf-8\" /></head>\n<body>\n    <div>            <script src=\"https://cdnjs.cloudflare.com/ajax/libs/mathjax/2.7.5/MathJax.js?config=TeX-AMS-MML_SVG\"></script><script type=\"text/javascript\">if (window.MathJax) {MathJax.Hub.Config({SVG: {font: \"STIX-Web\"}});}</script>                <script type=\"text/javascript\">window.PlotlyConfig = {MathJaxConfig: 'local'};</script>\n        <script src=\"https://cdn.plot.ly/plotly-2.6.3.min.js\"></script>                <div id=\"d36b58ff-67fc-4f1e-8902-41a2364415c5\" class=\"plotly-graph-div\" style=\"height:525px; width:100%;\"></div>            <script type=\"text/javascript\">                                    window.PLOTLYENV=window.PLOTLYENV || {};                                    if (document.getElementById(\"d36b58ff-67fc-4f1e-8902-41a2364415c5\")) {                    Plotly.newPlot(                        \"d36b58ff-67fc-4f1e-8902-41a2364415c5\",                        [{\"mode\":\"lines\",\"name\":\"M\\u00fcnchen\",\"x\":[\"January\",\"February\",\"March\",\"April\",\"May\",\"June\",\"July\",\"August\",\"September\",\"October\",\"November\",\"December\"],\"y\":[13.476129032258065,12.465882352941167,13.12258064516129,10.973333333333336,10.335483870967746,9.512,9.323870967741945,8.433548387096774,8.521333333333335,9.140645161290323,10.648000000000003,12.167741935483864],\"type\":\"scatter\"},{\"mode\":\"lines\",\"name\":\"K\\u00f6ln\",\"x\":[\"January\",\"February\",\"March\",\"April\",\"May\",\"June\",\"July\",\"August\",\"September\",\"October\",\"November\",\"December\"],\"y\":[13.197419354838715,13.318588235294115,12.959999999999994,11.700000000000005,11.201290322580645,10.737333333333329,10.130322580645158,9.978064516129034,9.818666666666658,11.08774193548386,11.83333333333334,12.859354838709686],\"type\":\"scatter\"},{\"mode\":\"lines\",\"name\":\"D\\u00fcsseldorf\",\"x\":[\"January\",\"February\",\"March\",\"April\",\"May\",\"June\",\"July\",\"August\",\"September\",\"October\",\"November\",\"December\"],\"y\":[17.116129032258076,17.443764705882348,15.52129032258065,13.211999999999993,12.456774193548393,12.738666666666665,12.179354838709676,12.64129032258065,12.201333333333336,14.830967741935485,15.559999999999993,17.85032258064516],\"type\":\"scatter\"},{\"mode\":\"lines\",\"name\":\"Frankfurt\",\"x\":[\"January\",\"February\",\"March\",\"April\",\"May\",\"June\",\"July\",\"August\",\"September\",\"October\",\"November\",\"December\"],\"y\":[13.525161290322577,13.636235294117654,13.308387096774194,12.2,11.781935483870978,11.655999999999999,11.678709677419354,10.588387096774198,10.42666666666667,10.796129032258062,11.170666666666664,12.632258064516133],\"type\":\"scatter\"},{\"mode\":\"lines\",\"name\":\"Hannover\",\"x\":[\"January\",\"February\",\"March\",\"April\",\"May\",\"June\",\"July\",\"August\",\"September\",\"October\",\"November\",\"December\"],\"y\":[16.6941935483871,15.847058823529416,15.579354838709685,13.507999999999992,13.036129032258062,12.721333333333337,11.766451612903229,11.434838709677416,11.480000000000002,13.161290322580646,13.845333333333336,16.121290322580645],\"type\":\"scatter\"},{\"mode\":\"lines\",\"name\":\"Leipzig\",\"x\":[\"January\",\"February\",\"March\",\"April\",\"May\",\"June\",\"July\",\"August\",\"September\",\"October\",\"November\",\"December\"],\"y\":[18.81161290322581,17.41835294117647,16.483870967741936,13.702666666666667,12.593548387096776,12.158666666666663,12.019354838709683,12.011612903225814,12.65866666666667,14.463225806451621,15.242666666666668,18.75225806451613],\"type\":\"scatter\"}],                        {\"template\":{\"data\":{\"bar\":[{\"error_x\":{\"color\":\"#2a3f5f\"},\"error_y\":{\"color\":\"#2a3f5f\"},\"marker\":{\"line\":{\"color\":\"#E5ECF6\",\"width\":0.5},\"pattern\":{\"fillmode\":\"overlay\",\"size\":10,\"solidity\":0.2}},\"type\":\"bar\"}],\"barpolar\":[{\"marker\":{\"line\":{\"color\":\"#E5ECF6\",\"width\":0.5},\"pattern\":{\"fillmode\":\"overlay\",\"size\":10,\"solidity\":0.2}},\"type\":\"barpolar\"}],\"carpet\":[{\"aaxis\":{\"endlinecolor\":\"#2a3f5f\",\"gridcolor\":\"white\",\"linecolor\":\"white\",\"minorgridcolor\":\"white\",\"startlinecolor\":\"#2a3f5f\"},\"baxis\":{\"endlinecolor\":\"#2a3f5f\",\"gridcolor\":\"white\",\"linecolor\":\"white\",\"minorgridcolor\":\"white\",\"startlinecolor\":\"#2a3f5f\"},\"type\":\"carpet\"}],\"choropleth\":[{\"colorbar\":{\"outlinewidth\":0,\"ticks\":\"\"},\"type\":\"choropleth\"}],\"contour\":[{\"colorbar\":{\"outlinewidth\":0,\"ticks\":\"\"},\"colorscale\":[[0.0,\"#0d0887\"],[0.1111111111111111,\"#46039f\"],[0.2222222222222222,\"#7201a8\"],[0.3333333333333333,\"#9c179e\"],[0.4444444444444444,\"#bd3786\"],[0.5555555555555556,\"#d8576b\"],[0.6666666666666666,\"#ed7953\"],[0.7777777777777778,\"#fb9f3a\"],[0.8888888888888888,\"#fdca26\"],[1.0,\"#f0f921\"]],\"type\":\"contour\"}],\"contourcarpet\":[{\"colorbar\":{\"outlinewidth\":0,\"ticks\":\"\"},\"type\":\"contourcarpet\"}],\"heatmap\":[{\"colorbar\":{\"outlinewidth\":0,\"ticks\":\"\"},\"colorscale\":[[0.0,\"#0d0887\"],[0.1111111111111111,\"#46039f\"],[0.2222222222222222,\"#7201a8\"],[0.3333333333333333,\"#9c179e\"],[0.4444444444444444,\"#bd3786\"],[0.5555555555555556,\"#d8576b\"],[0.6666666666666666,\"#ed7953\"],[0.7777777777777778,\"#fb9f3a\"],[0.8888888888888888,\"#fdca26\"],[1.0,\"#f0f921\"]],\"type\":\"heatmap\"}],\"heatmapgl\":[{\"colorbar\":{\"outlinewidth\":0,\"ticks\":\"\"},\"colorscale\":[[0.0,\"#0d0887\"],[0.1111111111111111,\"#46039f\"],[0.2222222222222222,\"#7201a8\"],[0.3333333333333333,\"#9c179e\"],[0.4444444444444444,\"#bd3786\"],[0.5555555555555556,\"#d8576b\"],[0.6666666666666666,\"#ed7953\"],[0.7777777777777778,\"#fb9f3a\"],[0.8888888888888888,\"#fdca26\"],[1.0,\"#f0f921\"]],\"type\":\"heatmapgl\"}],\"histogram\":[{\"marker\":{\"pattern\":{\"fillmode\":\"overlay\",\"size\":10,\"solidity\":0.2}},\"type\":\"histogram\"}],\"histogram2d\":[{\"colorbar\":{\"outlinewidth\":0,\"ticks\":\"\"},\"colorscale\":[[0.0,\"#0d0887\"],[0.1111111111111111,\"#46039f\"],[0.2222222222222222,\"#7201a8\"],[0.3333333333333333,\"#9c179e\"],[0.4444444444444444,\"#bd3786\"],[0.5555555555555556,\"#d8576b\"],[0.6666666666666666,\"#ed7953\"],[0.7777777777777778,\"#fb9f3a\"],[0.8888888888888888,\"#fdca26\"],[1.0,\"#f0f921\"]],\"type\":\"histogram2d\"}],\"histogram2dcontour\":[{\"colorbar\":{\"outlinewidth\":0,\"ticks\":\"\"},\"colorscale\":[[0.0,\"#0d0887\"],[0.1111111111111111,\"#46039f\"],[0.2222222222222222,\"#7201a8\"],[0.3333333333333333,\"#9c179e\"],[0.4444444444444444,\"#bd3786\"],[0.5555555555555556,\"#d8576b\"],[0.6666666666666666,\"#ed7953\"],[0.7777777777777778,\"#fb9f3a\"],[0.8888888888888888,\"#fdca26\"],[1.0,\"#f0f921\"]],\"type\":\"histogram2dcontour\"}],\"mesh3d\":[{\"colorbar\":{\"outlinewidth\":0,\"ticks\":\"\"},\"type\":\"mesh3d\"}],\"parcoords\":[{\"line\":{\"colorbar\":{\"outlinewidth\":0,\"ticks\":\"\"}},\"type\":\"parcoords\"}],\"pie\":[{\"automargin\":true,\"type\":\"pie\"}],\"scatter\":[{\"marker\":{\"colorbar\":{\"outlinewidth\":0,\"ticks\":\"\"}},\"type\":\"scatter\"}],\"scatter3d\":[{\"line\":{\"colorbar\":{\"outlinewidth\":0,\"ticks\":\"\"}},\"marker\":{\"colorbar\":{\"outlinewidth\":0,\"ticks\":\"\"}},\"type\":\"scatter3d\"}],\"scattercarpet\":[{\"marker\":{\"colorbar\":{\"outlinewidth\":0,\"ticks\":\"\"}},\"type\":\"scattercarpet\"}],\"scattergeo\":[{\"marker\":{\"colorbar\":{\"outlinewidth\":0,\"ticks\":\"\"}},\"type\":\"scattergeo\"}],\"scattergl\":[{\"marker\":{\"colorbar\":{\"outlinewidth\":0,\"ticks\":\"\"}},\"type\":\"scattergl\"}],\"scattermapbox\":[{\"marker\":{\"colorbar\":{\"outlinewidth\":0,\"ticks\":\"\"}},\"type\":\"scattermapbox\"}],\"scatterpolar\":[{\"marker\":{\"colorbar\":{\"outlinewidth\":0,\"ticks\":\"\"}},\"type\":\"scatterpolar\"}],\"scatterpolargl\":[{\"marker\":{\"colorbar\":{\"outlinewidth\":0,\"ticks\":\"\"}},\"type\":\"scatterpolargl\"}],\"scatterternary\":[{\"marker\":{\"colorbar\":{\"outlinewidth\":0,\"ticks\":\"\"}},\"type\":\"scatterternary\"}],\"surface\":[{\"colorbar\":{\"outlinewidth\":0,\"ticks\":\"\"},\"colorscale\":[[0.0,\"#0d0887\"],[0.1111111111111111,\"#46039f\"],[0.2222222222222222,\"#7201a8\"],[0.3333333333333333,\"#9c179e\"],[0.4444444444444444,\"#bd3786\"],[0.5555555555555556,\"#d8576b\"],[0.6666666666666666,\"#ed7953\"],[0.7777777777777778,\"#fb9f3a\"],[0.8888888888888888,\"#fdca26\"],[1.0,\"#f0f921\"]],\"type\":\"surface\"}],\"table\":[{\"cells\":{\"fill\":{\"color\":\"#EBF0F8\"},\"line\":{\"color\":\"white\"}},\"header\":{\"fill\":{\"color\":\"#C8D4E3\"},\"line\":{\"color\":\"white\"}},\"type\":\"table\"}]},\"layout\":{\"annotationdefaults\":{\"arrowcolor\":\"#2a3f5f\",\"arrowhead\":0,\"arrowwidth\":1},\"autotypenumbers\":\"strict\",\"coloraxis\":{\"colorbar\":{\"outlinewidth\":0,\"ticks\":\"\"}},\"colorscale\":{\"diverging\":[[0,\"#8e0152\"],[0.1,\"#c51b7d\"],[0.2,\"#de77ae\"],[0.3,\"#f1b6da\"],[0.4,\"#fde0ef\"],[0.5,\"#f7f7f7\"],[0.6,\"#e6f5d0\"],[0.7,\"#b8e186\"],[0.8,\"#7fbc41\"],[0.9,\"#4d9221\"],[1,\"#276419\"]],\"sequential\":[[0.0,\"#0d0887\"],[0.1111111111111111,\"#46039f\"],[0.2222222222222222,\"#7201a8\"],[0.3333333333333333,\"#9c179e\"],[0.4444444444444444,\"#bd3786\"],[0.5555555555555556,\"#d8576b\"],[0.6666666666666666,\"#ed7953\"],[0.7777777777777778,\"#fb9f3a\"],[0.8888888888888888,\"#fdca26\"],[1.0,\"#f0f921\"]],\"sequentialminus\":[[0.0,\"#0d0887\"],[0.1111111111111111,\"#46039f\"],[0.2222222222222222,\"#7201a8\"],[0.3333333333333333,\"#9c179e\"],[0.4444444444444444,\"#bd3786\"],[0.5555555555555556,\"#d8576b\"],[0.6666666666666666,\"#ed7953\"],[0.7777777777777778,\"#fb9f3a\"],[0.8888888888888888,\"#fdca26\"],[1.0,\"#f0f921\"]]},\"colorway\":[\"#636efa\",\"#EF553B\",\"#00cc96\",\"#ab63fa\",\"#FFA15A\",\"#19d3f3\",\"#FF6692\",\"#B6E880\",\"#FF97FF\",\"#FECB52\"],\"font\":{\"color\":\"#2a3f5f\"},\"geo\":{\"bgcolor\":\"white\",\"lakecolor\":\"white\",\"landcolor\":\"#E5ECF6\",\"showlakes\":true,\"showland\":true,\"subunitcolor\":\"white\"},\"hoverlabel\":{\"align\":\"left\"},\"hovermode\":\"closest\",\"mapbox\":{\"style\":\"light\"},\"paper_bgcolor\":\"white\",\"plot_bgcolor\":\"#E5ECF6\",\"polar\":{\"angularaxis\":{\"gridcolor\":\"white\",\"linecolor\":\"white\",\"ticks\":\"\"},\"bgcolor\":\"#E5ECF6\",\"radialaxis\":{\"gridcolor\":\"white\",\"linecolor\":\"white\",\"ticks\":\"\"}},\"scene\":{\"xaxis\":{\"backgroundcolor\":\"#E5ECF6\",\"gridcolor\":\"white\",\"gridwidth\":2,\"linecolor\":\"white\",\"showbackground\":true,\"ticks\":\"\",\"zerolinecolor\":\"white\"},\"yaxis\":{\"backgroundcolor\":\"#E5ECF6\",\"gridcolor\":\"white\",\"gridwidth\":2,\"linecolor\":\"white\",\"showbackground\":true,\"ticks\":\"\",\"zerolinecolor\":\"white\"},\"zaxis\":{\"backgroundcolor\":\"#E5ECF6\",\"gridcolor\":\"white\",\"gridwidth\":2,\"linecolor\":\"white\",\"showbackground\":true,\"ticks\":\"\",\"zerolinecolor\":\"white\"}},\"shapedefaults\":{\"line\":{\"color\":\"#2a3f5f\"}},\"ternary\":{\"aaxis\":{\"gridcolor\":\"white\",\"linecolor\":\"white\",\"ticks\":\"\"},\"baxis\":{\"gridcolor\":\"white\",\"linecolor\":\"white\",\"ticks\":\"\"},\"bgcolor\":\"#E5ECF6\",\"caxis\":{\"gridcolor\":\"white\",\"linecolor\":\"white\",\"ticks\":\"\"}},\"title\":{\"x\":0.05},\"xaxis\":{\"automargin\":true,\"gridcolor\":\"white\",\"linecolor\":\"white\",\"ticks\":\"\",\"title\":{\"standoff\":15},\"zerolinecolor\":\"white\",\"zerolinewidth\":2},\"yaxis\":{\"automargin\":true,\"gridcolor\":\"white\",\"linecolor\":\"white\",\"ticks\":\"\",\"title\":{\"standoff\":15},\"zerolinecolor\":\"white\",\"zerolinewidth\":2}}},\"font\":{\"family\":\"Courier New, monospace\",\"size\":18,\"color\":\"RebeccaPurple\"},\"title\":{\"text\":\"Average Wind Speed\"},\"xaxis\":{\"title\":{\"text\":\"Month\"}},\"yaxis\":{\"title\":{\"text\":\"Wind speed in km/h\"}},\"legend\":{\"title\":{\"text\":\"City\"}}},                        {\"responsive\": true}                    ).then(function(){\n                            \nvar gd = document.getElementById('d36b58ff-67fc-4f1e-8902-41a2364415c5');\nvar x = new MutationObserver(function (mutations, observer) {{\n        var display = window.getComputedStyle(gd).display;\n        if (!display || display === 'none') {{\n            console.log([gd, 'removed!']);\n            Plotly.purge(gd);\n            observer.disconnect();\n        }}\n}});\n\n// Listen for the removal of the full notebook cells\nvar notebookContainer = gd.closest('#notebook-container');\nif (notebookContainer) {{\n    x.observe(notebookContainer, {childList: true});\n}}\n\n// Listen for the clearing of the current output cell\nvar outputEl = gd.closest('.output');\nif (outputEl) {{\n    x.observe(outputEl, {childList: true});\n}}\n\n                        })                };                            </script>        </div>\n</body>\n</html>"
     },
     "metadata": {},
     "output_type": "display_data"
    }
   ]
  },
  {
   "cell_type": "code",
   "metadata": {
    "cell_id": "2ada1116-c2d2-44b9-9ceb-16859a86ca7e",
    "tags": [],
    "deepnote_to_be_reexecuted": false,
    "source_hash": "10e5294c",
    "execution_start": 1644143285792,
    "execution_millis": 99,
    "deepnote_output_heights": [
     1
    ],
    "deepnote_app_coordinates": {
     "x": 12,
     "y": 15,
     "w": 12,
     "h": 24
    },
    "deepnote_app_is_code_hidden": true,
    "deepnote_cell_type": "code"
   },
   "source": "#plot average duration of sun shine\nfig = go.Figure()\n\nfor city in cities:\n    fig.add_trace(go.Scatter(x=df_agg.loc[city].index.get_level_values(0), y=df_agg.loc[city][\" SDK\"],\n                    mode='lines',\n                    name=city))\n\nfig.update_layout(\n    title=\"Average Hours of Sunshine\",\n    xaxis_title=\"Month\",\n    yaxis_title=\"Sunshine in h\",\n    legend_title=\"City\",\n    font=dict(\n        family=\"Courier New, monospace\",\n        size=18,\n        color=\"RebeccaPurple\"\n    )\n)\n\nfig.show()",
   "execution_count": null,
   "outputs": [
    {
     "data": {
      "text/html": "<html>\n<head><meta charset=\"utf-8\" /></head>\n<body>\n    <div>            <script src=\"https://cdnjs.cloudflare.com/ajax/libs/mathjax/2.7.5/MathJax.js?config=TeX-AMS-MML_SVG\"></script><script type=\"text/javascript\">if (window.MathJax) {MathJax.Hub.Config({SVG: {font: \"STIX-Web\"}});}</script>                <script type=\"text/javascript\">window.PlotlyConfig = {MathJaxConfig: 'local'};</script>\n        <script src=\"https://cdn.plot.ly/plotly-2.6.3.min.js\"></script>                <div id=\"36c23e48-d19d-4011-8737-17151c826cb6\" class=\"plotly-graph-div\" style=\"height:525px; width:100%;\"></div>            <script type=\"text/javascript\">                                    window.PLOTLYENV=window.PLOTLYENV || {};                                    if (document.getElementById(\"36c23e48-d19d-4011-8737-17151c826cb6\")) {                    Plotly.newPlot(                        \"36c23e48-d19d-4011-8737-17151c826cb6\",                        [{\"mode\":\"lines\",\"name\":\"M\\u00fcnchen\",\"x\":[\"January\",\"February\",\"March\",\"April\",\"May\",\"June\",\"July\",\"August\",\"September\",\"October\",\"November\",\"December\"],\"y\":[1.8820179211469532,3.215760784313725,5.0676810035842275,6.733455555555555,6.621799283154121,8.288455555555556,8.699756272401423,8.147541218637993,5.680922222222221,3.693594982078853,2.2239629629629616,2.0096738351254486],\"type\":\"scatter\"},{\"mode\":\"lines\",\"name\":\"K\\u00f6ln\",\"x\":[\"January\",\"February\",\"March\",\"April\",\"May\",\"June\",\"July\",\"August\",\"September\",\"October\",\"November\",\"December\"],\"y\":[1.4696594982078846,2.8567960784313735,4.268107526881721,5.954625925925925,6.530534050179213,6.62893333333334,6.943053763440858,6.571333333333333,5.18654814814815,2.9535913978494617,1.9188777777777777,1.2893584229390673],\"type\":\"scatter\"},{\"mode\":\"lines\",\"name\":\"D\\u00fcsseldorf\",\"x\":[\"January\",\"February\",\"March\",\"April\",\"May\",\"June\",\"July\",\"August\",\"September\",\"October\",\"November\",\"December\"],\"y\":[1.58183512544803,3.022666666666665,4.360025089605734,5.844377777777776,6.76941218637993,6.533400000000003,7.053086021505376,6.733444444444448,5.295914814814819,3.206189964157705,2.2120814814814818,1.4376953405017925],\"type\":\"scatter\"},{\"mode\":\"lines\",\"name\":\"Frankfurt\",\"x\":[\"January\",\"February\",\"March\",\"April\",\"May\",\"June\",\"July\",\"August\",\"September\",\"October\",\"November\",\"December\"],\"y\":[1.527652329749103,2.9355529411764696,4.825756272401436,6.737155555555555,7.181064516129037,7.648770370370372,8.097724014336919,7.365537634408601,5.983337037037038,3.1222759856630837,1.7178518518518515,1.1390716845878146],\"type\":\"scatter\"},{\"mode\":\"lines\",\"name\":\"Hannover\",\"x\":[\"January\",\"February\",\"March\",\"April\",\"May\",\"June\",\"July\",\"August\",\"September\",\"October\",\"November\",\"December\"],\"y\":[1.3119426523297493,2.687109803921569,4.084229390681005,6.239266666666667,6.692767025089605,6.938544444444442,7.110093189964158,6.869247311827958,5.159448148148148,3.139032258064516,1.8917777777777776,1.1722222222222225],\"type\":\"scatter\"},{\"mode\":\"lines\",\"name\":\"Leipzig\",\"x\":[\"January\",\"February\",\"March\",\"April\",\"May\",\"June\",\"July\",\"August\",\"September\",\"October\",\"November\",\"December\"],\"y\":[1.58194982078853,3.120407843137255,4.5727491039426535,6.84456296296296,7.593892473118277,7.853792592592592,8.152921146953403,7.3627849462365615,5.5142703703703715,3.145695340501794,2.1216037037037037,1.6786666666666676],\"type\":\"scatter\"}],                        {\"template\":{\"data\":{\"bar\":[{\"error_x\":{\"color\":\"#2a3f5f\"},\"error_y\":{\"color\":\"#2a3f5f\"},\"marker\":{\"line\":{\"color\":\"#E5ECF6\",\"width\":0.5},\"pattern\":{\"fillmode\":\"overlay\",\"size\":10,\"solidity\":0.2}},\"type\":\"bar\"}],\"barpolar\":[{\"marker\":{\"line\":{\"color\":\"#E5ECF6\",\"width\":0.5},\"pattern\":{\"fillmode\":\"overlay\",\"size\":10,\"solidity\":0.2}},\"type\":\"barpolar\"}],\"carpet\":[{\"aaxis\":{\"endlinecolor\":\"#2a3f5f\",\"gridcolor\":\"white\",\"linecolor\":\"white\",\"minorgridcolor\":\"white\",\"startlinecolor\":\"#2a3f5f\"},\"baxis\":{\"endlinecolor\":\"#2a3f5f\",\"gridcolor\":\"white\",\"linecolor\":\"white\",\"minorgridcolor\":\"white\",\"startlinecolor\":\"#2a3f5f\"},\"type\":\"carpet\"}],\"choropleth\":[{\"colorbar\":{\"outlinewidth\":0,\"ticks\":\"\"},\"type\":\"choropleth\"}],\"contour\":[{\"colorbar\":{\"outlinewidth\":0,\"ticks\":\"\"},\"colorscale\":[[0.0,\"#0d0887\"],[0.1111111111111111,\"#46039f\"],[0.2222222222222222,\"#7201a8\"],[0.3333333333333333,\"#9c179e\"],[0.4444444444444444,\"#bd3786\"],[0.5555555555555556,\"#d8576b\"],[0.6666666666666666,\"#ed7953\"],[0.7777777777777778,\"#fb9f3a\"],[0.8888888888888888,\"#fdca26\"],[1.0,\"#f0f921\"]],\"type\":\"contour\"}],\"contourcarpet\":[{\"colorbar\":{\"outlinewidth\":0,\"ticks\":\"\"},\"type\":\"contourcarpet\"}],\"heatmap\":[{\"colorbar\":{\"outlinewidth\":0,\"ticks\":\"\"},\"colorscale\":[[0.0,\"#0d0887\"],[0.1111111111111111,\"#46039f\"],[0.2222222222222222,\"#7201a8\"],[0.3333333333333333,\"#9c179e\"],[0.4444444444444444,\"#bd3786\"],[0.5555555555555556,\"#d8576b\"],[0.6666666666666666,\"#ed7953\"],[0.7777777777777778,\"#fb9f3a\"],[0.8888888888888888,\"#fdca26\"],[1.0,\"#f0f921\"]],\"type\":\"heatmap\"}],\"heatmapgl\":[{\"colorbar\":{\"outlinewidth\":0,\"ticks\":\"\"},\"colorscale\":[[0.0,\"#0d0887\"],[0.1111111111111111,\"#46039f\"],[0.2222222222222222,\"#7201a8\"],[0.3333333333333333,\"#9c179e\"],[0.4444444444444444,\"#bd3786\"],[0.5555555555555556,\"#d8576b\"],[0.6666666666666666,\"#ed7953\"],[0.7777777777777778,\"#fb9f3a\"],[0.8888888888888888,\"#fdca26\"],[1.0,\"#f0f921\"]],\"type\":\"heatmapgl\"}],\"histogram\":[{\"marker\":{\"pattern\":{\"fillmode\":\"overlay\",\"size\":10,\"solidity\":0.2}},\"type\":\"histogram\"}],\"histogram2d\":[{\"colorbar\":{\"outlinewidth\":0,\"ticks\":\"\"},\"colorscale\":[[0.0,\"#0d0887\"],[0.1111111111111111,\"#46039f\"],[0.2222222222222222,\"#7201a8\"],[0.3333333333333333,\"#9c179e\"],[0.4444444444444444,\"#bd3786\"],[0.5555555555555556,\"#d8576b\"],[0.6666666666666666,\"#ed7953\"],[0.7777777777777778,\"#fb9f3a\"],[0.8888888888888888,\"#fdca26\"],[1.0,\"#f0f921\"]],\"type\":\"histogram2d\"}],\"histogram2dcontour\":[{\"colorbar\":{\"outlinewidth\":0,\"ticks\":\"\"},\"colorscale\":[[0.0,\"#0d0887\"],[0.1111111111111111,\"#46039f\"],[0.2222222222222222,\"#7201a8\"],[0.3333333333333333,\"#9c179e\"],[0.4444444444444444,\"#bd3786\"],[0.5555555555555556,\"#d8576b\"],[0.6666666666666666,\"#ed7953\"],[0.7777777777777778,\"#fb9f3a\"],[0.8888888888888888,\"#fdca26\"],[1.0,\"#f0f921\"]],\"type\":\"histogram2dcontour\"}],\"mesh3d\":[{\"colorbar\":{\"outlinewidth\":0,\"ticks\":\"\"},\"type\":\"mesh3d\"}],\"parcoords\":[{\"line\":{\"colorbar\":{\"outlinewidth\":0,\"ticks\":\"\"}},\"type\":\"parcoords\"}],\"pie\":[{\"automargin\":true,\"type\":\"pie\"}],\"scatter\":[{\"marker\":{\"colorbar\":{\"outlinewidth\":0,\"ticks\":\"\"}},\"type\":\"scatter\"}],\"scatter3d\":[{\"line\":{\"colorbar\":{\"outlinewidth\":0,\"ticks\":\"\"}},\"marker\":{\"colorbar\":{\"outlinewidth\":0,\"ticks\":\"\"}},\"type\":\"scatter3d\"}],\"scattercarpet\":[{\"marker\":{\"colorbar\":{\"outlinewidth\":0,\"ticks\":\"\"}},\"type\":\"scattercarpet\"}],\"scattergeo\":[{\"marker\":{\"colorbar\":{\"outlinewidth\":0,\"ticks\":\"\"}},\"type\":\"scattergeo\"}],\"scattergl\":[{\"marker\":{\"colorbar\":{\"outlinewidth\":0,\"ticks\":\"\"}},\"type\":\"scattergl\"}],\"scattermapbox\":[{\"marker\":{\"colorbar\":{\"outlinewidth\":0,\"ticks\":\"\"}},\"type\":\"scattermapbox\"}],\"scatterpolar\":[{\"marker\":{\"colorbar\":{\"outlinewidth\":0,\"ticks\":\"\"}},\"type\":\"scatterpolar\"}],\"scatterpolargl\":[{\"marker\":{\"colorbar\":{\"outlinewidth\":0,\"ticks\":\"\"}},\"type\":\"scatterpolargl\"}],\"scatterternary\":[{\"marker\":{\"colorbar\":{\"outlinewidth\":0,\"ticks\":\"\"}},\"type\":\"scatterternary\"}],\"surface\":[{\"colorbar\":{\"outlinewidth\":0,\"ticks\":\"\"},\"colorscale\":[[0.0,\"#0d0887\"],[0.1111111111111111,\"#46039f\"],[0.2222222222222222,\"#7201a8\"],[0.3333333333333333,\"#9c179e\"],[0.4444444444444444,\"#bd3786\"],[0.5555555555555556,\"#d8576b\"],[0.6666666666666666,\"#ed7953\"],[0.7777777777777778,\"#fb9f3a\"],[0.8888888888888888,\"#fdca26\"],[1.0,\"#f0f921\"]],\"type\":\"surface\"}],\"table\":[{\"cells\":{\"fill\":{\"color\":\"#EBF0F8\"},\"line\":{\"color\":\"white\"}},\"header\":{\"fill\":{\"color\":\"#C8D4E3\"},\"line\":{\"color\":\"white\"}},\"type\":\"table\"}]},\"layout\":{\"annotationdefaults\":{\"arrowcolor\":\"#2a3f5f\",\"arrowhead\":0,\"arrowwidth\":1},\"autotypenumbers\":\"strict\",\"coloraxis\":{\"colorbar\":{\"outlinewidth\":0,\"ticks\":\"\"}},\"colorscale\":{\"diverging\":[[0,\"#8e0152\"],[0.1,\"#c51b7d\"],[0.2,\"#de77ae\"],[0.3,\"#f1b6da\"],[0.4,\"#fde0ef\"],[0.5,\"#f7f7f7\"],[0.6,\"#e6f5d0\"],[0.7,\"#b8e186\"],[0.8,\"#7fbc41\"],[0.9,\"#4d9221\"],[1,\"#276419\"]],\"sequential\":[[0.0,\"#0d0887\"],[0.1111111111111111,\"#46039f\"],[0.2222222222222222,\"#7201a8\"],[0.3333333333333333,\"#9c179e\"],[0.4444444444444444,\"#bd3786\"],[0.5555555555555556,\"#d8576b\"],[0.6666666666666666,\"#ed7953\"],[0.7777777777777778,\"#fb9f3a\"],[0.8888888888888888,\"#fdca26\"],[1.0,\"#f0f921\"]],\"sequentialminus\":[[0.0,\"#0d0887\"],[0.1111111111111111,\"#46039f\"],[0.2222222222222222,\"#7201a8\"],[0.3333333333333333,\"#9c179e\"],[0.4444444444444444,\"#bd3786\"],[0.5555555555555556,\"#d8576b\"],[0.6666666666666666,\"#ed7953\"],[0.7777777777777778,\"#fb9f3a\"],[0.8888888888888888,\"#fdca26\"],[1.0,\"#f0f921\"]]},\"colorway\":[\"#636efa\",\"#EF553B\",\"#00cc96\",\"#ab63fa\",\"#FFA15A\",\"#19d3f3\",\"#FF6692\",\"#B6E880\",\"#FF97FF\",\"#FECB52\"],\"font\":{\"color\":\"#2a3f5f\"},\"geo\":{\"bgcolor\":\"white\",\"lakecolor\":\"white\",\"landcolor\":\"#E5ECF6\",\"showlakes\":true,\"showland\":true,\"subunitcolor\":\"white\"},\"hoverlabel\":{\"align\":\"left\"},\"hovermode\":\"closest\",\"mapbox\":{\"style\":\"light\"},\"paper_bgcolor\":\"white\",\"plot_bgcolor\":\"#E5ECF6\",\"polar\":{\"angularaxis\":{\"gridcolor\":\"white\",\"linecolor\":\"white\",\"ticks\":\"\"},\"bgcolor\":\"#E5ECF6\",\"radialaxis\":{\"gridcolor\":\"white\",\"linecolor\":\"white\",\"ticks\":\"\"}},\"scene\":{\"xaxis\":{\"backgroundcolor\":\"#E5ECF6\",\"gridcolor\":\"white\",\"gridwidth\":2,\"linecolor\":\"white\",\"showbackground\":true,\"ticks\":\"\",\"zerolinecolor\":\"white\"},\"yaxis\":{\"backgroundcolor\":\"#E5ECF6\",\"gridcolor\":\"white\",\"gridwidth\":2,\"linecolor\":\"white\",\"showbackground\":true,\"ticks\":\"\",\"zerolinecolor\":\"white\"},\"zaxis\":{\"backgroundcolor\":\"#E5ECF6\",\"gridcolor\":\"white\",\"gridwidth\":2,\"linecolor\":\"white\",\"showbackground\":true,\"ticks\":\"\",\"zerolinecolor\":\"white\"}},\"shapedefaults\":{\"line\":{\"color\":\"#2a3f5f\"}},\"ternary\":{\"aaxis\":{\"gridcolor\":\"white\",\"linecolor\":\"white\",\"ticks\":\"\"},\"baxis\":{\"gridcolor\":\"white\",\"linecolor\":\"white\",\"ticks\":\"\"},\"bgcolor\":\"#E5ECF6\",\"caxis\":{\"gridcolor\":\"white\",\"linecolor\":\"white\",\"ticks\":\"\"}},\"title\":{\"x\":0.05},\"xaxis\":{\"automargin\":true,\"gridcolor\":\"white\",\"linecolor\":\"white\",\"ticks\":\"\",\"title\":{\"standoff\":15},\"zerolinecolor\":\"white\",\"zerolinewidth\":2},\"yaxis\":{\"automargin\":true,\"gridcolor\":\"white\",\"linecolor\":\"white\",\"ticks\":\"\",\"title\":{\"standoff\":15},\"zerolinecolor\":\"white\",\"zerolinewidth\":2}}},\"font\":{\"family\":\"Courier New, monospace\",\"size\":18,\"color\":\"RebeccaPurple\"},\"title\":{\"text\":\"Average Hours of Sunshine\"},\"xaxis\":{\"title\":{\"text\":\"Month\"}},\"yaxis\":{\"title\":{\"text\":\"Sunshine in h\"}},\"legend\":{\"title\":{\"text\":\"City\"}}},                        {\"responsive\": true}                    ).then(function(){\n                            \nvar gd = document.getElementById('36c23e48-d19d-4011-8737-17151c826cb6');\nvar x = new MutationObserver(function (mutations, observer) {{\n        var display = window.getComputedStyle(gd).display;\n        if (!display || display === 'none') {{\n            console.log([gd, 'removed!']);\n            Plotly.purge(gd);\n            observer.disconnect();\n        }}\n}});\n\n// Listen for the removal of the full notebook cells\nvar notebookContainer = gd.closest('#notebook-container');\nif (notebookContainer) {{\n    x.observe(notebookContainer, {childList: true});\n}}\n\n// Listen for the clearing of the current output cell\nvar outputEl = gd.closest('.output');\nif (outputEl) {{\n    x.observe(outputEl, {childList: true});\n}}\n\n                        })                };                            </script>        </div>\n</body>\n</html>"
     },
     "metadata": {},
     "output_type": "display_data"
    }
   ]
  },
  {
   "cell_type": "code",
   "metadata": {
    "cell_id": "544aeeeb-be1e-4430-b50b-7e3e61a7d03d",
    "tags": [],
    "deepnote_to_be_reexecuted": false,
    "source_hash": "62714f41",
    "execution_start": 1644143285900,
    "execution_millis": 82,
    "deepnote_output_heights": [
     1
    ],
    "deepnote_app_coordinates": {
     "x": 12,
     "y": 41,
     "w": 12,
     "h": 25
    },
    "deepnote_app_is_code_hidden": true,
    "deepnote_cell_type": "code"
   },
   "source": "#average relative humidity\nfig = go.Figure()\n\nfor city in cities:\n    fig.add_trace(go.Scatter(x=df_agg.loc[city].index.get_level_values(0), y=df_agg.loc[city][\" UPM\"],\n                    mode='lines',\n                    name=city))\n\nfig.update_layout(\n    title=\"Average Relative Humidity\",\n    xaxis_title=\"Month\",\n    yaxis_title=\"Relative humidity\",\n    legend_title=\"City\",\n    font=dict(\n        family=\"Courier New, monospace\",\n        size=18,\n        color=\"RebeccaPurple\"\n    )\n)\n\nfig.show()",
   "execution_count": null,
   "outputs": [
    {
     "data": {
      "text/html": "<html>\n<head><meta charset=\"utf-8\" /></head>\n<body>\n    <div>            <script src=\"https://cdnjs.cloudflare.com/ajax/libs/mathjax/2.7.5/MathJax.js?config=TeX-AMS-MML_SVG\"></script><script type=\"text/javascript\">if (window.MathJax) {MathJax.Hub.Config({SVG: {font: \"STIX-Web\"}});}</script>                <script type=\"text/javascript\">window.PlotlyConfig = {MathJaxConfig: 'local'};</script>\n        <script src=\"https://cdn.plot.ly/plotly-2.6.3.min.js\"></script>                <div id=\"aafbf163-053d-4aca-94f5-33cb3d3787ec\" class=\"plotly-graph-div\" style=\"height:525px; width:100%;\"></div>            <script type=\"text/javascript\">                                    window.PLOTLYENV=window.PLOTLYENV || {};                                    if (document.getElementById(\"aafbf163-053d-4aca-94f5-33cb3d3787ec\")) {                    Plotly.newPlot(                        \"aafbf163-053d-4aca-94f5-33cb3d3787ec\",                        [{\"mode\":\"lines\",\"name\":\"M\\u00fcnchen\",\"x\":[\"January\",\"February\",\"March\",\"April\",\"May\",\"June\",\"July\",\"August\",\"September\",\"October\",\"November\",\"December\"],\"y\":[86.64154121863797,81.54239215686286,74.98340501792119,69.27862962962972,74.1644086021505,74.0082592592593,71.15301075268816,74.78788530465948,81.24862962962968,85.93709677419353,88.48807407407418,87.38587813620082],\"type\":\"scatter\"},{\"mode\":\"lines\",\"name\":\"K\\u00f6ln\",\"x\":[\"January\",\"February\",\"March\",\"April\",\"May\",\"June\",\"July\",\"August\",\"September\",\"October\",\"November\",\"December\"],\"y\":[83.76308243727601,77.085137254902,71.69078853046594,65.80407407407408,68.58526881720434,70.50525925925926,69.49125448028673,71.42885304659495,76.58733333333333,82.39605734767025,84.38314814814825,84.46096774193559],\"type\":\"scatter\"},{\"mode\":\"lines\",\"name\":\"D\\u00fcsseldorf\",\"x\":[\"January\",\"February\",\"March\",\"April\",\"May\",\"June\",\"July\",\"August\",\"September\",\"October\",\"November\",\"December\"],\"y\":[83.39770609319005,77.37345098039214,72.02114695340501,66.94518518518518,68.0901792114695,68.23070370370368,67.2767383512545,68.86247311827964,75.00248148148145,80.92856630824379,84.10003703703708,85.03501792114699],\"type\":\"scatter\"},{\"mode\":\"lines\",\"name\":\"Frankfurt\",\"x\":[\"January\",\"February\",\"March\",\"April\",\"May\",\"June\",\"July\",\"August\",\"September\",\"October\",\"November\",\"December\"],\"y\":[83.25541218637993,75.92725490196084,69.0940501792115,62.003111111111096,65.85372759856631,65.14288888888882,60.79465949820784,65.3213261648745,71.44848148148151,82.4940143369176,85.63937037037041,86.54329749103945],\"type\":\"scatter\"},{\"mode\":\"lines\",\"name\":\"Hannover\",\"x\":[\"January\",\"February\",\"March\",\"April\",\"May\",\"June\",\"July\",\"August\",\"September\",\"October\",\"November\",\"December\"],\"y\":[86.26272401433688,80.42937254901966,75.94491039426522,69.64318518518516,70.02695340501796,70.64022222222219,70.83763440860216,70.64999999999998,78.02085185185183,83.7789605734768,86.62944444444446,85.62698924731187],\"type\":\"scatter\"},{\"mode\":\"lines\",\"name\":\"Leipzig\",\"x\":[\"January\",\"February\",\"March\",\"April\",\"May\",\"June\",\"July\",\"August\",\"September\",\"October\",\"November\",\"December\"],\"y\":[85.72627240143375,79.93913725490204,75.16856630824368,67.48881481481482,68.50659498207884,67.35303703703697,63.85365591397842,65.06383512544795,72.7942962962963,82.20021505376344,86.6825555555556,84.90419354838714],\"type\":\"scatter\"}],                        {\"template\":{\"data\":{\"bar\":[{\"error_x\":{\"color\":\"#2a3f5f\"},\"error_y\":{\"color\":\"#2a3f5f\"},\"marker\":{\"line\":{\"color\":\"#E5ECF6\",\"width\":0.5},\"pattern\":{\"fillmode\":\"overlay\",\"size\":10,\"solidity\":0.2}},\"type\":\"bar\"}],\"barpolar\":[{\"marker\":{\"line\":{\"color\":\"#E5ECF6\",\"width\":0.5},\"pattern\":{\"fillmode\":\"overlay\",\"size\":10,\"solidity\":0.2}},\"type\":\"barpolar\"}],\"carpet\":[{\"aaxis\":{\"endlinecolor\":\"#2a3f5f\",\"gridcolor\":\"white\",\"linecolor\":\"white\",\"minorgridcolor\":\"white\",\"startlinecolor\":\"#2a3f5f\"},\"baxis\":{\"endlinecolor\":\"#2a3f5f\",\"gridcolor\":\"white\",\"linecolor\":\"white\",\"minorgridcolor\":\"white\",\"startlinecolor\":\"#2a3f5f\"},\"type\":\"carpet\"}],\"choropleth\":[{\"colorbar\":{\"outlinewidth\":0,\"ticks\":\"\"},\"type\":\"choropleth\"}],\"contour\":[{\"colorbar\":{\"outlinewidth\":0,\"ticks\":\"\"},\"colorscale\":[[0.0,\"#0d0887\"],[0.1111111111111111,\"#46039f\"],[0.2222222222222222,\"#7201a8\"],[0.3333333333333333,\"#9c179e\"],[0.4444444444444444,\"#bd3786\"],[0.5555555555555556,\"#d8576b\"],[0.6666666666666666,\"#ed7953\"],[0.7777777777777778,\"#fb9f3a\"],[0.8888888888888888,\"#fdca26\"],[1.0,\"#f0f921\"]],\"type\":\"contour\"}],\"contourcarpet\":[{\"colorbar\":{\"outlinewidth\":0,\"ticks\":\"\"},\"type\":\"contourcarpet\"}],\"heatmap\":[{\"colorbar\":{\"outlinewidth\":0,\"ticks\":\"\"},\"colorscale\":[[0.0,\"#0d0887\"],[0.1111111111111111,\"#46039f\"],[0.2222222222222222,\"#7201a8\"],[0.3333333333333333,\"#9c179e\"],[0.4444444444444444,\"#bd3786\"],[0.5555555555555556,\"#d8576b\"],[0.6666666666666666,\"#ed7953\"],[0.7777777777777778,\"#fb9f3a\"],[0.8888888888888888,\"#fdca26\"],[1.0,\"#f0f921\"]],\"type\":\"heatmap\"}],\"heatmapgl\":[{\"colorbar\":{\"outlinewidth\":0,\"ticks\":\"\"},\"colorscale\":[[0.0,\"#0d0887\"],[0.1111111111111111,\"#46039f\"],[0.2222222222222222,\"#7201a8\"],[0.3333333333333333,\"#9c179e\"],[0.4444444444444444,\"#bd3786\"],[0.5555555555555556,\"#d8576b\"],[0.6666666666666666,\"#ed7953\"],[0.7777777777777778,\"#fb9f3a\"],[0.8888888888888888,\"#fdca26\"],[1.0,\"#f0f921\"]],\"type\":\"heatmapgl\"}],\"histogram\":[{\"marker\":{\"pattern\":{\"fillmode\":\"overlay\",\"size\":10,\"solidity\":0.2}},\"type\":\"histogram\"}],\"histogram2d\":[{\"colorbar\":{\"outlinewidth\":0,\"ticks\":\"\"},\"colorscale\":[[0.0,\"#0d0887\"],[0.1111111111111111,\"#46039f\"],[0.2222222222222222,\"#7201a8\"],[0.3333333333333333,\"#9c179e\"],[0.4444444444444444,\"#bd3786\"],[0.5555555555555556,\"#d8576b\"],[0.6666666666666666,\"#ed7953\"],[0.7777777777777778,\"#fb9f3a\"],[0.8888888888888888,\"#fdca26\"],[1.0,\"#f0f921\"]],\"type\":\"histogram2d\"}],\"histogram2dcontour\":[{\"colorbar\":{\"outlinewidth\":0,\"ticks\":\"\"},\"colorscale\":[[0.0,\"#0d0887\"],[0.1111111111111111,\"#46039f\"],[0.2222222222222222,\"#7201a8\"],[0.3333333333333333,\"#9c179e\"],[0.4444444444444444,\"#bd3786\"],[0.5555555555555556,\"#d8576b\"],[0.6666666666666666,\"#ed7953\"],[0.7777777777777778,\"#fb9f3a\"],[0.8888888888888888,\"#fdca26\"],[1.0,\"#f0f921\"]],\"type\":\"histogram2dcontour\"}],\"mesh3d\":[{\"colorbar\":{\"outlinewidth\":0,\"ticks\":\"\"},\"type\":\"mesh3d\"}],\"parcoords\":[{\"line\":{\"colorbar\":{\"outlinewidth\":0,\"ticks\":\"\"}},\"type\":\"parcoords\"}],\"pie\":[{\"automargin\":true,\"type\":\"pie\"}],\"scatter\":[{\"marker\":{\"colorbar\":{\"outlinewidth\":0,\"ticks\":\"\"}},\"type\":\"scatter\"}],\"scatter3d\":[{\"line\":{\"colorbar\":{\"outlinewidth\":0,\"ticks\":\"\"}},\"marker\":{\"colorbar\":{\"outlinewidth\":0,\"ticks\":\"\"}},\"type\":\"scatter3d\"}],\"scattercarpet\":[{\"marker\":{\"colorbar\":{\"outlinewidth\":0,\"ticks\":\"\"}},\"type\":\"scattercarpet\"}],\"scattergeo\":[{\"marker\":{\"colorbar\":{\"outlinewidth\":0,\"ticks\":\"\"}},\"type\":\"scattergeo\"}],\"scattergl\":[{\"marker\":{\"colorbar\":{\"outlinewidth\":0,\"ticks\":\"\"}},\"type\":\"scattergl\"}],\"scattermapbox\":[{\"marker\":{\"colorbar\":{\"outlinewidth\":0,\"ticks\":\"\"}},\"type\":\"scattermapbox\"}],\"scatterpolar\":[{\"marker\":{\"colorbar\":{\"outlinewidth\":0,\"ticks\":\"\"}},\"type\":\"scatterpolar\"}],\"scatterpolargl\":[{\"marker\":{\"colorbar\":{\"outlinewidth\":0,\"ticks\":\"\"}},\"type\":\"scatterpolargl\"}],\"scatterternary\":[{\"marker\":{\"colorbar\":{\"outlinewidth\":0,\"ticks\":\"\"}},\"type\":\"scatterternary\"}],\"surface\":[{\"colorbar\":{\"outlinewidth\":0,\"ticks\":\"\"},\"colorscale\":[[0.0,\"#0d0887\"],[0.1111111111111111,\"#46039f\"],[0.2222222222222222,\"#7201a8\"],[0.3333333333333333,\"#9c179e\"],[0.4444444444444444,\"#bd3786\"],[0.5555555555555556,\"#d8576b\"],[0.6666666666666666,\"#ed7953\"],[0.7777777777777778,\"#fb9f3a\"],[0.8888888888888888,\"#fdca26\"],[1.0,\"#f0f921\"]],\"type\":\"surface\"}],\"table\":[{\"cells\":{\"fill\":{\"color\":\"#EBF0F8\"},\"line\":{\"color\":\"white\"}},\"header\":{\"fill\":{\"color\":\"#C8D4E3\"},\"line\":{\"color\":\"white\"}},\"type\":\"table\"}]},\"layout\":{\"annotationdefaults\":{\"arrowcolor\":\"#2a3f5f\",\"arrowhead\":0,\"arrowwidth\":1},\"autotypenumbers\":\"strict\",\"coloraxis\":{\"colorbar\":{\"outlinewidth\":0,\"ticks\":\"\"}},\"colorscale\":{\"diverging\":[[0,\"#8e0152\"],[0.1,\"#c51b7d\"],[0.2,\"#de77ae\"],[0.3,\"#f1b6da\"],[0.4,\"#fde0ef\"],[0.5,\"#f7f7f7\"],[0.6,\"#e6f5d0\"],[0.7,\"#b8e186\"],[0.8,\"#7fbc41\"],[0.9,\"#4d9221\"],[1,\"#276419\"]],\"sequential\":[[0.0,\"#0d0887\"],[0.1111111111111111,\"#46039f\"],[0.2222222222222222,\"#7201a8\"],[0.3333333333333333,\"#9c179e\"],[0.4444444444444444,\"#bd3786\"],[0.5555555555555556,\"#d8576b\"],[0.6666666666666666,\"#ed7953\"],[0.7777777777777778,\"#fb9f3a\"],[0.8888888888888888,\"#fdca26\"],[1.0,\"#f0f921\"]],\"sequentialminus\":[[0.0,\"#0d0887\"],[0.1111111111111111,\"#46039f\"],[0.2222222222222222,\"#7201a8\"],[0.3333333333333333,\"#9c179e\"],[0.4444444444444444,\"#bd3786\"],[0.5555555555555556,\"#d8576b\"],[0.6666666666666666,\"#ed7953\"],[0.7777777777777778,\"#fb9f3a\"],[0.8888888888888888,\"#fdca26\"],[1.0,\"#f0f921\"]]},\"colorway\":[\"#636efa\",\"#EF553B\",\"#00cc96\",\"#ab63fa\",\"#FFA15A\",\"#19d3f3\",\"#FF6692\",\"#B6E880\",\"#FF97FF\",\"#FECB52\"],\"font\":{\"color\":\"#2a3f5f\"},\"geo\":{\"bgcolor\":\"white\",\"lakecolor\":\"white\",\"landcolor\":\"#E5ECF6\",\"showlakes\":true,\"showland\":true,\"subunitcolor\":\"white\"},\"hoverlabel\":{\"align\":\"left\"},\"hovermode\":\"closest\",\"mapbox\":{\"style\":\"light\"},\"paper_bgcolor\":\"white\",\"plot_bgcolor\":\"#E5ECF6\",\"polar\":{\"angularaxis\":{\"gridcolor\":\"white\",\"linecolor\":\"white\",\"ticks\":\"\"},\"bgcolor\":\"#E5ECF6\",\"radialaxis\":{\"gridcolor\":\"white\",\"linecolor\":\"white\",\"ticks\":\"\"}},\"scene\":{\"xaxis\":{\"backgroundcolor\":\"#E5ECF6\",\"gridcolor\":\"white\",\"gridwidth\":2,\"linecolor\":\"white\",\"showbackground\":true,\"ticks\":\"\",\"zerolinecolor\":\"white\"},\"yaxis\":{\"backgroundcolor\":\"#E5ECF6\",\"gridcolor\":\"white\",\"gridwidth\":2,\"linecolor\":\"white\",\"showbackground\":true,\"ticks\":\"\",\"zerolinecolor\":\"white\"},\"zaxis\":{\"backgroundcolor\":\"#E5ECF6\",\"gridcolor\":\"white\",\"gridwidth\":2,\"linecolor\":\"white\",\"showbackground\":true,\"ticks\":\"\",\"zerolinecolor\":\"white\"}},\"shapedefaults\":{\"line\":{\"color\":\"#2a3f5f\"}},\"ternary\":{\"aaxis\":{\"gridcolor\":\"white\",\"linecolor\":\"white\",\"ticks\":\"\"},\"baxis\":{\"gridcolor\":\"white\",\"linecolor\":\"white\",\"ticks\":\"\"},\"bgcolor\":\"#E5ECF6\",\"caxis\":{\"gridcolor\":\"white\",\"linecolor\":\"white\",\"ticks\":\"\"}},\"title\":{\"x\":0.05},\"xaxis\":{\"automargin\":true,\"gridcolor\":\"white\",\"linecolor\":\"white\",\"ticks\":\"\",\"title\":{\"standoff\":15},\"zerolinecolor\":\"white\",\"zerolinewidth\":2},\"yaxis\":{\"automargin\":true,\"gridcolor\":\"white\",\"linecolor\":\"white\",\"ticks\":\"\",\"title\":{\"standoff\":15},\"zerolinecolor\":\"white\",\"zerolinewidth\":2}}},\"font\":{\"family\":\"Courier New, monospace\",\"size\":18,\"color\":\"RebeccaPurple\"},\"title\":{\"text\":\"Average Relative Humidity\"},\"xaxis\":{\"title\":{\"text\":\"Month\"}},\"yaxis\":{\"title\":{\"text\":\"Relative humidity\"}},\"legend\":{\"title\":{\"text\":\"City\"}}},                        {\"responsive\": true}                    ).then(function(){\n                            \nvar gd = document.getElementById('aafbf163-053d-4aca-94f5-33cb3d3787ec');\nvar x = new MutationObserver(function (mutations, observer) {{\n        var display = window.getComputedStyle(gd).display;\n        if (!display || display === 'none') {{\n            console.log([gd, 'removed!']);\n            Plotly.purge(gd);\n            observer.disconnect();\n        }}\n}});\n\n// Listen for the removal of the full notebook cells\nvar notebookContainer = gd.closest('#notebook-container');\nif (notebookContainer) {{\n    x.observe(notebookContainer, {childList: true});\n}}\n\n// Listen for the clearing of the current output cell\nvar outputEl = gd.closest('.output');\nif (outputEl) {{\n    x.observe(outputEl, {childList: true});\n}}\n\n                        })                };                            </script>        </div>\n</body>\n</html>"
     },
     "metadata": {},
     "output_type": "display_data"
    }
   ]
  },
  {
   "cell_type": "code",
   "metadata": {
    "cell_id": "1545a11c-3221-4db0-8c81-4db023059c6c",
    "tags": [],
    "deepnote_to_be_reexecuted": false,
    "source_hash": "e642152d",
    "execution_start": 1644143285989,
    "execution_millis": 76,
    "deepnote_app_coordinates": {
     "x": 0,
     "y": 66,
     "w": 12,
     "h": 25
    },
    "deepnote_output_heights": [
     1
    ],
    "deepnote_app_is_code_hidden": true,
    "deepnote_cell_type": "code"
   },
   "source": "#average wind chill\nfig = go.Figure()\n\nfor city in cities:\n    fig.add_trace(go.Scatter(x=df_agg.loc[city].index.get_level_values(0), y=df_agg.loc[city][\"WIND_CHILL\"],\n                    mode='lines',\n                    name=city))\n\nfig.update_layout(\n    title=\"Average Wind-Chill\",\n    xaxis_title=\"Month\",\n    yaxis_title=\"Wind-Chill in °C\",\n    legend_title=\"City\",\n    font=dict(\n        family=\"Courier New, monospace\",\n        size=18,\n        color=\"RebeccaPurple\"\n    )\n)\n\nfig.show()",
   "execution_count": null,
   "outputs": [
    {
     "data": {
      "text/html": "<html>\n<head><meta charset=\"utf-8\" /></head>\n<body>\n    <div>            <script src=\"https://cdnjs.cloudflare.com/ajax/libs/mathjax/2.7.5/MathJax.js?config=TeX-AMS-MML_SVG\"></script><script type=\"text/javascript\">if (window.MathJax) {MathJax.Hub.Config({SVG: {font: \"STIX-Web\"}});}</script>                <script type=\"text/javascript\">window.PlotlyConfig = {MathJaxConfig: 'local'};</script>\n        <script src=\"https://cdn.plot.ly/plotly-2.6.3.min.js\"></script>                <div id=\"80deabc0-6f1b-46ca-8202-78a536799f63\" class=\"plotly-graph-div\" style=\"height:525px; width:100%;\"></div>            <script type=\"text/javascript\">                                    window.PLOTLYENV=window.PLOTLYENV || {};                                    if (document.getElementById(\"80deabc0-6f1b-46ca-8202-78a536799f63\")) {                    Plotly.newPlot(                        \"80deabc0-6f1b-46ca-8202-78a536799f63\",                        [{\"mode\":\"lines\",\"name\":\"M\\u00fcnchen\",\"x\":[\"January\",\"February\",\"March\",\"April\",\"May\",\"June\",\"July\",\"August\",\"September\",\"October\",\"November\",\"December\"],\"y\":[-2.6688588304954766,-2.333544973782321,2.424062175632442,8.103718843438156,12.48821307322525,17.541816517591492,19.82394509844083,19.18361873793081,13.661463004701332,8.402870804851814,2.4698410456071014,-1.0775505934069027],\"type\":\"scatter\"},{\"mode\":\"lines\",\"name\":\"K\\u00f6ln\",\"x\":[\"January\",\"February\",\"March\",\"April\",\"May\",\"June\",\"July\",\"August\",\"September\",\"October\",\"November\",\"December\"],\"y\":[0.6220844830367337,0.6996066422659016,4.436784376316439,9.239093544942207,13.489283881944484,17.90486714674945,20.049839704565056,19.615416620900046,14.797391787526173,10.367223763715545,5.016311840793169,2.7196656543322466],\"type\":\"scatter\"},{\"mode\":\"lines\",\"name\":\"D\\u00fcsseldorf\",\"x\":[\"January\",\"February\",\"March\",\"April\",\"May\",\"June\",\"July\",\"August\",\"September\",\"October\",\"November\",\"December\"],\"y\":[0.4753738132920778,0.4232641950467291,4.339777883377148,9.027556180067519,13.452278996946795,17.777458415659726,20.238484974813648,19.813998505260816,14.99951032867729,10.457822442572473,4.947968492456913,2.443990452566723],\"type\":\"scatter\"},{\"mode\":\"lines\",\"name\":\"Frankfurt\",\"x\":[\"January\",\"February\",\"March\",\"April\",\"May\",\"June\",\"July\",\"August\",\"September\",\"October\",\"November\",\"December\"],\"y\":[0.06206503168638588,0.15947194139656912,4.682213593868502,10.029269666131796,14.381602861016946,19.26359346834342,21.98618013122341,21.099381332138886,15.772307783930922,10.21600652042811,4.578482531060948,1.8646004454316003],\"type\":\"scatter\"},{\"mode\":\"lines\",\"name\":\"Hannover\",\"x\":[\"January\",\"February\",\"March\",\"April\",\"May\",\"June\",\"July\",\"August\",\"September\",\"October\",\"November\",\"December\"],\"y\":[-1.2611052920194643,-0.684432281552975,2.5055632854040377,7.868389941421047,12.594141027206947,17.02173256897927,19.214282123241297,19.188619658667918,14.419059440882792,9.573908654077853,4.059309212385061,1.7272397166876778],\"type\":\"scatter\"},{\"mode\":\"lines\",\"name\":\"Leipzig\",\"x\":[\"January\",\"February\",\"March\",\"April\",\"May\",\"June\",\"July\",\"August\",\"September\",\"October\",\"November\",\"December\"],\"y\":[-2.707893613889342,-1.961499738374019,1.9338052447792935,8.068556635817757,13.134217498751802,18.18721156527054,20.58587745040748,20.445896452823707,14.897413025316412,9.106840706908411,3.0340020923931963,-0.045904072427539924],\"type\":\"scatter\"}],                        {\"template\":{\"data\":{\"bar\":[{\"error_x\":{\"color\":\"#2a3f5f\"},\"error_y\":{\"color\":\"#2a3f5f\"},\"marker\":{\"line\":{\"color\":\"#E5ECF6\",\"width\":0.5},\"pattern\":{\"fillmode\":\"overlay\",\"size\":10,\"solidity\":0.2}},\"type\":\"bar\"}],\"barpolar\":[{\"marker\":{\"line\":{\"color\":\"#E5ECF6\",\"width\":0.5},\"pattern\":{\"fillmode\":\"overlay\",\"size\":10,\"solidity\":0.2}},\"type\":\"barpolar\"}],\"carpet\":[{\"aaxis\":{\"endlinecolor\":\"#2a3f5f\",\"gridcolor\":\"white\",\"linecolor\":\"white\",\"minorgridcolor\":\"white\",\"startlinecolor\":\"#2a3f5f\"},\"baxis\":{\"endlinecolor\":\"#2a3f5f\",\"gridcolor\":\"white\",\"linecolor\":\"white\",\"minorgridcolor\":\"white\",\"startlinecolor\":\"#2a3f5f\"},\"type\":\"carpet\"}],\"choropleth\":[{\"colorbar\":{\"outlinewidth\":0,\"ticks\":\"\"},\"type\":\"choropleth\"}],\"contour\":[{\"colorbar\":{\"outlinewidth\":0,\"ticks\":\"\"},\"colorscale\":[[0.0,\"#0d0887\"],[0.1111111111111111,\"#46039f\"],[0.2222222222222222,\"#7201a8\"],[0.3333333333333333,\"#9c179e\"],[0.4444444444444444,\"#bd3786\"],[0.5555555555555556,\"#d8576b\"],[0.6666666666666666,\"#ed7953\"],[0.7777777777777778,\"#fb9f3a\"],[0.8888888888888888,\"#fdca26\"],[1.0,\"#f0f921\"]],\"type\":\"contour\"}],\"contourcarpet\":[{\"colorbar\":{\"outlinewidth\":0,\"ticks\":\"\"},\"type\":\"contourcarpet\"}],\"heatmap\":[{\"colorbar\":{\"outlinewidth\":0,\"ticks\":\"\"},\"colorscale\":[[0.0,\"#0d0887\"],[0.1111111111111111,\"#46039f\"],[0.2222222222222222,\"#7201a8\"],[0.3333333333333333,\"#9c179e\"],[0.4444444444444444,\"#bd3786\"],[0.5555555555555556,\"#d8576b\"],[0.6666666666666666,\"#ed7953\"],[0.7777777777777778,\"#fb9f3a\"],[0.8888888888888888,\"#fdca26\"],[1.0,\"#f0f921\"]],\"type\":\"heatmap\"}],\"heatmapgl\":[{\"colorbar\":{\"outlinewidth\":0,\"ticks\":\"\"},\"colorscale\":[[0.0,\"#0d0887\"],[0.1111111111111111,\"#46039f\"],[0.2222222222222222,\"#7201a8\"],[0.3333333333333333,\"#9c179e\"],[0.4444444444444444,\"#bd3786\"],[0.5555555555555556,\"#d8576b\"],[0.6666666666666666,\"#ed7953\"],[0.7777777777777778,\"#fb9f3a\"],[0.8888888888888888,\"#fdca26\"],[1.0,\"#f0f921\"]],\"type\":\"heatmapgl\"}],\"histogram\":[{\"marker\":{\"pattern\":{\"fillmode\":\"overlay\",\"size\":10,\"solidity\":0.2}},\"type\":\"histogram\"}],\"histogram2d\":[{\"colorbar\":{\"outlinewidth\":0,\"ticks\":\"\"},\"colorscale\":[[0.0,\"#0d0887\"],[0.1111111111111111,\"#46039f\"],[0.2222222222222222,\"#7201a8\"],[0.3333333333333333,\"#9c179e\"],[0.4444444444444444,\"#bd3786\"],[0.5555555555555556,\"#d8576b\"],[0.6666666666666666,\"#ed7953\"],[0.7777777777777778,\"#fb9f3a\"],[0.8888888888888888,\"#fdca26\"],[1.0,\"#f0f921\"]],\"type\":\"histogram2d\"}],\"histogram2dcontour\":[{\"colorbar\":{\"outlinewidth\":0,\"ticks\":\"\"},\"colorscale\":[[0.0,\"#0d0887\"],[0.1111111111111111,\"#46039f\"],[0.2222222222222222,\"#7201a8\"],[0.3333333333333333,\"#9c179e\"],[0.4444444444444444,\"#bd3786\"],[0.5555555555555556,\"#d8576b\"],[0.6666666666666666,\"#ed7953\"],[0.7777777777777778,\"#fb9f3a\"],[0.8888888888888888,\"#fdca26\"],[1.0,\"#f0f921\"]],\"type\":\"histogram2dcontour\"}],\"mesh3d\":[{\"colorbar\":{\"outlinewidth\":0,\"ticks\":\"\"},\"type\":\"mesh3d\"}],\"parcoords\":[{\"line\":{\"colorbar\":{\"outlinewidth\":0,\"ticks\":\"\"}},\"type\":\"parcoords\"}],\"pie\":[{\"automargin\":true,\"type\":\"pie\"}],\"scatter\":[{\"marker\":{\"colorbar\":{\"outlinewidth\":0,\"ticks\":\"\"}},\"type\":\"scatter\"}],\"scatter3d\":[{\"line\":{\"colorbar\":{\"outlinewidth\":0,\"ticks\":\"\"}},\"marker\":{\"colorbar\":{\"outlinewidth\":0,\"ticks\":\"\"}},\"type\":\"scatter3d\"}],\"scattercarpet\":[{\"marker\":{\"colorbar\":{\"outlinewidth\":0,\"ticks\":\"\"}},\"type\":\"scattercarpet\"}],\"scattergeo\":[{\"marker\":{\"colorbar\":{\"outlinewidth\":0,\"ticks\":\"\"}},\"type\":\"scattergeo\"}],\"scattergl\":[{\"marker\":{\"colorbar\":{\"outlinewidth\":0,\"ticks\":\"\"}},\"type\":\"scattergl\"}],\"scattermapbox\":[{\"marker\":{\"colorbar\":{\"outlinewidth\":0,\"ticks\":\"\"}},\"type\":\"scattermapbox\"}],\"scatterpolar\":[{\"marker\":{\"colorbar\":{\"outlinewidth\":0,\"ticks\":\"\"}},\"type\":\"scatterpolar\"}],\"scatterpolargl\":[{\"marker\":{\"colorbar\":{\"outlinewidth\":0,\"ticks\":\"\"}},\"type\":\"scatterpolargl\"}],\"scatterternary\":[{\"marker\":{\"colorbar\":{\"outlinewidth\":0,\"ticks\":\"\"}},\"type\":\"scatterternary\"}],\"surface\":[{\"colorbar\":{\"outlinewidth\":0,\"ticks\":\"\"},\"colorscale\":[[0.0,\"#0d0887\"],[0.1111111111111111,\"#46039f\"],[0.2222222222222222,\"#7201a8\"],[0.3333333333333333,\"#9c179e\"],[0.4444444444444444,\"#bd3786\"],[0.5555555555555556,\"#d8576b\"],[0.6666666666666666,\"#ed7953\"],[0.7777777777777778,\"#fb9f3a\"],[0.8888888888888888,\"#fdca26\"],[1.0,\"#f0f921\"]],\"type\":\"surface\"}],\"table\":[{\"cells\":{\"fill\":{\"color\":\"#EBF0F8\"},\"line\":{\"color\":\"white\"}},\"header\":{\"fill\":{\"color\":\"#C8D4E3\"},\"line\":{\"color\":\"white\"}},\"type\":\"table\"}]},\"layout\":{\"annotationdefaults\":{\"arrowcolor\":\"#2a3f5f\",\"arrowhead\":0,\"arrowwidth\":1},\"autotypenumbers\":\"strict\",\"coloraxis\":{\"colorbar\":{\"outlinewidth\":0,\"ticks\":\"\"}},\"colorscale\":{\"diverging\":[[0,\"#8e0152\"],[0.1,\"#c51b7d\"],[0.2,\"#de77ae\"],[0.3,\"#f1b6da\"],[0.4,\"#fde0ef\"],[0.5,\"#f7f7f7\"],[0.6,\"#e6f5d0\"],[0.7,\"#b8e186\"],[0.8,\"#7fbc41\"],[0.9,\"#4d9221\"],[1,\"#276419\"]],\"sequential\":[[0.0,\"#0d0887\"],[0.1111111111111111,\"#46039f\"],[0.2222222222222222,\"#7201a8\"],[0.3333333333333333,\"#9c179e\"],[0.4444444444444444,\"#bd3786\"],[0.5555555555555556,\"#d8576b\"],[0.6666666666666666,\"#ed7953\"],[0.7777777777777778,\"#fb9f3a\"],[0.8888888888888888,\"#fdca26\"],[1.0,\"#f0f921\"]],\"sequentialminus\":[[0.0,\"#0d0887\"],[0.1111111111111111,\"#46039f\"],[0.2222222222222222,\"#7201a8\"],[0.3333333333333333,\"#9c179e\"],[0.4444444444444444,\"#bd3786\"],[0.5555555555555556,\"#d8576b\"],[0.6666666666666666,\"#ed7953\"],[0.7777777777777778,\"#fb9f3a\"],[0.8888888888888888,\"#fdca26\"],[1.0,\"#f0f921\"]]},\"colorway\":[\"#636efa\",\"#EF553B\",\"#00cc96\",\"#ab63fa\",\"#FFA15A\",\"#19d3f3\",\"#FF6692\",\"#B6E880\",\"#FF97FF\",\"#FECB52\"],\"font\":{\"color\":\"#2a3f5f\"},\"geo\":{\"bgcolor\":\"white\",\"lakecolor\":\"white\",\"landcolor\":\"#E5ECF6\",\"showlakes\":true,\"showland\":true,\"subunitcolor\":\"white\"},\"hoverlabel\":{\"align\":\"left\"},\"hovermode\":\"closest\",\"mapbox\":{\"style\":\"light\"},\"paper_bgcolor\":\"white\",\"plot_bgcolor\":\"#E5ECF6\",\"polar\":{\"angularaxis\":{\"gridcolor\":\"white\",\"linecolor\":\"white\",\"ticks\":\"\"},\"bgcolor\":\"#E5ECF6\",\"radialaxis\":{\"gridcolor\":\"white\",\"linecolor\":\"white\",\"ticks\":\"\"}},\"scene\":{\"xaxis\":{\"backgroundcolor\":\"#E5ECF6\",\"gridcolor\":\"white\",\"gridwidth\":2,\"linecolor\":\"white\",\"showbackground\":true,\"ticks\":\"\",\"zerolinecolor\":\"white\"},\"yaxis\":{\"backgroundcolor\":\"#E5ECF6\",\"gridcolor\":\"white\",\"gridwidth\":2,\"linecolor\":\"white\",\"showbackground\":true,\"ticks\":\"\",\"zerolinecolor\":\"white\"},\"zaxis\":{\"backgroundcolor\":\"#E5ECF6\",\"gridcolor\":\"white\",\"gridwidth\":2,\"linecolor\":\"white\",\"showbackground\":true,\"ticks\":\"\",\"zerolinecolor\":\"white\"}},\"shapedefaults\":{\"line\":{\"color\":\"#2a3f5f\"}},\"ternary\":{\"aaxis\":{\"gridcolor\":\"white\",\"linecolor\":\"white\",\"ticks\":\"\"},\"baxis\":{\"gridcolor\":\"white\",\"linecolor\":\"white\",\"ticks\":\"\"},\"bgcolor\":\"#E5ECF6\",\"caxis\":{\"gridcolor\":\"white\",\"linecolor\":\"white\",\"ticks\":\"\"}},\"title\":{\"x\":0.05},\"xaxis\":{\"automargin\":true,\"gridcolor\":\"white\",\"linecolor\":\"white\",\"ticks\":\"\",\"title\":{\"standoff\":15},\"zerolinecolor\":\"white\",\"zerolinewidth\":2},\"yaxis\":{\"automargin\":true,\"gridcolor\":\"white\",\"linecolor\":\"white\",\"ticks\":\"\",\"title\":{\"standoff\":15},\"zerolinecolor\":\"white\",\"zerolinewidth\":2}}},\"font\":{\"family\":\"Courier New, monospace\",\"size\":18,\"color\":\"RebeccaPurple\"},\"title\":{\"text\":\"Average Wind-Chill\"},\"xaxis\":{\"title\":{\"text\":\"Month\"}},\"yaxis\":{\"title\":{\"text\":\"Wind-Chill in \\u00b0C\"}},\"legend\":{\"title\":{\"text\":\"City\"}}},                        {\"responsive\": true}                    ).then(function(){\n                            \nvar gd = document.getElementById('80deabc0-6f1b-46ca-8202-78a536799f63');\nvar x = new MutationObserver(function (mutations, observer) {{\n        var display = window.getComputedStyle(gd).display;\n        if (!display || display === 'none') {{\n            console.log([gd, 'removed!']);\n            Plotly.purge(gd);\n            observer.disconnect();\n        }}\n}});\n\n// Listen for the removal of the full notebook cells\nvar notebookContainer = gd.closest('#notebook-container');\nif (notebookContainer) {{\n    x.observe(notebookContainer, {childList: true});\n}}\n\n// Listen for the clearing of the current output cell\nvar outputEl = gd.closest('.output');\nif (outputEl) {{\n    x.observe(outputEl, {childList: true});\n}}\n\n                        })                };                            </script>        </div>\n</body>\n</html>"
     },
     "metadata": {},
     "output_type": "display_data"
    }
   ]
  },
  {
   "cell_type": "code",
   "metadata": {
    "cell_id": "eb4fc5b7-2ade-456a-80f1-4ae9643dc8db",
    "tags": [],
    "deepnote_to_be_reexecuted": false,
    "source_hash": "f804c160",
    "execution_start": 1644143286074,
    "execution_millis": 744,
    "deepnote_cell_type": "code"
   },
   "source": "df",
   "execution_count": null,
   "outputs": [
    {
     "output_type": "execute_result",
     "execution_count": 22,
     "data": {
      "application/vnd.deepnote.dataframe.v3+json": {
       "column_count": 23,
       "row_count": 19728,
       "columns": [
        {
         "name": "STATIONS_ID",
         "dtype": "int64",
         "stats": {
          "unique_count": 6,
          "nan_count": 0,
          "min": "1078",
          "max": "2932",
          "histogram": [
           {
            "bin_start": 1078,
            "bin_end": 1263.4,
            "count": 6576
           },
           {
            "bin_start": 1263.4,
            "bin_end": 1448.8,
            "count": 3288
           },
           {
            "bin_start": 1448.8,
            "bin_end": 1634.2,
            "count": 0
           },
           {
            "bin_start": 1634.2,
            "bin_end": 1819.6,
            "count": 0
           },
           {
            "bin_start": 1819.6,
            "bin_end": 2005,
            "count": 0
           },
           {
            "bin_start": 2005,
            "bin_end": 2190.4,
            "count": 3288
           },
           {
            "bin_start": 2190.4,
            "bin_end": 2375.8,
            "count": 0
           },
           {
            "bin_start": 2375.8,
            "bin_end": 2561.2,
            "count": 0
           },
           {
            "bin_start": 2561.2,
            "bin_end": 2746.6000000000004,
            "count": 3288
           },
           {
            "bin_start": 2746.6000000000004,
            "bin_end": 2932,
            "count": 3288
           }
          ]
         }
        },
        {
         "name": "MESS_DATUM",
         "dtype": "datetime64[ns]",
         "stats": {
          "unique_count": 3288,
          "nan_count": 0,
          "min": "2012-01-01 00:00:00",
          "max": "2020-12-31 00:00:00",
          "histogram": [
           {
            "bin_start": 1325376000000000000,
            "bin_end": 1353775680000000000,
            "count": 1974
           },
           {
            "bin_start": 1353775680000000000,
            "bin_end": 1382175360000000000,
            "count": 1974
           },
           {
            "bin_start": 1382175360000000000,
            "bin_end": 1410575040000000000,
            "count": 1974
           },
           {
            "bin_start": 1410575040000000000,
            "bin_end": 1438974720000000000,
            "count": 1968
           },
           {
            "bin_start": 1438974720000000000,
            "bin_end": 1467374400000000000,
            "count": 1974
           },
           {
            "bin_start": 1467374400000000000,
            "bin_end": 1495774080000000000,
            "count": 1974
           },
           {
            "bin_start": 1495774080000000000,
            "bin_end": 1524173760000000000,
            "count": 1968
           },
           {
            "bin_start": 1524173760000000000,
            "bin_end": 1552573440000000000,
            "count": 1974
           },
           {
            "bin_start": 1552573440000000000,
            "bin_end": 1580973120000000000,
            "count": 1974
           },
           {
            "bin_start": 1580973120000000000,
            "bin_end": 1609372800000000000,
            "count": 1974
           }
          ]
         }
        },
        {
         "name": "QN_3",
         "dtype": "int64",
         "stats": {
          "unique_count": 2,
          "nan_count": 0,
          "min": "3",
          "max": "10",
          "histogram": [
           {
            "bin_start": 3,
            "bin_end": 3.7,
            "count": 366
           },
           {
            "bin_start": 3.7,
            "bin_end": 4.4,
            "count": 0
           },
           {
            "bin_start": 4.4,
            "bin_end": 5.1,
            "count": 0
           },
           {
            "bin_start": 5.1,
            "bin_end": 5.8,
            "count": 0
           },
           {
            "bin_start": 5.8,
            "bin_end": 6.5,
            "count": 0
           },
           {
            "bin_start": 6.5,
            "bin_end": 7.199999999999999,
            "count": 0
           },
           {
            "bin_start": 7.199999999999999,
            "bin_end": 7.8999999999999995,
            "count": 0
           },
           {
            "bin_start": 7.8999999999999995,
            "bin_end": 8.6,
            "count": 0
           },
           {
            "bin_start": 8.6,
            "bin_end": 9.3,
            "count": 0
           },
           {
            "bin_start": 9.3,
            "bin_end": 10,
            "count": 19362
           }
          ]
         }
        },
        {
         "name": "  FX",
         "dtype": "float64",
         "stats": {
          "unique_count": 268,
          "nan_count": 0,
          "min": "0.0",
          "max": "39.5",
          "histogram": [
           {
            "bin_start": 0,
            "bin_end": 3.95,
            "count": 238
           },
           {
            "bin_start": 3.95,
            "bin_end": 7.9,
            "count": 5415
           },
           {
            "bin_start": 7.9,
            "bin_end": 11.850000000000001,
            "count": 8207
           },
           {
            "bin_start": 11.850000000000001,
            "bin_end": 15.8,
            "count": 3937
           },
           {
            "bin_start": 15.8,
            "bin_end": 19.75,
            "count": 1418
           },
           {
            "bin_start": 19.75,
            "bin_end": 23.700000000000003,
            "count": 380
           },
           {
            "bin_start": 23.700000000000003,
            "bin_end": 27.650000000000002,
            "count": 97
           },
           {
            "bin_start": 27.650000000000002,
            "bin_end": 31.6,
            "count": 26
           },
           {
            "bin_start": 31.6,
            "bin_end": 35.550000000000004,
            "count": 8
           },
           {
            "bin_start": 35.550000000000004,
            "bin_end": 39.5,
            "count": 2
           }
          ]
         }
        },
        {
         "name": "  FM",
         "dtype": "float64",
         "stats": {
          "unique_count": 118,
          "nan_count": 0,
          "min": "0.0",
          "max": "53.64",
          "histogram": [
           {
            "bin_start": 0,
            "bin_end": 5.364,
            "count": 748
           },
           {
            "bin_start": 5.364,
            "bin_end": 10.728,
            "count": 7768
           },
           {
            "bin_start": 10.728,
            "bin_end": 16.092,
            "count": 6306
           },
           {
            "bin_start": 16.092,
            "bin_end": 21.456,
            "count": 3056
           },
           {
            "bin_start": 21.456,
            "bin_end": 26.82,
            "count": 1225
           },
           {
            "bin_start": 26.82,
            "bin_end": 32.184,
            "count": 421
           },
           {
            "bin_start": 32.184,
            "bin_end": 37.548,
            "count": 153
           },
           {
            "bin_start": 37.548,
            "bin_end": 42.912,
            "count": 46
           },
           {
            "bin_start": 42.912,
            "bin_end": 48.275999999999996,
            "count": 2
           },
           {
            "bin_start": 48.275999999999996,
            "bin_end": 53.64,
            "count": 3
           }
          ]
         }
        },
        {
         "name": "QN_4",
         "dtype": "int64"
        },
        {
         "name": " RSK",
         "dtype": "float64"
        },
        {
         "name": "RSKF",
         "dtype": "int64"
        },
        {
         "name": " SDK",
         "dtype": "float64"
        },
        {
         "name": "SHK_TAG",
         "dtype": "int64"
        },
        {
         "name": "  NM",
         "dtype": "float64"
        },
        {
         "name": " VPM",
         "dtype": "float64"
        },
        {
         "name": "  PM",
         "dtype": "float64"
        },
        {
         "name": " TMK",
         "dtype": "float64"
        },
        {
         "name": " UPM",
         "dtype": "float64"
        },
        {
         "name": " TXK",
         "dtype": "float64"
        },
        {
         "name": " TNK",
         "dtype": "float64"
        },
        {
         "name": " TGK",
         "dtype": "float64"
        },
        {
         "name": "eor",
         "dtype": "object"
        },
        {
         "name": "STATIONS_NAME",
         "dtype": "object"
        },
        {
         "name": "MONTH",
         "dtype": "object"
        },
        {
         "name": "YEAR",
         "dtype": "int64"
        },
        {
         "name": "WIND_CHILL",
         "dtype": "float64"
        },
        {
         "name": "_deepnote_index_column",
         "dtype": "int64"
        }
       ],
       "rows": [
        {
         "STATIONS_ID": 1262,
         "MESS_DATUM": "2012-01-01T00:00:00.000000",
         "QN_3": 10,
         "  FX": 11.9,
         "  FM": 19.08,
         "QN_4": 10,
         " RSK": 0,
         "RSKF": 6,
         " SDK": 0.9,
         "SHK_TAG": 0,
         "  NM": 7.1,
         " VPM": 9.9,
         "  PM": 964.6,
         " TMK": 8.5,
         " UPM": 89,
         " TXK": 11.5,
         " TNK": 3.3,
         " TGK": 1.6,
         "eor": "eor",
         "STATIONS_NAME": "München",
         "MONTH": "January",
         "YEAR": 2012,
         "WIND_CHILL": 5.580360818317421,
         "_deepnote_index_column": 7168
        },
        {
         "STATIONS_ID": 1262,
         "MESS_DATUM": "2012-01-02T00:00:00.000000",
         "QN_3": 10,
         "  FX": 12.3,
         "  FM": 12.96,
         "QN_4": 10,
         " RSK": 0.6,
         "RSKF": 6,
         " SDK": 0,
         "SHK_TAG": 0,
         "  NM": 7.4,
         " VPM": 8.4,
         "  PM": 961.6,
         " TMK": 7.2,
         " UPM": 82,
         " TXK": 11.9,
         " TNK": 4.4,
         " TGK": 1.7,
         "eor": "eor",
         "STATIONS_NAME": "München",
         "MONTH": "January",
         "YEAR": 2012,
         "WIND_CHILL": 4.76524322109667,
         "_deepnote_index_column": 7169
        },
        {
         "STATIONS_ID": 1262,
         "MESS_DATUM": "2012-01-03T00:00:00.000000",
         "QN_3": 10,
         "  FX": 13.3,
         "  FM": 16.56,
         "QN_4": 10,
         " RSK": 1.5,
         "RSKF": 6,
         " SDK": 7.6,
         "SHK_TAG": 0,
         "  NM": 5.8,
         " VPM": 6.5,
         "  PM": 968.3,
         " TMK": 5,
         " UPM": 75,
         " TXK": 8.8,
         " TNK": 0.9,
         " TGK": -1.7,
         "eor": "eor",
         "STATIONS_NAME": "München",
         "MONTH": "January",
         "YEAR": 2012,
         "WIND_CHILL": 1.5179426715183943,
         "_deepnote_index_column": 7170
        },
        {
         "STATIONS_ID": 1262,
         "MESS_DATUM": "2012-01-04T00:00:00.000000",
         "QN_3": 10,
         "  FX": 17.3,
         "  FM": 30.240000000000002,
         "QN_4": 10,
         " RSK": 1.8,
         "RSKF": 6,
         " SDK": 0.8,
         "SHK_TAG": 0,
         "  NM": 6.3,
         " VPM": 7,
         "  PM": 964.5,
         " TMK": 5.3,
         " UPM": 78,
         " TXK": 9.6,
         " TNK": 2.1,
         " TGK": 0.8,
         "eor": "eor",
         "STATIONS_NAME": "München",
         "MONTH": "January",
         "YEAR": 2012,
         "WIND_CHILL": 0.421872601725616,
         "_deepnote_index_column": 7171
        },
        {
         "STATIONS_ID": 1262,
         "MESS_DATUM": "2012-01-05T00:00:00.000000",
         "QN_3": 10,
         "  FX": 27.8,
         "  FM": 47.519999999999996,
         "QN_4": 10,
         " RSK": 7.4,
         "RSKF": 8,
         " SDK": 0,
         "SHK_TAG": 0,
         "  NM": 7.6,
         " VPM": 6.3,
         "  PM": 948.1,
         " TMK": 4.5,
         " UPM": 75,
         " TXK": 7.2,
         " TNK": 1.2,
         " TGK": 0.6,
         "eor": "eor",
         "STATIONS_NAME": "München",
         "MONTH": "January",
         "YEAR": 2012,
         "WIND_CHILL": -1.8630277268661208,
         "_deepnote_index_column": 7172
        },
        {
         "STATIONS_ID": 1262,
         "MESS_DATUM": "2012-01-06T00:00:00.000000",
         "QN_3": 10,
         "  FX": 16.9,
         "  FM": 23.400000000000002,
         "QN_4": 10,
         " RSK": 1.1,
         "RSKF": 8,
         " SDK": 0.3,
         "SHK_TAG": 0,
         "  NM": 6.7,
         " VPM": 6.3,
         "  PM": 959.4,
         " TMK": 2.1,
         " UPM": 89,
         " TXK": 3.7,
         " TNK": 0.1,
         " TGK": 0,
         "eor": "eor",
         "STATIONS_NAME": "München",
         "MONTH": "January",
         "YEAR": 2012,
         "WIND_CHILL": -3.0252723523639036,
         "_deepnote_index_column": 7173
        },
        {
         "STATIONS_ID": 1262,
         "MESS_DATUM": "2012-01-07T00:00:00.000000",
         "QN_3": 10,
         "  FX": 18.4,
         "  FM": 29.880000000000003,
         "QN_4": 10,
         " RSK": 3.6,
         "RSKF": 8,
         " SDK": 0,
         "SHK_TAG": 0,
         "  NM": 7.3,
         " VPM": 6.4,
         "  PM": 966.1,
         " TMK": 2.5,
         " UPM": 87,
         " TXK": 3.6,
         " TNK": 1.2,
         " TGK": 0.7,
         "eor": "eor",
         "STATIONS_NAME": "München",
         "MONTH": "January",
         "YEAR": 2012,
         "WIND_CHILL": -3.1995994210696113,
         "_deepnote_index_column": 7174
        },
        {
         "STATIONS_ID": 1262,
         "MESS_DATUM": "2012-01-08T00:00:00.000000",
         "QN_3": 10,
         "  FX": 10.9,
         "  FM": 18.36,
         "QN_4": 10,
         " RSK": 4.9,
         "RSKF": 8,
         " SDK": 0,
         "SHK_TAG": 0,
         "  NM": 7.8,
         " VPM": 6.7,
         "  PM": 966.7,
         " TMK": 2.4,
         " UPM": 92,
         " TXK": 3.6,
         " TNK": 0.4,
         " TGK": 0,
         "eor": "eor",
         "STATIONS_NAME": "München",
         "MONTH": "January",
         "YEAR": 2012,
         "WIND_CHILL": -1.985058423372415,
         "_deepnote_index_column": 7175
        },
        {
         "STATIONS_ID": 1262,
         "MESS_DATUM": "2012-01-09T00:00:00.000000",
         "QN_3": 10,
         "  FX": 12.2,
         "  FM": 20.16,
         "QN_4": 10,
         " RSK": 5.2,
         "RSKF": 8,
         " SDK": 0,
         "SHK_TAG": 0,
         "  NM": 8,
         " VPM": 6.9,
         "  PM": 974.1,
         " TMK": 3,
         " UPM": 91,
         " TXK": 4.1,
         " TNK": 0.7,
         " TGK": 0.1,
         "eor": "eor",
         "STATIONS_NAME": "München",
         "MONTH": "January",
         "YEAR": 2012,
         "WIND_CHILL": -1.4776893501710444,
         "_deepnote_index_column": 7176
        },
        {
         "STATIONS_ID": 1262,
         "MESS_DATUM": "2012-01-10T00:00:00.000000",
         "QN_3": 10,
         "  FX": 13.3,
         "  FM": 17.64,
         "QN_4": 10,
         " RSK": 0.9,
         "RSKF": 6,
         " SDK": 0.7,
         "SHK_TAG": 0,
         "  NM": 7.2,
         " VPM": 7.5,
         "  PM": 978.6,
         " TMK": 4.4,
         " UPM": 90,
         " TXK": 5.7,
         " TNK": 3.1,
         " TGK": 2.4,
         "eor": "eor",
         "STATIONS_NAME": "München",
         "MONTH": "January",
         "YEAR": 2012,
         "WIND_CHILL": 0.6190351761776607,
         "_deepnote_index_column": 7177
        }
       ]
      },
      "text/plain": "        STATIONS_ID MESS_DATUM  QN_3    FX     FM  QN_4   RSK  RSKF    SDK  \\\n7168           1262 2012-01-01    10  11.9  19.08    10   0.0     6  0.900   \n7169           1262 2012-01-02    10  12.3  12.96    10   0.6     6  0.000   \n7170           1262 2012-01-03    10  13.3  16.56    10   1.5     6  7.600   \n7171           1262 2012-01-04    10  17.3  30.24    10   1.8     6  0.800   \n7172           1262 2012-01-05    10  27.8  47.52    10   7.4     8  0.000   \n...             ...        ...   ...   ...    ...   ...   ...   ...    ...   \n138634         2932 2020-12-27     3  19.7  30.96     3   0.0     6  0.233   \n138635         2932 2020-12-28     3   9.9  15.48     3   0.0     8  1.900   \n138636         2932 2020-12-29     3  13.4  19.44     3   0.0     6  0.233   \n138637         2932 2020-12-30     3   9.4  16.20     3   0.2     6  3.283   \n138638         2932 2020-12-31     3  10.6  17.28     3   0.3     8  5.117   \n\n        SHK_TAG  ...   TMK    UPM   TXK   TNK   TGK  eor  STATIONS_NAME  \\\n7168          0  ...   8.5  89.00  11.5   3.3   1.6  eor        München   \n7169          0  ...   7.2  82.00  11.9   4.4   1.7  eor        München   \n7170          0  ...   5.0  75.00   8.8   0.9  -1.7  eor        München   \n7171          0  ...   5.3  78.00   9.6   2.1   0.8  eor        München   \n7172          0  ...   4.5  75.00   7.2   1.2   0.6  eor        München   \n...         ...  ...   ...    ...   ...   ...   ...  ...            ...   \n138634        0  ...   1.3  63.21   3.1  -0.2  -0.9  eor        Leipzig   \n138635        0  ...   2.2  76.88   5.2   0.2  -1.1  eor        Leipzig   \n138636        0  ...   2.1  85.42   4.8  -0.4  -2.3  eor        Leipzig   \n138637        0  ...   2.8  82.79   5.4   0.6  -1.0  eor        Leipzig   \n138638        0  ...   2.7  75.92   4.8   0.1  -1.5  eor        Leipzig   \n\n           MONTH  YEAR WIND_CHILL  \n7168     January  2012   5.580361  \n7169     January  2012   4.765243  \n7170     January  2012   1.517943  \n7171     January  2012   0.421873  \n7172     January  2012  -1.863028  \n...          ...   ...        ...  \n138634  December  2020  -4.871276  \n138635  December  2020  -1.785321  \n138636  December  2020  -2.515217  \n138637  December  2020  -1.159755  \n138638  December  2020  -1.450740  \n\n[19728 rows x 23 columns]",
      "text/html": "<div>\n<style scoped>\n    .dataframe tbody tr th:only-of-type {\n        vertical-align: middle;\n    }\n\n    .dataframe tbody tr th {\n        vertical-align: top;\n    }\n\n    .dataframe thead th {\n        text-align: right;\n    }\n</style>\n<table border=\"1\" class=\"dataframe\">\n  <thead>\n    <tr style=\"text-align: right;\">\n      <th></th>\n      <th>STATIONS_ID</th>\n      <th>MESS_DATUM</th>\n      <th>QN_3</th>\n      <th>FX</th>\n      <th>FM</th>\n      <th>QN_4</th>\n      <th>RSK</th>\n      <th>RSKF</th>\n      <th>SDK</th>\n      <th>SHK_TAG</th>\n      <th>...</th>\n      <th>TMK</th>\n      <th>UPM</th>\n      <th>TXK</th>\n      <th>TNK</th>\n      <th>TGK</th>\n      <th>eor</th>\n      <th>STATIONS_NAME</th>\n      <th>MONTH</th>\n      <th>YEAR</th>\n      <th>WIND_CHILL</th>\n    </tr>\n  </thead>\n  <tbody>\n    <tr>\n      <th>7168</th>\n      <td>1262</td>\n      <td>2012-01-01</td>\n      <td>10</td>\n      <td>11.9</td>\n      <td>19.08</td>\n      <td>10</td>\n      <td>0.0</td>\n      <td>6</td>\n      <td>0.900</td>\n      <td>0</td>\n      <td>...</td>\n      <td>8.5</td>\n      <td>89.00</td>\n      <td>11.5</td>\n      <td>3.3</td>\n      <td>1.6</td>\n      <td>eor</td>\n      <td>München</td>\n      <td>January</td>\n      <td>2012</td>\n      <td>5.580361</td>\n    </tr>\n    <tr>\n      <th>7169</th>\n      <td>1262</td>\n      <td>2012-01-02</td>\n      <td>10</td>\n      <td>12.3</td>\n      <td>12.96</td>\n      <td>10</td>\n      <td>0.6</td>\n      <td>6</td>\n      <td>0.000</td>\n      <td>0</td>\n      <td>...</td>\n      <td>7.2</td>\n      <td>82.00</td>\n      <td>11.9</td>\n      <td>4.4</td>\n      <td>1.7</td>\n      <td>eor</td>\n      <td>München</td>\n      <td>January</td>\n      <td>2012</td>\n      <td>4.765243</td>\n    </tr>\n    <tr>\n      <th>7170</th>\n      <td>1262</td>\n      <td>2012-01-03</td>\n      <td>10</td>\n      <td>13.3</td>\n      <td>16.56</td>\n      <td>10</td>\n      <td>1.5</td>\n      <td>6</td>\n      <td>7.600</td>\n      <td>0</td>\n      <td>...</td>\n      <td>5.0</td>\n      <td>75.00</td>\n      <td>8.8</td>\n      <td>0.9</td>\n      <td>-1.7</td>\n      <td>eor</td>\n      <td>München</td>\n      <td>January</td>\n      <td>2012</td>\n      <td>1.517943</td>\n    </tr>\n    <tr>\n      <th>7171</th>\n      <td>1262</td>\n      <td>2012-01-04</td>\n      <td>10</td>\n      <td>17.3</td>\n      <td>30.24</td>\n      <td>10</td>\n      <td>1.8</td>\n      <td>6</td>\n      <td>0.800</td>\n      <td>0</td>\n      <td>...</td>\n      <td>5.3</td>\n      <td>78.00</td>\n      <td>9.6</td>\n      <td>2.1</td>\n      <td>0.8</td>\n      <td>eor</td>\n      <td>München</td>\n      <td>January</td>\n      <td>2012</td>\n      <td>0.421873</td>\n    </tr>\n    <tr>\n      <th>7172</th>\n      <td>1262</td>\n      <td>2012-01-05</td>\n      <td>10</td>\n      <td>27.8</td>\n      <td>47.52</td>\n      <td>10</td>\n      <td>7.4</td>\n      <td>8</td>\n      <td>0.000</td>\n      <td>0</td>\n      <td>...</td>\n      <td>4.5</td>\n      <td>75.00</td>\n      <td>7.2</td>\n      <td>1.2</td>\n      <td>0.6</td>\n      <td>eor</td>\n      <td>München</td>\n      <td>January</td>\n      <td>2012</td>\n      <td>-1.863028</td>\n    </tr>\n    <tr>\n      <th>...</th>\n      <td>...</td>\n      <td>...</td>\n      <td>...</td>\n      <td>...</td>\n      <td>...</td>\n      <td>...</td>\n      <td>...</td>\n      <td>...</td>\n      <td>...</td>\n      <td>...</td>\n      <td>...</td>\n      <td>...</td>\n      <td>...</td>\n      <td>...</td>\n      <td>...</td>\n      <td>...</td>\n      <td>...</td>\n      <td>...</td>\n      <td>...</td>\n      <td>...</td>\n      <td>...</td>\n    </tr>\n    <tr>\n      <th>138634</th>\n      <td>2932</td>\n      <td>2020-12-27</td>\n      <td>3</td>\n      <td>19.7</td>\n      <td>30.96</td>\n      <td>3</td>\n      <td>0.0</td>\n      <td>6</td>\n      <td>0.233</td>\n      <td>0</td>\n      <td>...</td>\n      <td>1.3</td>\n      <td>63.21</td>\n      <td>3.1</td>\n      <td>-0.2</td>\n      <td>-0.9</td>\n      <td>eor</td>\n      <td>Leipzig</td>\n      <td>December</td>\n      <td>2020</td>\n      <td>-4.871276</td>\n    </tr>\n    <tr>\n      <th>138635</th>\n      <td>2932</td>\n      <td>2020-12-28</td>\n      <td>3</td>\n      <td>9.9</td>\n      <td>15.48</td>\n      <td>3</td>\n      <td>0.0</td>\n      <td>8</td>\n      <td>1.900</td>\n      <td>0</td>\n      <td>...</td>\n      <td>2.2</td>\n      <td>76.88</td>\n      <td>5.2</td>\n      <td>0.2</td>\n      <td>-1.1</td>\n      <td>eor</td>\n      <td>Leipzig</td>\n      <td>December</td>\n      <td>2020</td>\n      <td>-1.785321</td>\n    </tr>\n    <tr>\n      <th>138636</th>\n      <td>2932</td>\n      <td>2020-12-29</td>\n      <td>3</td>\n      <td>13.4</td>\n      <td>19.44</td>\n      <td>3</td>\n      <td>0.0</td>\n      <td>6</td>\n      <td>0.233</td>\n      <td>0</td>\n      <td>...</td>\n      <td>2.1</td>\n      <td>85.42</td>\n      <td>4.8</td>\n      <td>-0.4</td>\n      <td>-2.3</td>\n      <td>eor</td>\n      <td>Leipzig</td>\n      <td>December</td>\n      <td>2020</td>\n      <td>-2.515217</td>\n    </tr>\n    <tr>\n      <th>138637</th>\n      <td>2932</td>\n      <td>2020-12-30</td>\n      <td>3</td>\n      <td>9.4</td>\n      <td>16.20</td>\n      <td>3</td>\n      <td>0.2</td>\n      <td>6</td>\n      <td>3.283</td>\n      <td>0</td>\n      <td>...</td>\n      <td>2.8</td>\n      <td>82.79</td>\n      <td>5.4</td>\n      <td>0.6</td>\n      <td>-1.0</td>\n      <td>eor</td>\n      <td>Leipzig</td>\n      <td>December</td>\n      <td>2020</td>\n      <td>-1.159755</td>\n    </tr>\n    <tr>\n      <th>138638</th>\n      <td>2932</td>\n      <td>2020-12-31</td>\n      <td>3</td>\n      <td>10.6</td>\n      <td>17.28</td>\n      <td>3</td>\n      <td>0.3</td>\n      <td>8</td>\n      <td>5.117</td>\n      <td>0</td>\n      <td>...</td>\n      <td>2.7</td>\n      <td>75.92</td>\n      <td>4.8</td>\n      <td>0.1</td>\n      <td>-1.5</td>\n      <td>eor</td>\n      <td>Leipzig</td>\n      <td>December</td>\n      <td>2020</td>\n      <td>-1.450740</td>\n    </tr>\n  </tbody>\n</table>\n<p>19728 rows × 23 columns</p>\n</div>"
     },
     "metadata": {}
    }
   ]
  },
  {
   "cell_type": "code",
   "metadata": {
    "cell_id": "d5f2dfb2-676e-42e5-be32-004e91a48de8",
    "tags": [],
    "deepnote_to_be_reexecuted": false,
    "source_hash": "2bdc097d",
    "execution_start": 1644143286826,
    "execution_millis": 96,
    "deepnote_output_heights": [
     1
    ],
    "deepnote_app_coordinates": {
     "x": 12,
     "y": 66,
     "w": 12,
     "h": 25
    },
    "deepnote_app_is_code_hidden": true,
    "deepnote_cell_type": "code"
   },
   "source": "#average snowfall\nfig = go.Figure()\n\nmonths = [\"October\",\"November\",\"December\",\"January\",\"February\",\"March\"]\nfor city in cities:\n    fig.add_trace(go.Scatter(x=months, y=df_agg.loc[city,months,:][\"SHK_TAG\"],\n                    mode='lines',\n                    name=city))\n\nfig.update_layout(\n    title=\"Average Amount of Snowfall\",\n    xaxis_title=\"Month\",\n    yaxis_title=\"Snowfall in cm\",\n    legend_title=\"City\",\n    font=dict(\n        family=\"Courier New, monospace\",\n        size=18,\n        color=\"RebeccaPurple\"\n    )\n)\n\nfig.show()",
   "execution_count": null,
   "outputs": [
    {
     "data": {
      "text/html": "<html>\n<head><meta charset=\"utf-8\" /></head>\n<body>\n    <div>            <script src=\"https://cdnjs.cloudflare.com/ajax/libs/mathjax/2.7.5/MathJax.js?config=TeX-AMS-MML_SVG\"></script><script type=\"text/javascript\">if (window.MathJax) {MathJax.Hub.Config({SVG: {font: \"STIX-Web\"}});}</script>                <script type=\"text/javascript\">window.PlotlyConfig = {MathJaxConfig: 'local'};</script>\n        <script src=\"https://cdn.plot.ly/plotly-2.6.3.min.js\"></script>                <div id=\"d993d27e-ea36-4c08-ae90-87918dbad00f\" class=\"plotly-graph-div\" style=\"height:525px; width:100%;\"></div>            <script type=\"text/javascript\">                                    window.PLOTLYENV=window.PLOTLYENV || {};                                    if (document.getElementById(\"d993d27e-ea36-4c08-ae90-87918dbad00f\")) {                    Plotly.newPlot(                        \"d993d27e-ea36-4c08-ae90-87918dbad00f\",                        [{\"mode\":\"lines\",\"name\":\"M\\u00fcnchen\",\"x\":[\"October\",\"November\",\"December\",\"January\",\"February\",\"March\"],\"y\":[0.6666666666666666,0.7777777777777778,14.333333333333334,51.888888888888886,73.33333333333333,8.555555555555555],\"type\":\"scatter\"},{\"mode\":\"lines\",\"name\":\"K\\u00f6ln\",\"x\":[\"October\",\"November\",\"December\",\"January\",\"February\",\"March\"],\"y\":[0.0,0.0,4.111111111111111,15.11111111111111,5.666666666666667,3.888888888888889],\"type\":\"scatter\"},{\"mode\":\"lines\",\"name\":\"D\\u00fcsseldorf\",\"x\":[\"October\",\"November\",\"December\",\"January\",\"February\",\"March\"],\"y\":[0.0,0.0,3.3333333333333335,15.222222222222221,3.888888888888889,1.7777777777777777],\"type\":\"scatter\"},{\"mode\":\"lines\",\"name\":\"Frankfurt\",\"x\":[\"October\",\"November\",\"December\",\"January\",\"February\",\"March\"],\"y\":[0.0,0.1111111111111111,4.888888888888889,11.222222222222221,5.444444444444445,7.666666666666667],\"type\":\"scatter\"},{\"mode\":\"lines\",\"name\":\"Hannover\",\"x\":[\"October\",\"November\",\"December\",\"January\",\"February\",\"March\"],\"y\":[0.0,0.6666666666666666,4.555555555555555,22.333333333333332,2.111111111111111,5.666666666666667],\"type\":\"scatter\"},{\"mode\":\"lines\",\"name\":\"Leipzig\",\"x\":[\"October\",\"November\",\"December\",\"January\",\"February\",\"March\"],\"y\":[0.0,0.2222222222222222,10.777777777777779,31.0,24.22222222222222,24.444444444444443],\"type\":\"scatter\"}],                        {\"template\":{\"data\":{\"bar\":[{\"error_x\":{\"color\":\"#2a3f5f\"},\"error_y\":{\"color\":\"#2a3f5f\"},\"marker\":{\"line\":{\"color\":\"#E5ECF6\",\"width\":0.5},\"pattern\":{\"fillmode\":\"overlay\",\"size\":10,\"solidity\":0.2}},\"type\":\"bar\"}],\"barpolar\":[{\"marker\":{\"line\":{\"color\":\"#E5ECF6\",\"width\":0.5},\"pattern\":{\"fillmode\":\"overlay\",\"size\":10,\"solidity\":0.2}},\"type\":\"barpolar\"}],\"carpet\":[{\"aaxis\":{\"endlinecolor\":\"#2a3f5f\",\"gridcolor\":\"white\",\"linecolor\":\"white\",\"minorgridcolor\":\"white\",\"startlinecolor\":\"#2a3f5f\"},\"baxis\":{\"endlinecolor\":\"#2a3f5f\",\"gridcolor\":\"white\",\"linecolor\":\"white\",\"minorgridcolor\":\"white\",\"startlinecolor\":\"#2a3f5f\"},\"type\":\"carpet\"}],\"choropleth\":[{\"colorbar\":{\"outlinewidth\":0,\"ticks\":\"\"},\"type\":\"choropleth\"}],\"contour\":[{\"colorbar\":{\"outlinewidth\":0,\"ticks\":\"\"},\"colorscale\":[[0.0,\"#0d0887\"],[0.1111111111111111,\"#46039f\"],[0.2222222222222222,\"#7201a8\"],[0.3333333333333333,\"#9c179e\"],[0.4444444444444444,\"#bd3786\"],[0.5555555555555556,\"#d8576b\"],[0.6666666666666666,\"#ed7953\"],[0.7777777777777778,\"#fb9f3a\"],[0.8888888888888888,\"#fdca26\"],[1.0,\"#f0f921\"]],\"type\":\"contour\"}],\"contourcarpet\":[{\"colorbar\":{\"outlinewidth\":0,\"ticks\":\"\"},\"type\":\"contourcarpet\"}],\"heatmap\":[{\"colorbar\":{\"outlinewidth\":0,\"ticks\":\"\"},\"colorscale\":[[0.0,\"#0d0887\"],[0.1111111111111111,\"#46039f\"],[0.2222222222222222,\"#7201a8\"],[0.3333333333333333,\"#9c179e\"],[0.4444444444444444,\"#bd3786\"],[0.5555555555555556,\"#d8576b\"],[0.6666666666666666,\"#ed7953\"],[0.7777777777777778,\"#fb9f3a\"],[0.8888888888888888,\"#fdca26\"],[1.0,\"#f0f921\"]],\"type\":\"heatmap\"}],\"heatmapgl\":[{\"colorbar\":{\"outlinewidth\":0,\"ticks\":\"\"},\"colorscale\":[[0.0,\"#0d0887\"],[0.1111111111111111,\"#46039f\"],[0.2222222222222222,\"#7201a8\"],[0.3333333333333333,\"#9c179e\"],[0.4444444444444444,\"#bd3786\"],[0.5555555555555556,\"#d8576b\"],[0.6666666666666666,\"#ed7953\"],[0.7777777777777778,\"#fb9f3a\"],[0.8888888888888888,\"#fdca26\"],[1.0,\"#f0f921\"]],\"type\":\"heatmapgl\"}],\"histogram\":[{\"marker\":{\"pattern\":{\"fillmode\":\"overlay\",\"size\":10,\"solidity\":0.2}},\"type\":\"histogram\"}],\"histogram2d\":[{\"colorbar\":{\"outlinewidth\":0,\"ticks\":\"\"},\"colorscale\":[[0.0,\"#0d0887\"],[0.1111111111111111,\"#46039f\"],[0.2222222222222222,\"#7201a8\"],[0.3333333333333333,\"#9c179e\"],[0.4444444444444444,\"#bd3786\"],[0.5555555555555556,\"#d8576b\"],[0.6666666666666666,\"#ed7953\"],[0.7777777777777778,\"#fb9f3a\"],[0.8888888888888888,\"#fdca26\"],[1.0,\"#f0f921\"]],\"type\":\"histogram2d\"}],\"histogram2dcontour\":[{\"colorbar\":{\"outlinewidth\":0,\"ticks\":\"\"},\"colorscale\":[[0.0,\"#0d0887\"],[0.1111111111111111,\"#46039f\"],[0.2222222222222222,\"#7201a8\"],[0.3333333333333333,\"#9c179e\"],[0.4444444444444444,\"#bd3786\"],[0.5555555555555556,\"#d8576b\"],[0.6666666666666666,\"#ed7953\"],[0.7777777777777778,\"#fb9f3a\"],[0.8888888888888888,\"#fdca26\"],[1.0,\"#f0f921\"]],\"type\":\"histogram2dcontour\"}],\"mesh3d\":[{\"colorbar\":{\"outlinewidth\":0,\"ticks\":\"\"},\"type\":\"mesh3d\"}],\"parcoords\":[{\"line\":{\"colorbar\":{\"outlinewidth\":0,\"ticks\":\"\"}},\"type\":\"parcoords\"}],\"pie\":[{\"automargin\":true,\"type\":\"pie\"}],\"scatter\":[{\"marker\":{\"colorbar\":{\"outlinewidth\":0,\"ticks\":\"\"}},\"type\":\"scatter\"}],\"scatter3d\":[{\"line\":{\"colorbar\":{\"outlinewidth\":0,\"ticks\":\"\"}},\"marker\":{\"colorbar\":{\"outlinewidth\":0,\"ticks\":\"\"}},\"type\":\"scatter3d\"}],\"scattercarpet\":[{\"marker\":{\"colorbar\":{\"outlinewidth\":0,\"ticks\":\"\"}},\"type\":\"scattercarpet\"}],\"scattergeo\":[{\"marker\":{\"colorbar\":{\"outlinewidth\":0,\"ticks\":\"\"}},\"type\":\"scattergeo\"}],\"scattergl\":[{\"marker\":{\"colorbar\":{\"outlinewidth\":0,\"ticks\":\"\"}},\"type\":\"scattergl\"}],\"scattermapbox\":[{\"marker\":{\"colorbar\":{\"outlinewidth\":0,\"ticks\":\"\"}},\"type\":\"scattermapbox\"}],\"scatterpolar\":[{\"marker\":{\"colorbar\":{\"outlinewidth\":0,\"ticks\":\"\"}},\"type\":\"scatterpolar\"}],\"scatterpolargl\":[{\"marker\":{\"colorbar\":{\"outlinewidth\":0,\"ticks\":\"\"}},\"type\":\"scatterpolargl\"}],\"scatterternary\":[{\"marker\":{\"colorbar\":{\"outlinewidth\":0,\"ticks\":\"\"}},\"type\":\"scatterternary\"}],\"surface\":[{\"colorbar\":{\"outlinewidth\":0,\"ticks\":\"\"},\"colorscale\":[[0.0,\"#0d0887\"],[0.1111111111111111,\"#46039f\"],[0.2222222222222222,\"#7201a8\"],[0.3333333333333333,\"#9c179e\"],[0.4444444444444444,\"#bd3786\"],[0.5555555555555556,\"#d8576b\"],[0.6666666666666666,\"#ed7953\"],[0.7777777777777778,\"#fb9f3a\"],[0.8888888888888888,\"#fdca26\"],[1.0,\"#f0f921\"]],\"type\":\"surface\"}],\"table\":[{\"cells\":{\"fill\":{\"color\":\"#EBF0F8\"},\"line\":{\"color\":\"white\"}},\"header\":{\"fill\":{\"color\":\"#C8D4E3\"},\"line\":{\"color\":\"white\"}},\"type\":\"table\"}]},\"layout\":{\"annotationdefaults\":{\"arrowcolor\":\"#2a3f5f\",\"arrowhead\":0,\"arrowwidth\":1},\"autotypenumbers\":\"strict\",\"coloraxis\":{\"colorbar\":{\"outlinewidth\":0,\"ticks\":\"\"}},\"colorscale\":{\"diverging\":[[0,\"#8e0152\"],[0.1,\"#c51b7d\"],[0.2,\"#de77ae\"],[0.3,\"#f1b6da\"],[0.4,\"#fde0ef\"],[0.5,\"#f7f7f7\"],[0.6,\"#e6f5d0\"],[0.7,\"#b8e186\"],[0.8,\"#7fbc41\"],[0.9,\"#4d9221\"],[1,\"#276419\"]],\"sequential\":[[0.0,\"#0d0887\"],[0.1111111111111111,\"#46039f\"],[0.2222222222222222,\"#7201a8\"],[0.3333333333333333,\"#9c179e\"],[0.4444444444444444,\"#bd3786\"],[0.5555555555555556,\"#d8576b\"],[0.6666666666666666,\"#ed7953\"],[0.7777777777777778,\"#fb9f3a\"],[0.8888888888888888,\"#fdca26\"],[1.0,\"#f0f921\"]],\"sequentialminus\":[[0.0,\"#0d0887\"],[0.1111111111111111,\"#46039f\"],[0.2222222222222222,\"#7201a8\"],[0.3333333333333333,\"#9c179e\"],[0.4444444444444444,\"#bd3786\"],[0.5555555555555556,\"#d8576b\"],[0.6666666666666666,\"#ed7953\"],[0.7777777777777778,\"#fb9f3a\"],[0.8888888888888888,\"#fdca26\"],[1.0,\"#f0f921\"]]},\"colorway\":[\"#636efa\",\"#EF553B\",\"#00cc96\",\"#ab63fa\",\"#FFA15A\",\"#19d3f3\",\"#FF6692\",\"#B6E880\",\"#FF97FF\",\"#FECB52\"],\"font\":{\"color\":\"#2a3f5f\"},\"geo\":{\"bgcolor\":\"white\",\"lakecolor\":\"white\",\"landcolor\":\"#E5ECF6\",\"showlakes\":true,\"showland\":true,\"subunitcolor\":\"white\"},\"hoverlabel\":{\"align\":\"left\"},\"hovermode\":\"closest\",\"mapbox\":{\"style\":\"light\"},\"paper_bgcolor\":\"white\",\"plot_bgcolor\":\"#E5ECF6\",\"polar\":{\"angularaxis\":{\"gridcolor\":\"white\",\"linecolor\":\"white\",\"ticks\":\"\"},\"bgcolor\":\"#E5ECF6\",\"radialaxis\":{\"gridcolor\":\"white\",\"linecolor\":\"white\",\"ticks\":\"\"}},\"scene\":{\"xaxis\":{\"backgroundcolor\":\"#E5ECF6\",\"gridcolor\":\"white\",\"gridwidth\":2,\"linecolor\":\"white\",\"showbackground\":true,\"ticks\":\"\",\"zerolinecolor\":\"white\"},\"yaxis\":{\"backgroundcolor\":\"#E5ECF6\",\"gridcolor\":\"white\",\"gridwidth\":2,\"linecolor\":\"white\",\"showbackground\":true,\"ticks\":\"\",\"zerolinecolor\":\"white\"},\"zaxis\":{\"backgroundcolor\":\"#E5ECF6\",\"gridcolor\":\"white\",\"gridwidth\":2,\"linecolor\":\"white\",\"showbackground\":true,\"ticks\":\"\",\"zerolinecolor\":\"white\"}},\"shapedefaults\":{\"line\":{\"color\":\"#2a3f5f\"}},\"ternary\":{\"aaxis\":{\"gridcolor\":\"white\",\"linecolor\":\"white\",\"ticks\":\"\"},\"baxis\":{\"gridcolor\":\"white\",\"linecolor\":\"white\",\"ticks\":\"\"},\"bgcolor\":\"#E5ECF6\",\"caxis\":{\"gridcolor\":\"white\",\"linecolor\":\"white\",\"ticks\":\"\"}},\"title\":{\"x\":0.05},\"xaxis\":{\"automargin\":true,\"gridcolor\":\"white\",\"linecolor\":\"white\",\"ticks\":\"\",\"title\":{\"standoff\":15},\"zerolinecolor\":\"white\",\"zerolinewidth\":2},\"yaxis\":{\"automargin\":true,\"gridcolor\":\"white\",\"linecolor\":\"white\",\"ticks\":\"\",\"title\":{\"standoff\":15},\"zerolinecolor\":\"white\",\"zerolinewidth\":2}}},\"font\":{\"family\":\"Courier New, monospace\",\"size\":18,\"color\":\"RebeccaPurple\"},\"title\":{\"text\":\"Average Amount of Snowfall\"},\"xaxis\":{\"title\":{\"text\":\"Month\"}},\"yaxis\":{\"title\":{\"text\":\"Snowfall in cm\"}},\"legend\":{\"title\":{\"text\":\"City\"}}},                        {\"responsive\": true}                    ).then(function(){\n                            \nvar gd = document.getElementById('d993d27e-ea36-4c08-ae90-87918dbad00f');\nvar x = new MutationObserver(function (mutations, observer) {{\n        var display = window.getComputedStyle(gd).display;\n        if (!display || display === 'none') {{\n            console.log([gd, 'removed!']);\n            Plotly.purge(gd);\n            observer.disconnect();\n        }}\n}});\n\n// Listen for the removal of the full notebook cells\nvar notebookContainer = gd.closest('#notebook-container');\nif (notebookContainer) {{\n    x.observe(notebookContainer, {childList: true});\n}}\n\n// Listen for the clearing of the current output cell\nvar outputEl = gd.closest('.output');\nif (outputEl) {{\n    x.observe(outputEl, {childList: true});\n}}\n\n                        })                };                            </script>        </div>\n</body>\n</html>"
     },
     "metadata": {},
     "output_type": "display_data"
    }
   ]
  },
  {
   "cell_type": "code",
   "metadata": {
    "cell_id": "dfedf369-cf04-4189-ba86-1dc1ebd5d42d",
    "tags": [],
    "deepnote_to_be_reexecuted": false,
    "source_hash": "e5aca38e",
    "execution_start": 1644143286927,
    "execution_millis": 428,
    "deepnote_output_heights": [
     611
    ],
    "deepnote_app_coordinates": {
     "x": 0,
     "y": 102,
     "w": 24,
     "h": 26
    },
    "deepnote_app_is_code_hidden": true,
    "deepnote_cell_type": "code"
   },
   "source": "#average wind chill\nfrom plotly.subplots import make_subplots \nimport plotly\nfig = make_subplots(rows=2,cols=1,shared_xaxes=True)\n\ncols = plotly.colors.DEFAULT_PLOTLY_COLORS\n\ni=0\nfor city in cities:\n    fig.append_trace(go.Scatter(x=df_agg.loc[city].index.get_level_values(0), \n    y=df_agg.loc[city][\"WIND_CHILL\"]/df_agg.loc[city][\" UPM\"],\n                    mode='lines',\n                    name=city,\n                    line=dict(width=2, color=cols[i]),\n                    ), row = 1, col=1)\n    fig.append_trace(go.Scatter(x=df_agg.loc[city].index.get_level_values(0), y=df_agg.loc[city][\"WIND_CHILL\"],\n                    mode='lines',name=city,showlegend=False,\n                    line=dict(width=2, color=cols[i])\n                    ), row=2,col=1)\n    i+=1\nfig.update_layout(\n    title=\"Comparison of Wind-Chill to Extended Wind-Chill\",\n    xaxis_title=\"Month\",\n    legend_title=\"City\",\n    font=dict(\n        family=\"Courier New, monospace\",\n        size=18,\n        color=\"RebeccaPurple\"\n    ),\n    height = 700\n)\nfig.update_yaxes(title_text=\" Extended Wind-Chill\", row=1, col=1)\nfig.update_yaxes(title_text=\" Wind-Chill\", row=2, col=1)\n\n\nfig.show()",
   "execution_count": null,
   "outputs": [
    {
     "data": {
      "text/html": "<html>\n<head><meta charset=\"utf-8\" /></head>\n<body>\n    <div>            <script src=\"https://cdnjs.cloudflare.com/ajax/libs/mathjax/2.7.5/MathJax.js?config=TeX-AMS-MML_SVG\"></script><script type=\"text/javascript\">if (window.MathJax) {MathJax.Hub.Config({SVG: {font: \"STIX-Web\"}});}</script>                <script type=\"text/javascript\">window.PlotlyConfig = {MathJaxConfig: 'local'};</script>\n        <script src=\"https://cdn.plot.ly/plotly-2.6.3.min.js\"></script>                <div id=\"5719ca28-c164-442e-b1a6-b560b1169d4a\" class=\"plotly-graph-div\" style=\"height:700px; width:100%;\"></div>            <script type=\"text/javascript\">                                    window.PLOTLYENV=window.PLOTLYENV || {};                                    if (document.getElementById(\"5719ca28-c164-442e-b1a6-b560b1169d4a\")) {                    Plotly.newPlot(                        \"5719ca28-c164-442e-b1a6-b560b1169d4a\",                        [{\"line\":{\"color\":\"rgb(31, 119, 180)\",\"width\":2},\"mode\":\"lines\",\"name\":\"M\\u00fcnchen\",\"x\":[\"January\",\"February\",\"March\",\"April\",\"May\",\"June\",\"July\",\"August\",\"September\",\"October\",\"November\",\"December\"],\"y\":[-0.0308034551666235,-0.028617568261834744,0.032327982105548374,0.11697285132170517,0.16838552762171066,0.237025119806433,0.2786100670756491,0.25650703532776076,0.16814391906641196,0.09777931906323314,0.027911569682707468,-0.012330946560122881],\"type\":\"scatter\",\"xaxis\":\"x\",\"yaxis\":\"y\"},{\"line\":{\"color\":\"rgb(31, 119, 180)\",\"width\":2},\"mode\":\"lines\",\"name\":\"M\\u00fcnchen\",\"showlegend\":false,\"x\":[\"January\",\"February\",\"March\",\"April\",\"May\",\"June\",\"July\",\"August\",\"September\",\"October\",\"November\",\"December\"],\"y\":[-2.6688588304954766,-2.333544973782321,2.424062175632442,8.103718843438156,12.48821307322525,17.541816517591492,19.82394509844083,19.18361873793081,13.661463004701332,8.402870804851814,2.4698410456071014,-1.0775505934069027],\"type\":\"scatter\",\"xaxis\":\"x2\",\"yaxis\":\"y2\"},{\"line\":{\"color\":\"rgb(255, 127, 14)\",\"width\":2},\"mode\":\"lines\",\"name\":\"K\\u00f6ln\",\"x\":[\"January\",\"February\",\"March\",\"April\",\"May\",\"June\",\"July\",\"August\",\"September\",\"October\",\"November\",\"December\"],\"y\":[0.0074267143105981905,0.00907576566871083,0.06188778875588695,0.14040306280340606,0.19667902618996153,0.25395080217931476,0.28852320848881485,0.27461474998211693,0.1932093878125126,0.12582184266379437,0.059446843959723134,0.03220026631286051],\"type\":\"scatter\",\"xaxis\":\"x\",\"yaxis\":\"y\"},{\"line\":{\"color\":\"rgb(255, 127, 14)\",\"width\":2},\"mode\":\"lines\",\"name\":\"K\\u00f6ln\",\"showlegend\":false,\"x\":[\"January\",\"February\",\"March\",\"April\",\"May\",\"June\",\"July\",\"August\",\"September\",\"October\",\"November\",\"December\"],\"y\":[0.6220844830367337,0.6996066422659016,4.436784376316439,9.239093544942207,13.489283881944484,17.90486714674945,20.049839704565056,19.615416620900046,14.797391787526173,10.367223763715545,5.016311840793169,2.7196656543322466],\"type\":\"scatter\",\"xaxis\":\"x2\",\"yaxis\":\"y2\"},{\"line\":{\"color\":\"rgb(44, 160, 44)\",\"width\":2},\"mode\":\"lines\",\"name\":\"D\\u00fcsseldorf\",\"x\":[\"January\",\"February\",\"March\",\"April\",\"May\",\"June\",\"July\",\"August\",\"September\",\"October\",\"November\",\"December\"],\"y\":[0.005700082598925285,0.005470406058972244,0.06025699488213958,0.13484996949512207,0.19756562771215053,0.26054924617016273,0.30082440782351433,0.28773289148688974,0.19998685420002746,0.12922288037008245,0.05883432001674222,0.028740988269480187],\"type\":\"scatter\",\"xaxis\":\"x\",\"yaxis\":\"y\"},{\"line\":{\"color\":\"rgb(44, 160, 44)\",\"width\":2},\"mode\":\"lines\",\"name\":\"D\\u00fcsseldorf\",\"showlegend\":false,\"x\":[\"January\",\"February\",\"March\",\"April\",\"May\",\"June\",\"July\",\"August\",\"September\",\"October\",\"November\",\"December\"],\"y\":[0.4753738132920778,0.4232641950467291,4.339777883377148,9.027556180067519,13.452278996946795,17.777458415659726,20.238484974813648,19.813998505260816,14.99951032867729,10.457822442572473,4.947968492456913,2.443990452566723],\"type\":\"scatter\",\"xaxis\":\"x2\",\"yaxis\":\"y2\"},{\"line\":{\"color\":\"rgb(214, 39, 40)\",\"width\":2},\"mode\":\"lines\",\"name\":\"Frankfurt\",\"x\":[\"January\",\"February\",\"March\",\"April\",\"May\",\"June\",\"July\",\"August\",\"September\",\"October\",\"November\",\"December\"],\"y\":[0.0007454774417240749,0.0021003253917513975,0.06776580011917223,0.16175429726677906,0.21838707367766447,0.2957129135184721,0.36164657081221974,0.32300907790639344,0.2207507767400052,0.12383936704430999,0.053462356288469584,0.021545290039643544],\"type\":\"scatter\",\"xaxis\":\"x\",\"yaxis\":\"y\"},{\"line\":{\"color\":\"rgb(214, 39, 40)\",\"width\":2},\"mode\":\"lines\",\"name\":\"Frankfurt\",\"showlegend\":false,\"x\":[\"January\",\"February\",\"March\",\"April\",\"May\",\"June\",\"July\",\"August\",\"September\",\"October\",\"November\",\"December\"],\"y\":[0.06206503168638588,0.15947194139656912,4.682213593868502,10.029269666131796,14.381602861016946,19.26359346834342,21.98618013122341,21.099381332138886,15.772307783930922,10.21600652042811,4.578482531060948,1.8646004454316003],\"type\":\"scatter\",\"xaxis\":\"x2\",\"yaxis\":\"y2\"},{\"line\":{\"color\":\"rgb(148, 103, 189)\",\"width\":2},\"mode\":\"lines\",\"name\":\"Hannover\",\"x\":[\"January\",\"February\",\"March\",\"April\",\"May\",\"June\",\"July\",\"August\",\"September\",\"October\",\"November\",\"December\"],\"y\":[-0.01461935391479022,-0.008509730461167415,0.03299185254675393,0.11298147723281976,0.17984705052589767,0.2409637460571936,0.27124398328168925,0.2716011275112233,0.184810330810821,0.11427581087833183,0.04685830826247882,0.02017167404659042],\"type\":\"scatter\",\"xaxis\":\"x\",\"yaxis\":\"y\"},{\"line\":{\"color\":\"rgb(148, 103, 189)\",\"width\":2},\"mode\":\"lines\",\"name\":\"Hannover\",\"showlegend\":false,\"x\":[\"January\",\"February\",\"March\",\"April\",\"May\",\"June\",\"July\",\"August\",\"September\",\"October\",\"November\",\"December\"],\"y\":[-1.2611052920194643,-0.684432281552975,2.5055632854040377,7.868389941421047,12.594141027206947,17.02173256897927,19.214282123241297,19.188619658667918,14.419059440882792,9.573908654077853,4.059309212385061,1.7272397166876778],\"type\":\"scatter\",\"xaxis\":\"x2\",\"yaxis\":\"y2\"},{\"line\":{\"color\":\"rgb(140, 86, 75)\",\"width\":2},\"mode\":\"lines\",\"name\":\"Leipzig\",\"x\":[\"January\",\"February\",\"March\",\"April\",\"May\",\"June\",\"July\",\"August\",\"September\",\"October\",\"November\",\"December\"],\"y\":[-0.03158767479366166,-0.02453741440965746,0.025726248879742362,0.11955398324829652,0.19172194300691317,0.27002808433522485,0.3223915241147681,0.3142436410857504,0.20465082820059322,0.11078852653794201,0.03500129954577399,-0.0005406573045344228],\"type\":\"scatter\",\"xaxis\":\"x\",\"yaxis\":\"y\"},{\"line\":{\"color\":\"rgb(140, 86, 75)\",\"width\":2},\"mode\":\"lines\",\"name\":\"Leipzig\",\"showlegend\":false,\"x\":[\"January\",\"February\",\"March\",\"April\",\"May\",\"June\",\"July\",\"August\",\"September\",\"October\",\"November\",\"December\"],\"y\":[-2.707893613889342,-1.961499738374019,1.9338052447792935,8.068556635817757,13.134217498751802,18.18721156527054,20.58587745040748,20.445896452823707,14.897413025316412,9.106840706908411,3.0340020923931963,-0.045904072427539924],\"type\":\"scatter\",\"xaxis\":\"x2\",\"yaxis\":\"y2\"}],                        {\"template\":{\"data\":{\"bar\":[{\"error_x\":{\"color\":\"#2a3f5f\"},\"error_y\":{\"color\":\"#2a3f5f\"},\"marker\":{\"line\":{\"color\":\"#E5ECF6\",\"width\":0.5},\"pattern\":{\"fillmode\":\"overlay\",\"size\":10,\"solidity\":0.2}},\"type\":\"bar\"}],\"barpolar\":[{\"marker\":{\"line\":{\"color\":\"#E5ECF6\",\"width\":0.5},\"pattern\":{\"fillmode\":\"overlay\",\"size\":10,\"solidity\":0.2}},\"type\":\"barpolar\"}],\"carpet\":[{\"aaxis\":{\"endlinecolor\":\"#2a3f5f\",\"gridcolor\":\"white\",\"linecolor\":\"white\",\"minorgridcolor\":\"white\",\"startlinecolor\":\"#2a3f5f\"},\"baxis\":{\"endlinecolor\":\"#2a3f5f\",\"gridcolor\":\"white\",\"linecolor\":\"white\",\"minorgridcolor\":\"white\",\"startlinecolor\":\"#2a3f5f\"},\"type\":\"carpet\"}],\"choropleth\":[{\"colorbar\":{\"outlinewidth\":0,\"ticks\":\"\"},\"type\":\"choropleth\"}],\"contour\":[{\"colorbar\":{\"outlinewidth\":0,\"ticks\":\"\"},\"colorscale\":[[0.0,\"#0d0887\"],[0.1111111111111111,\"#46039f\"],[0.2222222222222222,\"#7201a8\"],[0.3333333333333333,\"#9c179e\"],[0.4444444444444444,\"#bd3786\"],[0.5555555555555556,\"#d8576b\"],[0.6666666666666666,\"#ed7953\"],[0.7777777777777778,\"#fb9f3a\"],[0.8888888888888888,\"#fdca26\"],[1.0,\"#f0f921\"]],\"type\":\"contour\"}],\"contourcarpet\":[{\"colorbar\":{\"outlinewidth\":0,\"ticks\":\"\"},\"type\":\"contourcarpet\"}],\"heatmap\":[{\"colorbar\":{\"outlinewidth\":0,\"ticks\":\"\"},\"colorscale\":[[0.0,\"#0d0887\"],[0.1111111111111111,\"#46039f\"],[0.2222222222222222,\"#7201a8\"],[0.3333333333333333,\"#9c179e\"],[0.4444444444444444,\"#bd3786\"],[0.5555555555555556,\"#d8576b\"],[0.6666666666666666,\"#ed7953\"],[0.7777777777777778,\"#fb9f3a\"],[0.8888888888888888,\"#fdca26\"],[1.0,\"#f0f921\"]],\"type\":\"heatmap\"}],\"heatmapgl\":[{\"colorbar\":{\"outlinewidth\":0,\"ticks\":\"\"},\"colorscale\":[[0.0,\"#0d0887\"],[0.1111111111111111,\"#46039f\"],[0.2222222222222222,\"#7201a8\"],[0.3333333333333333,\"#9c179e\"],[0.4444444444444444,\"#bd3786\"],[0.5555555555555556,\"#d8576b\"],[0.6666666666666666,\"#ed7953\"],[0.7777777777777778,\"#fb9f3a\"],[0.8888888888888888,\"#fdca26\"],[1.0,\"#f0f921\"]],\"type\":\"heatmapgl\"}],\"histogram\":[{\"marker\":{\"pattern\":{\"fillmode\":\"overlay\",\"size\":10,\"solidity\":0.2}},\"type\":\"histogram\"}],\"histogram2d\":[{\"colorbar\":{\"outlinewidth\":0,\"ticks\":\"\"},\"colorscale\":[[0.0,\"#0d0887\"],[0.1111111111111111,\"#46039f\"],[0.2222222222222222,\"#7201a8\"],[0.3333333333333333,\"#9c179e\"],[0.4444444444444444,\"#bd3786\"],[0.5555555555555556,\"#d8576b\"],[0.6666666666666666,\"#ed7953\"],[0.7777777777777778,\"#fb9f3a\"],[0.8888888888888888,\"#fdca26\"],[1.0,\"#f0f921\"]],\"type\":\"histogram2d\"}],\"histogram2dcontour\":[{\"colorbar\":{\"outlinewidth\":0,\"ticks\":\"\"},\"colorscale\":[[0.0,\"#0d0887\"],[0.1111111111111111,\"#46039f\"],[0.2222222222222222,\"#7201a8\"],[0.3333333333333333,\"#9c179e\"],[0.4444444444444444,\"#bd3786\"],[0.5555555555555556,\"#d8576b\"],[0.6666666666666666,\"#ed7953\"],[0.7777777777777778,\"#fb9f3a\"],[0.8888888888888888,\"#fdca26\"],[1.0,\"#f0f921\"]],\"type\":\"histogram2dcontour\"}],\"mesh3d\":[{\"colorbar\":{\"outlinewidth\":0,\"ticks\":\"\"},\"type\":\"mesh3d\"}],\"parcoords\":[{\"line\":{\"colorbar\":{\"outlinewidth\":0,\"ticks\":\"\"}},\"type\":\"parcoords\"}],\"pie\":[{\"automargin\":true,\"type\":\"pie\"}],\"scatter\":[{\"marker\":{\"colorbar\":{\"outlinewidth\":0,\"ticks\":\"\"}},\"type\":\"scatter\"}],\"scatter3d\":[{\"line\":{\"colorbar\":{\"outlinewidth\":0,\"ticks\":\"\"}},\"marker\":{\"colorbar\":{\"outlinewidth\":0,\"ticks\":\"\"}},\"type\":\"scatter3d\"}],\"scattercarpet\":[{\"marker\":{\"colorbar\":{\"outlinewidth\":0,\"ticks\":\"\"}},\"type\":\"scattercarpet\"}],\"scattergeo\":[{\"marker\":{\"colorbar\":{\"outlinewidth\":0,\"ticks\":\"\"}},\"type\":\"scattergeo\"}],\"scattergl\":[{\"marker\":{\"colorbar\":{\"outlinewidth\":0,\"ticks\":\"\"}},\"type\":\"scattergl\"}],\"scattermapbox\":[{\"marker\":{\"colorbar\":{\"outlinewidth\":0,\"ticks\":\"\"}},\"type\":\"scattermapbox\"}],\"scatterpolar\":[{\"marker\":{\"colorbar\":{\"outlinewidth\":0,\"ticks\":\"\"}},\"type\":\"scatterpolar\"}],\"scatterpolargl\":[{\"marker\":{\"colorbar\":{\"outlinewidth\":0,\"ticks\":\"\"}},\"type\":\"scatterpolargl\"}],\"scatterternary\":[{\"marker\":{\"colorbar\":{\"outlinewidth\":0,\"ticks\":\"\"}},\"type\":\"scatterternary\"}],\"surface\":[{\"colorbar\":{\"outlinewidth\":0,\"ticks\":\"\"},\"colorscale\":[[0.0,\"#0d0887\"],[0.1111111111111111,\"#46039f\"],[0.2222222222222222,\"#7201a8\"],[0.3333333333333333,\"#9c179e\"],[0.4444444444444444,\"#bd3786\"],[0.5555555555555556,\"#d8576b\"],[0.6666666666666666,\"#ed7953\"],[0.7777777777777778,\"#fb9f3a\"],[0.8888888888888888,\"#fdca26\"],[1.0,\"#f0f921\"]],\"type\":\"surface\"}],\"table\":[{\"cells\":{\"fill\":{\"color\":\"#EBF0F8\"},\"line\":{\"color\":\"white\"}},\"header\":{\"fill\":{\"color\":\"#C8D4E3\"},\"line\":{\"color\":\"white\"}},\"type\":\"table\"}]},\"layout\":{\"annotationdefaults\":{\"arrowcolor\":\"#2a3f5f\",\"arrowhead\":0,\"arrowwidth\":1},\"autotypenumbers\":\"strict\",\"coloraxis\":{\"colorbar\":{\"outlinewidth\":0,\"ticks\":\"\"}},\"colorscale\":{\"diverging\":[[0,\"#8e0152\"],[0.1,\"#c51b7d\"],[0.2,\"#de77ae\"],[0.3,\"#f1b6da\"],[0.4,\"#fde0ef\"],[0.5,\"#f7f7f7\"],[0.6,\"#e6f5d0\"],[0.7,\"#b8e186\"],[0.8,\"#7fbc41\"],[0.9,\"#4d9221\"],[1,\"#276419\"]],\"sequential\":[[0.0,\"#0d0887\"],[0.1111111111111111,\"#46039f\"],[0.2222222222222222,\"#7201a8\"],[0.3333333333333333,\"#9c179e\"],[0.4444444444444444,\"#bd3786\"],[0.5555555555555556,\"#d8576b\"],[0.6666666666666666,\"#ed7953\"],[0.7777777777777778,\"#fb9f3a\"],[0.8888888888888888,\"#fdca26\"],[1.0,\"#f0f921\"]],\"sequentialminus\":[[0.0,\"#0d0887\"],[0.1111111111111111,\"#46039f\"],[0.2222222222222222,\"#7201a8\"],[0.3333333333333333,\"#9c179e\"],[0.4444444444444444,\"#bd3786\"],[0.5555555555555556,\"#d8576b\"],[0.6666666666666666,\"#ed7953\"],[0.7777777777777778,\"#fb9f3a\"],[0.8888888888888888,\"#fdca26\"],[1.0,\"#f0f921\"]]},\"colorway\":[\"#636efa\",\"#EF553B\",\"#00cc96\",\"#ab63fa\",\"#FFA15A\",\"#19d3f3\",\"#FF6692\",\"#B6E880\",\"#FF97FF\",\"#FECB52\"],\"font\":{\"color\":\"#2a3f5f\"},\"geo\":{\"bgcolor\":\"white\",\"lakecolor\":\"white\",\"landcolor\":\"#E5ECF6\",\"showlakes\":true,\"showland\":true,\"subunitcolor\":\"white\"},\"hoverlabel\":{\"align\":\"left\"},\"hovermode\":\"closest\",\"mapbox\":{\"style\":\"light\"},\"paper_bgcolor\":\"white\",\"plot_bgcolor\":\"#E5ECF6\",\"polar\":{\"angularaxis\":{\"gridcolor\":\"white\",\"linecolor\":\"white\",\"ticks\":\"\"},\"bgcolor\":\"#E5ECF6\",\"radialaxis\":{\"gridcolor\":\"white\",\"linecolor\":\"white\",\"ticks\":\"\"}},\"scene\":{\"xaxis\":{\"backgroundcolor\":\"#E5ECF6\",\"gridcolor\":\"white\",\"gridwidth\":2,\"linecolor\":\"white\",\"showbackground\":true,\"ticks\":\"\",\"zerolinecolor\":\"white\"},\"yaxis\":{\"backgroundcolor\":\"#E5ECF6\",\"gridcolor\":\"white\",\"gridwidth\":2,\"linecolor\":\"white\",\"showbackground\":true,\"ticks\":\"\",\"zerolinecolor\":\"white\"},\"zaxis\":{\"backgroundcolor\":\"#E5ECF6\",\"gridcolor\":\"white\",\"gridwidth\":2,\"linecolor\":\"white\",\"showbackground\":true,\"ticks\":\"\",\"zerolinecolor\":\"white\"}},\"shapedefaults\":{\"line\":{\"color\":\"#2a3f5f\"}},\"ternary\":{\"aaxis\":{\"gridcolor\":\"white\",\"linecolor\":\"white\",\"ticks\":\"\"},\"baxis\":{\"gridcolor\":\"white\",\"linecolor\":\"white\",\"ticks\":\"\"},\"bgcolor\":\"#E5ECF6\",\"caxis\":{\"gridcolor\":\"white\",\"linecolor\":\"white\",\"ticks\":\"\"}},\"title\":{\"x\":0.05},\"xaxis\":{\"automargin\":true,\"gridcolor\":\"white\",\"linecolor\":\"white\",\"ticks\":\"\",\"title\":{\"standoff\":15},\"zerolinecolor\":\"white\",\"zerolinewidth\":2},\"yaxis\":{\"automargin\":true,\"gridcolor\":\"white\",\"linecolor\":\"white\",\"ticks\":\"\",\"title\":{\"standoff\":15},\"zerolinecolor\":\"white\",\"zerolinewidth\":2}}},\"xaxis\":{\"anchor\":\"y\",\"domain\":[0.0,1.0],\"matches\":\"x2\",\"showticklabels\":false,\"title\":{\"text\":\"Month\"}},\"yaxis\":{\"anchor\":\"x\",\"domain\":[0.575,1.0],\"title\":{\"text\":\" Extended Wind-Chill\"}},\"xaxis2\":{\"anchor\":\"y2\",\"domain\":[0.0,1.0]},\"yaxis2\":{\"anchor\":\"x2\",\"domain\":[0.0,0.425],\"title\":{\"text\":\" Wind-Chill\"}},\"font\":{\"family\":\"Courier New, monospace\",\"size\":18,\"color\":\"RebeccaPurple\"},\"title\":{\"text\":\"Comparison of Wind-Chill to Extended Wind-Chill\"},\"legend\":{\"title\":{\"text\":\"City\"}},\"height\":700},                        {\"responsive\": true}                    ).then(function(){\n                            \nvar gd = document.getElementById('5719ca28-c164-442e-b1a6-b560b1169d4a');\nvar x = new MutationObserver(function (mutations, observer) {{\n        var display = window.getComputedStyle(gd).display;\n        if (!display || display === 'none') {{\n            console.log([gd, 'removed!']);\n            Plotly.purge(gd);\n            observer.disconnect();\n        }}\n}});\n\n// Listen for the removal of the full notebook cells\nvar notebookContainer = gd.closest('#notebook-container');\nif (notebookContainer) {{\n    x.observe(notebookContainer, {childList: true});\n}}\n\n// Listen for the clearing of the current output cell\nvar outputEl = gd.closest('.output');\nif (outputEl) {{\n    x.observe(outputEl, {childList: true});\n}}\n\n                        })                };                            </script>        </div>\n</body>\n</html>"
     },
     "metadata": {},
     "output_type": "display_data"
    }
   ]
  },
  {
   "cell_type": "markdown",
   "source": "## Towards an Apparent Temperature\nAn interesting extension would be to design a heuristic which ranked the cities according to the overall 'chilly-mortal friendliness'. But this seems to involve an actual study conducted among people and would probably also need more data, especially labelled data. And also: Every individuial has different preferences and needs, hence the heuristic would definitely look different from one person to another.\nTo keep things simple, I decided to extend the notion of wind-chill by factoring in the relative humiditiy. As you can see the overall difference in city ranking is not very different to the one resulting from wind-chill.",
   "metadata": {
    "cell_id": "36a644e3-abfe-48c6-a999-c14750bfeb34",
    "tags": [],
    "deepnote_app_coordinates": {
     "x": 0,
     "y": 92,
     "w": 18,
     "h": 9
    },
    "deepnote_cell_type": "markdown"
   }
  },
  {
   "cell_type": "markdown",
   "source": "## Time Series Analysis \nMost will know the myth that there once was a time when it snowed way more than today. So I got curious: Does that assumption actually hold for the last 30 years? I looked at the amount of snowfall for Leipzig and Munich of the last 30 years. And as it turns out, the trend has been steadily low in the last 8 years, meaning less snow for us :( ",
   "metadata": {
    "cell_id": "686780b0-6d8a-411d-a821-e607a545808c",
    "tags": [],
    "deepnote_app_coordinates": {
     "x": 0,
     "y": 129,
     "w": 16,
     "h": 7
    },
    "deepnote_cell_type": "markdown"
   }
  },
  {
   "cell_type": "code",
   "metadata": {
    "cell_id": "a08d9532-47ed-4f4f-afaf-75db0925e329",
    "tags": [],
    "deepnote_to_be_reexecuted": false,
    "source_hash": "7c7f4ac2",
    "execution_start": 1644144607407,
    "execution_millis": 4,
    "deepnote_cell_type": "code"
   },
   "source": "plt.style.use('fivethirtyeight')",
   "execution_count": null,
   "outputs": []
  },
  {
   "cell_type": "code",
   "metadata": {
    "cell_id": "34be4d7e-932f-4f32-9d4e-63c2e82d3de3",
    "tags": [],
    "deepnote_to_be_reexecuted": false,
    "source_hash": "f60b7e95",
    "execution_start": 1644144607415,
    "execution_millis": 80,
    "deepnote_output_heights": [
     107
    ],
    "deepnote_cell_type": "code"
   },
   "source": "leipzig = df_full[df_full[\"STATIONS_NAME\"]==\"Leipzig\"].groupby(\"MESS_DATUM\")[\"SHK_TAG\"].sum().reset_index()\nleipzig = leipzig.set_index(\"MESS_DATUM\")\ny = leipzig.loc[\"1975\":][\"SHK_TAG\"].resample(\"MS\").mean()\n\nmunx = df_full[df_full[\"STATIONS_NAME\"]==\"München\"].groupby(\"MESS_DATUM\")[\"SHK_TAG\"].sum().reset_index()\nmunx = munx.set_index(\"MESS_DATUM\")\nx = munx.loc[\"1975\":][\"SHK_TAG\"].resample(\"MS\").mean()",
   "execution_count": null,
   "outputs": []
  },
  {
   "cell_type": "code",
   "metadata": {
    "cell_id": "62f55b79-4339-46b3-8f8a-99133f4ff175",
    "tags": [],
    "deepnote_to_be_reexecuted": false,
    "source_hash": "bde439c",
    "execution_start": 1644144607499,
    "execution_millis": 460,
    "deepnote_output_heights": [
     106
    ],
    "deepnote_cell_type": "code"
   },
   "source": "fig, axes = plt.subplots(1,1)\ny.plot(figsize=(15,6),ax=axes)\naxes.set_xlabel(\"Year\")\naxes.set_title(\"Average Snowfall over the Years\")\nplt.show()",
   "execution_count": null,
   "outputs": [
    {
     "data": {
      "text/plain": "<Figure size 1080x432 with 1 Axes>",
      "image/png": "[encoded data removed]"
     },
     "metadata": {
      "image/png": {
       "width": 975,
       "height": 424
      }
     },
     "output_type": "display_data"
    }
   ]
  },
  {
   "cell_type": "code",
   "metadata": {
    "cell_id": "92f0b58c-fae9-41ef-bdc8-81b6c0c75ce9",
    "tags": [],
    "deepnote_to_be_reexecuted": false,
    "source_hash": "2ade6f62",
    "execution_start": 1644144607974,
    "execution_millis": 1,
    "deepnote_cell_type": "code"
   },
   "source": "import statsmodels.api as sm",
   "execution_count": null,
   "outputs": []
  },
  {
   "cell_type": "code",
   "metadata": {
    "cell_id": "807b23e3-a6c4-4545-a751-10565e9975e6",
    "tags": [],
    "deepnote_to_be_reexecuted": false,
    "source_hash": "ea530341",
    "execution_start": 1644144607985,
    "execution_millis": 674,
    "deepnote_output_heights": [
     111
    ],
    "deepnote_app_coordinates": {
     "x": 0,
     "y": 137,
     "w": 12,
     "h": 12
    },
    "deepnote_app_is_code_hidden": true,
    "deepnote_cell_type": "code"
   },
   "source": "from pylab import rcParams\nrcParams['figure.figsize'] = 18, 8\ny = y[\"1992\":]\ndecomposition = sm.tsa.seasonal_decompose(y, model='additive')\nfig, ax = plt.subplots(2,1)\ndecomposition.observed.plot(ax=ax[0],legend=False)\nax[0].set_title(\"Evolution of Snowfall for Leipzig\")\nax[0].set_ylabel(\"Observed Snowfall\")\nax[0].set_xlabel(\"Years\")\ndecomposition.trend.plot(ax=ax[1],legend=False)\nax[1].set_ylabel(\"Trend\")\nax[1].set_xlabel(\"Years\")\nplt.show()\n",
   "execution_count": null,
   "outputs": [
    {
     "data": {
      "text/plain": "<Figure size 1296x576 with 2 Axes>",
      "image/png": "[encoded data removed]"
     },
     "metadata": {
      "image/png": {
       "width": 1189,
       "height": 541
      }
     },
     "output_type": "display_data"
    }
   ]
  },
  {
   "cell_type": "code",
   "metadata": {
    "cell_id": "ceb0d295-71dc-44a9-8367-83e65a25385a",
    "tags": [],
    "deepnote_to_be_reexecuted": false,
    "source_hash": "b5bdf29a",
    "execution_start": 1644144608671,
    "execution_millis": 677,
    "deepnote_output_heights": [
     111
    ],
    "deepnote_app_coordinates": {
     "x": 12,
     "y": 137,
     "w": 12,
     "h": 12
    },
    "deepnote_app_is_code_hidden": true,
    "deepnote_cell_type": "code"
   },
   "source": "decomposition = sm.tsa.seasonal_decompose(x, model='additive')\nfig, ax = plt.subplots(2,1)\ndecomposition.observed.plot(ax=ax[0],legend=False)\nax[0].set_title(\"Evolution of Snowfall for Munich\")\nax[0].set_ylabel(\"Observed Snowfall\")\nax[0].set_xlabel(\"Years\")\ndecomposition.trend.plot(ax=ax[1],legend=False)\nax[1].set_ylabel(\"Trend\")\nax[1].set_xlabel(\"Years\")\nplt.show()",
   "execution_count": null,
   "outputs": [
    {
     "data": {
      "text/plain": "<Figure size 1296x576 with 2 Axes>",
      "image/png": "[encoded data removed]"
     },
     "metadata": {
      "image/png": {
       "width": 1189,
       "height": 541
      }
     },
     "output_type": "display_data"
    }
   ]
  },
  {
   "cell_type": "markdown",
   "source": "<a style='text-decoration:none;line-height:16px;display:flex;color:#5B5B62;padding:10px;justify-content:end;' href='https://deepnote.com?utm_source=created-in-deepnote-cell&projectId=f92120ac-322a-482c-b7bc-b6682c50d559' target=\"_blank\">\n<img alt='Created in deepnote.com' style='display:inline;max-height:16px;margin:0px;margin-right:7.5px;' src='data:image/svg+xml;base64,PD94bWwgdmVyc2lvbj0iMS4wIiBlbmNvZGluZz0iVVRGLTgiPz4KPHN2ZyB3aWR0aD0iODBweCIgaGVpZ2h0PSI4MHB4IiB2aWV3Qm94PSIwIDAgODAgODAiIHZlcnNpb249IjEuMSIgeG1sbnM9Imh0dHA6Ly93d3cudzMub3JnLzIwMDAvc3ZnIiB4bWxuczp4bGluaz0iaHR0cDovL3d3dy53My5vcmcvMTk5OS94bGluayI+CiAgICA8IS0tIEdlbmVyYXRvcjogU2tldGNoIDU0LjEgKDc2NDkwKSAtIGh0dHBzOi8vc2tldGNoYXBwLmNvbSAtLT4KICAgIDx0aXRsZT5Hcm91cCAzPC90aXRsZT4KICAgIDxkZXNjPkNyZWF0ZWQgd2l0aCBTa2V0Y2guPC9kZXNjPgogICAgPGcgaWQ9IkxhbmRpbmciIHN0cm9rZT0ibm9uZSIgc3Ryb2tlLXdpZHRoPSIxIiBmaWxsPSJub25lIiBmaWxsLXJ1bGU9ImV2ZW5vZGQiPgogICAgICAgIDxnIGlkPSJBcnRib2FyZCIgdHJhbnNmb3JtPSJ0cmFuc2xhdGUoLTEyMzUuMDAwMDAwLCAtNzkuMDAwMDAwKSI+CiAgICAgICAgICAgIDxnIGlkPSJHcm91cC0zIiB0cmFuc2Zvcm09InRyYW5zbGF0ZSgxMjM1LjAwMDAwMCwgNzkuMDAwMDAwKSI+CiAgICAgICAgICAgICAgICA8cG9seWdvbiBpZD0iUGF0aC0yMCIgZmlsbD0iIzAyNjVCNCIgcG9pbnRzPSIyLjM3NjIzNzYyIDgwIDM4LjA0NzY2NjcgODAgNTcuODIxNzgyMiA3My44MDU3NTkyIDU3LjgyMTc4MjIgMzIuNzU5MjczOSAzOS4xNDAyMjc4IDMxLjY4MzE2ODMiPjwvcG9seWdvbj4KICAgICAgICAgICAgICAgIDxwYXRoIGQ9Ik0zNS4wMDc3MTgsODAgQzQyLjkwNjIwMDcsNzYuNDU0OTM1OCA0Ny41NjQ5MTY3LDcxLjU0MjI2NzEgNDguOTgzODY2LDY1LjI2MTk5MzkgQzUxLjExMjI4OTksNTUuODQxNTg0MiA0MS42NzcxNzk1LDQ5LjIxMjIyODQgMjUuNjIzOTg0Niw0OS4yMTIyMjg0IEMyNS40ODQ5Mjg5LDQ5LjEyNjg0NDggMjkuODI2MTI5Niw0My4yODM4MjQ4IDM4LjY0NzU4NjksMzEuNjgzMTY4MyBMNzIuODcxMjg3MSwzMi41NTQ0MjUgTDY1LjI4MDk3Myw2Ny42NzYzNDIxIEw1MS4xMTIyODk5LDc3LjM3NjE0NCBMMzUuMDA3NzE4LDgwIFoiIGlkPSJQYXRoLTIyIiBmaWxsPSIjMDAyODY4Ij48L3BhdGg+CiAgICAgICAgICAgICAgICA8cGF0aCBkPSJNMCwzNy43MzA0NDA1IEwyNy4xMTQ1MzcsMC4yNTcxMTE0MzYgQzYyLjM3MTUxMjMsLTEuOTkwNzE3MDEgODAsMTAuNTAwMzkyNyA4MCwzNy43MzA0NDA1IEM4MCw2NC45NjA0ODgyIDY0Ljc3NjUwMzgsNzkuMDUwMzQxNCAzNC4zMjk1MTEzLDgwIEM0Ny4wNTUzNDg5LDc3LjU2NzA4MDggNTMuNDE4MjY3Nyw3MC4zMTM2MTAzIDUzLjQxODI2NzcsNTguMjM5NTg4NSBDNTMuNDE4MjY3Nyw0MC4xMjg1NTU3IDM2LjMwMzk1NDQsMzcuNzMwNDQwNSAyNS4yMjc0MTcsMzcuNzMwNDQwNSBDMTcuODQzMDU4NiwzNy43MzA0NDA1IDkuNDMzOTE5NjYsMzcuNzMwNDQwNSAwLDM3LjczMDQ0MDUgWiIgaWQ9IlBhdGgtMTkiIGZpbGw9IiMzNzkzRUYiPjwvcGF0aD4KICAgICAgICAgICAgPC9nPgogICAgICAgIDwvZz4KICAgIDwvZz4KPC9zdmc+' > </img>\nCreated in <span style='font-weight:600;margin-left:4px;'>Deepnote</span></a>",
   "metadata": {
    "tags": [],
    "created_in_deepnote_cell": true,
    "deepnote_cell_type": "markdown"
   }
  }
 ],
 "nbformat": 4,
 "nbformat_minor": 5,
 "metadata": {
  "kernelspec": {
   "display_name": "Python 3 (ipykernel)",
   "language": "python",
   "name": "python3"
  },
  "language_info": {
   "codemirror_mode": {
    "name": "ipython",
    "version": 3
   },
   "file_extension": ".py",
   "mimetype": "text/x-python",
   "name": "python",
   "nbconvert_exporter": "python",
   "pygments_lexer": "ipython3",
   "version": "3.8.8"
  },
  "deepnote_notebook_id": "8c9bdd4a-225b-4e79-a83f-9cda6af1f08e",
  "deepnote": {},
  "deepnote_app_layout": "dashboard",
  "deepnote_execution_queue": []
 }
}